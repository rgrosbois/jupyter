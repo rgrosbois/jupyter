{
 "cells": [
  {
   "cell_type": "markdown",
   "metadata": {
    "slideshow": {
     "slide_type": "slide"
    }
   },
   "source": [
    "# Géolocalisation et Python\n",
    "\n",
    "- [I. Format d'angle](#formats)\n",
    "- [II. Carte WMTS](#tiles)\n",
    "- [III. Géolocalisation d'une image](#exif)"
   ]
  },
  {
   "cell_type": "markdown",
   "metadata": {
    "slideshow": {
     "slide_type": "-"
    }
   },
   "source": [
    "<img src=\"https://snlpdo.fr/SNT/img/Rendu-Terre3D.png\" alt=\"Terre 3D\" width=\"800\">"
   ]
  },
  {
   "cell_type": "markdown",
   "metadata": {
    "slideshow": {
     "slide_type": "slide"
    }
   },
   "source": [
    "## I. Format d'angle<a name=\"formats\">\n",
    "\n",
    "Pour obtenir la valeur en *degrés décimaux (dd)* d'une lattitude (ou d'une longitude) exprimée en *degrés/minutes/secondes* (d/m/s), on utilise la formule de conversion suivante:\n",
    "$$ dd = d + \\frac{m}{60} + \\frac{s}{3600}$$"
   ]
  },
  {
   "cell_type": "markdown",
   "metadata": {
    "slideshow": {
     "slide_type": "fragment"
    }
   },
   "source": [
    "- Compléter la ligne du code Python ci-après pour calculer *dd* à partir des variables *d*, *s* et *m*:"
   ]
  },
  {
   "cell_type": "code",
   "execution_count": null,
   "metadata": {
    "slideshow": {
     "slide_type": "-"
    }
   },
   "outputs": [],
   "source": [
    "d = 3\n",
    "m = 52\n",
    "s = 55.39\n",
    "\n",
    "dd = \n"
   ]
  },
  {
   "cell_type": "markdown",
   "metadata": {
    "slideshow": {
     "slide_type": "fragment"
    }
   },
   "source": [
    "- Ajouter la commande *print(dd)* à la dernière ligne de la cellulle ci-dessus et (ré-)exécuter pour afficher le résultat de la conversion."
   ]
  },
  {
   "cell_type": "markdown",
   "metadata": {
    "slideshow": {
     "slide_type": "subslide"
    }
   },
   "source": [
    "- Utiliser ce code pour calculer et compléter les valeurs décimales (dd) des géolocalisations ci-après:\n",
    "\n",
    "| Lieu | Latitude (d m s) | Longitude (d m s) | Latitude (dd) | Longitude (dd) | Ville | Vue aérienne |\n",
    "|------|------------------|-------------------|---------------|----------------|-------|--------------|\n",
    "| 1    | 43 36 39.22      | 3 52 55.39        |               |                |       |              |\n",
    "| 2    | 11 54 18.72      | 79 49 22.08       |               |                |       |              |\n",
    "| 3    | -33 27 46.93     | -70 39 36.44      |               |                |       |              |\n",
    "| 4    | 45 29 55.54      | -73 35 42.14      |               |                |       |              |"
   ]
  },
  {
   "cell_type": "markdown",
   "metadata": {
    "slideshow": {
     "slide_type": "fragment"
    }
   },
   "source": [
    "Utiliser une application de cartographie (Google Maps...) pour identifier chaque ville correspondant à ces coordonnées (récupérer une vue aérienne du lieu). "
   ]
  },
  {
   "cell_type": "markdown",
   "metadata": {
    "slideshow": {
     "slide_type": "subslide"
    }
   },
   "source": [
    "**Attention: la formule de conversion ci-dessus n'est valable qu'avec des angles positifs.**"
   ]
  },
  {
   "cell_type": "markdown",
   "metadata": {
    "slideshow": {
     "slide_type": "fragment"
    }
   },
   "source": [
    "Pour une conversion correcte, il faut utiliser le code suivant:"
   ]
  },
  {
   "cell_type": "code",
   "execution_count": null,
   "metadata": {},
   "outputs": [],
   "source": [
    "import math \n",
    "\n",
    "d = -127\n",
    "m = 47\n",
    "s = 1.71\n",
    "\n",
    "dd = math.copysign(abs(d) + m/60 + s/3600, d)\n",
    "print(dd)"
   ]
  },
  {
   "cell_type": "markdown",
   "metadata": {
    "slideshow": {
     "slide_type": "subslide"
    }
   },
   "source": [
    "On peut utiliser cet *algorithme* pour convertir un angle du format degré décimal vers degré/minutes/secondes:\n",
    "\n",
    "```\n",
    "d = partie_entiere(dd)\n",
    "\n",
    "md = partie_fractionnaire(dd)*60\n",
    "m = partie_entiere(md)\n",
    "\n",
    "s = 60*partie_fractionnaire(md)\n",
    "```"
   ]
  },
  {
   "cell_type": "markdown",
   "metadata": {
    "slideshow": {
     "slide_type": "subslide"
    }
   },
   "source": [
    "<small>Aides: \n",
    "- la partie entière d'un nombre s'obtient avec la fonction int(). Par exemple int(34.22) donne 34.\n",
    "- la partie fractionnaire d'un nombre s'obtient en lui retranchant sa partie entière.\n",
    "</small>"
   ]
  },
  {
   "cell_type": "markdown",
   "metadata": {
    "slideshow": {
     "slide_type": "subslide"
    }
   },
   "source": [
    "Compléter les lignes du code Python ci-après pour calculer les degrés/minutes/secondes (d/m/s) d'un angle *dd* donné en degré décimal"
   ]
  },
  {
   "cell_type": "code",
   "execution_count": null,
   "metadata": {
    "slideshow": {
     "slide_type": "fragment"
    }
   },
   "outputs": [],
   "source": [
    "dd = 45.068831\n",
    "\n",
    "d = \n",
    "\n",
    "md = \n",
    "m = \n",
    "\n",
    "s = \n",
    "\n",
    "print(d, m, s)"
   ]
  },
  {
   "cell_type": "markdown",
   "metadata": {
    "slideshow": {
     "slide_type": "slide"
    }
   },
   "source": [
    "## II. Carte WMTS<a name=\"tiles\">\n",
    "    \n",
    "WMTS (*Web Map Tile Service*) est un protocole qui permet d'échanger tout ou partie de cartes de la surface terrestre. Il est utilisé par OpenStreetMap (cartes *libres*), Geoportail (cartes IGN), Google Map...\n",
    "    \n",
    "Ces cartes de la Terre sont classées par niveaux de résolution (ou de détails) et décomposées en *tuiles* (=images de 256 x 256 pixels):\n",
    "- niveau 0: 1 seule tuile, très peu de détails.\n",
    "- niveau 1: 4 tuiles (2 lignes, 2 colonnes), un peu plus de détails.\n",
    "- niveau 2: 16 tuiles (4 lignes, 4 colonnes)\n",
    "- ...\n",
    "    \n",
    "<img width=\"820\" src=\"https://snlpdo.fr/SNT/img/Rendu-niveaux_carte.png\" alt=\"3 premiers niveaux de résolution\">"
   ]
  },
  {
   "cell_type": "code",
   "execution_count": 1,
   "metadata": {
    "slideshow": {
     "slide_type": "-"
    }
   },
   "outputs": [],
   "source": [
    "from ressources import *"
   ]
  },
  {
   "cell_type": "markdown",
   "metadata": {
    "slideshow": {
     "slide_type": "fragment"
    }
   },
   "source": [
    "### Carte OpenStreetMap de niveau 0:"
   ]
  },
  {
   "cell_type": "code",
   "execution_count": 2,
   "metadata": {
    "slideshow": {
     "slide_type": "fragment"
    }
   },
   "outputs": [],
   "source": [
    "# Télécharger la tuile ligne 0, colonne 0, niveau 0\n",
    "t00 = tuile(0,0,niveau=0)"
   ]
  },
  {
   "cell_type": "code",
   "execution_count": 3,
   "metadata": {
    "slideshow": {
     "slide_type": "fragment"
    }
   },
   "outputs": [
    {
     "data": {
      "image/png": "[encoded data removed]",
      "text/plain": [
       "<PIL.PngImagePlugin.PngImageFile image mode=P size=256x256 at 0x7F863BABBE50>"
      ]
     },
     "metadata": {},
     "output_type": "display_data"
    }
   ],
   "source": [
    "# Afficher cette tuile\n",
    "display(t00) "
   ]
  },
  {
   "cell_type": "markdown",
   "metadata": {
    "slideshow": {
     "slide_type": "subslide"
    }
   },
   "source": [
    "### Carte OpenStreetMap de niveau 1:\n",
    "\n",
    "- On télécharge successivement les 4 tuiles (de 256 x 256 pixels) du niveau 1."
   ]
  },
  {
   "cell_type": "code",
   "execution_count": 4,
   "metadata": {
    "slideshow": {
     "slide_type": "-"
    }
   },
   "outputs": [
    {
     "data": {
      "image/png": "[encoded data removed]",
      "text/plain": [
       "<PIL.PngImagePlugin.PngImageFile image mode=P size=256x256 at 0x7F863B9A9750>"
      ]
     },
     "metadata": {},
     "output_type": "display_data"
    }
   ],
   "source": [
    "t00 = tuile(0,0,niveau=1) # ligne 0, colonne 0\n",
    "display(t00)"
   ]
  },
  {
   "cell_type": "code",
   "execution_count": 5,
   "metadata": {
    "scrolled": true,
    "slideshow": {
     "slide_type": "subslide"
    }
   },
   "outputs": [
    {
     "data": {
      "image/png": "[encoded data removed]",
      "text/plain": [
       "<PIL.PngImagePlugin.PngImageFile image mode=P size=256x256 at 0x7F863B9A95D0>"
      ]
     },
     "metadata": {},
     "output_type": "display_data"
    }
   ],
   "source": [
    "t01 = tuile(0,1,niveau=1) # ligne 0, colonne 1\n",
    "display(t01)"
   ]
  },
  {
   "cell_type": "code",
   "execution_count": 6,
   "metadata": {
    "scrolled": true,
    "slideshow": {
     "slide_type": "subslide"
    }
   },
   "outputs": [
    {
     "data": {
      "image/png": "[encoded data removed]",
      "text/plain": [
       "<PIL.PngImagePlugin.PngImageFile image mode=P size=256x256 at 0x7F863B9A9CD0>"
      ]
     },
     "metadata": {},
     "output_type": "display_data"
    }
   ],
   "source": [
    "t10 = tuile(1,0,niveau=1) # ligne 1, colonne 0\n",
    "display(t10)"
   ]
  },
  {
   "cell_type": "code",
   "execution_count": null,
   "metadata": {
    "scrolled": true,
    "slideshow": {
     "slide_type": "subslide"
    }
   },
   "outputs": [],
   "source": [
    "t11 = tuile(1,1,niveau=1) # ligne 1, colonne 1\n",
    "display(t11)"
   ]
  },
  {
   "cell_type": "markdown",
   "metadata": {
    "slideshow": {
     "slide_type": "subslide"
    }
   },
   "source": [
    "- Pour reconstituer la carte de niveau 1, il faut créer une image de 512 x 512 pixels et recopier (avec la fonction *paste*) les 4 tuiles précédentes au bon endroit:"
   ]
  },
  {
   "cell_type": "code",
   "execution_count": null,
   "metadata": {},
   "outputs": [],
   "source": [
    "carte_n1 = Image.new('RGB', (512, 512))\n",
    "\n",
    "carte_n1.paste(t10, (0,256) )\n",
    "display(carte_n1)"
   ]
  },
  {
   "cell_type": "markdown",
   "metadata": {
    "slideshow": {
     "slide_type": "fragment"
    }
   },
   "source": [
    "Compléter le code Python ci-dessus pour reconstituer entièrement la carte de niveau 1 à partir des tuiles t00, t01, t10 et t11 (rendre une capture d'écran du résultat).\n",
    "\n",
    "<small>Aide:\n",
    "- carte_n1 est une image de 512 x 512 pixels, alors que les tuiles sont des images 256 x 256 pixels.\n",
    "- la fonction carte_n1.paste() permet de coller une tuile à une position spécifique dans carte_n1:\n",
    "    - les coordonnées (x,y) sont celles du coin supérieur gauche de la tuile dans carte_n1.\n",
    "    - l'axe des abscisses (x) est orienté vers la droite. Celui des ordonnées (y) vers le bas. Le point (0,0) se trouve en haut à gauche de carte_n1.\n",
    "</small>"
   ]
  },
  {
   "cell_type": "markdown",
   "metadata": {
    "slideshow": {
     "slide_type": "subslide"
    }
   },
   "source": [
    "**(Question bonus)** Compléter, ci-après, le code Python pour récupérer les 16 tuiles et reconstituer la carte de niveau 2"
   ]
  },
  {
   "cell_type": "code",
   "execution_count": null,
   "metadata": {},
   "outputs": [],
   "source": [
    "carte_n2 = Image.new('RGB', (1024, 1024))\n"
   ]
  },
  {
   "cell_type": "markdown",
   "metadata": {
    "slideshow": {
     "slide_type": "slide"
    }
   },
   "source": [
    "## III. Géolocalisation d'une image<a name=\"exif\">"
   ]
  },
  {
   "cell_type": "markdown",
   "metadata": {},
   "source": [
    "Les images JPEG (.jpeg ou .jpg) peuvent contenir un certain nombre de métadonnées (format EXIF):\n",
    "- Modèle de l'appareil photo\n",
    "- Réglages\n",
    "- Date\n",
    "- Géolocalisation\n",
    "...\n",
    "\n",
    "La géolocalisation d'une image s'effectue en 4 étapes:"
   ]
  },
  {
   "cell_type": "markdown",
   "metadata": {
    "slideshow": {
     "slide_type": "subslide"
    }
   },
   "source": [
    "1. Charger (et afficher) l'image"
   ]
  },
  {
   "cell_type": "code",
   "execution_count": null,
   "metadata": {
    "slideshow": {
     "slide_type": "-"
    }
   },
   "outputs": [],
   "source": [
    "url = 'https://snlpdo.fr/SNT/img/mer.jpg'\n",
    "image = Image.open(requests.get(url, stream=True).raw)\n",
    "display(image)"
   ]
  },
  {
   "cell_type": "markdown",
   "metadata": {
    "slideshow": {
     "slide_type": "subslide"
    }
   },
   "source": [
    "2. Extraire (et afficher) toutes les données EXIF"
   ]
  },
  {
   "cell_type": "code",
   "execution_count": null,
   "metadata": {},
   "outputs": [],
   "source": [
    "exif = image.getexif()\n",
    "print_exif(exif)"
   ]
  },
  {
   "cell_type": "markdown",
   "metadata": {
    "slideshow": {
     "slide_type": "subslide"
    }
   },
   "source": [
    "3. Ne conserver que les informations de latitude et longitude:"
   ]
  },
  {
   "cell_type": "code",
   "execution_count": null,
   "metadata": {},
   "outputs": [],
   "source": [
    "latitude, longitude = extract_geoloc(exif)\n",
    "print(latitude, longitude)"
   ]
  },
  {
   "cell_type": "markdown",
   "metadata": {
    "slideshow": {
     "slide_type": "subslide"
    }
   },
   "source": [
    "4. Positionner cette géolocalisation sur la tuile correspondante:"
   ]
  },
  {
   "cell_type": "code",
   "execution_count": null,
   "metadata": {},
   "outputs": [],
   "source": [
    "t = geotuile(latitude, longitude, niveau=15, dispLoc=True, dispInfo=True)\n",
    "display(t)"
   ]
  },
  {
   "cell_type": "markdown",
   "metadata": {
    "slideshow": {
     "slide_type": "subslide"
    }
   },
   "source": [
    "Répéter ces 4 étapes sur une photo jpg de votre choix (**Attention: cette image doit incorporer des données EXIF avec des informations de géolocalisation**) et rendre une capture d'écran du résultat (changer le niveau de résolution si nécessaire)."
   ]
  }
 ],
 "metadata": {
  "celltoolbar": "Format de la Cellule Texte Brut",
  "kernelspec": {
   "display_name": "Python 3",
   "language": "python",
   "name": "python3"
  },
  "language_info": {
   "codemirror_mode": {
    "name": "ipython",
    "version": 3
   },
   "file_extension": ".py",
   "mimetype": "text/x-python",
   "name": "python",
   "nbconvert_exporter": "python",
   "pygments_lexer": "ipython3",
   "version": "3.7.9"
  }
 },
 "nbformat": 4,
 "nbformat_minor": 4
}
