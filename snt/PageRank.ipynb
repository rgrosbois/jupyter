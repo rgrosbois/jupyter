{
 "cells": [
  {
   "cell_type": "markdown",
   "metadata": {},
   "source": [
    "# Principe de l'algorithme PageRank\n",
    "\n",
    "*(brevet déposé par Larry Page, cofondateur de Google, le 17 avril 2007)*"
   ]
  },
  {
   "cell_type": "markdown",
   "metadata": {},
   "source": [
    "On définit le *microweb* suivant :"
   ]
  },
  {
   "cell_type": "code",
   "execution_count": 6,
   "metadata": {},
   "outputs": [],
   "source": [
    "# En Python, on associe chaque page avec la liste de \n",
    "# ses successeurs (dans un dictionnaire)\n",
    "from random import choice\n",
    "\n",
    "successeurs = {\n",
    "    'A': ['H', 'E', 'C', 'F'],\n",
    "    'B': ['I', 'J', 'D'],\n",
    "    'C': ['F'],\n",
    "    'D': ['G'],\n",
    "    'E': ['J', 'F', 'H'],\n",
    "    'F': ['J', 'D', 'H', 'I', 'G'],\n",
    "    'G': ['F', 'D'],\n",
    "    'H': ['J', 'E'],\n",
    "    'I': ['C', 'F', 'A', 'H'],\n",
    "     'J': ['H', 'G']\n",
    "}\n",
    "liste_pages = ['A', 'B', 'C', 'D', 'E', 'F', 'G', 'H', 'I', 'J']"
   ]
  },
  {
   "cell_type": "markdown",
   "metadata": {},
   "source": [
    "## Quelle page est la plus populaire ?\n",
    "\n",
    "Selon l'algorithme **RangePank**, il s'agit de la page la plus visitée lorsqu'on parcours ce *Web* de la manière suivante:\n",
    "\n",
    "1. on initialise les compteurs de visites de chaque page à 0 (et on incrémente son compteur de visites)\n",
    "2. on choisit une page de départ au hasard\n",
    "3. on choisit au hasard, parmi ses successeurs, la page suivante et on incrémente son compteur de visites.\n",
    "4. on recommence depuis l'**étape 3** un *grand nombre* de fois (ex: 1000 fois).\n",
    "4. on recommence plusieurs fois à partie de l'**étape 2** (ex: 100 fois).\n",
    "5. on trie les pages dans l'ordre décroissant de leur nombre de visites."
   ]
  },
  {
   "cell_type": "code",
   "execution_count": 7,
   "metadata": {},
   "outputs": [
    {
     "data": {
      "text/plain": [
       "{'A': 0,\n",
       " 'B': 0,\n",
       " 'C': 0,\n",
       " 'D': 0,\n",
       " 'E': 0,\n",
       " 'F': 0,\n",
       " 'G': 0,\n",
       " 'H': 0,\n",
       " 'I': 0,\n",
       " 'J': 0}"
      ]
     },
     "execution_count": 7,
     "metadata": {},
     "output_type": "execute_result"
    }
   ],
   "source": [
    "# Étape 1. Réinitialisation des compteurs de visites\n",
    "visites = { page:0 for page in liste_pages }\n",
    "visites"
   ]
  },
  {
   "cell_type": "code",
   "execution_count": 9,
   "metadata": {},
   "outputs": [
    {
     "name": "stdout",
     "output_type": "stream",
     "text": [
      "A\n"
     ]
    }
   ],
   "source": [
    "# Étape 2. Page de départ \n",
    "page = choice(liste_pages)\n",
    "visites[page] += 1\n",
    "print(page)"
   ]
  },
  {
   "cell_type": "code",
   "execution_count": 10,
   "metadata": {},
   "outputs": [
    {
     "name": "stdout",
     "output_type": "stream",
     "text": [
      "E\n"
     ]
    }
   ],
   "source": [
    "# Étape 3: successeur aléatoire\n",
    "page = choice(successeurs[page])\n",
    "visites[page] += 1\n",
    "print(page)"
   ]
  },
  {
   "cell_type": "markdown",
   "metadata": {},
   "source": [
    "Nombres de visites actuels:"
   ]
  },
  {
   "cell_type": "code",
   "execution_count": 12,
   "metadata": {},
   "outputs": [
    {
     "data": {
      "text/plain": [
       "{'A': 1,\n",
       " 'B': 0,\n",
       " 'C': 0,\n",
       " 'D': 0,\n",
       " 'E': 1,\n",
       " 'F': 0,\n",
       " 'G': 0,\n",
       " 'H': 0,\n",
       " 'I': 0,\n",
       " 'J': 0}"
      ]
     },
     "execution_count": 12,
     "metadata": {},
     "output_type": "execute_result"
    }
   ],
   "source": [
    "visites"
   ]
  },
  {
   "cell_type": "code",
   "execution_count": 13,
   "metadata": {},
   "outputs": [
    {
     "data": {
      "text/plain": [
       "{'A': 13,\n",
       " 'B': 0,\n",
       " 'C': 15,\n",
       " 'D': 191,\n",
       " 'E': 59,\n",
       " 'F': 179,\n",
       " 'G': 288,\n",
       " 'H': 114,\n",
       " 'I': 40,\n",
       " 'J': 103}"
      ]
     },
     "execution_count": 13,
     "metadata": {},
     "output_type": "execute_result"
    }
   ],
   "source": [
    "# Étape 4: répéter 1000 fois l'étape 3 (utilisation d'une boucle for)\n",
    "# et on affiche le nombre de visites\n",
    "for i in range(1000):\n",
    "    page = choice(successeurs[page])\n",
    "    visites[page] += 1\n",
    "visites"
   ]
  },
  {
   "cell_type": "code",
   "execution_count": 15,
   "metadata": {},
   "outputs": [
    {
     "data": {
      "text/plain": [
       "{'A': 949,\n",
       " 'B': 16,\n",
       " 'C': 1161,\n",
       " 'D': 17187,\n",
       " 'E': 6975,\n",
       " 'F': 18267,\n",
       " 'G': 27103,\n",
       " 'H': 13281,\n",
       " 'I': 3719,\n",
       " 'J': 12444}"
      ]
     },
     "execution_count": 15,
     "metadata": {},
     "output_type": "execute_result"
    }
   ],
   "source": [
    "# Étape 5: répéter 100 fois depuis l'étape 2\n",
    "for j in range(100):\n",
    "    # page de départ\n",
    "    page = choice(liste_pages)\n",
    "    visites[page] += 1\n",
    "    \n",
    "    for i in range(1000):\n",
    "        page = choice(successeurs[page])\n",
    "        visites[page] += 1\n",
    "visites"
   ]
  },
  {
   "cell_type": "code",
   "execution_count": 16,
   "metadata": {},
   "outputs": [
    {
     "data": {
      "text/plain": [
       "[('G', 27103),\n",
       " ('F', 18267),\n",
       " ('D', 17187),\n",
       " ('H', 13281),\n",
       " ('J', 12444),\n",
       " ('E', 6975),\n",
       " ('I', 3719),\n",
       " ('C', 1161),\n",
       " ('A', 949),\n",
       " ('B', 16)]"
      ]
     },
     "execution_count": 16,
     "metadata": {},
     "output_type": "execute_result"
    }
   ],
   "source": [
    "# Étape 6: trier les compteurs de visites dans l'ordre décroissant\n",
    "sorted(visites.items(), key=lambda x:x[1], reverse=True)"
   ]
  },
  {
   "cell_type": "markdown",
   "metadata": {},
   "source": [
    "**Quelle page est la plus populaire ?**"
   ]
  },
  {
   "cell_type": "code",
   "execution_count": null,
   "metadata": {},
   "outputs": [],
   "source": []
  }
 ],
 "metadata": {
  "kernelspec": {
   "display_name": "Python 3",
   "language": "python",
   "name": "python3"
  },
  "language_info": {
   "codemirror_mode": {
    "name": "ipython",
    "version": 3
   },
   "file_extension": ".py",
   "mimetype": "text/x-python",
   "name": "python",
   "nbconvert_exporter": "python",
   "pygments_lexer": "ipython3",
   "version": "3.7.9"
  }
 },
 "nbformat": 4,
 "nbformat_minor": 4
}
