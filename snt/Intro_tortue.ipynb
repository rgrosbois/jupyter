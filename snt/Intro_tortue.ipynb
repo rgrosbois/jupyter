{
 "cells": [
  {
   "cell_type": "markdown",
   "metadata": {},
   "source": [
    "# La tortue\n",
    "\n",
    "L'objectif de cette séance est d'introduire certaines notions de programmation à l'aide du module [turtle](https://docs.python.org/fr/3/library/turtle.html) du Langage Python.\n",
    "\n",
    "**Sommaire :**\n",
    "- [I. Instructions de base](#instructions)\n",
    "- [II. Dessiner une forme géométrique simple](#geom)\n",
    "- [III. Dessiner une figure géométrique répétitive](#boucle)\n",
    "- [IV. Dessiner une figure libre](#libre)"
   ]
  },
  {
   "cell_type": "markdown",
   "metadata": {},
   "source": [
    "## I. Instructions de base <a id=\"instructions\"></a>\n",
    "\n",
    "Insérer, une à une, chacune des instructions suivantes dans la cellule juste après (à l'endroit indiqué):\n",
    "```python\n",
    "forward(100)\n",
    "right(90)\n",
    "forward(100)\n",
    "circle(50)\n",
    "```\n",
    "\n",
    "<div class=\"alert alert-block alert-info\">\n",
    "    \n",
    "Identifier le rôles des fonctions `forward()`, `right()` et `circle()` (ainsi que la signification de leur paramètre)"
   ]
  },
  {
   "cell_type": "code",
   "execution_count": null,
   "metadata": {},
   "outputs": [],
   "source": [
    "from turtle import *\n",
    "\n",
    "reset()\n",
    "##########################\n",
    "# Recopier vos instructions ici\n",
    "\n",
    "\n",
    "##########################\n",
    "done()"
   ]
  },
  {
   "cell_type": "markdown",
   "metadata": {},
   "source": [
    "**mise en &oelig;uvre :**\n",
    "\n",
    "- Charger le module Python *labyrinthe.py* en exécutant la cellule ci-après:"
   ]
  },
  {
   "cell_type": "code",
   "execution_count": null,
   "metadata": {},
   "outputs": [],
   "source": [
    "from labyrinthe import *"
   ]
  },
  {
   "cell_type": "markdown",
   "metadata": {},
   "source": [
    "*(télécharger et installer manuellement ce [module](https://raw.githubusercontent.com/snlpdo/jupyter/master/snt/labyrinthe.py) si l'instruction ci-dessous entraîne une erreur)*"
   ]
  },
  {
   "cell_type": "markdown",
   "metadata": {},
   "source": [
    "- Ajouter les instructions nécessaires dans la cellule ci-après pour que la tortue sorte du labyrinthe (sans traverser aucun mur) en un minimum de coups.<br/><small>Aide: les cases élémentaires ont des dimensions de 30x30 pixels, on peut donc se déplacer de *n* cases en utilisant la dimension `n*30` </small>"
   ]
  },
  {
   "cell_type": "code",
   "execution_count": null,
   "metadata": {},
   "outputs": [],
   "source": [
    "reset()\n",
    "dessiner_labyrinthe()\n",
    "\n",
    "##############################\n",
    "# Ajouter vos instructions ici\n",
    "forward(2*30)\n",
    "right(90)\n",
    "forward(30)\n",
    "left(90)\n",
    "\n",
    "\n",
    "\n",
    "##############################\n",
    "done()"
   ]
  },
  {
   "cell_type": "markdown",
   "metadata": {},
   "source": [
    "<div class=\"alert alert-block alert-info\">\n",
    "    \n",
    "Recopier les instructions utilisées dans le document réponses"
   ]
  },
  {
   "cell_type": "markdown",
   "metadata": {},
   "source": [
    "## II. Dessiner une forme géométrique simple <a id=\"geom\"></a>\n",
    "\n",
    "- Ajouter/modifier les instructions pour dessiner un carré (dimensions 150x150 pixels)"
   ]
  },
  {
   "cell_type": "code",
   "execution_count": null,
   "metadata": {},
   "outputs": [],
   "source": [
    "reset()\n",
    "############\n",
    "# Écrire ici\n",
    "\n",
    "\n",
    "\n",
    "\n",
    "############\n",
    "done()"
   ]
  },
  {
   "cell_type": "markdown",
   "metadata": {},
   "source": [
    "<div class=\"alert alert-block alert-info\">\n",
    "    \n",
    "Recopier les instructions utilisées dans le document réponses"
   ]
  },
  {
   "cell_type": "markdown",
   "metadata": {},
   "source": [
    "- Quelques instructions pour spécifier les couleurs:\n",
    "    - de l'arrière-plan (ex: rouge):\n",
    "    ```python\n",
    "    bgcolor(\"red\")\n",
    "    ```\n",
    "\n",
    "    - du contour (ex: bleu) et du remplissage (ex: cyan):\n",
    "    ```python\n",
    "    color(\"blue\", \"cyan\")\n",
    "    ``` \n",
    "    Note: pour appliquer à un remplissage à une portion de dessin, il faut placer les instructions entre:\n",
    "    ```python\n",
    "    begin_fill()\n",
    "    ###########\n",
    "    # Instructions pour portion de dessin à remplir\n",
    "    \n",
    "    ###########\n",
    "    end_fill()\n",
    "    ```\n",
    "    \n",
    "    Dessiner cette figure dans la cellule ci-après: ![figure géométrique](https://snlpdo.fr/SNT/img/Figure_geometrique.png)"
   ]
  },
  {
   "cell_type": "code",
   "execution_count": null,
   "metadata": {},
   "outputs": [],
   "source": [
    "reset()\n",
    "############\n",
    "# Écrire ici\n",
    "\n",
    "\n",
    "\n",
    "\n",
    "############\n",
    "done()"
   ]
  },
  {
   "cell_type": "markdown",
   "metadata": {},
   "source": [
    "<div class=\"alert alert-block alert-info\">\n",
    "    \n",
    "Recopier les instructions utilisées dans le document réponses"
   ]
  },
  {
   "cell_type": "markdown",
   "metadata": {},
   "source": [
    "- Dessiner la figure suivante en n'utilisant que des cercles ou des portions de cercles.<br/>\n",
    "  \n",
    "![YinYan](https://snlpdo.fr/SNT/img/YinYan.png)\n",
    "\n",
    "aide: \n",
    "- pour dessiner un demi-cercle de rayon 100 → `circle(100, 180)`. Avec un rayon négatif, le cercle est dessiné dans l'autre sens)\n",
    "- pour lever (se déplacer sans dessiner) ou baisser (se déplacer en dessinant) le pinceau, il faut utiliser respectivement les instructions `penup()` et `pendown()`."
   ]
  },
  {
   "cell_type": "code",
   "execution_count": null,
   "metadata": {},
   "outputs": [],
   "source": [
    "reset()\n",
    "############\n",
    "# Écrire ici\n",
    "\n",
    "\n",
    "\n",
    "\n",
    "############\n",
    "done()"
   ]
  },
  {
   "cell_type": "markdown",
   "metadata": {},
   "source": [
    "<div class=\"alert alert-block alert-info\">\n",
    "    \n",
    "Recopier les instructions utilisées dans le document réponses"
   ]
  },
  {
   "cell_type": "markdown",
   "metadata": {},
   "source": [
    "## III. Dessiner une figure géométrique répétitive <a id=\"boucle\"></a>\n",
    "\n",
    "Pour répéter un certain nombre de fois des instructions, il est possible d'utiliser une *boucle* `for` de la manière suivante (ex: 4 répétitions de 2 instructions):\n",
    "```python\n",
    "for i in range(4):\n",
    "    forward(100)\n",
    "    left(90)\n",
    "```\n",
    "Modifier et compléter ces instructions afin d'obtenir la figure suivante:\n",
    "\n",
    "![Figure répétitive](https://snlpdo.fr/SNT/img/Figure_repetitive.png)\n",
    "\n",
    "(aide: modifier la valeur de l'ange de rotation) "
   ]
  },
  {
   "cell_type": "code",
   "execution_count": null,
   "metadata": {},
   "outputs": [],
   "source": [
    "reset()\n",
    "###############\n",
    "# Compléter ici\n",
    "\n",
    "\n",
    "\n",
    "\n",
    "###############\n",
    "done()"
   ]
  },
  {
   "cell_type": "markdown",
   "metadata": {},
   "source": [
    "<div class=\"alert alert-block alert-info\">\n",
    "    \n",
    "Recopier les instructions utilisées dans le document réponses"
   ]
  },
  {
   "cell_type": "markdown",
   "metadata": {},
   "source": [
    "- Dessiner la figure suivante à l'aide d'un carré (avec une boucle), une rotation et une boucle: \n",
    "\n",
    "![Carré multi](https://snlpdo.fr/SNT/img/Carre_multi.png)"
   ]
  },
  {
   "cell_type": "code",
   "execution_count": null,
   "metadata": {},
   "outputs": [],
   "source": [
    "reset()\n",
    "#############################\n",
    "# Placer vos instructions ici\n",
    "\n",
    "\n",
    "\n",
    "\n",
    "#############################\n",
    "done()"
   ]
  },
  {
   "cell_type": "markdown",
   "metadata": {},
   "source": [
    "<div class=\"alert alert-block alert-info\">\n",
    "    \n",
    "Recopier les instructions utilisées dans le document réponses"
   ]
  },
  {
   "cell_type": "markdown",
   "metadata": {},
   "source": [
    "## IV. Dessiner une figure libre <a id=\"libre\"></a>\n",
    "\n",
    "Dessiner et rendre une capture d'écran d'une figure de votre choix réalisée avec ce module *turtle*."
   ]
  },
  {
   "cell_type": "code",
   "execution_count": null,
   "metadata": {},
   "outputs": [],
   "source": [
    "reset()\n",
    "######################\n",
    "# Vos instructions ici\n",
    "\n",
    "\n",
    "######################\n",
    "done()"
   ]
  },
  {
   "cell_type": "markdown",
   "metadata": {},
   "source": [
    "<div class=\"alert alert-block alert-info\">\n",
    "    \n",
    "Recopier les instructions utilisées dans le document réponses"
   ]
  }
 ],
 "metadata": {
  "kernelspec": {
   "display_name": "Python 3",
   "language": "python",
   "name": "python3"
  },
  "language_info": {
   "codemirror_mode": {
    "name": "ipython",
    "version": 3
   },
   "file_extension": ".py",
   "mimetype": "text/x-python",
   "name": "python",
   "nbconvert_exporter": "python",
   "pygments_lexer": "ipython3",
   "version": "3.7.9"
  }
 },
 "nbformat": 4,
 "nbformat_minor": 2
}
