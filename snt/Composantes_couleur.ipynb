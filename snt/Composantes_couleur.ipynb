{
 "cells": [
  {
   "cell_type": "markdown",
   "metadata": {
    "slideshow": {
     "slide_type": "slide"
    }
   },
   "source": [
    "# I. Couleurs d'une image\n",
    "\n",
    "(avec le module [Pillow](https://python-pillow.org/))"
   ]
  },
  {
   "cell_type": "code",
   "execution_count": null,
   "metadata": {
    "slideshow": {
     "slide_type": "fragment"
    }
   },
   "outputs": [],
   "source": [
    "from PIL import Image\n",
    "import requests"
   ]
  },
  {
   "cell_type": "markdown",
   "metadata": {
    "slideshow": {
     "slide_type": "slide"
    }
   },
   "source": [
    "## 1. Instructions de base"
   ]
  },
  {
   "cell_type": "markdown",
   "metadata": {
    "slideshow": {
     "slide_type": "fragment"
    }
   },
   "source": [
    "- Pour charger une image depuis une URL:"
   ]
  },
  {
   "cell_type": "code",
   "execution_count": null,
   "metadata": {
    "slideshow": {
     "slide_type": "-"
    }
   },
   "outputs": [],
   "source": [
    "image = Image.open(requests.get('https://snlpdo.fr/SNT/img/ciel.jpg', stream=True).raw)"
   ]
  },
  {
   "cell_type": "markdown",
   "metadata": {
    "slideshow": {
     "slide_type": "fragment"
    }
   },
   "source": [
    "- Pour afficher cette image dans ce document:"
   ]
  },
  {
   "cell_type": "code",
   "execution_count": null,
   "metadata": {
    "slideshow": {
     "slide_type": "-"
    }
   },
   "outputs": [],
   "source": [
    "display(image)"
   ]
  },
  {
   "cell_type": "markdown",
   "metadata": {
    "slideshow": {
     "slide_type": "fragment"
    }
   },
   "source": [
    "- Pour créer une copie de l'image:"
   ]
  },
  {
   "cell_type": "code",
   "execution_count": null,
   "metadata": {},
   "outputs": [],
   "source": [
    "image2 = image.copy()"
   ]
  },
  {
   "cell_type": "markdown",
   "metadata": {
    "slideshow": {
     "slide_type": "slide"
    }
   },
   "source": [
    "- pour connaître les dimensions:"
   ]
  },
  {
   "cell_type": "code",
   "execution_count": null,
   "metadata": {
    "slideshow": {
     "slide_type": "-"
    }
   },
   "outputs": [],
   "source": [
    "image2.size"
   ]
  },
  {
   "cell_type": "markdown",
   "metadata": {
    "slideshow": {
     "slide_type": "fragment"
    }
   },
   "source": [
    "- pour récupérer les composantes rouge,verte et bleur du pixel de coordonnées (100,213):"
   ]
  },
  {
   "cell_type": "code",
   "execution_count": null,
   "metadata": {
    "slideshow": {
     "slide_type": "-"
    }
   },
   "outputs": [],
   "source": [
    "(rouge, vert, bleu) = image2.getpixel((100,213))"
   ]
  },
  {
   "cell_type": "markdown",
   "metadata": {
    "slideshow": {
     "slide_type": "fragment"
    }
   },
   "source": [
    "on affiche les 3 valeurs:"
   ]
  },
  {
   "cell_type": "code",
   "execution_count": null,
   "metadata": {
    "slideshow": {
     "slide_type": "-"
    }
   },
   "outputs": [],
   "source": [
    "print(rouge, vert, bleu)"
   ]
  },
  {
   "cell_type": "markdown",
   "metadata": {
    "slideshow": {
     "slide_type": "fragment"
    }
   },
   "source": [
    "- pour définir les composantes rouge,verte et bleue du pixel de coordonnées (50,10):"
   ]
  },
  {
   "cell_type": "code",
   "execution_count": null,
   "metadata": {},
   "outputs": [],
   "source": [
    "# Valeurs de 0 à 255\n",
    "rouge = 255\n",
    "vert = 255\n",
    "bleu = 255\n",
    "\n",
    "image2.putpixel((50,10), (rouge, vert, bleu))"
   ]
  },
  {
   "cell_type": "code",
   "execution_count": null,
   "metadata": {},
   "outputs": [],
   "source": [
    "display(image2)"
   ]
  },
  {
   "cell_type": "markdown",
   "metadata": {
    "slideshow": {
     "slide_type": "slide"
    }
   },
   "source": [
    "## 2. Canaux R,V,B d'une image"
   ]
  },
  {
   "cell_type": "markdown",
   "metadata": {
    "slideshow": {
     "slide_type": "fragment"
    }
   },
   "source": [
    "- pour extraire le canal rouge:"
   ]
  },
  {
   "cell_type": "code",
   "execution_count": null,
   "metadata": {
    "slideshow": {
     "slide_type": "-"
    }
   },
   "outputs": [],
   "source": [
    "image2 = image.copy() # Travailler sur une copie\n",
    "    \n",
    "# Modification de tous les pixels\n",
    "largeur, hauteur = image2.size\n",
    "for x in range(largeur):\n",
    "    for y in range(hauteur):\n",
    "        \n",
    "        (r, v, b) = image2.getpixel((x,y))\n",
    "        \n",
    "        image2.putpixel((x,y), (r, 0, 0))"
   ]
  },
  {
   "cell_type": "code",
   "execution_count": null,
   "metadata": {
    "slideshow": {
     "slide_type": "fragment"
    }
   },
   "outputs": [],
   "source": [
    "display(image2)"
   ]
  },
  {
   "cell_type": "markdown",
   "metadata": {
    "slideshow": {
     "slide_type": "subslide"
    }
   },
   "source": [
    "- Compléter le code pour extraire le canal vert:"
   ]
  },
  {
   "cell_type": "code",
   "execution_count": null,
   "metadata": {
    "slideshow": {
     "slide_type": "-"
    }
   },
   "outputs": [],
   "source": [
    "image3 = image.copy() # travailler sur une copie\n",
    "    \n",
    "# Modification de tous les pixels\n",
    "largeur, hauteur = image3.size\n",
    "for x in range(largeur):\n",
    "    for y in range(hauteur):\n",
    "        \n",
    "        (r, v, b) = image3.getpixel((x,y))\n",
    "        ## à compléter ##  \n"
   ]
  },
  {
   "cell_type": "code",
   "execution_count": null,
   "metadata": {
    "slideshow": {
     "slide_type": "fragment"
    }
   },
   "outputs": [],
   "source": [
    "display(image3)"
   ]
  },
  {
   "cell_type": "markdown",
   "metadata": {
    "slideshow": {
     "slide_type": "subslide"
    }
   },
   "source": [
    "- Compléter le code pour extraire le canal bleu:"
   ]
  },
  {
   "cell_type": "code",
   "execution_count": null,
   "metadata": {
    "slideshow": {
     "slide_type": "-"
    }
   },
   "outputs": [],
   "source": [
    "image4 = image.copy() # travailler sur une copie\n",
    "    \n",
    "# Modification de tous les pixels\n",
    "largeur, hauteur = image4.size\n",
    "## à compléter ##\n"
   ]
  },
  {
   "cell_type": "code",
   "execution_count": null,
   "metadata": {
    "slideshow": {
     "slide_type": "fragment"
    }
   },
   "outputs": [],
   "source": [
    "display(image4)"
   ]
  },
  {
   "cell_type": "markdown",
   "metadata": {},
   "source": [
    "## 3. Image niveau de gris"
   ]
  },
  {
   "cell_type": "markdown",
   "metadata": {},
   "source": [
    "La version niveau de gris peut être grossièrement obtenue en répétant la valeur de vert sur les canaux rouge et bleu.\n",
    "Compléter le code pour obtenir l'image en niveau de gris:"
   ]
  },
  {
   "cell_type": "code",
   "execution_count": null,
   "metadata": {},
   "outputs": [],
   "source": [
    "image5 = image.copy() # travailler sur une copie\n",
    "    \n",
    "# Modification de tous les pixels\n",
    "largeur, hauteur = image4.size\n",
    "## à compléter ##\n"
   ]
  },
  {
   "cell_type": "code",
   "execution_count": null,
   "metadata": {},
   "outputs": [],
   "source": [
    "display(image5)"
   ]
  },
  {
   "cell_type": "markdown",
   "metadata": {},
   "source": [
    "## 4. Question bonus"
   ]
  },
  {
   "cell_type": "markdown",
   "metadata": {},
   "source": [
    "L'artiste [Andy WARHOL](https://fr.wikipedia.org/wiki/Andy_Warhol) est très connu pour ses œuvres où il expose \n",
    "des portraits avec des modification de couleurs comme le portrait ci dessous\n",
    "\n",
    "<img src=\"data:image/jpeg;base64,/9j/4AAQSkZJRgABAQAAAQABAAD/2wCEAAkGBxMSEhUTExMVFRUVGBgYGBgYGBcXGBgYGBgXFxgXFxgdHSggGBolGxUYITEhJSkrLi4uGB8zODMsNygtLisBCgoKDg0OGxAQGy4mICYtLS0vLy0tLy0tLS0tLS0tLS0tLS0tLS0tLS0tLS0tLS0tLS0tLS0tLS0tLS0tLS0tLf/AABEIAQkAvgMBEQACEQEDEQH/xAAcAAABBQEBAQAAAAAAAAAAAAAFAQIDBAYHAAj/xABCEAACAQIEAwQGBggHAAMBAAABAhEAAwQSITEFQVEGImFxEzKBkaGxBxRScsHwIzNCU5Ky0eEVJDRic4LxQ2PSFv/EABwBAAEFAQEBAAAAAAAAAAAAAAQBAgMFBgAHCP/EADwRAAEDAgQDBQYEBgIDAQEAAAEAAgMEEQUSITETQVEGImFxkRQygaGxwRUjM9E0QlJT4fBy8TVDYiQW/9oADAMBAAIRAxEAPwDq0V5A/wB5WK9FNXLxFcuSClDSeSS4S0pa4biy669TTcbpUtcuSRSriuUdpP8AVXvvn8K+g8A/8dF5LA4h/EvQyrhBJa7xTvjZerkl+i9S6c0nkkNcu0Xq5cosT6j/AHW+Rpj9ipoP1WrIFqrFsRskmuSpQa619ly8TSLjpySTS6bhJ4WSzSJUhNcuXprly+nxXz273lZLxNNCVc77a/SAbLtYwsZ1JD3CAQp6INiRzJrd4D2VbM0TVWx2G3+ULJNbQLn9zjWIvuPSYi53jElyFE9QCABW2GG0sDTkibYeFz87lD53HcptrjOIsOQmIuAjQlXYg+WsEeNc7DqWcd+JuvhZcHuHNbHgP0nuihMTbNyNPSKQGP3l2J8RFZfEexkchLqY5fA3I+B/yp21HVdD4Hx2xi0z2HzRuDoy/eXcVh8QwupoX5Zm26Hl6ohrw7ZEqrwnFcn7Rn/NXvvmvoPs/wD+Oi8lgq/+Jehs1buOUXOyHiidK9rGDUqtcxH2ap5q9xNmaL07Cex0ETRJVjM7pc2HofupMLae5mh4yrmMtEieXU+AquqK4xEZydei0jqCjgs0Qt9L/W6gW+3U++anjq5G7FQ1XZygqm6xAHqLj5A2PxCnTEKd9KsosQadHLEV/Yioju6ndmHTmpasA4OFwsVLC6J5ZICD0O6ixXqP91vka5/ulLT/AKrVjjVUti1PtWyxgVHLK2JuZ2yJpqaSoeGRi5RG1glG+prPT4rI82ZoFsqTAKeMDijMfjp6K39Q/R+kyjLOX27/AJ8qGNVPvnKsPYaUO4YjCp3MEp20NTw4rKx1nm48h9ghKrAaeVv5YsfM/cqrdwjLruPCrmHEYpPBZmqwOqpwTluOqrNRwNxdU3gvVy5fUFfPR3VkqHHMaLGHvXTPcts2m8xpHtijsMg49VHHvdw+qRxsF89WbD3XCqMzsfedySfxr2x8sdPHmfoAFWuOt0dt9jbsa3EB6d4/GqJ3aalvo1xPom5lDe7IYgeqbbeAJB+IqaPtJRvOU3C66C4vB3LRi4jKfEfI7H2Vc09TFOLwuB+OvolCv9m+MPhb6XVYiCMwH7ST3lI56fhQuJ0LKundE4f9qWN1l37h+OS9bW7bbMjiQfhr0M8q8WqqaSmlMcg1COabhcw7R/6q999q96wDTDovJYOv1qH+aE4gwtFV78sVlo+xtIJq4vIu1o+afwjg17EsVtKDG5JhRO0n2Vla7EYKNodKd16nU1cVO38z4WR7/wDgMTHr2fKX/wDzVL//AFtGDs70H7qvONwX7zT8v3VHG9j8XbE+jDgfYIPw0Pwo2DtDQzEWcQT1H2uiI8WpZTlJI80CuIVMEEHoQQfcauWua8XGyPaWuFwQfjdS4a5rB25edWNDUFpsSsj2rwf2mDjRN7wUmK9R/ut8jV073SvK4G2laD1WQNVXitgNbBEOGpoW6mKocZfezOS2HZun7hlcNb6I5w7gt6+JRe79pjA/vVQ2GR4FloZq2KE2cfRXW7JYkfYPk39RUhpZUP8AidOTexv/AL4odi+E3rWr22A6jUe8bVGYnM3CJiqYZNjqqVR81OWg6lUMdZjvAefnWjw2qLxkefJYvHaDhu4sY33VI1bDVZsg3X0/Xz0dSrJBu2GKtW8HfN2MptssTBZmBCqPEmrjA4JZK6PhDmDp4FRyOAauI8DxvobjXMpchSBrA1I1ZuQj416xiFJ7VEIibePP4KuK03Du0puOqmwyqxjNJInx7oHPrWXrOz7Ioy5styOVwmL3He0LYd8nogSRIJbQiSNgNNqTDMDiq485fpe237hKs9xTtLcvWzbZEAMaiZEa6VoaLBIqWTiNeb/JOCCKdaunaNJH+lLZdm+ia+zYIqRol1gp6ghWPxJryztlCG1weDqRr4I2C+VZ7tEP81f++1eq4D/46LyCxFd/EOHihGKOlSYiWluXmtd2Hil9oe9t8lreBWh7K9oFwlog2mfM5JIhY0CgCfWPltWCxjCHV8wOfLbYc/vb4rbV1E6ql962XZbDgfaEYnOBadGUZoMQQdoNZHEcIdSWcZAR629FS1NIafUvBv0KCcQ7eG27IMPqpIOZ4MjfQA1d03ZRszQ50uhF9B+4VhBg3EYHF+/RZbtFxw4tlY21QrI0MyD1MeFaLC8MbQsLA8kHa/7K4oqIUosHE3Qeatwi3N0LeStYo/o3+6fka0THXguV4ZWxNjxF7W7B33WRNBWuFoRuET4cDk166fCszirmmXRbns5nFNd2y2/De0duxatp6N2hRqI1POJ8TUDKloaApZcPdM8vuEbw/GFeybyo5AmRpIgT11G1EiUFuZV76Z7JOG4hBrvbIcrOni/4RUBqwdwrBuEncuWZ4jiRcdnCBM2uUbDy0FCPdmN1bwRGNoaeSo3llSPCpKRxbKCFDiLA6meD0QjLWvBuAV5m7RfS+JQssKxQn9oAEjxEgifYa8Fp3tbLd4BF+f8Ai32R7houAdp7104i4l269woxBznmIBgaAewRXs2FxxCma6FgFxyGo+KAkJzEIr2Mwtu5buh1Dd5SQROgBj4zVN2hqZ4JGGI23136KArT3vRWkBbIiKdJgAHw8f61mIzVVL7R3cT09VyB2EtXceXzK49GMsFSM0QRB6CdutaB7p6XDA0NIN+Y8lyEdqeEWrL5g+UMNECkmRuQZgDarTA8TqKpmRwvbn/oSgrOCtD5a6JfFdS+iri9hV9AzRdY92VAzEkyqsBLGANzz6CvPu11DUvPHa3u8/si4XjLa6pdpP8AU39Y77a1t8LB/C4i0/yhUlH7O7EssrM1z1QEknczQ7nFxuV7DFBHG3LG23yXUezXB8O+Gw7tbVmCbnkSZb415li2J1cNVKxj7Ak9Nr+SydZUTNme29tdkZv3bNtpdkRiIBJAMCTA8KrIGVM2jQXNHx1QjWyP2BKyvZTglq7avekhy9w6yCYB0IbfUya0eLYpNTSx8PQAbfVWdbWSRvaB3bBZDjnC1w9xrYuq7A7AGQOWY7TEbda1WH1j6qISOYW368/LRXtFVOnYCW28eqGCrIIx2xVrFODbaDplI+B5VeUz2OiytXjmM0c8Fdmnbo52ltvVZ7AopOok+Ovw/O9UWJySsALXWWvwKGCWTI9lz56InZUFlB0BIHkJrPNcXv1N1tSAyI5NgF0qzwayr+kCd7QySTEbQNhVk2JgIKy76mUjKSq/Gsi4e8qMFYgsRmgz/wCCKSSwY6ykpi7itc7VDl7OI+FWNLgBObbXchvAbeyoRTtLLon8QeyoN9ishiLIUkBlaOayR7DGtBEW0V5C8vF1XcaU+BwbICUyrDnQuDd7IVcBBIIrYMc17QQvNKhj2Os/dfSWLxItoXacq6mASQOZgakDwrwenhdM/I3n42RZ0C4D2rfPibt0Bsl13a2zKVzrMSJ3E6V7ThIyUzYie80C4vfx38lXSXvdWOxmJy4jKdnUj2jUfI0F2hpzJR5hyKiKPcY4rafPaUBnQjVh3QwMGBu7CToBVBh9BNABM5+UEHnrYjRNQHE4+zaxXpUthkAkABrcMJkwRrrWijpJ56YwufY9bh2nnc2ShVu0vE1xDI6loCxlI9U7kjqNY9nLSpcJoXUUZY/fqlCDVc2I3TlvPojw4fFOTulvMNJ/aUH51ju2EpZSADmfsp6f3ip+0p/zF/77VqsLlAw6O4/kAVNRUsk+JtdHqA9pN+QBBKBERQRFrgL2Zrg4ae6ei6L9HePX6vcVm/VMW15KwmfeDXn/AGopHGpY9rfe+qzGMQkVAIG4+aXiPFcJeuK7qno4ZWa4JJA2CKJYan1tKWkpK2lYWsNnbgNP1uQOiiihqImFocb76G3+EC7McesYV3DITmaPSKZXLOndPSrnFMLqK2Npbaw5G31F/qrOuopqpgdfbkUC4ziPSX7j5s2dpnbSBAjwED2Vc0EJhgbGW2t6KypIzHEG2tbkqVGIlTXP1LeTfAGriiZ+WSvMe1k7nYgyE7NIP0QPhyGZjSN/wqmxZ948gKuuz8T2zcRw7vVXzWbuN1uBqSQuj8O4ogwqXbjQAoBJ+0NPnVqyRoZcrLTU7jM5oCAcUbDv6ZiEViA1vMYdidzAOgjYHpQ0gYdbI+nM4yht+hS8J45aSwbSlkaDBbvLmMbRsKVkwazKlqKKR0wkOqyxoM7q5bskrhuFxNhdCsY8ufDT3VrqKMMiC84xSUyVLiV9KkwJ6V4TT34jSOqU7L5/7Q8buXglklTbsFwhC5WbWJfnmgCR769ow2gjp28YXzOsTrpsNv8ATqq97uSE4e6UZWG6kEeYINWkrA5pBOhH1/6UNlueE3Uv2mFl3stnLNBUtLHNOs90/hWIrRPRzh0jc7eV728NiEiBdpcCFGY4sXWXTKxGeCeUH2nyq7wqrc82EDmDrrb53ShZs1oUq8tcdkq699EnCQlq5fJBa4VUQZAUDNE9ZMEcsteZ9sa90krYbWAufMoynbpdBO0bxiL5/wDsb+avRMNNsLid/wDIVLhsRlxYxD+a40Ntxa/mNwgtx8xk0K52fVer0NE2jgELCSAdyblX+BY9bTMHDG3cUo4Uw0HYjlvVZX0vtDPyz3xqF1bTumj7m7dQukXMM162lzD4j0NsoNAiMDpoSTrPLesEys9mmdHUxl7r/wBTh9HBZcSCN5Ercx8z9lzztJgDauSb9u8XkllIkEEesBoP7Vu8MqRNEPy3Mt/VfXyvv81p6GfiMsGFoHVCJqyRy8BOlKAmPdlbdWMQkW2HRW+Rq+gZkgXjOMVvtWJF5FgHZR8NEAwSFgw15be2qDEpBCA+3gtngkDp80RJHPQ7K/WcebrctblaB00Rzs9jLQy27pbKLgddiubKV73Qc/Op4XttlKr66B4OdnTVaXiHDLxByXbaJrobSwB96iZITycquCpiae+038ysJi8ObblCVJXmpkbTofbVe5uU2K0cMvFYC0KGmqQppaBJqWFmd4CHqZhFG556IM7SSeutbGNlmgLzKaUyPL+pX00zQJJAHXavAmxPds0nyRtxfVc17e4bh117l1sUvpVtFUt28pBuDMVLZQSZJA1javQMBnxSJjI+D3Mwu529r9ELI1hubrl01vtBoChd052EnLMe4/jSWNu9+6QhMpxPPkuASClvpcpbLR9m+yV7Fo9xAQijQx6zyBkEkawZnYVS4ljdPRPDJN/t1UrIy4Ls/ZnhIwuGt2QACoBeObnVj7/lXlOLV3ttS6TlfRGsGVtlzrj4/wAze/5G+de3YM5n4dDm2yj6LFTiQ1TjGDe/IINeUcjr5j5CoKqONmrXfJepYHXV01mzwlrQ3Q3Bv9FEvjQm++60j7gaJwuMBGYx0kx7tqblAN0pY2+wumRTgBdOIN16u32SHeynTD7T1kjwFGRUj3WKy+I9paSEPjB1A+fRLjP1b/db5Grtze5YLyhkhkqA87krM4e4VbQE9QOYqmqY2SNs9bahmlikD2X+HP5InackSQV/pWVqYBEQGuuvQqKpfMwuewt6a3T5oXzRuxUj4h20LMR4kkU8ueXWBTGsDRcWUZNMvc6qSxO+y9StBNgkcQ0XOyqYnEDKYOp0/rVzQ0T2zAlZnFcVhfTua1Da0IWLN7BbP6TbF9cZcdhcFq5lyEzkMIoIHIGQdN+dZXsw+nfRsa0tLwNRYXH3U0zXByzvBOGtibyWVBOY6wVByjVozECYBq7rqxlNC6U8gdwTf4DVRNbd1kS412YOHxhwxcQwzWmfuhp9VWI2MgrI5xyNBUWLe1UvGHI2NgdPgnvjymyg4ficGcyX7BUNtdtuxe0djCEw6zrB131OkSzx1ptJA/lfKQLH42v80gtzS8Ys4a16NrLK/qHMCxBKaOGRgMskK0H7ZE6arSSVMgLZwR4aD0cP3XOy8kPxuKbEXS2VFLEwqjKupJ5nx+VGQxCnjsXE+ZumONyuqfROLiYZg9shHdnR5BEwEZWEypBTmK857XCKSoux13gAEWI9L778kZBcBbsnnWNylpsVPfRcZ7Rz9avzP6x9/OvYMNLxRxAnkPotfh0cPBD2Nbe2pAF7+ap2LU/n86VaQQOlKgxbGI8OyZt3HbW9vgmqmk9Nx8PnUeUgkHkjfamuLGs0DxofhdPTIY5R7jUrRGR3lWTnEYCXCz28uo/f5pMwU+z40wkNKKYyWrhGZxabg3vY+ijAmT+RNR7qxLhGLOO3NXo+Xy0rR0xOQB3JeI4zHGKt7onBzSb6H7bhNujumdoM0lWSIXeSgwsNNbHm2zDfzQrKBtpXnkkjz7xK94ihjYO40D4ftqomvAMF5mpW0TnRmTohn4jGyoEJtcp01DlygFw0RPEL3Oa02ITQ5G49o2/tRHAgcLs9ECairiOWUA+IGnoPrZP9vs91RB4aMtvii+G95DifhySXNjy0NJTAh7fNdVlnBeCQg5WNP71smvBAIXmkjOG4t3t01TSKdsoiLlfSuOwNu8ht3UV0bcMJ9o6HxFeCU1VNTyB8bspCsnAHQrm/Ffo4vWbgu4G5OU5lVzldSuoyvs3tjxreUna2Cpi4dcLcrjUHxty+aHdCQbhM7ZXr13CJdxGHuWMXh3UB1WUYSJIZZCDY6ncab1JgrIoqt0dNI18bhe19Qb/5SPJI1XOsRGY5Zj8z8a2zAcoDhe3oPNC3S4d2Vgy7jX1Q3IySCCIid6R7Wu963quumIDv+FONtSV1jdde+jS8yWmw11oLBbtltYKXF1Ck/tBgSR5navN+08LJZhUM5Czh5c/SyMi91Gew9wNh9M8SdGMorBmV0tg6qoZT3TtIqnx9pFQL2+G/mfNSs2WG7RJmxF7/AJH/AJjXrmFUzJcOhv8A0j6LOU2OVOHVTuGbtzG7ShiW2UyIPtipWQTU7rs2WsqMYwzGIOFOeG7lfl8dL/JJeEHz39moqGpsX3HNWPZ/iNp+G6z8hs0g8r2+ir0ItVryOvRLPxpLpjmBzrk69F5AToOdOF76KOeRkcZe/YC58ldnSduvh1+VXJdmhB6bry0UYgxbI0XDgSL9PFR44/o3+6flRAI4SoJRlq75QBm2by1WcsY6NG1HXn/es9V4Y2XVm69Dw7HJKYZZO83rzCmuhX1VhmH/AL7D40JBxYLxytuCrCtFPWO41M/vjWysIZEkQTvVZOA1xa06dFfUpc+Nj5G62ThQug5o63Vep10zJzTLokR10/pRFMXNkzt5boStZG+ItcN9EPwy6MCJiN9PD51oZn3c0jmFjKeEiOVjm3tff91WNHgCwVK8a3svp4V89281Zmy9FdbzSXCjxFhXVkZcysCrA7EEQQamgldC8SMJBHNcbHRYfh/0a2FN8XZdXP6MgwyLv00YHSeYNa6o7X1Dms4OhA1v/MeahbA3VWOGfRxh7NwOLl0kC4IkCRcQpEgcgxqKo7X1EzcrmNB67pWwtGyl4F2Aw9kKzBjcghodsjd4kSNJgQOnhUdf2qqZu5HYN6kC/qubCB19VobnCLJW2nowFtEG3l7uSNspGoqkZiNS1zpA43dvrvyTyAgPCOAYi1eHfC2VvX7hRWJDrcgoGBG4aTVzV4pSSwnu3kIAuRsmBtjdY7jv+pvf8j/zGvX8Gt+Hw9co+iw1YRx3+ZVCrT4/VDXSOsiKHqIOK21/qrfB8Wfh0/FGx0I8E30IiNZ6g0GMPa5o6rRydtp2TksaCzkEotCI13nelOH2bYlNHbGR9Q2RzGtsCLixOv8A0nBQPzNTxULWWVXW9pquqBbcDQjSwuDcG/wXmHxEU+WnaRpzQ2HYs+KSMSEZGm+ovbS2m6hxgPo3n7J+Rn4mmMZK1pznkp62po5ZG+zN72ckm1uZt9lkmoUlWSbXXXK5g8WFkNtyqrrqDjODhor3CsW9laWP2+/JSDiPVaHfg7He6TdGx9o5Wmzm3XhjxrpzEDX2/KlOFAgNuUjO0JbmdbW4018FBexhbwHto2Ghjj5KqqcWmmOvdCfZxIMho1WJg69JqOemcC0xjW91NSV7TmE+xFlFfZc3d2ouHiBt5dyq+sMPE/J2t4rsH1hvtN7zXjuQdFqsjeiUYhvtN7zSZG9F3Db0XvrD/ab3mlEbTyXZGdEoxL/ab3mldGNiAPNIWM3sF760/wBtveabkYNx9EojaeQSjFv9tvea7hsIsk4TT/KF762/22/iNdw29EvCZ0CQ4t/tt/Ea4Rt6LjEzoFieIYhvS3O83rtz8a2NNUStiaA46AKyZh1K5gvGPRV/rDdT76n9sn/rPqu/CqT+2PRL9YbqaUVk97h59U04XRDvFg9NFG3EAP8A5B/EKf7VUH+YoUwYUD3gy6UYsnZifIzXGrqB/MVNHh2GyjuNaUjYhvtGm+3z/wBRUpwaiO8I+aQYhvtGl9vn/rK44NQn/wBQ+f7qzgWL3EVu8pYAggEEdDUNRiNSIzZ52QddhNFHTucyMAgEjff1WiPBsP8AubX8A/pWf/F63+4fl+ywhSHguH/cW/4RXfi9b/cPy/ZNIBXv8Gw/7i1/CKX8Xrj/AO0/L9k9rXHQBN/wbDfubX8Ip34vXf3D8v2TxBJa1ivHgeG/cW/4RXfjNd/cPoP2TC0jRePAsN+4t/w0n4zXf3T8v2TdUn+BYb9wnupfxqv/ALp9B+y4r3+A4b9wnurvxuv/ALp9B+y5FKq1uQkmuGpslQbiXFjJW3pG7f0/rWuw3AmZc8416Ksnq3g5WIYrF3AZ9+ZOgrTRwRxi0YDfJV0khtc6rwcoTlbnEg7+IrpImP8AeAPmErJSRzRDC8bIgOM3iND/AHrP1nZxkneiNvBHx1xbo9F8LiluCVPmOY8xWXq6CalflkCsIpmSC7VPQfNS8lheIfrbn32+daeD9MeQV7F+mFXvXQqljsPzAqdrLmyhq6ltPEXuQDFYxnOug5Abf3o5sbW7LA1mITVLszz8EyyFg5iRppHM9D05U4oeMMINzayjRyDIMEUpaDumtlc05mlX7PFzswnxGh/pUDqcHZXtL2hmiAbIMwRSzdVhIMg/nahHAtOq1lNWRVLM8Z05ohwsfprf3h86HqP0yocS/hX/APErZ1ml5oVHduQKcAjqCjNQ+zvdVVmnepLBauCnihGVgUrW1yBs3ekgrGw11mnWCdndnykadVGrkU0gFMmpI5m2cApkvjnpTCxUdRgrmj8o3U1MVG9pa4tcvVyanGuW5Cr425ltsfA+/YUdh0ImqGtPVRTOysJWZwmGa4wRRJP5JNelgXWdklaxuZyNr2XbncAPgCfxp+VAOxRo2aorvZm6PVZG9pB+NJkStxFh30QnFYR7Zh1K+Y0PkedIW9UdHKyTUG6XB4g23DTtv5cxQVdStqYDGRryPREwyGN1+S1Vu4GAYGQdRXm80LoXmN24V81wc24WJx/62599vma0UH6bfIK/i/THkhXGj3VHU/L/ANo6nHeuVnu0UxDGstujv0e/R+3Eg9xrnorKELIEszRJCyYECNT1otY9b5voWwcQL+IB6zbPwyUoXaIJxb6EnAJw+KVjyW6uWf8Ausx/DXXSErm3HeAYjB3PR4i21tiJWYIYbSrDQiuvZcoeF4jI0HZtPI9ahmjzDRW2E13s01ne6VquFj9Lb+8PnVTUfpla/EXA0rvFpWyrNLzU6qriDr5VK0LWYRGGxXR/hHZNrqC475AwkACTHUztRTYLjVdU4pkdlYLq+/Yhf2bze1QfkRUhpR1Q34y87tCF4/slfQSsXB/t0b+Hn76idA4C6LhxSF+j9EAdCpIIgjcHQj2VCrMOBHdOisYe5yqJwWcxajy/mAaKY0xUAS1y3Cq8TuKtpp5ggDqTVrhMMj6lhaNv3UFQ8Bhug3CMZ6Is4XMYjeAJPM+zSvRgeqzNTEJdCbI/w/jbXHVTaKqxgNJifdBpwdyVbLRNY24deyZxfjj2nyC2vWSSZBmNNI2+FIXWTqehbKzM5BuIcbuXUyMFiQdAeXtpL3VhDRNi1aUMpNvqjDqCtJwMzaHgTHz+ZNYHHmgVRtzVxRk8PVZfHH9Lc+83zNFwfpjyC0zXNEYv0Qbi+JUgKIOsnn7Jqwp2FupWVx6tjla2OPZajs12lx2DsWrWHRB6TNdClDca4GOUMfsAZIA5xPSiVmbrqHY/inEbhxFrGolq4iI6PlBHfzesA0EDKOYOvKuSrmnEvpB4o5uvbugWkbKXtW19HuYILAnUa6npXJCsdx3j2IxbK2IuG4yghSQogEzGgEiaVcELBpCnMNittwf9Zb6ys+dUtVo1y3ckmahN/wClbKsysAxj3mwVS8ZOnl51M29tFrcPhdFTjMtLhOP4qRatWkbKIywSVgRBMxOlF8V2yHfRU/vvfZGrnF7v1X02VFYSCpmNCRp4zyqUyu4eZV4p4zPkJuFmbvafFb5goO3cEewmhjO8q4ZhtNtuQg2Jvl2LsZLGTyk1ETdHxtDGho2CbYPeFNOyHxBodAQVcNQ2WJtqkdJETHiI/GpoHhrtW3C2rgbHKspiicxkkkE7/GvS6RrBE0gWFhoqKQuzkOWg7LYe29twyqxDAmRPLT8aLbZUte97XC3ijt97dtQWyqo202Ou0c96foq5gfJfmg+D9HcxbtmDAqMuo6CdKboUe9z2U7QdEN7Q8Pt2nlWjMJCQTG4PenaeVNcLIqinfINUFpBqUfyR3geISMmzeW+50jymsfjtHOSJALhWdHILZdFl+OICbs8mc7+Jp1KbNZsrnEoA+jLjyCzSCrXdYM73HRfT30f3rdzh2EZAIWyiHwZAFYfxA0i5R9pe2OGwjmzdW8xyBmKWy6qr5lGY7alTpXLlmPoft4S5grmHypcYPmuqy+sGACFgZGgGXSdqVcuUds8FhrGIuWMOtwC05Us7hpgnRQBtqNSSe7XJFn10Irk5psVr+zmJzvbMEQwH/h51T1sZDCtYysE+HvDRYhpWzxIrMtVZg0rblun3XuHOq3bZbYOpPvqeMDMLq8qGl0TsvRdUWyo1AAnoBrVlYcljy5xGqy/aXi9i5aa0GObMI7piQ2usULLI0tsrSipZmyB9uXVWsRgrF7CA6ZVSQy6sMo1gnyIilLQY7qJk00VRa+pOxWDvZZ7sx/u3oQrSszW1TbTQaQ7KKpi4sZYN1cmoSLLEzMMby12q9dfKJM6dNamgidM4MBtdbFx0KymL9ctBhiSJESJr0mj/AEmsBGgtoqGbNmvbRFeyt/LeK/bUj2jUfjRYKrMQZmZmHJFOI8SR5RRJRh3iJEgwciiSxiR0pxI2QcFOWgG+6E3MalrEG4tsEbqCCmU7SBTdkcInSRZb/Q/ZVuN44XnDgnYDKY7sdI6/neucbqWli4QsUPFN30RXJFuzyAux6AfHes12ikLY2tHMo+haC5Z7jU5rgAnMzLy0JMa0PSWDAr2ukd7OGAXuLaeKzT2yjZTuKtGm43WHmifEcrhYhdf+iftXbw/D8ULmv1c+mCjdlfuwPHOI8MwpVEEabimPuXLeJfA3jlS4nobbW7cB4hnuuwNwwJAVYE7zpXJVzjs124xHDGayLdtkV2zq6gXSRIhrqcwecN4aVyRZLiV9XuOyBgrMSAxkidSCZ6+J8STJrlyqzXJVrOyg1teLfiaqK/Vrlqqdg/C39SCtviBOkVmGiyrsLMcd5HPFj63VWKkWiO2vPT1XQrXHcuHssFNx3GUKu8qO98qPElm6BZiSl/Oc1xsAhPFmuG1dDW7neIcEJCKABI173LUwPKoHa7gounDBI2zx8TqqA7QE2TYZFVSIBt92OeomD/7TBLdtrIv2AiXiNN/NAqiVlrzSCu5JrjZpKv1ASsNM68jkrVNCAZG+a1ztisnicQWABOi6DSDHj47V6LRU0MQ4kY1O5VJM918qZYulWVhupBHs1o/xUD2hwstbw+9bvWoR2swxJAYAyddyNQZPu8KeLFUsrJI37XCDcbw6DvDEekYaZT3jEnmNNKaQEdTSE7st5IPNIj16KQm2pSLQ8CsgIWmSx+A5fGsR2gqC+YR8grmijyjN1WS4zJN3KCWzkiN5DTNFUlsrb9Fb4g2Q0lmC5FtvNZl3JJLGTzmrQAW0WDlc9ziX7+KK9nuNvhLhdUt3Ay5WS4uZGEhu8PAqCPEUqiXW+J8X4FjkW/imX0ptqGWbguL/ALMq7wSY8/GuSrk/apcD6UHAm96MjvC7HdaYATmVgc5NckugdclTragnXSkdoFJG3M5oPNbTgqBblsDkQKpas3YStxPEIsPIA/lWuxBI1E1nGrN4THE8Fslt725qtTzstNvqjPZ7iy2WUOqlcxOY7pmABI8NBREUuU2Kra2kMgLmHX6oxxO1gTJa80n7LlvhqKkfwzzQFM+raO60aeH3WSxAUMQhJWTBOhI8RyoV2h0V6wuLAXixUVcn7bJ1hZNI7QIHEJSyEkK5UCxjjc3SswGpIHnUjY5HnQE+QW1zNvqUF4obLZmzy0QANRPnH41rsL9vY1rC2zfHfdVtRwdSCg01pzpogfFeaubcpCAdUs1267Xa6SuulVzCcOa4pYezbU/0qrrMVipZA1xvf4oiGmMq0eGshFVRyH/vxrB1U5nmc881cxsDGgLBY/GW1uPLD1221PrGtFTxOMbbdAjpMUpYmBr3X8BqfkgmMv2zARSNSSTzn21YRscN1lK+oppQeC2x6qqrVMqsC6TPSXSZbryqTsCa4myc2MnZRzXE6JQNbFHcJwwAqSdQZ8PCNPL3UG+c3stVRYG1uR7j80d4VpeT71V9T+mVcYkD7M4AcrLXPcXafdWdDSsRTUVVmzsbY9ToqrkTpUgWophLl/MIJ8Ek1yIF16aVdsbAL0UiQuHNKiTpXEqKaYRMLyrVu0ATUbnXWYrsSM7Mrdk6mqp2We41bIuEkGDEHlt161v8FlidTBrSMw9Vf1TX59RoqmEsZ3C9fGNPCrCtqvZ4TI4a8lDDHxHWGylxGCy3Ck+Kk89JE/KoKWuE8AlG/NOkiyOITbV1IKsmh/aXdf6jwp00U5s+N/wOy5rmWs5LfKKQVg6g8+XIg7aifb4UsXGkblkSyFoPdULsWM6a+yiY2iFmVu3ioySSj/A8wt6juySD8welYvHeG6o7nvaXVtR5w3XZEelUA01KLuLWuuR8Zw7LeuSN3cyNf2ia3FK4OibboFmaymlhkJc0680/hWDW4GneIG8jxrppMiMwuhjqA7MoBbyhvtKYOkgg6a/nnUma6AdDw8wPvNKlt40GM6gxsRE+RHOmuYd0RHWscAJo/iOXn1UL3SCSkgAZZA8dD5mKeAh3ynMch0UFu3PPnHvpSbBRxtzu31utKhIAzHwnr0qtdq5ehU7jFCGzEK/wxZuoB1oeoNoyn1D2ticSbBaSOtUIVex4fqw3Cl9F3Z50y+qq/b7VPDcLA6fFNmII/wDDTrXRtuISx3JODg8oPw/tSWUHCmYbNfdvzTcxjwp1kS2Jt7nU9UtkaiKa5D18jOEQ9WxUSxxYSCRslrkwJl22GEMARU0E74XgsNj16ralrXNsQhF/g7Kc1pttYO49vOtRBj8UjDHUt1Ol90A+keDeM2TeJFigZ0KupjMBII8xt+etTYYImTujikBYdbeKbOCW6jUIS25itI0EtFxZAE3SoSNuXypr7H3krbpFFOLmixKUDWy0HCWIQ2ydd1PUMJ0neNdKxmJsaZxUM1HO3Ig/tZWlOS2MtcrHCmHowQDB6nT2dANRVdiYInOa1/AWt5oiDUWCxmPthncMJGdv5j7qtIHEMaR0Cvn08c8Qa8X0Q9eHFGzW2jwPyJ6UXx2kWcFSHBZIH56V1vAqtxZCGDFdxBgyJjy8alhcCMoVXi8UjZM8rLX6IYaJuCqQgj3glyGJ/ZmPbvtTcwunhj8t+Skw+GLkDUAmJ8Ypr5GtUtPAZHAW0Rl7vcAbcZcw8JifxoJvvEhap8wNNkkvmabEdQjXBl/TW/P8KCqr8M3RNcf/AMThYbcuS19y2DWdDrLGU1fLTc7hRpbI6EU7MDujZ6ymqGhxOVw5qC4I0p4Oivadwexr73v0TK5E5r95LS3TGlo1b8VJbUzPTlTSQg62SPIWOtrsfHopyZI9v5/PSmclQsjeyB7XbjknU0KrsbnkoTjbf7xP4hRfsVVa2QrWfiFN/cHql+u2/wB4n8QpPYqn+grvb6X+seqRsVaYEF0giD3htT4qaricHtYdEjq2lfoXhD7ODsAMGdDJ0OYSBV9NiVacjo2HTfxQjTSagyD1TrWEsKZ9IDII9Zeen41HLimISC3Dt8P8p7DSD+cev+E/C4awoEshMQe/oT5TUdTiFfIbNFh5a/VLE+mG72q2blox3k7sR3hp5VWNFYy5F9d9EQainItmCqYUBSs3UyjNoH01292tWdXMJAfyzc21+qiiljD75xZBb/Cb5diLNwgkkEK0EEyCNKbFUMDQC4AgLTx1kOQd8JP8Iv8A7m5/A39Kf7RH/UPVO9rg/qCjv8FvOpU2bhH3G06Eab09lUxpuHD1Q1S6kqI+G9yiPZ+4VCnDuY/2N7eVO9tbf3x6oZtJQcMMcQbeKY3AXiPQONc3qNuI8NNq72xv9Q9UvsdEG2bb1Ui8JurMWXXytsPwpjqhjt3fNGxCkiADLD4pt/hV1lK+juCRE5G/pTmzsHP5ptQIZoy3MLq3wXhz27oYq4BYEkqwAgR7P71BVzskiIadSqyogZDTPaH3JH+9Vrcw6iqIxuv7pWMyOHIpARScN3Qrg12bZNdAaXK4cii6WrlgaWheNsHlSWf/AKE9mI1bW6pPRj4RXWd/oSjEKgDROApLO6fJAyPfJ75XmtzXC/T5ImnqshOfVKqQIpLH/QhJX8R5dZYevRbBUlz1STXWC67ksVwaiqeknqHZYmkr0j8iniK2yv4+yta4DOWjzN/pdeBFcYimT9lq6MXbld5f5skIpltblZ+aGSF2WQEf76ei9SAAKHdLTX+7qnNJuu4cO/VW/uJ/KK8kq/4iS/U/VamP3ArFDXHNOsFS4hxWzYH6RwvhuT5Aa0VDSyze41Tw08kvuC6Dt22ww/eH/rHzNHjBaj/5RowmpPIequYHtPhrpCrchjsGBGvSdvjQ02GTxi5F/JDyUM8dyW7IzQGVB2XgKTZLYBCO1g/yd/8A4zVxgZvXx36omi0qI7dVxwCvWwTZbderlxNlFdvou5FPbG87IOfEaaH9R3pqovr1vr8DTuE/khBjlGf5vkf2U1u4rbEGmEOG6OhqoJv03XTyKbmRRBSiuKQr1KksnUEvEkoFLa5RFNTmeVsQ5lNYzRAFtl6vh9FFTRBjR8fJTYC+Lbh2QOBMqZAMgiDGvOlNyLBFSxOeyzTa/Poo7ryxIAAJJgbDXauA6p8bSwWvcpgJ60haCoJ6OCoBbI0J29RPbbZYXHMAEDeND7q9UEh7pWWabuXcOH/qrf3F/lFeR1n8RJ/yP1Wpj9wKh2o4t9WsFh67d1fM8/ZvU+H03HmsdgjqKn48uU7LlWJxLOxZmLMTqTua2ccYY2zRZa+KJsbbMFgkt3wAwKyTsZ2399KWa6KOSJ5cC02UJanlgRBFzb/Si/Du02JsxluEr9lu8PjqPYaAmw+CbdtkDPh1PLe4sfD9l0fs9x1MVbzLow9Zek7R1GlZetonU0ljsdlmauldTvyu5pO1n+jv/cNEYF/HR+aSi/XZ5rjleuDZbhUuIYor3V3PyqaKPMblZ/G8QfCODGbE7oSTReixbpCTc/VS3HXIoCkMJzHkdTEDlULWuEl3G4T3PZlsN/NRI5BkGDUpAeuZK+M3abFXcPxJge9qOvOonQC2ivKLHZY9Je8EUVgRIMzQpFjZbCKUSsD27FLXKROoJeIhOGx8vz+NOb7wV1gWT22PN1C0PYLgaYrEFbsm2i5iASJ1AAkbDX4U+Z5bst7i9a6mh/L3JXV7fZrBqIGGsxt6in5jWgOLKVkDW1JOrz6qnjuxmAca2ETxQm3/ACkU4TSIiLFKxp7ryfPVc87YdkUwieltXs6FgMpgsJ2MjcecUXFNnWjw3FJKl3DlZr1WTFTkXVvLG2ZhY4aHQp0fKgpdivJq+k9kqTD02Xb8B+qt/cX+UV5JV/xEn/I/VXUXuBZD6SmaLI/Y78/e7sfCausCA7xV/glszjzQLgXC0dc7idYAnTTeev8AareaV4NgocZxSWGThx6IqeGWf3S+6KH4sio/xOrB98+uirYjgFptgVPgSfgakE7xqj4MdrGHvjM3y1Wc4ngTZbKTMiQR+fCjIpTJutVQ1jalmYNt5q52X4s2GvAiCrlVcf7Sdx5TQtdSiaEg7hJiFKJoj1C6R2s/0d/7h/CqDAxavjHisvRfxDPNccNet8ltjsg3Eic5nw91GMsGLB40XOqSFq+GdmbIRWuAuxAJ1IAkTAiKxld2hqRIWwmwCMpcMhDAXaq0/ZzDH/448mb+tBN7QVzTfOiHYbTn+VDcb2QBE2nIPRtR7wJFW1N2meSBOy/iP2QE2ENaM0XzWVvWSjFTupIMdRWsjla9oc3YqmkaQS07q9wu9+x5kVFK3mtNgVcc3BciVChaoaJ4WhF4vBC+RwazmlzAfn31KyPUFbbCOzz4JG1E3LWy0XZrs/ib9l3szBcKQGyA5QTmYzJyk6Ac/KklkYDYq5rq2nilDJRtc7X3stt2d7K4jDXbV1r7tOYXELGIykLz7xmPKhJJWkWAVFW4jDOxzGxgdCBqs32g4VcxfEL1myWi2JIdmYAxPdGuUEmANOcdKIY5jW3Ks6KqjpqRskoFztYC6xuKwrW3KOpV1MEHQiiAQdloIpWSNzssfLZQmuUluqfGgoSfYrzTtEQay4K7Fd4rasWUNxwO4sDdj3RsOdeVvppJqiTJ1P1RdNA+VrQ0LCdrO0IxTKEBCJMTuSdzHs+JrQYfQimHe3K0+H0Rphmfuq1jA3yqZSwBAM5soGbWIG++tFuewElyEnrqJrn52gnaxGvzCL4LDvbDh3Zl0IMmeZMazO1DPc15FgqOrqYKiVnBaGnos59Xu3ENwFmAMcydNZ/PjRYcwaLUiSnieIXNaHeCHsanAHJWga23cGi9bEkeJimu0aufo0rq3aB54fcOv6vnBnYcqzmEgfijLdVjqUf/AK2/8lyC7iFXc+zc16qxhK0lRiVNT6PcCem5HwGyFtN64Au7EKPwqd7mxRl7jYBYqqqHVdQXjnsj1jC412Izug11aVEifVA2FUMtZhTGg2BPQeKKbDWu0DiFf4neu28IGZ2W7tIiSSTE6aaCdKrKCOCavIjYC3x5fRFzveymzFxzLMYtb6BWdnhhIOZjvMA671qaf2J7ixjGkjcWCppRUNbmJNvM/uh7NzmaOAsLIMklT8PPfH55GmS+4rLCCRUhGpoNegg3U4oJeMx5mua5Mc94+dGN2Xr1H+jG7wXT/onx827tnmpDjybQ/EfGgagWIJWY7QQkStk6/ZajtDjb1pFNlbZLMFJuGFWdBtrq0D20PGATqqmkiilcRKSBblqfssz2Wx188QvrcsAM8elKNKoQoyz1nXbXveGk8oBYrOuih9jY5rzpsCNSgf0ncRH1n0SZNEHpCEGcsZ0LxJGUjapqYEturDAqf8kyPv4a6eixBohaPwT11B8KGnAyrHdpqWBrQ/Z1/XzXVO0aD6gx5i2pGngB+NeYwPPtzhyzFQ4Y48Rlly8VrAdTZbRwvcLa8Nvh7SMOgB8xoflVXKMr151iUD46lzHdVFjcTcBKrbDDLJloJ5GB4U5jRbMSiKGmhe0Oc+xv0v8AcKLs/cm0BlgDYnYjmQfMmuqGgP0KlxiEsqQQ65PTS31Wb4jeDMcoUKCYygCfHxo6JtmjVa2hiMcTcxJJHNVkaCCNwQR5jWnkXFijSLixW8XiF29wy8boGiwpG5ExJHLaqekgZHicYZ1WZfAyKua1p5rl3FRoDXp0JTe0TQA0hV+FYgW71tzsrAny2PzpldFxKd4G9lnKN4ZK1dJFeXEZbj/dFsQbgELL8b4i72yHsMqZx3swJ0OxGXQkdevOtbhuHxRS3ZNd2Xa3XnuqWsqpHgh0dgDvf7WRTH30bCm46CMubK8r3hsPDXaOtVlNFLHiHDY7W+pHT/CLkc11LnLb+B0WCvNJmAPACAK9AjaWjU3WXe4X0CSxcKmRSuF2lTUk7oZA5u6OoZAJETyoEjVeh00rpIw9wtdWENA2Xk1GWcYXbcFNuDn1ophvovTsOqXPY5pZlDdAtH9H/E/QYxJ9W4PRnzPqn3j41HOwOFk3GqYyU9xy1Wqxz3snp8XfFoM827bWrji0UYlZtroxICmW29tCtA90bqhiEWbhwNvpqcwF776k6fBYjjnEWbENcS/nZgMzojWNdQQVmdgKLY0ZbFaSjpvyQ17AANgbO+eqo8S4lcxDBrrZmAjNAkjxPOnhttkTT00dOCIxYFVKcVPvsnKNDQlRq1YntZK3PG2+uv2XVOP2rjWLdsOqpdCW2zCdxMqZ025+Fea07mipkdbUElNw9zWkPI1Gui5xjsP6O4yZg2UkZhsfGtLFJnaHW3WxhkMrA61rorwbGstp1USykFd/2iAfdvUE7RmuVncVoo3VDJH7WN1PiHKHv3bYeCDmDHQ9AIAFRhubZqhgY2YWiicW35Fo+4KCWca9s9xzAJ6x7jRjow7cWWhfRQTAOezX5+qq3bkknaelOaABZFxsyNyjZMpdOaf5rogtEcHMje2T7C8j4EVR0bgcYbbr9lli4OxG46rleOts2mndBb8+6vT4iAn4vTyzuy3AAFxc7oUaLsCsjezvJbW1xO7dt2RZjO6nMWGgyQD4SSawsuH08M0jqna+g5m/lqtIypfJEwR2vzuh3FH/AEbrnsmWznvlrhYQOQA9kcquKJn5zXhjxpYd3S3RBTvOTLmBO+6Ftxm6UKO2dT9rUjeCDuNdasm4bTiUTNblI6aX+A0QPtkjgWONx4odNHgaIRLb1I8xXP8AdU9OCZWBu9wtFFAFelsHdAPJSqYNA31XjkMgEgfvYjZMZd/fRLCLL1fDq6KogDm6A8vI2XrbEEEGCDp58qeUdoRYjQrddnvpCNm16O+j3iCcrZhMdGnp16RQslPmOiz9XgPEkzwkNB5WOnzQbtP2p+uCPq9q3B0cCbkcxm6GnxQ5d0bQ4Z7Ob5yfp6f5WciiFbDVeIpFx0ClYfKgpdbryrGJhJWOIN9V1jtBw97+EFtCoMITm2IAnfkdBr515lTzsirHOdtchXuHzCKRrnfuuVlY/Ohjoeda0OFtDbotpmBF7+Skw95kOZSQeo8xSPY1w1UM9PHO0tkFwUdPH0KiUJMajSKF9mN9Cs3+ATh5DZLNQPHYgXGkIE02HzoljMo1K0NHTuhZkc8u81VIpyMVnh1nPdRcpbMQMo0mdKjndlYXKGqdljLui6j2qXLgboGkIBHSCBWbwN2fEWOPX7LJUZvUtPiuJ8Utn1tIG/X+9euwkDdGY9TyOHEHu23uhRoo6rJ35orwPi7WGAJJtk95YHMASPEQKq8Sw2OqYSB3uqMpKswnwRbHcbwjDSwHn/aq/Heap6TCsRYQTNlt01R89dTOGjbn0WXvMCxIEAkwJmByE861EbXNYA43KpXuzOuAo4qVM8Fb4Zbl9ttfnUMp0VzgcTZKgEozFCBbvmpCYoRrMy8xwvBH4gM+cAfG/wBEhbkB+TUgjA3Wso+z1PSuEpJJHXQfVNqTTktC48zZKyHUmuzhDCrgz8PNr0seWqXIenhXZlI6qZl4jeSRhFc03CfFIJW5rJwMct6gkcQViMdxaogqixuwC9UDxcFZEEvcM25K6Fe7d2lUKlp2IAHehRpp1JrAHBXukc8usLlb2lwiR7A4uACy/HOOvisoZEQJMBAecTJnw6Va0lG2nNwbnxV3SUTaY5g658UMtqTMCdDOk6UY4ge8jXFoF3KS/gbqEBkdSRIBU6gAkkdRTWzRnQKNk8bvdIsnYfh9xywAjKASG7pgmBv5ikfIwWXSVEbbc79FWUa0uYhtwpnPOW4XVOFdmbNo23USyA6wBJM6mBrAMCsjU4jI7M1YyaulkzNun9snC4K+TsFH8wqbs8M1ezz+yjp5WxTNe7kuKYjHrsFnziK9fZEVZT9oIclgy6G4h8xJiJokCyzVXUCaQvGgTFUnQCfZS3ChaxzvdF0mWuuEnDftYpfRGM0aV10/gOy5lLhLIZgJpjzYIigp/aphGUXsYcJMc6Ec+63VHh8dM4loU0U1HbJ7LP5/OtDRusvP+z2KwU94pu6DseRTUMGpH6jurVYq2aWlcILG487qQ7ydiNfP8xTWG4VbhVTJVUuW5zsOo5qIMRTywFXs9LDOwcRo153sfUH/AL2Ty0+FcG22TYKRtM2zbu8ExacUW+5bpupFHL40M8XcvOMbMktbwpR0seY0+eqSIqKQ5QT4KmkgdTSAOsbHlzRvjvZ67hoY9620EOBtIBhuh1rLQV0c7i3Y3K9Mw2ujmjDNjZFuxGHs3Vu2nnOwiDEFeo55gdfdQOJyTREPbsEPir5Y3teNh0QTFWPRB7bCLtt+6dZKwZgdNj/2o+J4mLX37pCPjfxS14PdI1807A8cuW4UxcRfVV9cvLukarpymK6Skjfq3unw5+a6Shik7w7vl91RvvmlpESAASM0DbTmPGpQ3JoQp4wGNAt8V7ChCRnkDMoO3q/teNJJmAORLKX5SW9F1g4lcNbTMzOmgzGCwXkTG421rHGJ1RI6wAIWNyOmcbAAqr23GfAXgD6yiD/2U0f2d7uIM8/somwmU5BuuD37ZUwRXsbHXGiBmppKeTI4K2cOGtArqR7/ABFRcQh1irs0UUmHh0WpHqqd1ogqY01jrtU1g5Ur5spaYyQefmpBjCRqNeviNpHvrsinOIl7XMkHePMbqueVKAg3ucNCdFZwCS470Hfl+dqjk0CscIia+cWdYot6UTlJ1oW2i23tMbJBG4m6dSIkeCfNBLxG6WZ3g04OI2VnR4vVUgtE7TodQlidKVrhdXWF4zGarNIwC+hITMp3qbMBotp7XTwuEReL8vJKts/CfOkLwumromFtiDrbdeCezzpC8BD1WLU8Tbl/7qQAcqiJuQVip6yKrfxy8BzevMX0SRp7P7VFN7pUeKULmTOlAAaCu3pbBQAiRABHsryKZzhM4jfMUYwmwIQPE9kbBbPbzWnBkFDoD4A6D2RR8eLTBuV4zBWTMSma3I6zh4rOdtOGXbbC6zBwyhC2WCOmbqT19nnbYZURvaYx3bKywudjgY9uYWYvYO4oVmQgMJUxoR4Grds7CSMwVu2Zj3FocNE4YF8gcAmXKQFMggA/jtTBO0EhMFU3PlNkU4H2duXmUshyEkNoy5dDrJAmD0mg6mvjiBsUJVYgxjSGnVariF67bsotxTmsva74HdZScpI6GCdDVRCyNzy5h0N9FSQsjfIcp0IOil7SYxHwV8K+c2wFY/7gRM+NT4LG+PEGF4tcn7rqKNzaplxuuU3bYbcTXqTXZditRUUsU7bSi6htYTKZVo8CJp3EB3VXFg5gcXU77eBFx9UOxVsglSNZnTnPSp2EWusrW08kcxjIvzVYqRy2qbMLIN7JG6EWPROuWiDHl8YpucWUj6d8ZF9dL6X/AGVzB4ZgZjUQR0I5ioZHg6K5w3D5Wv4jdxt4q36Xvg7AgnXwP9Kjy91XQqrztedAQb36hWQZ1qKyuGuztBabpxoJeJr1LdclFIuJSk0t1NJUSyWzHZek0ibxX6a7JtcmvkdI4vebkm5JSiuTTqnhqjmPcPkj5a+ec2kde518V3KyO6PIfKvIaj9V3mVfNGgCfUNgnKHE4ZbilHAZW3BqWOV0ZBZoU5ri0gtKVcOoULAgCADr86QyuLs19Uhcb3um3cGjRKjRgwjTvDY6b05tRI29ilD3DmpgtRlxJuUxQY7ApeQo4lTEiSNjO4qSKZ0Ts7d09jyx2Zu6B9qcElrBX8gjNDHmSSy6zV7gVQ+bEYs/L9kbRSOkqWZiuU16iNlsrr1KkNzuUx7amCRqNv6eVKCUPPSxyuDnC5HNOdAdSoPs60mYhK6nhLrlgum5BMxyj8aW5XCmiz57J00in1tZR3bIaCeU/HQ04OIQs9GyZwc//bp6gAADYCKapo4mxtDWhS0EvFV6uSL1cuXq5cvNXLklcuS1y5KKim9w+Se3cea7nZ2HkK8in/Vd5lapuwT6hTl6uSr1ckSiuXJK5cvVy5A+2n+ju+Q/mWr3s5/5GP8A3kjcO/iWLkLV6uNlswkpUq8K5cpE9VvZ8zSFMd7yjpU9erly9XLl6uSFf//Z\">"
   ]
  },
  {
   "cell_type": "markdown",
   "metadata": {},
   "source": [
    "Compléter le code pour réaliser une image du même type en positionnant:\n",
    "- en haut à gauche: l'image niveau de gris (instruction déjà présente)\n",
    "- en haut à droite: l'image du canal rouge\n",
    "- en bas à gauche: l'image du canal vert\n",
    "- en bas à droite: l'image du canal bleu"
   ]
  },
  {
   "cell_type": "code",
   "execution_count": null,
   "metadata": {},
   "outputs": [],
   "source": [
    "# À compléter\n",
    "image6 = Image.new(\"RGB\", (800,600))\n",
    "\n",
    "image6.paste(image5,(0,0))\n",
    "\n",
    "\n",
    "display(image6)"
   ]
  }
 ],
 "metadata": {
  "celltoolbar": "Format de la Cellule Texte Brut",
  "kernelspec": {
   "display_name": "Python 3",
   "language": "python",
   "name": "python3"
  },
  "language_info": {
   "codemirror_mode": {
    "name": "ipython",
    "version": 3
   },
   "file_extension": ".py",
   "mimetype": "text/x-python",
   "name": "python",
   "nbconvert_exporter": "python",
   "pygments_lexer": "ipython3",
   "version": "3.7.4"
  }
 },
 "nbformat": 4,
 "nbformat_minor": 4
}
