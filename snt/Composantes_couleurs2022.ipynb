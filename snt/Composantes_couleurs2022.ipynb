{
 "cells": [
  {
   "cell_type": "markdown",
   "metadata": {
    "slideshow": {
     "slide_type": "slide"
    }
   },
   "source": [
    "# Couleurs d'une image\n",
    "\n",
    "<div class=\"alert alert-danger\">\n",
    "\n",
    "Exécuter la cellule suivante pour importer les ressources de ce TP."
   ]
  },
  {
   "cell_type": "code",
   "execution_count": null,
   "metadata": {},
   "outputs": [],
   "source": [
    "from ressources_photo import *"
   ]
  },
  {
   "cell_type": "markdown",
   "metadata": {},
   "source": [
    "**Sommaire :**\n",
    "- [1. L'image](#image)\n",
    "- [2. Le pixel](#pixel)\n",
    "- [3. Ligne de pixels](#ligne)\n",
    "- [4. Traitement de l'image](#traitement)"
   ]
  },
  {
   "cell_type": "markdown",
   "metadata": {
    "slideshow": {
     "slide_type": "slide"
    }
   },
   "source": [
    "## 1. L'image <a id=\"image\"></a>\n",
    "\n",
    "<div class=\"alert alert-info\">\n",
    "\n",
    "Note: une image initiale est préchargée avec ce TP. \n",
    "\n",
    "- Pour affiche l'image actuelle dans ce notebook:\n",
    "```python\n",
    "afficher_image()\n",
    "```\n",
    "- Pour charger une nouvelle image depuis une URL:\n",
    "```python\n",
    "changer_image('http...')\n",
    "```\n",
    "- Pour revenir à l'image initiale (après une modification ou le chargement d'une autre image), il faut taper l'instruction:\n",
    "```python\n",
    "reset_image()\n",
    "```"
   ]
  },
  {
   "cell_type": "markdown",
   "metadata": {
    "slideshow": {
     "slide_type": "subslide"
    }
   },
   "source": [
    "**À faire :** afficher l'image initiale"
   ]
  },
  {
   "cell_type": "code",
   "execution_count": null,
   "metadata": {},
   "outputs": [],
   "source": [
    "# À compléter\n"
   ]
  },
  {
   "cell_type": "markdown",
   "metadata": {
    "slideshow": {
     "slide_type": "subslide"
    }
   },
   "source": [
    "**À faire :** ecrire les instructions pour charger et afficher l'image se trouvant à l'URL https://snlpdo.fr/SNT/img/ciel.jpg"
   ]
  },
  {
   "cell_type": "code",
   "execution_count": null,
   "metadata": {
    "scrolled": false,
    "slideshow": {
     "slide_type": "-"
    }
   },
   "outputs": [],
   "source": [
    "# À compléter\n"
   ]
  },
  {
   "cell_type": "markdown",
   "metadata": {
    "slideshow": {
     "slide_type": "subslide"
    }
   },
   "source": [
    "**À faire :** revenir à l'image initiale et l'afficher"
   ]
  },
  {
   "cell_type": "code",
   "execution_count": null,
   "metadata": {},
   "outputs": [],
   "source": [
    "# à compléter\n"
   ]
  },
  {
   "cell_type": "markdown",
   "metadata": {
    "slideshow": {
     "slide_type": "slide"
    }
   },
   "source": [
    "<div class=\"alert alert-info\">\n",
    "\n",
    "- pour connaître les dimensions de l'image:\n",
    "```python\n",
    "# les variables l et h mémorisent la largeur et la hauteur\n",
    "l = largeur()\n",
    "h = hauteur()\n",
    "# Afficher de la définition de l'image\n",
    "print(l,h)\n",
    "```"
   ]
  },
  {
   "cell_type": "markdown",
   "metadata": {
    "slideshow": {
     "slide_type": "subslide"
    }
   },
   "source": [
    "**À faire :** afficher la hauteur et la largeur de l'image initiale"
   ]
  },
  {
   "cell_type": "code",
   "execution_count": null,
   "metadata": {
    "slideshow": {
     "slide_type": "-"
    }
   },
   "outputs": [],
   "source": [
    "reset_image()\n",
    "# à compléter\n"
   ]
  },
  {
   "cell_type": "markdown",
   "metadata": {
    "slideshow": {
     "slide_type": "subslide"
    }
   },
   "source": [
    "**À faire :** afficher la hauteur et la largeur de l'image à l'URL https://snlpdo.fr/SNT/img/ciel.jpg"
   ]
  },
  {
   "cell_type": "code",
   "execution_count": null,
   "metadata": {
    "slideshow": {
     "slide_type": "-"
    }
   },
   "outputs": [],
   "source": [
    "changer_image('https://snlpdo.fr/SNT/img/ciel.jpg')\n",
    "# à compléter\n"
   ]
  },
  {
   "cell_type": "markdown",
   "metadata": {
    "slideshow": {
     "slide_type": "slide"
    }
   },
   "source": [
    "## 2. Le pixel <a name=\"pixel\"></a>"
   ]
  },
  {
   "cell_type": "markdown",
   "metadata": {
    "slideshow": {
     "slide_type": "-"
    }
   },
   "source": [
    "<div class=\"alert alert-info\">\n",
    "\n",
    "- pour récupérer les composantes rouge,verte et bleue du pixel de coordonnées (100,213):\n",
    "```python\n",
    "# les variables rouge, vert et bleu contiennent les quantités de rouge, vert et bleu\n",
    "rouge, vert, bleu = consulter_pixel(100, 213)\n",
    "# affichage des composantes\n",
    "print(rouge, vert, bleu)\n",
    "```"
   ]
  },
  {
   "cell_type": "markdown",
   "metadata": {
    "slideshow": {
     "slide_type": "subslide"
    }
   },
   "source": [
    "**À faire :** pour l'image initiale, écrire et utiliser les instructions pour afficher les composantes rouge,verte et bleue des pixels ci-après\n",
    "- Pixel 1: (75,50)\n",
    "- Pixel 2: (225,50)\n",
    "- Pixel 3: (75,150)\n",
    "- Pixel 4: (225,150)"
   ]
  },
  {
   "cell_type": "code",
   "execution_count": null,
   "metadata": {
    "slideshow": {
     "slide_type": "-"
    }
   },
   "outputs": [],
   "source": [
    "reset_image()\n",
    "\n",
    "# pixel 1\n",
    "rouge, vert, bleu = consulter_pixel(75, 50)\n",
    "print(rouge, vert, bleu)\n",
    "# à terminer\n"
   ]
  },
  {
   "cell_type": "markdown",
   "metadata": {
    "slideshow": {
     "slide_type": "subslide"
    }
   },
   "source": [
    "<div class=\"alert alert-info\">\n",
    "\n",
    "- pour modifier la couleur du pixel (50,10) avec des quantités de rouge, vert, bleu valant respectivement 100, 115 et 213:\n",
    "```python\n",
    "modifier_pixel(50, 10, r=100, v=115, b=213)\n",
    "```"
   ]
  },
  {
   "cell_type": "markdown",
   "metadata": {},
   "source": [
    "**À faire :** modifier le pixel (225,50) de l'image initiale avec les quantités de rouge, vert et bleu valant respectivement 255, 0 et 0. Afficher le résultat"
   ]
  },
  {
   "cell_type": "code",
   "execution_count": null,
   "metadata": {},
   "outputs": [],
   "source": [
    "reset_image()\n",
    "\n",
    "# à compléter\n"
   ]
  },
  {
   "cell_type": "markdown",
   "metadata": {
    "slideshow": {
     "slide_type": "slide"
    }
   },
   "source": [
    "## 3. Ligne de pixels <a name=\"ligne\">"
   ]
  },
  {
   "cell_type": "markdown",
   "metadata": {},
   "source": [
    "<div class=\"alert alert-info\">\n",
    "\n",
    "On utilise une **boucle for** pour accéder ou modifier les pixels d'une même ligne.\n",
    "\n",
    "\n",
    "**Complément de Python:** une boucle for pour faire varier *x* depuis la valeur *a* jusqu'à la valeur (juste avant) *b*:\n",
    "```python\n",
    "for x in range(a, b):\n",
    "    ...\n",
    "```"
   ]
  },
  {
   "cell_type": "markdown",
   "metadata": {
    "slideshow": {
     "slide_type": "fragment"
    }
   },
   "source": [
    "<div class=\"alert alert-info\">\n",
    "\n",
    "Exemples:\n",
    "- pour afficher les 5 premiers pixels de la ligne y=10 de l'image initiale:\n",
    "```python\n",
    "# x va varier de 0 à 4 (valeur juste avant 5)\n",
    "for x in range(0, 5):\n",
    "    rouge,vert,bleu = consulter_pixel(x, 10)\n",
    "    print(r, v, b)\n",
    "```\n",
    "- pour modifier tous les pixels de la ligne 10 avec la couleur (0,0,0):\n",
    "```python\n",
    "# x va varier de 0 à 299 (valeur juste avant 300)\n",
    "for x in range(0, 300):\n",
    "    modifier_pixel(x, 10, r=0, v=0, b=0)\n",
    "```"
   ]
  },
  {
   "cell_type": "markdown",
   "metadata": {
    "slideshow": {
     "slide_type": "subslide"
    }
   },
   "source": [
    "**À faire :** modifier tous les pixels de la ligne 20 avec la couleur (255,0,0) et afficher le résultat"
   ]
  },
  {
   "cell_type": "code",
   "execution_count": null,
   "metadata": {
    "scrolled": true
   },
   "outputs": [],
   "source": [
    "reset_image()\n",
    "# À compléter\n"
   ]
  },
  {
   "cell_type": "markdown",
   "metadata": {
    "slideshow": {
     "slide_type": "slide"
    }
   },
   "source": [
    "## 4. Traitement de l'image <a name=\"traitement\">\n",
    "    \n",
    "### a. Composantes R,V,B\n",
    "\n",
    "<div class=\"alert alert-info\">\n",
    "\n",
    "On utilise une **double boucle for** pour modifier ou accéder à tous les pixels\n",
    "\n",
    "**Complément de Python:** la double boucle peut s'écrire de la forme suivante:\n",
    "```python\n",
    "# y varie de c à d-1\n",
    "for y in range(c, d):\n",
    "    # x varie de a à b-1\n",
    "    for x in range(a, b):\n",
    "        ...\n",
    "```"
   ]
  },
  {
   "cell_type": "markdown",
   "metadata": {
    "slideshow": {
     "slide_type": "fragment"
    }
   },
   "source": [
    "<div class=\"alert alert-info\">\n",
    "\n",
    "Exemple: ne conserver que la composante rouge de tous les pixels de l'image initiale\n",
    "```python\n",
    "reset_image()\n",
    "# y varie de 0 à 199\n",
    "for y in range(0, 200):\n",
    "    # x varie de 0 à 299\n",
    "    for x in range(0, 300):\n",
    "        # récupérer les composantes du pixel x,y\n",
    "        rouge,vert,bleu = consulter_pixel(x, y)\n",
    "        # modifier la couleur en ne conservant que le rouge\n",
    "        modifier_pixel(x, y, r=rouge, v=0, b=0)\n",
    "afficher_image()\n",
    "```"
   ]
  },
  {
   "cell_type": "markdown",
   "metadata": {
    "slideshow": {
     "slide_type": "subslide"
    }
   },
   "source": [
    "**À faire :** ne conserver que la composante rouge de l'image à l'URL https://snlpdo.fr/SNT/img/ciel.jpg\n",
    "et afficher le résultat"
   ]
  },
  {
   "cell_type": "code",
   "execution_count": null,
   "metadata": {},
   "outputs": [],
   "source": [
    "# à compléter\n"
   ]
  },
  {
   "cell_type": "markdown",
   "metadata": {
    "slideshow": {
     "slide_type": "subslide"
    }
   },
   "source": [
    "**À faire :** ne conserver que la composante verte de l'image à l'URL https://snlpdo.fr/SNT/img/ciel.jpg\n",
    "et afficher le résultat"
   ]
  },
  {
   "cell_type": "code",
   "execution_count": null,
   "metadata": {},
   "outputs": [],
   "source": [
    "# à compléter\n"
   ]
  },
  {
   "cell_type": "markdown",
   "metadata": {
    "slideshow": {
     "slide_type": "slide"
    }
   },
   "source": [
    "### b. Luminance (niveau de gris)\n",
    "\n",
    "<div class=\"alert alert-info\">\n",
    "\n",
    "La luminance d'un pixel est la moyenne *pondérée* de ses composantes rouge, verte et bleue: $$L = 0.21R + 0.71V + 0.08B$$\n",
    "    \n",
    "La conversion en *niveau de gris* d'une image s'obtient en remplaçant les valeurs rouge, verte et bleue de chaque pixel par la valeur de luminance correspondante."
   ]
  },
  {
   "cell_type": "markdown",
   "metadata": {
    "slideshow": {
     "slide_type": "subslide"
    }
   },
   "source": [
    "**À faire :** convertir l'image à l'URL https://snlpdo.fr/SNT/img/ciel.jpg en niveau de gris en afficher le résultat"
   ]
  },
  {
   "cell_type": "code",
   "execution_count": null,
   "metadata": {},
   "outputs": [],
   "source": [
    "# à compléter\n"
   ]
  },
  {
   "cell_type": "markdown",
   "metadata": {
    "slideshow": {
     "slide_type": "slide"
    }
   },
   "source": [
    "### c. Négatif\n",
    "\n",
    "<div class=\"alert alert-info\">\n",
    "\n",
    "Le négatif d'un pixel correspond au *complément à 255* de ses composantes rouge, verte et bleue.\n",
    "    \n",
    "Le négatif d'une image s'obtient en remplaçant les valeurs rouge, verte et bleue de chaque pixel par leur complément à 255."
   ]
  },
  {
   "cell_type": "markdown",
   "metadata": {
    "slideshow": {
     "slide_type": "subslide"
    }
   },
   "source": [
    "**À faire :** générer le négatif de l'image à l'URL https://snlpdo.fr/SNT/img/ciel.jpg et afficher le résultat"
   ]
  },
  {
   "cell_type": "code",
   "execution_count": null,
   "metadata": {},
   "outputs": [],
   "source": [
    "# à compléter\n"
   ]
  }
 ],
 "metadata": {
  "celltoolbar": "Format de la Cellule Texte Brut",
  "kernelspec": {
   "display_name": "Python 3 (ipykernel)",
   "language": "python",
   "name": "python3"
  },
  "language_info": {
   "codemirror_mode": {
    "name": "ipython",
    "version": 3
   },
   "file_extension": ".py",
   "mimetype": "text/x-python",
   "name": "python",
   "nbconvert_exporter": "python",
   "pygments_lexer": "ipython3",
   "version": "3.10.4"
  },
  "toc": {
   "base_numbering": 1,
   "nav_menu": {},
   "number_sections": false,
   "sideBar": false,
   "skip_h1_title": false,
   "title_cell": "Table of Contents",
   "title_sidebar": "Contents",
   "toc_cell": false,
   "toc_position": {},
   "toc_section_display": true,
   "toc_window_display": false
  }
 },
 "nbformat": 4,
 "nbformat_minor": 2
}
