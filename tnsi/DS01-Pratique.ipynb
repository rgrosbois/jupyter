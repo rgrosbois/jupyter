{
 "cells": [
  {
   "cell_type": "markdown",
   "metadata": {},
   "source": [
    "# DS01: Partie pratique"
   ]
  },
  {
   "cell_type": "markdown",
   "metadata": {},
   "source": [
    "Répondre aux questions et rendre un fichier PDF (*Ctrl+p*, puis imprimer dans un fichier) \n",
    "- Penser à bien laisser apparaître toutes vos réponses avant de générer ce fichier.\n",
    "- Vous pouvez ajouter autant de cellules de code ou de texte que nécessaire"
   ]
  },
  {
   "cell_type": "markdown",
   "metadata": {},
   "source": [
    "**Sommaire**\n",
    "- [Partie 1: arbre binaire](#arbre)\n",
    "- [Partie 2: documentation et tests](#doctest)"
   ]
  },
  {
   "cell_type": "markdown",
   "metadata": {},
   "source": [
    "## Partie 1: arbre binaire <a name=\"arbre\"></a>"
   ]
  },
  {
   "cell_type": "markdown",
   "metadata": {},
   "source": [
    "**Q8:** on souhaite stocker le sous-arbre *user1/* dans un tableau `t1` (type `list`) de longueur **7**.\n",
    "\n",
    "![Sous-arbre user1](img/01-arbre_user1.png)\n",
    "\n",
    "Compléter l'instruction d'initialisation du tableau:\n",
    "*(utiliser des chaînes de caractères pour les noms de fichiers/répertoire et la valeur `None` pour les noeuds vides)*"
   ]
  },
  {
   "cell_type": "code",
   "execution_count": null,
   "metadata": {},
   "outputs": [],
   "source": [
    "t1 = "
   ]
  },
  {
   "cell_type": "markdown",
   "metadata": {},
   "source": [
    "Vérifier la longueur de `t1`:"
   ]
  },
  {
   "cell_type": "code",
   "execution_count": null,
   "metadata": {},
   "outputs": [],
   "source": [
    "len(t1)"
   ]
  },
  {
   "cell_type": "markdown",
   "metadata": {},
   "source": [
    "La fonction suivante calcule l'indice de l'enfant droit dans le tableau `t1` (ou retourne -1 si l'enfant n'existe pas):"
   ]
  },
  {
   "cell_type": "code",
   "execution_count": null,
   "metadata": {},
   "outputs": [],
   "source": [
    "def enfant_droit(i):\n",
    "    d = 2*i+1\n",
    "    if d>=len(t1):\n",
    "        return -1\n",
    "    else:\n",
    "        return d"
   ]
  },
  {
   "cell_type": "markdown",
   "metadata": {},
   "source": [
    "**Q9:** Corriger cette fonction pour que les exemples suivants donnent les bons résultats:"
   ]
  },
  {
   "cell_type": "code",
   "execution_count": null,
   "metadata": {},
   "outputs": [],
   "source": [
    "t1[enfant_droit(0)] # doit afficher 'Downloads'"
   ]
  },
  {
   "cell_type": "code",
   "execution_count": null,
   "metadata": {},
   "outputs": [],
   "source": [
    "enfant_droit(enfant_droit(0)) # doit afficher -1"
   ]
  },
  {
   "cell_type": "markdown",
   "metadata": {},
   "source": [
    "## Partie 2: documentation et tests <a name=\"doctest\">\n",
    "\n",
    "On donne le code-source de la fonction suivante:"
   ]
  },
  {
   "cell_type": "code",
   "execution_count": null,
   "metadata": {},
   "outputs": [],
   "source": [
    "import math\n",
    "\n",
    "def discriminant(a,b,c):\n",
    "    return b*b-4*a*c"
   ]
  },
  {
   "cell_type": "markdown",
   "metadata": {},
   "source": [
    "**Q10:** ajouter une *docstring* qui explique son utilité.\n",
    "\n",
    "*(tester l'affichage avec la commande ci-après)*"
   ]
  },
  {
   "cell_type": "code",
   "execution_count": null,
   "metadata": {},
   "outputs": [],
   "source": [
    "help(discriminant)"
   ]
  },
  {
   "cell_type": "markdown",
   "metadata": {},
   "source": [
    "**Q11:** ajouter 3 *doctest* pour tester respectivement chacun des cas suivants\n",
    "- discriminant négatif\n",
    "- discriminant nul\n",
    "- discriminant positif\n",
    "\n",
    "*(tester avec la commande suivante)*"
   ]
  },
  {
   "cell_type": "code",
   "execution_count": null,
   "metadata": {},
   "outputs": [],
   "source": [
    "import doctest\n",
    "doctest.run_docstring_examples(discriminant, globals())"
   ]
  }
 ],
 "metadata": {
  "kernelspec": {
   "display_name": "Python 3",
   "language": "python",
   "name": "python3"
  },
  "language_info": {
   "codemirror_mode": {
    "name": "ipython",
    "version": 3
   },
   "file_extension": ".py",
   "mimetype": "text/x-python",
   "name": "python",
   "nbconvert_exporter": "python",
   "pygments_lexer": "ipython3",
   "version": "3.7.9"
  }
 },
 "nbformat": 4,
 "nbformat_minor": 4
}
