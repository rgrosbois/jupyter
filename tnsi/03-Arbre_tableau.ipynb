{
 "cells": [
  {
   "cell_type": "markdown",
   "metadata": {},
   "source": [
    "# Implémentation d'arbre dans un tableau"
   ]
  },
  {
   "cell_type": "markdown",
   "metadata": {},
   "source": [
    "Rappel: Les éléments d'un tableau sont contigus dans la mémoire et repérés par un indice (entre crochets).\n",
    "\n",
    "En Python, on utilise généralement le type `list`:\n",
    "\n",
    "```python\n",
    "tableau = ['lundi', 'mardi', 'mercredi', 'jeudi', 'vendredi', 'samedi', 'dimanche']\n",
    "print(len(tableau), tableau[1])\n",
    "```"
   ]
  },
  {
   "cell_type": "markdown",
   "metadata": {},
   "source": [
    "- [I. Principe](#principe)\n",
    "    - [1. Fonctions de déplacement](#deplacement)\n",
    "    - [2. Docstring d'une fonction](#docstring)\n",
    "    - [3. Doctest d'une fonction](#doctest)\n",
    "    - [4. Exemple d'un arbre d'ascendance familiale](#ascendance)\n",
    "- [II. Approche OO](#OO)"
   ]
  },
  {
   "cell_type": "markdown",
   "metadata": {},
   "source": [
    "## I. Principe<a name=\"principe\"></a>"
   ]
  },
  {
   "cell_type": "markdown",
   "metadata": {},
   "source": [
    "Les nœuds de l’arbre sont placés successivement dans le tableau selon le **parcours en largeur** : \n",
    "- niveau par niveau (depuis la racine vers les feuilles), \n",
    "- chaque niveau est lu de la gauche vers la droite.\n",
    "\n",
    "*Remarques:*\n",
    "- *La racine se trouve donc à l'indice 0 et le dernier élément correspond à la feuille la plus à droite dans le dernier niveau (si elle existe).*\n",
    "- *certains éléments du tableau peuvent être inutilisés (`None` en Python) si l’arbre n’est pas complet.*"
   ]
  },
  {
   "cell_type": "markdown",
   "metadata": {},
   "source": [
    "Écrire les instructions Python pour stocker les arbres suivants respectivement dans des tableaux t1 et t2:\n",
    "![Arbres pour t1 et t2](img/03-tableau_arbre_question.png)"
   ]
  },
  {
   "cell_type": "code",
   "execution_count": null,
   "metadata": {},
   "outputs": [],
   "source": [
    "t1 = \n",
    "t2 = "
   ]
  },
  {
   "cell_type": "markdown",
   "metadata": {},
   "source": [
    "Vérifier que les 2 tableaux ont bien la même longueur"
   ]
  },
  {
   "cell_type": "code",
   "execution_count": null,
   "metadata": {},
   "outputs": [],
   "source": [
    "len(t1) == len(t2)"
   ]
  },
  {
   "cell_type": "markdown",
   "metadata": {},
   "source": [
    "### 1. Fonctions de déplacement <a name=\"deplacement\"></a>\n",
    "\n",
    "Écrire 3 fonctions qui permettent de se déplacer dans un arbre `arbre` donné (les noeuds sont identifiés par leurs indices):\n",
    "- `left`: retourne l'indice de l'enfant gauche du noeud d'indice `i` (-1 si la fonction est appelée pour une feuille).\n",
    "- `right`: retourne l'indice de l'enfant droit du noeud d'indice `i` (-1 si la fonction est appelée pour une feuille).\n",
    "- `up`: retourne l'indice du parent (-1 si la fonction est appelée pour la racine).\n",
    "\n",
    "Compléter les fonctions ci-après (ajouter les paramètres nécessaires)."
   ]
  },
  {
   "cell_type": "code",
   "execution_count": null,
   "metadata": {},
   "outputs": [],
   "source": [
    "def left():\n",
    "    pass  "
   ]
  },
  {
   "cell_type": "markdown",
   "metadata": {},
   "source": [
    "Tests significatifs sur la fonction `left()`. Appeler la fonction pour:\n",
    "- afficher l'indice de l'enfant gauche de 0 pour t1 &rarr; 1\n",
    "- afficher la valeur de l'enfant gauche de 0 pour t1 &rarr; 'B'\n",
    "- afficher l'indice de l'enfant gauche de 5 pour t1 &rarr; -1\n",
    "- afficher l'indice de l'enfant gauche de 1 pour t2 &rarr; -1\n",
    "\n",
    "(corriger la fonction si vous n'obtenez pas les bons résultats)"
   ]
  },
  {
   "cell_type": "code",
   "execution_count": null,
   "metadata": {},
   "outputs": [],
   "source": []
  },
  {
   "cell_type": "code",
   "execution_count": null,
   "metadata": {},
   "outputs": [],
   "source": [
    "def right():\n",
    "    pass"
   ]
  },
  {
   "cell_type": "markdown",
   "metadata": {},
   "source": [
    "Tests significatifs sur la fonction `right()`:"
   ]
  },
  {
   "cell_type": "code",
   "execution_count": null,
   "metadata": {},
   "outputs": [],
   "source": []
  },
  {
   "cell_type": "code",
   "execution_count": null,
   "metadata": {},
   "outputs": [],
   "source": [
    "def up():\n",
    "    pass"
   ]
  },
  {
   "cell_type": "markdown",
   "metadata": {},
   "source": [
    "Tests significatifs sur la fonction `up()`:"
   ]
  },
  {
   "cell_type": "code",
   "execution_count": null,
   "metadata": {},
   "outputs": [],
   "source": []
  },
  {
   "cell_type": "markdown",
   "metadata": {},
   "source": [
    "Vérifier le fonctionnement de ces fonctions sur les exemples suivants:\n",
    "- enfant droit de l'enfant gauche de la racine de t1\n",
    "- enfant droit de l'enfant gauche de la racine de t2"
   ]
  },
  {
   "cell_type": "code",
   "execution_count": null,
   "metadata": {},
   "outputs": [],
   "source": [
    "enfant_gauche = left(0, t1)\n",
    "if enfant_gauche != -1:\n",
    "    enfant_droit = right(enfant_gauche, t1)\n",
    "    if enfant_droit != -1:\n",
    "        print(t1[enfant_droit])\n",
    "    else:\n",
    "        print(\"Pas d'enfant droit pour l'enfant gauche\")\n",
    "else:\n",
    "    print(\"Pas d'enfant gauche pour la racine\")"
   ]
  },
  {
   "cell_type": "code",
   "execution_count": null,
   "metadata": {},
   "outputs": [],
   "source": [
    "enfant_gauche = left(0, t2)\n",
    "if enfant_gauche != -1:\n",
    "    enfant_droit = right(enfant_gauche, t2)\n",
    "    if enfant_droit != -1:\n",
    "        print(t2[enfant_droit])\n",
    "    else:\n",
    "        print(\"Pas d'enfant droit pour l'enfant gauche\")\n",
    "else:\n",
    "    print(\"Pas d'enfant gauche pour la racine\")"
   ]
  },
  {
   "cell_type": "markdown",
   "metadata": {},
   "source": [
    "### 2. Docstring d'une fonction <a name=\"docstring\"></a>\n",
    "\n",
    "La *docstring* d'une fonction en Python est une chaîne de caractères sur plusieurs lignes spécifiée juste après la déclaration (mot clé `def`) et la première ligne d'instruction de la fonction. Consuler [cette page](https://www.python.org/dev/peps/pep-0257/) pour plus d'information.\n",
    "\n",
    "Exemple:"
   ]
  },
  {
   "cell_type": "code",
   "execution_count": null,
   "metadata": {},
   "outputs": [],
   "source": [
    "def ma_fonction(a,b):\n",
    "    \"\"\"\n",
    "    Retourne la somme de a et b.\n",
    "    \"\"\"\n",
    "    return a+b"
   ]
  },
  {
   "cell_type": "markdown",
   "metadata": {},
   "source": [
    "Cette chaîne s'affiche, entre autre, lorsqu'on demande de l'aide sur la fonction:"
   ]
  },
  {
   "cell_type": "code",
   "execution_count": null,
   "metadata": {},
   "outputs": [],
   "source": [
    "help(ma_fonction)"
   ]
  },
  {
   "cell_type": "markdown",
   "metadata": {},
   "source": [
    "Recopier les 3 fonctions `right`, `left` et `up` précédentes en ajoutant des *docstring*"
   ]
  },
  {
   "cell_type": "code",
   "execution_count": null,
   "metadata": {},
   "outputs": [],
   "source": [
    "def left():\n",
    "    pass\n",
    "\n",
    "def right():\n",
    "    pass\n",
    "\n",
    "def up():\n",
    "    pass"
   ]
  },
  {
   "cell_type": "markdown",
   "metadata": {},
   "source": [
    "Afficher l'aide pour vérifier le fonctionnement:"
   ]
  },
  {
   "cell_type": "code",
   "execution_count": null,
   "metadata": {},
   "outputs": [],
   "source": [
    "help(left)"
   ]
  },
  {
   "cell_type": "code",
   "execution_count": null,
   "metadata": {},
   "outputs": [],
   "source": [
    "help(right)"
   ]
  },
  {
   "cell_type": "code",
   "execution_count": null,
   "metadata": {},
   "outputs": [],
   "source": [
    "help(up)"
   ]
  },
  {
   "cell_type": "markdown",
   "metadata": {},
   "source": [
    "### 3. Doctest d'une fonction <a name=\"doctest\"></a>\n",
    "\n",
    "\n",
    "Ce module Python permet de vérifier le bon fonctionnement d'une fonction en spécifiant un exemple (avec `>>>`) et son résultat (sur la ligne suivante) dans la *docstring*. Consulter [cette page](https://docs.python.org/3/library/doctest.html) pour plus d'information.\n",
    "\n",
    "Par exemple:"
   ]
  },
  {
   "cell_type": "code",
   "execution_count": null,
   "metadata": {},
   "outputs": [],
   "source": [
    "def ma_fonction(a,b):\n",
    "    \"\"\"\n",
    "    Retourne la somme de a et b.\n",
    "    \n",
    "    >>> ma_fonction(1,4)\n",
    "    6\n",
    "    \"\"\"\n",
    "    return a+b"
   ]
  },
  {
   "cell_type": "markdown",
   "metadata": {},
   "source": [
    "Pour effectuer le test (aucun résultat ne s'affiche si le test s'exécute sans erreur):"
   ]
  },
  {
   "cell_type": "code",
   "execution_count": null,
   "metadata": {},
   "outputs": [],
   "source": [
    "import doctest\n",
    "doctest.run_docstring_examples(ma_fonction, globals())"
   ]
  },
  {
   "cell_type": "markdown",
   "metadata": {},
   "source": [
    "Corriger le résultat du test dans la docstring pour que la cellule précédente s'exécute sans afficher de message d'erreur."
   ]
  },
  {
   "cell_type": "markdown",
   "metadata": {},
   "source": [
    "Ajouter un ou plusieurs test dans les 3 fonctions `right`, `left` et `up` et vérifier le bon fonctionnement:"
   ]
  },
  {
   "cell_type": "code",
   "execution_count": null,
   "metadata": {},
   "outputs": [],
   "source": [
    "def left():\n",
    "    pass\n",
    "\n",
    "def right():\n",
    "    pass\n",
    "\n",
    "def up():\n",
    "    pass"
   ]
  },
  {
   "cell_type": "code",
   "execution_count": null,
   "metadata": {},
   "outputs": [],
   "source": [
    "doctest.run_docstring_examples(left, globals())\n",
    "doctest.run_docstring_examples(right, globals())\n",
    "doctest.run_docstring_examples(up, globals())"
   ]
  },
  {
   "cell_type": "markdown",
   "metadata": {},
   "source": [
    "*Note: si toutes les fonctions sont placés dans un fichier Python `monfichier.py`, il est possible d'exécuter tous les tests de toutes les fonctions en une seule instruction (dans le shell):*\n",
    "```console\n",
    "$ python -m doctest -v monfichier.py\n",
    "```"
   ]
  },
  {
   "cell_type": "markdown",
   "metadata": {},
   "source": [
    "### 4. Exemple d'un arbre d'ascendance familiale <a name=\"ascendance\"></a>"
   ]
  },
  {
   "cell_type": "code",
   "execution_count": null,
   "metadata": {},
   "outputs": [],
   "source": [
    "famille = ['Alice', 'Béatrice', 'Christian', 'Delphine', 'Éric', 'Françoise', 'Gabriel', 'Hélène', 'Ivan', 'Julie', 'Kévin', 'Lucie', 'Marc', 'Noémie', 'Otto']"
   ]
  },
  {
   "cell_type": "markdown",
   "metadata": {},
   "source": [
    "**Attention:** dans l'arbre d'ascendance, les *enfants droit et gauche* (=terminologie des arbres en informatique) correspondent respectivement à la mère et ou père de la personne (=terminologie de la généalogie).\n",
    "\n",
    "Utiliser les fonctions précédentes pour répondre aux questions suivantes:\n",
    "- Chercher le grand-père maternel d'Alice"
   ]
  },
  {
   "cell_type": "code",
   "execution_count": null,
   "metadata": {},
   "outputs": [],
   "source": []
  },
  {
   "cell_type": "markdown",
   "metadata": {},
   "source": [
    "- Lister les ascendants féminins de Béatrice (créer une fonction pour lister depuis n'importe quel membre)"
   ]
  },
  {
   "cell_type": "code",
   "execution_count": null,
   "metadata": {},
   "outputs": [],
   "source": []
  },
  {
   "cell_type": "markdown",
   "metadata": {},
   "source": [
    "- Identifier si Ivan est un enfant de Christian (créer une fonction pour tester 2 membres quelconques)"
   ]
  },
  {
   "cell_type": "code",
   "execution_count": null,
   "metadata": {},
   "outputs": [],
   "source": []
  },
  {
   "cell_type": "markdown",
   "metadata": {},
   "source": [
    "- Identifier si Delphine et Lucie ont un lien de parenté direct (créer une fonction pour 2 membres quelconques)"
   ]
  },
  {
   "cell_type": "code",
   "execution_count": null,
   "metadata": {},
   "outputs": [],
   "source": []
  },
  {
   "cell_type": "markdown",
   "metadata": {},
   "source": [
    "- Compter le nombre de générations séparant Noémie de Christian (créer une fonction pour 2 membres quelconques)"
   ]
  },
  {
   "cell_type": "code",
   "execution_count": null,
   "metadata": {},
   "outputs": [],
   "source": []
  },
  {
   "cell_type": "markdown",
   "metadata": {},
   "source": [
    "## II. Approche OO (Orientée Objet) <a name=\"OO\"></a>\n",
    "\n",
    "**Principe:** Le tableau et les fonctions de déplacement sont placées dans un même objet.\n",
    "\n",
    "![Classe arbre](img/03-classe_arbre.png)\n",
    "\n",
    "Écrire une classe Arbre selon cette nouvelle approche et reprendre les exercices précédents: \n",
    "- ajouter les méthodes `__init__()` (constructeur) et `__repr__()` (voire `__str()__`),\n",
    "- ajouter les attributs et méthodes qui vous semblent nécessaires,\n",
    "- réfléchir à l'encapsulation,\n",
    "- documenter et tester la classe et ses méthodes"
   ]
  },
  {
   "cell_type": "code",
   "execution_count": null,
   "metadata": {},
   "outputs": [],
   "source": []
  }
 ],
 "metadata": {
  "kernelspec": {
   "display_name": "Python 3",
   "language": "python",
   "name": "python3"
  },
  "language_info": {
   "codemirror_mode": {
    "name": "ipython",
    "version": 3
   },
   "file_extension": ".py",
   "mimetype": "text/x-python",
   "name": "python",
   "nbconvert_exporter": "python",
   "pygments_lexer": "ipython3",
   "version": "3.7.9"
  }
 },
 "nbformat": 4,
 "nbformat_minor": 4
}
