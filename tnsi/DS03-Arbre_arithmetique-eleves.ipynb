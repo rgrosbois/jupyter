{
 "cells": [
  {
   "cell_type": "markdown",
   "id": "f0ea18d4",
   "metadata": {},
   "source": [
    "# Arbre arithmétique"
   ]
  },
  {
   "cell_type": "code",
   "execution_count": null,
   "id": "ea8fa210",
   "metadata": {},
   "outputs": [],
   "source": [
    "from __future__ import annotations"
   ]
  },
  {
   "cell_type": "markdown",
   "id": "18ffd469",
   "metadata": {},
   "source": [
    "**Q1 :** compléter l'implémentation de la classe `Pile` ci-après (et vérifier son fonctionnement sur des exemples significatifs **&rarr; faire valider par le professeur**)"
   ]
  },
  {
   "cell_type": "code",
   "execution_count": null,
   "id": "93f550be",
   "metadata": {},
   "outputs": [],
   "source": [
    "class Pile:\n",
    "    def __init__(self): # Pile initialement vide\n",
    "        self.__data = []\n",
    "        \n",
    "    def empiler(self, element):\n",
    "        # À compléter\n",
    "        pass\n",
    "        \n",
    "    def depiler(self):\n",
    "        # À compléter\n",
    "        pass"
   ]
  },
  {
   "cell_type": "code",
   "execution_count": null,
   "id": "5c079a7e",
   "metadata": {},
   "outputs": [],
   "source": []
  },
  {
   "cell_type": "markdown",
   "id": "20dbaf68",
   "metadata": {},
   "source": [
    "On donne une implémentation d'arbre arithmétique sous la forme de 2 classes: `Noeud` et `Arbre` et l'initialisation de l'arbre de la partie théorique pour la variable `a`.\n",
    "\n",
    "- **Q2**: compléter la méthode **récursive** `evaluer()` dans la classe `Noeud` et vérifier que `a.evaluer()` donne `9.5`\n",
    "\n",
    "- **Q3**: implémenter l'algorithme de parcours de la partie théorique dans la méthode `parcours_parenthese` de la classe `Noeud` et vérifier que `a.affichage_parcours_parenthese()` donne:\n",
    "\n",
    "    `(  ( 3.0 x  ( 5.0 - 2.0  )  ) +  ( 4.0 /  ( 1.0 + 7.0  )  )  ) ` \n",
    "    \n",
    "    (adapter le code si nécessaire).\n",
    "\n",
    "    On rappelle l'utilisation de la fonction `print` pour afficher du texte sans retour à la ligne:\n",
    "    ```python\n",
    "    print(\"Du texte\", end='')\n",
    "    ```"
   ]
  },
  {
   "cell_type": "code",
   "execution_count": null,
   "id": "c1aa3d35",
   "metadata": {},
   "outputs": [],
   "source": [
    "class Noeud:\n",
    "    \"\"\"\n",
    "    Noeud pour arbre arithmérique avec des valeur numériques de type float et les 4\n",
    "    opérations addition, soustraction, multiplication et division.\n",
    "    \"\"\"\n",
    "    def __init__(self, element, gauche:Noeud=None, droite:Noeud=None):\n",
    "        \"\"\"\n",
    "        element est de type :\n",
    "        - str pour un opérateur (le noeud a alors obligatoirement 2 enfants)\n",
    "        - float pour une valeur numérique (le noeud n'a aucun enfant).\n",
    "        \"\"\"\n",
    "        \n",
    "        self.element = element # valeur ou opérateur\n",
    "        self.gauche = gauche\n",
    "        self.droite = droite\n",
    "        \n",
    "    def est_operateur(self) -> bool:\n",
    "        return type(self.element) is str\n",
    "    \n",
    "    def evaluer(self) -> float :\n",
    "        \"\"\"\n",
    "        Évaluation récursive de la valeur d'un noeud.\n",
    "        \"\"\"\n",
    "        if self.est_operateur():\n",
    "            # Récupérer les évaluations les noeuds gauche et droit\n",
    "            val_gauche = self.gauche.evaluer()\n",
    "            val_droite = self.droite.evaluer()\n",
    "            \n",
    "            # Éffectuer et renvoyer le résultat de l'opération appropriée\n",
    "            ## À compléter\n",
    "            pass\n",
    "            \n",
    "        else: # Valeur numérique\n",
    "            return self.element\n",
    "        \n",
    "    def __repr__(self):\n",
    "        return str(self.element)\n",
    "    \n",
    "    def parcours_parenthese(self):\n",
    "        # À compléter à l'aide de l'algorithme\n",
    "        # de la partie théorique\n",
    "        pass\n",
    "        \n",
    "class Arbre:\n",
    "    def __init__(self, parcours_suffixe: str):\n",
    "        \"\"\"\n",
    "        Construction de l'arbre depuis une chaîne indiquant son contenu selon\n",
    "        le parcours postfixe (chaque élément est séparé par un espace)\n",
    "        \"\"\"\n",
    "        token = parcours_suffixe.split(\" \")\n",
    "        p = Pile()\n",
    "        for t in token:\n",
    "            if t in \"+-/x\": # opérateur\n",
    "                droite = p.depiler()\n",
    "                gauche = p.depiler()\n",
    "                noeud = Noeud(t, gauche, droite )\n",
    "                p.empiler(noeud)\n",
    "            else: # valeur numérique\n",
    "                p.empiler(Noeud(float(t)))\n",
    "        self.racine = p.depiler()\n",
    "        \n",
    "    def evaluer(self):\n",
    "        return self.racine.evaluer()\n",
    "    \n",
    "    def affichage_parcours_parenthese(self): \n",
    "        \"\"\"\n",
    "        Affiche le contenu de l'arbre sur une seule ligne selon l'algorithme fourni\n",
    "        dans la partie théorique.\n",
    "        \"\"\"\n",
    "        self.racine.parcours_parenthese()        \n",
    "\n",
    "a = Arbre(\"3 5 2 - x 4 1 7 + / +\")"
   ]
  },
  {
   "cell_type": "code",
   "execution_count": null,
   "id": "4efbd822",
   "metadata": {},
   "outputs": [],
   "source": [
    "a.evaluer()"
   ]
  },
  {
   "cell_type": "code",
   "execution_count": null,
   "id": "89e2c751",
   "metadata": {},
   "outputs": [],
   "source": [
    "a.affichage_parcours_parenthese()"
   ]
  },
  {
   "cell_type": "code",
   "execution_count": null,
   "id": "9afebba1",
   "metadata": {},
   "outputs": [],
   "source": []
  }
 ],
 "metadata": {
  "kernelspec": {
   "display_name": "Python 3",
   "language": "python",
   "name": "python3"
  },
  "language_info": {
   "codemirror_mode": {
    "name": "ipython",
    "version": 3
   },
   "file_extension": ".py",
   "mimetype": "text/x-python",
   "name": "python",
   "nbconvert_exporter": "python",
   "pygments_lexer": "ipython3",
   "version": "3.9.7"
  }
 },
 "nbformat": 4,
 "nbformat_minor": 5
}
