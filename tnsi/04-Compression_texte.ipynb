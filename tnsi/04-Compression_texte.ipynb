{
 "cells": [
  {
   "cell_type": "markdown",
   "metadata": {},
   "source": [
    "# Compression de texte\n",
    "\n",
    "L'idée est de remplacer les caractères par des codes de longueur variable (on parle donc de *codage*). On utilisera:\n",
    "- des codes courts pour les caractères couramment utilisés dans le texte (ex: `e`, `a`, ....).\n",
    "- des codes longs pour les caractères peu utilisés (ex: `z`, `w`...)."
   ]
  },
  {
   "cell_type": "markdown",
   "metadata": {},
   "source": [
    "Sommaire:\n",
    "- [1. Fréquences d'occurrence](#freq)\n",
    "- [2. Codage des caractères](#codage)\n",
    "    - [a. Arbre de Huffman](#arbre)\n",
    "    - [b. Table de correspondance](#lut)\n",
    "    - [c. Compression du texte](#compression)\n",
    "- [3. Projet Python](#projet)"
   ]
  },
  {
   "cell_type": "markdown",
   "metadata": {},
   "source": [
    "## 1. Fréquences d'occurrence <a id=\"freq\"></a>"
   ]
  },
  {
   "cell_type": "markdown",
   "metadata": {},
   "source": [
    "Pour mettre en place ce codage, il est essentiel de connaître les fréquences d'occurrence de chaque caractère. Nous allons travailler, dans un premier temps, sur le texte suivant:"
   ]
  },
  {
   "cell_type": "code",
   "execution_count": null,
   "metadata": {},
   "outputs": [],
   "source": [
    "texte = \"\"\"Un jour, Cunégonde, en se promenant\n",
    "   auprès du château, dans le petit bois qu'on appelait\n",
    "   parc, vit entre des broussailles le docteur Pangloss qui donnait\n",
    "   une leçon de physique expérimentale à la\n",
    "   femme de chambre de sa mère, petite brune très jolie\n",
    "   et très docile. Comme Mlle Cunégonde avait beaucoup\n",
    "   de dispositions pour les sciences, elle observa, sans souffler,\n",
    "   les expériences réitérées dont elle\n",
    "   fut témoin; elle vit clairement la raison suffisante du\n",
    "   docteur, les effets et les causes, et s'en retourna tout\n",
    "   agitée, toute pensive, toute remplie du désir\n",
    "   d'être savante, songeant qu'elle pourrait bien être la\n",
    "   raison suffisante du jeune Candide, qui pouvait aussi être\n",
    "   la sienne.\"\"\""
   ]
  },
  {
   "cell_type": "markdown",
   "metadata": {},
   "source": [
    "**Questionnement:** *(utiliser des instructions Python, en ajoutant des cellules si nécessaire, pour répondre aux questions)*\n",
    "- Quel est le nombre `nb_tot` de caractères constituant ce texte ?"
   ]
  },
  {
   "cell_type": "code",
   "execution_count": 1,
   "metadata": {},
   "outputs": [],
   "source": []
  },
  {
   "cell_type": "markdown",
   "metadata": {},
   "source": [
    "- Quel type de codage est actuellement utilisé pour ces caractères ?"
   ]
  },
  {
   "cell_type": "markdown",
   "metadata": {},
   "source": []
  },
  {
   "cell_type": "markdown",
   "metadata": {},
   "source": [
    "*Pour améliorer les performances de compression, nous n'allons créer des codes que pour les caractères qui apparaissent dans le texte.*"
   ]
  },
  {
   "cell_type": "markdown",
   "metadata": {},
   "source": [
    "- Est-il préférable de stocker la liste des caractères dans un *tableau* (type `list` en Python) ou une structure chaînée ?"
   ]
  },
  {
   "cell_type": "markdown",
   "metadata": {},
   "source": []
  },
  {
   "cell_type": "markdown",
   "metadata": {},
   "source": [
    "- De combien de caractères différents `nb_carac_diff` est constitué ce texte ? Stocker ces caractères dans une liste `liste_carac`\n",
    "\n",
    "*(recopier au préalable la classe `Liste` du document ressource et identifier les méthodes utiles pour cette tâche)*"
   ]
  },
  {
   "cell_type": "code",
   "execution_count": null,
   "metadata": {},
   "outputs": [],
   "source": []
  },
  {
   "cell_type": "markdown",
   "metadata": {},
   "source": [
    "- Créer et compléter une nouvelle liste `liste_occurrences` où chaque élément est le nombre d'occurrences du caractère correspondant dans `liste_carac`. *(vérifier que la somme de tous ces nombres vaut `nb_tot`)*"
   ]
  },
  {
   "cell_type": "code",
   "execution_count": null,
   "metadata": {},
   "outputs": [],
   "source": []
  },
  {
   "cell_type": "markdown",
   "metadata": {},
   "source": [
    "- On définit la fréquence d'occurrence d'un caractère *c* par $f(c)=\\frac{\\text{nb_occurrance(c)}}{\\text{nb_tot}}$. Créer un tableau `freq` (type `list` de Python) où chaque élément est un p-uplet au format `(c, f(c))`"
   ]
  },
  {
   "cell_type": "code",
   "execution_count": null,
   "metadata": {},
   "outputs": [],
   "source": []
  },
  {
   "cell_type": "markdown",
   "metadata": {},
   "source": [
    "- Trier cette liste (avec la méthode de votre choix) selon les fréquences d'occurrence décroissantes. Quels sont les 5 caractères qui apparaissent le plus souvent ?"
   ]
  },
  {
   "cell_type": "code",
   "execution_count": null,
   "metadata": {},
   "outputs": [],
   "source": []
  },
  {
   "cell_type": "markdown",
   "metadata": {},
   "source": [
    "## 2. Codage des caractères <a id=\"codage\"></a>"
   ]
  },
  {
   "cell_type": "markdown",
   "metadata": {},
   "source": [
    "Le code de chaque caractère correspond à son chemin absolu dans l'arbre ci-après. Par convention, on lit un chemin en ajoutant :\n",
    "- `0` si l'on descend vers l'enfant gauche.\n",
    "- `1` si l'on descend vers l'enfant droite.\n",
    "\n",
    "![Arbre de Huffman ](img/04-ex_arbre_huffman.png)"
   ]
  },
  {
   "cell_type": "markdown",
   "metadata": {},
   "source": [
    "Exemples:\n",
    "- Le caractère `'e'` est remplacé par le code `100` (=3 bits).\n",
    "- Le caractère `'a'` est remplacé par le code `11111` (=5 bits)\n",
    "\n",
    "**Questionnement:**\n",
    "- Comment appelle-t-on les n&oelig;uds où se trouvent les caractères dans cet arbre ?"
   ]
  },
  {
   "cell_type": "markdown",
   "metadata": {},
   "source": []
  },
  {
   "cell_type": "markdown",
   "metadata": {},
   "source": [
    "- Quel code remplace la portion de texte `Un jour`? Combien de bits fait ce code ?"
   ]
  },
  {
   "cell_type": "markdown",
   "metadata": {},
   "source": []
  },
  {
   "cell_type": "markdown",
   "metadata": {},
   "source": [
    "### a. Construction de l'arbre <a id=\"arbre\"></a>\n",
    "\n",
    "Pour compresser le plus possible, il faut que les caractères les plus (resp. moins) utilisés soient situés sur les feuilles les plus proches (resp. éloignées) de la racine.\n",
    "\n",
    "L'arbre de Huffman peut s'obtenir en appliquant l'algorithme suivant:\n",
    "\n",
    "<div class=\"alert alert-block alert-danger\">\n",
    "    \n",
    "1. On créé un nouvel arbre (un seul n&oelig;ud) par caractère: la racine vaut `(c, f(c))`.\n",
    "\n",
    "2. On fusionne les 2 arbres de fréquences minimales `f(c1)` et `f(c2)` en un seul nouvel arbre dont:\n",
    "    - les enfants sont les 2 arbres précédents\n",
    "    - la racine a pour fréquence `f(c1)+f(c2)`.\n",
    "\n",
    "3. On répète l'opération 2 jusqu'à n'avoir plus qu'un seul arbre."
   ]
  },
  {
   "cell_type": "markdown",
   "metadata": {},
   "source": [
    "*(Recopier au préalable la classe `Arbre` fournie dans le document ressources et identifier les méthodes utiles pour cette partie)*\n",
    "\n",
    "**Questionnement :**\n",
    "- **Étape 1** : remplir une liste d'arbres à 1 n&oelig;ud pour chaque caractère (la valeur de chaque racine est un *tuple* au format `(c, f(c))`)"
   ]
  },
  {
   "cell_type": "code",
   "execution_count": null,
   "metadata": {},
   "outputs": [],
   "source": []
  },
  {
   "cell_type": "markdown",
   "metadata": {},
   "source": [
    "- **Étape 2a** : Écrire la fonction `min_idx` qui retourne la position du minimum d'une `Liste` (attention: les valeurs de cette liste sont des *tuples* et le tri se fait sur le 2ème élément du tuple=fréquence d'occurrence)"
   ]
  },
  {
   "cell_type": "code",
   "execution_count": 1,
   "metadata": {},
   "outputs": [],
   "source": [
    "def min_idx(liste):\n",
    "    pass"
   ]
  },
  {
   "cell_type": "markdown",
   "metadata": {},
   "source": [
    "- **Étapes 2b et 3** : fusionner tous les arbres de cette liste selon l'algorithme de Huffman"
   ]
  },
  {
   "cell_type": "code",
   "execution_count": null,
   "metadata": {},
   "outputs": [],
   "source": []
  },
  {
   "cell_type": "markdown",
   "metadata": {},
   "source": [
    "Que valent la hauteur et la taille de l'arbre obtenu ?"
   ]
  },
  {
   "cell_type": "markdown",
   "metadata": {},
   "source": [
    "### b. Table de correspondance <a id=\"lut\"></a>\n",
    "\n",
    "Pour accélérer la phase de codage, on va remplir un *dictionnaire* Python `lut` où les **clés** sont les caractères du texte et les **valeurs** sont les codes de Huffman correspondant.\n",
    "\n",
    "Exemple: `lut['e']='100'`"
   ]
  },
  {
   "cell_type": "markdown",
   "metadata": {},
   "source": [
    "**Questionnement :**\n",
    "\n",
    "- Quel type de parcours d'arbre permet d'identifier le chemin de chaque caractère ?"
   ]
  },
  {
   "cell_type": "markdown",
   "metadata": {},
   "source": []
  },
  {
   "cell_type": "markdown",
   "metadata": {},
   "source": [
    "- Mettre en oeuvre ce parcours pour remplir la table de correspondance `lut`:"
   ]
  },
  {
   "cell_type": "code",
   "execution_count": null,
   "metadata": {},
   "outputs": [],
   "source": []
  },
  {
   "cell_type": "markdown",
   "metadata": {},
   "source": [
    "### c. Compression du texte <a id=\"compression\"></a>\n",
    "\n",
    "- Utiliser la table de correspondance précédente pour générer le code correspondant au texte fourni au début de ce document"
   ]
  },
  {
   "cell_type": "code",
   "execution_count": null,
   "metadata": {},
   "outputs": [],
   "source": []
  },
  {
   "cell_type": "markdown",
   "metadata": {},
   "source": [
    "- Quel taux de compression obtient-t-on ? (on suppose que le code obtenu est sauvegardé en binaire)"
   ]
  },
  {
   "cell_type": "code",
   "execution_count": null,
   "metadata": {},
   "outputs": [],
   "source": []
  },
  {
   "cell_type": "markdown",
   "metadata": {},
   "source": [
    "## 3. Projet Python \n",
    "\n",
    "(pour 1 binôme)\n",
    "\n",
    "**Élève 1 :**\n",
    "\n",
    "Mettre au point un codeur qui:\n",
    "    - créé l'arbre de Huffman d'un texte quelconque.\n",
    "    - génère un fichier avec:\n",
    "        - le code obtenu pour ce texte (au format binaire)\n",
    "        - Le contenu de l'arbre (indispensable pour le décodeur)\n",
    "    - affiche le taux de compression final.\n",
    "        \n",
    "**Éleve 2 :**\n",
    "\n",
    "Mettre au point un décodeur qui:\n",
    "    - récupère l'arbre utilisé par le codeur.\n",
    "    - décompresse le texte.\n",
    "    - vérifie qu'il n'y a pas eu de perte."
   ]
  }
 ],
 "metadata": {
  "kernelspec": {
   "display_name": "Python 3",
   "language": "python",
   "name": "python3"
  },
  "language_info": {
   "codemirror_mode": {
    "name": "ipython",
    "version": 3
   },
   "file_extension": ".py",
   "mimetype": "text/x-python",
   "name": "python",
   "nbconvert_exporter": "python",
   "pygments_lexer": "ipython3",
   "version": "3.7.9"
  }
 },
 "nbformat": 4,
 "nbformat_minor": 4
}
