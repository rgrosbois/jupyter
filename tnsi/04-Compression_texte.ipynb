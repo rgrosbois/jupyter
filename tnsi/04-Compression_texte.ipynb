{
 "cells": [
  {
   "cell_type": "markdown",
   "metadata": {},
   "source": [
    "# Compression de texte\n",
    "\n",
    "L'idée est de remplacer les caractères par des codes de longueur variable (on parle donc de *codage*). On utilisera:\n",
    "- des codes courts pour les caractères couramment utilisés dans le texte (ex: `e`, `a`, ....).\n",
    "- des codes longs pour les caractères peu utilisés (ex: `z`, `w`...)."
   ]
  },
  {
   "cell_type": "markdown",
   "metadata": {},
   "source": [
    "Sommaire:\n",
    "- [1. Fréquences d'occurrence](#freq)\n",
    "- [2. Codage des caractères](#codage)"
   ]
  },
  {
   "cell_type": "markdown",
   "metadata": {},
   "source": [
    "## 1. Fréquences d'occurrence <a name=\"freq\"></a>"
   ]
  },
  {
   "cell_type": "markdown",
   "metadata": {},
   "source": [
    "Pour mettre en place ce codage, il est essentiel de connaître les fréquences d'occurrence de chaque caractère. Nous allons travailler, dans un premier temps, sur le texte suivant:"
   ]
  },
  {
   "cell_type": "code",
   "execution_count": null,
   "metadata": {},
   "outputs": [],
   "source": [
    "texte = \"\"\"Un jour, Cunégonde, en se promenant\n",
    "   auprès du château, dans le petit bois qu'on appelait\n",
    "   parc, vit entre des broussailles le docteur Pangloss qui donnait\n",
    "   une leçon de physique expérimentale à la\n",
    "   femme de chambre de sa mère, petite brune très jolie\n",
    "   et très docile. Comme Mlle Cunégonde avait beaucoup\n",
    "   de dispositions pour les sciences, elle observa, sans souffler,\n",
    "   les expériences réitérées dont elle\n",
    "   fut témoin; elle vit clairement la raison suffisante du\n",
    "   docteur, les effets et les causes, et s'en retourna tout\n",
    "   agitée, toute pensive, toute remplie du désir\n",
    "   d'être savante, songeant qu'elle pourrait bien être la\n",
    "   raison suffisante du jeune Candide, qui pouvait aussi être\n",
    "   la sienne.\"\"\""
   ]
  },
  {
   "cell_type": "markdown",
   "metadata": {},
   "source": [
    "**Questionnement:** *(utiliser des instructions Python, en ajoutant des cellules si nécessaire, pour répondre aux questions)*\n",
    "- Quel est le nombre `nb_tot` de caractères constituant ce texte ?"
   ]
  },
  {
   "cell_type": "code",
   "execution_count": 1,
   "metadata": {},
   "outputs": [],
   "source": []
  },
  {
   "cell_type": "markdown",
   "metadata": {},
   "source": [
    "- Quel type de codage est actuellement utilisé pour ces caractères ?"
   ]
  },
  {
   "cell_type": "markdown",
   "metadata": {},
   "source": []
  },
  {
   "cell_type": "markdown",
   "metadata": {},
   "source": [
    "*Pour améliorer les performances de compression, nous n'allons créer des codes que pour les caractères qui apparaissent dans le texte.*"
   ]
  },
  {
   "cell_type": "markdown",
   "metadata": {},
   "source": [
    "- Est-il préférable de stocker la liste des caractères dans un *tableau* (type `list` en Python) ou une structure chaînée ?"
   ]
  },
  {
   "cell_type": "markdown",
   "metadata": {},
   "source": []
  },
  {
   "cell_type": "markdown",
   "metadata": {},
   "source": [
    "- De combien de caractères différents `nb_carac_diff` est constitué ce texte ? *(stocker ces caractères dans une liste, recopier la classe `Liste` du document ressource et identifier les méthodes utiles pour cette tâche)*"
   ]
  },
  {
   "cell_type": "markdown",
   "metadata": {},
   "source": []
  },
  {
   "cell_type": "markdown",
   "metadata": {},
   "source": [
    "- Créer et compléter une nouvelle liste `liste_occurrences` où chaque élément est le nombre d'occurrences du caractère correspondant dans `liste_carac`. *(vérifier que la somme de tous ces nombres vaut `nb_tot`)*"
   ]
  },
  {
   "cell_type": "code",
   "execution_count": null,
   "metadata": {},
   "outputs": [],
   "source": []
  },
  {
   "cell_type": "markdown",
   "metadata": {},
   "source": [
    "- On définit la fréquence d'occurrence d'un caractère *c* par $f(c)=\\frac{\\text{nb_occurrance(c)}}{\\text{nb_tot}}$. Créer un tableau `freq` (type `list` de Python) où chaque élément est un p-uplet au format `(c, f(c))`"
   ]
  },
  {
   "cell_type": "code",
   "execution_count": null,
   "metadata": {},
   "outputs": [],
   "source": []
  },
  {
   "cell_type": "markdown",
   "metadata": {},
   "source": [
    "- Trier cette liste (avec la méthode de votre choix) selon les fréquences d'occurrence décroissantes. Quels sont les 5 caractères qui apparaissent le plus souvent ?"
   ]
  },
  {
   "cell_type": "code",
   "execution_count": null,
   "metadata": {},
   "outputs": [],
   "source": []
  },
  {
   "cell_type": "markdown",
   "metadata": {},
   "source": [
    "## 2. Codage des caractères <a name=\"codage\"></a>"
   ]
  },
  {
   "cell_type": "markdown",
   "metadata": {},
   "source": [
    "..."
   ]
  }
 ],
 "metadata": {
  "kernelspec": {
   "display_name": "Python 3",
   "language": "python",
   "name": "python3"
  },
  "language_info": {
   "codemirror_mode": {
    "name": "ipython",
    "version": 3
   },
   "file_extension": ".py",
   "mimetype": "text/x-python",
   "name": "python",
   "nbconvert_exporter": "python",
   "pygments_lexer": "ipython3",
   "version": "3.7.9"
  }
 },
 "nbformat": 4,
 "nbformat_minor": 4
}
