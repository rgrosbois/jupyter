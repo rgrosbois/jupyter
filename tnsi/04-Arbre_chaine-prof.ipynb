{
 "cells": [
  {
   "cell_type": "markdown",
   "metadata": {},
   "source": [
    "# Implémentation d'arbre dans une structure chaînée\n",
    "\n",
    "Sommaire:\n",
    "- [1. Rappels/compléments sur les listes](#liste)\n",
    "- [2. Arbre dans une structure chaînée](#arbre)\n",
    "- [3. Parcours d'arbre](#parcours)\n",
    "    - [a. En largeur](#largeur)\n",
    "    - [b. En profondeur](#profondeur)"
   ]
  },
  {
   "cell_type": "markdown",
   "metadata": {},
   "source": [
    "## 1. Rappels/compléments sur les listes <a name=\"liste\"></a>"
   ]
  },
  {
   "cell_type": "markdown",
   "metadata": {},
   "source": [
    "Une liste est une suite d'éléments ordonnés. La position de chaque élément est repérée par un indice:\n",
    "- **explicite** (ex: tableau=l'indice est fourni entre crochets)\n",
    "    ```python\n",
    "    >>> semaine = ['lundi', 'mardi', 'mercredi', 'jeudi', 'vendredi', 'samedi', 'dimanche']\n",
    "    >>> print(semaine[1])\n",
    "    mardi\n",
    "    ```\n",
    "    \n",
    "    ![Liste tableau](img/04-Liste_tableau.png)\n",
    "    \n",
    "    *(les éléments sont contigus en mémoire)*\n",
    "    \n",
    "- **implicite** (ex: liste chaînée)\n",
    "\n",
    "    ![Liste chaînée](img/04-Liste_chainee.png)\n",
    "    \n",
    "    *(les éléments peuvent occuper des emplacements disjoints en mémoire)*"
   ]
  },
  {
   "cell_type": "markdown",
   "metadata": {},
   "source": [
    "L'accès aux éléments d'un tableau est généralement plus rapide (i-ème élément se trouve à l'emplacement i*`taille_element`) que dans une liste chaînée, mais cette dernière permet d'optimiser l'espace de stockage, surtout lorsque le nombre d'éléments de la liste est amené à varier. "
   ]
  },
  {
   "cell_type": "markdown",
   "metadata": {},
   "source": [
    "<div class=\"alert alert-danger\">\n",
    "    \n",
    "**Définition commune (récursive):** \n",
    "    \n",
    "Une liste est:\n",
    "- soit vide.\n",
    "- soit un **maillon** = élément (=tête) + liste."
   ]
  },
  {
   "cell_type": "markdown",
   "metadata": {},
   "source": [
    "Le type `list` de Python fournit une implémentation de liste sous la forme de tableau *dynamique*. Nous allons construire ici une classe `Liste` basée sur une structure chaînée."
   ]
  },
  {
   "cell_type": "markdown",
   "metadata": {},
   "source": [
    "<div class=\"alert alert-success\">\n",
    "\n",
    "Historiquement, la tête et la sous-liste s'appelaient respectivement:\n",
    "- `car` : **c**ontent of **a**ddress **r**egister (=élément en tête de liste)\n",
    "- `cdr` : **c**ontent of **d**ecrement **r**egister (=sous-liste)"
   ]
  },
  {
   "cell_type": "markdown",
   "metadata": {},
   "source": [
    "### Exemple d'implémentation d'une liste chaînée:"
   ]
  },
  {
   "cell_type": "code",
   "execution_count": null,
   "metadata": {},
   "outputs": [],
   "source": [
    "class Liste:\n",
    "    \"\"\"\n",
    "    Implémentation d'une liste chaînée.\n",
    "    \n",
    "    Exemples d'utilisation:\n",
    "    >>> l = Liste() \n",
    "    >>> for jour in ['lundi', 'mardi', 'mercredi', 'jeudi', 'vendredi', 'samedi', 'dimanche']:\n",
    "    >>>     l.insert(0,jour)\n",
    "    >>> l2 = Liste() \n",
    "    >>> for jour in ['lundi', 'mardi', 'mercredi', 'jeudi', 'vendredi', 'samedi', 'dimanche']:\n",
    "    >>>     l.append(jour)\n",
    "    \"\"\"\n",
    "    def __init__(self, element=None, sublist=None):\n",
    "        self.car = element\n",
    "        self.cdr = sublist\n",
    "        \n",
    "    def has_next(self):\n",
    "        \"\"\"\n",
    "        Teste si la liste possède une sous-liste.\n",
    "        \"\"\"\n",
    "        return self.cdr is not None\n",
    "        \n",
    "    def next(self):\n",
    "        \"\"\"\n",
    "        Retourne la (sous-)liste suivante \n",
    "        (à n'utiliser que si has_next() retourne vrai)\n",
    "        \"\"\"\n",
    "        return self.cdr\n",
    "    \n",
    "    def insert(self, i, element):\n",
    "        \"\"\"\n",
    "        Insérer un élément à un index spécifique\n",
    "        \"\"\"\n",
    "        # Trouver le maillon d'index i\n",
    "        liste = self\n",
    "        idx = 0\n",
    "        while liste.has_next():\n",
    "            if idx==i: # trouvé sous-chaîne d'index i\n",
    "                liste.cdr = Liste(liste.car, liste.cdr)\n",
    "                liste.car = element\n",
    "                return\n",
    "            liste = liste.next()\n",
    "            idx += 1\n",
    "        # Sinon insérer en fin de chaîne\n",
    "        liste.cdr = Liste(None, None)\n",
    "        liste.car = element\n",
    "        \n",
    "    def replace(self, i, element):\n",
    "        \"\"\"\n",
    "        Remplacer l'élément à un index spécifique\n",
    "        \"\"\"\n",
    "        # Trouver le maillon d'index i\n",
    "        liste = self\n",
    "        idx = 0\n",
    "        while liste.has_next():\n",
    "            if idx==i: # trouvé sous-chaîne d'index i\n",
    "                liste.car = element\n",
    "                return\n",
    "            liste = liste.next()\n",
    "            idx += 1\n",
    "        \n",
    "    def remove(self, i):\n",
    "        \"\"\"\n",
    "        Supprimer l'élément se trouvant à un index spécifique\n",
    "        \"\"\"\n",
    "        liste = self\n",
    "        # Trouver le maillon d'index i\n",
    "        idx = 0\n",
    "        while liste.has_next():\n",
    "            if idx==i: # trouvée sous-chaîne d'index i\n",
    "                n = liste.next()\n",
    "                liste.cdr = n.cdr\n",
    "                liste.car = n.car\n",
    "                return\n",
    "            liste = liste.next()\n",
    "            idx += 1\n",
    "        assert False, \"L'élément demandé n'existe pas\"\n",
    "        \n",
    "    def element(self, i=0):\n",
    "        \"\"\"\n",
    "        Retourne l'élément du ième maillon\n",
    "        \"\"\"\n",
    "        liste = self\n",
    "        idx = 0\n",
    "        while liste.has_next():\n",
    "            if idx==i:\n",
    "                return liste.car\n",
    "            liste = liste.next()\n",
    "            idx += 1\n",
    "        return None\n",
    "    \n",
    "    def index(self, element):\n",
    "        \"\"\"\n",
    "        Retourne la position d'un élément dans la liste (-1 s'il n'existe pas)\n",
    "        \"\"\"\n",
    "        liste = self\n",
    "        if liste.car == element:\n",
    "            return 0\n",
    "        idx = 0\n",
    "        while liste.has_next():\n",
    "            if liste.car == element:\n",
    "                return idx\n",
    "            liste = liste.next()\n",
    "            idx += 1\n",
    "        return -1\n",
    "    \n",
    "    def length(self):\n",
    "        \"\"\"\n",
    "        Retourne la longueur de la liste\n",
    "        \"\"\"\n",
    "        size = 0\n",
    "        liste = self\n",
    "        while liste.has_next():\n",
    "            size += 1\n",
    "            liste = liste.next()\n",
    "        return size\n",
    "    \n",
    "    def append(self, element):\n",
    "        \"\"\"\n",
    "        Ajouter l'élément en fin de liste.\n",
    "        \"\"\"\n",
    "        self.insert(self.length(),element)\n",
    "        \n",
    "    def __repr__(self):\n",
    "        \"\"\"\n",
    "        Retourne une représentation de la chaîne de tous les éléments.\n",
    "        \"\"\"\n",
    "        s = ''\n",
    "        idx = 0\n",
    "        liste = self\n",
    "        while liste.has_next():\n",
    "            if idx>0:\n",
    "                s += ' -> '\n",
    "            s += str(liste.car)\n",
    "            liste = liste.next()\n",
    "            idx += 1\n",
    "        return '<List: '+s+'>'\n",
    "    \n",
    "    def __str__(self):\n",
    "        \"\"\"\n",
    "        Retourne une chaîne représentant la tête.\n",
    "        \"\"\"\n",
    "        return str(self.car)"
   ]
  },
  {
   "cell_type": "markdown",
   "metadata": {},
   "source": [
    "Exemples:"
   ]
  },
  {
   "cell_type": "code",
   "execution_count": null,
   "metadata": {},
   "outputs": [],
   "source": [
    "l = Liste() \n",
    "for j in ['lundi', 'mardi', 'mercredi', 'jeudi', 'vendredi', 'samedi', 'dimanche']:\n",
    "    l.insert(0,j)\n",
    "l, l.element(0)"
   ]
  },
  {
   "cell_type": "code",
   "execution_count": null,
   "metadata": {},
   "outputs": [],
   "source": [
    "l.remove(6)\n",
    "l, l.element(0)"
   ]
  },
  {
   "cell_type": "code",
   "execution_count": null,
   "metadata": {},
   "outputs": [],
   "source": [
    "l = Liste() \n",
    "for j in ['lundi', 'mardi', 'mercredi', 'jeudi', 'vendredi', 'samedi', 'dimanche']:\n",
    "    l.append(j)\n",
    "l"
   ]
  },
  {
   "cell_type": "markdown",
   "metadata": {},
   "source": [
    "<div class=\"alert alert-success\">\n",
    "    \n",
    "La construction d'une liste s'effectuaient à l'aide d'une fonction `cons(element, sous-liste)` et la sous-liste du dernier élément s'appelait `nil`\n",
    "```python\n",
    "def cons(element, sublist):\n",
    "    \"\"\"\n",
    "    Fonction de construction historique.\n",
    "    \"\"\"\n",
    "    return Liste(element, sublist)\n",
    "\n",
    "nil = Liste(None)\n",
    "l = cons('L', cons('u', cons('n', cons('d', cons('i', nil)))))\n",
    "print(l)\n",
    "print(l.length())\n",
    "```\n",
    "\n",
    "    \n",
    "Remarque: il existe aussi les listes\n",
    "- doublement chaînée (par opposition à la liste *simplement chainée* ci-avant).\n",
    "- circulaire simplement chaînée.\n",
    "- circulaire doublement chaînée."
   ]
  },
  {
   "cell_type": "markdown",
   "metadata": {},
   "source": [
    "## 2. Arbre binaire dans une structure chaînée <a name=\"arbre\"></a>"
   ]
  },
  {
   "cell_type": "markdown",
   "metadata": {},
   "source": [
    "<div class=\"alert alert-danger\">\n",
    "    \n",
    "**Définition récursive (rappel):** un arbre binaire est\n",
    "- soit vide\n",
    "- soit un **n&oelig;ud** = élément (racine) + arbre gauche + arbre droit"
   ]
  },
  {
   "cell_type": "markdown",
   "metadata": {},
   "source": [
    "On peut donc s'inspirer de l'implémentation de la liste pour créer des arbres binaires:\n",
    "\n",
    "| Arbre parfait | Arbre quelconque |\n",
    "|---------------|------------------|\n",
    "| ![Arbre parfait](img/04-arbre_parfait.png) | ![Arbre quelconque](img/04-arbre_quelconque.png) |"
   ]
  },
  {
   "cell_type": "code",
   "execution_count": null,
   "metadata": {},
   "outputs": [],
   "source": [
    "class Arbre:\n",
    "    \"\"\"\n",
    "    Implémentation d'arbre binaire dans une structure chaînée.\n",
    "    \n",
    "    Exemple d'utilisation:\n",
    "    >>> arbre = Arbre('A',None,None)\n",
    "    >>> arbre.append_left('B')\n",
    "    >>> arbre.append_right('C')\n",
    "    >>> arbre.left().append_left('D')\n",
    "    >>> arbre.left().append_right('E')\n",
    "    >>> arbre.right().append_left('F')\n",
    "    >>> arbre.right().append_right('G')\n",
    "    \"\"\"\n",
    "    def __init__(self, element=None, gauche=None, droit=None):\n",
    "        \"\"\"\n",
    "        Arbre = élément + sous-arbre gauche + sous-arbre droit\n",
    "        \"\"\"\n",
    "        self.root = element\n",
    "        self.l = gauche\n",
    "        self.r = droit\n",
    "        \n",
    "    def is_empty(self):\n",
    "        \"\"\"\n",
    "        Teste si l'arbre est vide (i.e. n'a pas d'élément à sa racine)\n",
    "        \"\"\"\n",
    "        return self.root is None\n",
    "    \n",
    "    def has_left(self):\n",
    "        \"\"\"\n",
    "        Teste s'il existe un sous-arbre gauche\n",
    "        \"\"\"\n",
    "        return self.l is not None\n",
    "    \n",
    "    def left(self):\n",
    "        \"\"\"\n",
    "        Retourne le sous-arbre gauche.\n",
    "        \"\"\"\n",
    "        return self.l\n",
    "\n",
    "    def has_right(self):\n",
    "        \"\"\"\n",
    "        Teste s'il existe un sous-arbre droit.\n",
    "        \"\"\"\n",
    "        return self.r is not None\n",
    "    \n",
    "    def right(self):\n",
    "        \"\"\"\n",
    "        Retourne le sous-arbre droit.\n",
    "        \"\"\"\n",
    "        return self.r\n",
    "    \n",
    "    def append_left(self, element):\n",
    "        \"\"\"\n",
    "        Ajouter une feuille gauche (attention: n'insère pas mais écrase)\n",
    "        \"\"\"\n",
    "        self.l = Arbre(element, None, None)\n",
    "        \n",
    "    def append_right(self, element):\n",
    "        \"\"\"\n",
    "        Ajouter une feuille droite (attention: n'insère pas mais écrase)\n",
    "        \"\"\"\n",
    "        self.r = Arbre(element, None, None)\n",
    "        \n",
    "    def value(self):\n",
    "        \"\"\"\n",
    "        Retourne la valeur de l'élément à la racine de l'arbre\n",
    "        \"\"\"\n",
    "        return self.root\n",
    "        \n",
    "    def height(self):\n",
    "        \"\"\"\n",
    "        Retourne la hauteur de l'arbre (méthode récursive)\n",
    "        \"\"\"\n",
    "        tg, td = 0,0\n",
    "        if self.has_left():\n",
    "            tg = self.left().height() + 1\n",
    "        if self.has_right():\n",
    "            td = self.right().height() + 1\n",
    "        return max(tg, td)\n",
    "    \n",
    "    def size(self):\n",
    "        \"\"\"\n",
    "        Retourne la taille de l'arbre (méthode récursive)\n",
    "        \"\"\"\n",
    "        sg, sd = 0,0\n",
    "        if self.has_left():\n",
    "            sg = self.left().size()\n",
    "        if self.has_right():\n",
    "            sd = self.right().size()\n",
    "        return sg + sd + 1\n",
    "\n",
    "    def afficher(self, niv=0, prefix=''):\n",
    "        \"\"\"\n",
    "        Afficher le contenu de l'arbre sous forme textuelle (méthode récursive)\n",
    "        \"\"\"\n",
    "        if self.is_empty():\n",
    "            return\n",
    "        if niv==0:\n",
    "            print(self)\n",
    "        else:\n",
    "            print(' '*5*(niv-1) + '|'+prefix+'-' + str(self))\n",
    "\n",
    "        if self.has_left():\n",
    "            self.left().afficher(niv+1, '(l)')\n",
    "        if self.has_right():\n",
    "            self.right().afficher(niv+1, '(r)')\n",
    "\n",
    "    def __str__(self):\n",
    "        \"\"\"\n",
    "        Retourne l'élément à la racine de l'arbre sous la forme d'une chaîne\n",
    "        \"\"\"\n",
    "        return str(self.root)"
   ]
  },
  {
   "cell_type": "code",
   "execution_count": null,
   "metadata": {},
   "outputs": [],
   "source": [
    "arbre = Arbre('A',None,None)\n",
    "# Niveau 1\n",
    "arbre.append_left('B')\n",
    "arbre.append_right('C')\n",
    "# Niveau 2\n",
    "arbre.left().append_left('D')\n",
    "arbre.left().append_right('E')\n",
    "arbre.right().append_left('F')\n",
    "arbre.right().append_right('G')\n",
    "\n",
    "arbre.afficher()"
   ]
  },
  {
   "cell_type": "code",
   "execution_count": null,
   "metadata": {},
   "outputs": [],
   "source": [
    "arbre2 = Arbre('A',None,None)\n",
    "# Niveau 1\n",
    "arbre2.append_left('B')\n",
    "arbre2.append_right('C')\n",
    "# Niveau 2\n",
    "arbre2.right().append_left('F')\n",
    "\n",
    "arbre2.afficher()"
   ]
  },
  {
   "cell_type": "markdown",
   "metadata": {},
   "source": [
    "## 3. Parcours d'arbre <a id=\"parcours\"></a>\n",
    "\n",
    "Le parcours d'un arbre consiste à visiter tous ses n&oelig;uds."
   ]
  },
  {
   "cell_type": "markdown",
   "metadata": {},
   "source": [
    "### a. Parcours en largeur <a id=\"largeur\"></a>\n",
    "\n",
    "On a besoin d'une **file** pour mémoriser les n&oelig;uds pour lesquels il reste encore des enfants à parcourir"
   ]
  },
  {
   "cell_type": "code",
   "execution_count": null,
   "metadata": {},
   "outputs": [],
   "source": [
    "class File:\n",
    "    \"\"\"\n",
    "    (sans utiliser l'héritage)\n",
    "    \"\"\"\n",
    "    def __init__(self):\n",
    "        \"\"\"\n",
    "        Création d'une file vide.\n",
    "        \"\"\"\n",
    "        self.__data = Liste(None)\n",
    "        \n",
    "    def empty(self):\n",
    "        \"\"\"\n",
    "        Teste si la file n'a plus d'éléments.\n",
    "        \"\"\"\n",
    "        return self.__data.length()==0\n",
    "    \n",
    "    def enfiler(self,v):\n",
    "        \"\"\"\n",
    "        Ajouter un élément à la fin de la file.\n",
    "        \"\"\"\n",
    "        self.__data.append(v)\n",
    "        \n",
    "    def defiler(self):\n",
    "        \"\"\"\n",
    "        Extraire l'élément en tête de la file.\n",
    "        \"\"\"\n",
    "        element = self.__data.element(0)\n",
    "        self.__data.remove(0)\n",
    "        return element\n",
    "    \n",
    "    def __repr__(self):\n",
    "        return repr(self.__data)"
   ]
  },
  {
   "cell_type": "code",
   "execution_count": null,
   "metadata": {},
   "outputs": [],
   "source": [
    "f = File()\n",
    "f.enfiler(1)\n",
    "f.enfiler(2)\n",
    "f.enfiler(3)\n",
    "print(f)\n",
    "a = f.defiler()\n",
    "a, f"
   ]
  },
  {
   "cell_type": "markdown",
   "metadata": {},
   "source": [
    "Les n&oelig;uds sont visités dans l'ordre croissant des niveaux (et de la gauche vers la droite dans chaque niveau):"
   ]
  },
  {
   "cell_type": "code",
   "execution_count": null,
   "metadata": {},
   "outputs": [],
   "source": [
    "def parcours_largeur(a):\n",
    "    '''\n",
    "    Algorithme de parcours d'un arbre en largeur\n",
    "    '''\n",
    "    \n",
    "    if a.is_empty():\n",
    "        return    \n",
    "    f = File()\n",
    "    \n",
    "    f.enfiler(a)\n",
    "    while not f.empty():\n",
    "        a = f.defiler()\n",
    "        print(a, end=' ')\n",
    "        if a.has_left():\n",
    "            f.enfiler(a.left())\n",
    "        if a.has_right():\n",
    "            f.enfiler(a.right())"
   ]
  },
  {
   "cell_type": "code",
   "execution_count": null,
   "metadata": {},
   "outputs": [],
   "source": [
    "parcours_largeur(arbre)\n",
    "print()\n",
    "parcours_largeur(arbre2)"
   ]
  },
  {
   "cell_type": "markdown",
   "metadata": {},
   "source": [
    "### b. Parcours en profondeur <a id=\"profondeur\"></a>\n",
    "\n",
    "On visite les sous-arbres avant de passant au prochain n&oelig;ud de même niveau. Il existe 3 méthodes récursives:\n",
    "- préfixe: pour chaque noeud, on affiche sa valeur puis on passe au sous-arbre gauche, puis au sous-arbre droit.\n",
    "- postfixe: pour chaque noeud, on passe au sous-arbre gauche, on affiche sa valeur puis on passe au sous-arbre droit.\n",
    "- infixe: : pour chaque noeud, on passe au sous-arbre gauche, puis au sous-arbre droit, puis on affiche sa valeur."
   ]
  },
  {
   "cell_type": "code",
   "execution_count": null,
   "metadata": {},
   "outputs": [],
   "source": [
    "def parcours_prefixe(a):\n",
    "    \"\"\"\n",
    "    Valeur puis arbre gauche, puis arbre droit\n",
    "    \"\"\"\n",
    "    if a.is_empty():\n",
    "        return\n",
    "    print(a, end=' ')\n",
    "    \n",
    "    if a.has_left():\n",
    "        parcours_prefixe(a.left())\n",
    "    if a.has_right():\n",
    "        parcours_prefixe(a.right())"
   ]
  },
  {
   "cell_type": "code",
   "execution_count": null,
   "metadata": {},
   "outputs": [],
   "source": [
    "parcours_prefixe(arbre)\n",
    "print()\n",
    "parcours_prefixe(arbre2)"
   ]
  },
  {
   "cell_type": "code",
   "execution_count": null,
   "metadata": {},
   "outputs": [],
   "source": [
    "def parcours_postfixe(a):\n",
    "    \"\"\"\n",
    "    arbre gauche, puis arbre droit, puis valeur\n",
    "    \"\"\"\n",
    "    if a.is_empty(): \n",
    "        return    \n",
    "    if a.has_left():\n",
    "        parcours_postfixe(a.left())\n",
    "    if a.has_right():\n",
    "        parcours_postfixe(a.right())\n",
    "    print(a, end=' ')"
   ]
  },
  {
   "cell_type": "code",
   "execution_count": null,
   "metadata": {},
   "outputs": [],
   "source": [
    "parcours_postfixe(arbre)\n",
    "print()\n",
    "parcours_postfixe(arbre2)"
   ]
  },
  {
   "cell_type": "code",
   "execution_count": null,
   "metadata": {},
   "outputs": [],
   "source": [
    "def parcours_infixe(a):\n",
    "    \"\"\"\n",
    "    arbre gauche, valeur, puis arbre droit\n",
    "    \"\"\"\n",
    "    if a.is_empty(): \n",
    "        return    \n",
    "    if a.has_left():\n",
    "        parcours_infixe(a.left())\n",
    "    print(a, end=' ')\n",
    "    if a.has_right():\n",
    "        parcours_infixe(a.right())"
   ]
  },
  {
   "cell_type": "code",
   "execution_count": null,
   "metadata": {},
   "outputs": [],
   "source": [
    "parcours_infixe(arbre)\n",
    "print()\n",
    "parcours_infixe(arbre2)"
   ]
  }
 ],
 "metadata": {
  "kernelspec": {
   "display_name": "Python 3",
   "language": "python",
   "name": "python3"
  },
  "language_info": {
   "codemirror_mode": {
    "name": "ipython",
    "version": 3
   },
   "file_extension": ".py",
   "mimetype": "text/x-python",
   "name": "python",
   "nbconvert_exporter": "python",
   "pygments_lexer": "ipython3",
   "version": "3.7.9"
  }
 },
 "nbformat": 4,
 "nbformat_minor": 4
}
