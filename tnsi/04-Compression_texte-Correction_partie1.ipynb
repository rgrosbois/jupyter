{
 "cells": [
  {
   "cell_type": "markdown",
   "metadata": {},
   "source": [
    "# Compression de texte\n",
    "\n",
    "L'idée est de remplacer les caractères du texte par des **codes de longueurs variables** (on parle donc de *codage*) en réservant :\n",
    "- les codes courts pour les caractères couramment utilisés (ex: `'e'`, `'a'`, `' '`....).\n",
    "- les codes plus longs pour les caractères peu utilisés (ex: `'z'`, `'w'`...)."
   ]
  },
  {
   "cell_type": "markdown",
   "metadata": {},
   "source": [
    "Sommaire:\n",
    "- [1. Fréquences d'occurrence](#freq)\n",
    "- [2. Codage des caractères](#codage)\n",
    "    - [a. Arbre de Huffman](#arbre)\n",
    "    - [b. Table de correspondance](#lut)\n",
    "    - [c. Compression du texte](#compression)\n",
    "- [3. Projet Python](#projet)"
   ]
  },
  {
   "cell_type": "markdown",
   "metadata": {},
   "source": [
    "## 1. Fréquences d'occurrence <a id=\"freq\"></a>"
   ]
  },
  {
   "cell_type": "markdown",
   "metadata": {},
   "source": [
    "Pour mettre en place ce codage, il est essentiel de connaître les fréquences d'occurrence de chaque caractère. Nous allons travailler, dans un premier temps, sur le texte suivant:"
   ]
  },
  {
   "cell_type": "code",
   "execution_count": null,
   "metadata": {},
   "outputs": [],
   "source": [
    "texte = \"\"\"\n",
    "   Un jour, Cunégonde, en se promenant\n",
    "   auprès du château, dans le petit bois qu'on appelait\n",
    "   parc, vit entre des broussailles le docteur Pangloss qui donnait\n",
    "   une leçon de physique expérimentale à la\n",
    "   femme de chambre de sa mère, petite brune très jolie\n",
    "   et très docile. Comme Mlle Cunégonde avait beaucoup\n",
    "   de dispositions pour les sciences, elle observa, sans souffler,\n",
    "   les expériences réitérées dont elle\n",
    "   fut témoin; elle vit clairement la raison suffisante du\n",
    "   docteur, les effets et les causes, et s'en retourna tout\n",
    "   agitée, toute pensive, toute remplie du désir\n",
    "   d'être savante, songeant qu'elle pourrait bien être la\n",
    "   raison suffisante du jeune Candide, qui pouvait aussi être\n",
    "   la sienne.\n",
    "   \"\"\""
   ]
  },
  {
   "cell_type": "markdown",
   "metadata": {},
   "source": [
    "**Questionnement:** \n",
    "- Quel est le nombre `nb_tot` de caractères constituant ce texte ?"
   ]
  },
  {
   "cell_type": "code",
   "execution_count": null,
   "metadata": {},
   "outputs": [],
   "source": [
    "nb_tot = len(texte)\n",
    "nb_tot"
   ]
  },
  {
   "cell_type": "markdown",
   "metadata": {},
   "source": [
    "- Quel type de codage est actuellement utilisé pour ces caractères ?"
   ]
  },
  {
   "cell_type": "code",
   "execution_count": null,
   "metadata": {},
   "outputs": [],
   "source": [
    "import sys\n",
    "sys.getdefaultencoding()"
   ]
  },
  {
   "cell_type": "code",
   "execution_count": null,
   "metadata": {},
   "outputs": [],
   "source": [
    "len(texte.encode('utf-8'))"
   ]
  },
  {
   "cell_type": "markdown",
   "metadata": {},
   "source": [
    "*Pour améliorer les performances de compression, nous n'allons créer des codes que pour les caractères qui apparaissent dans le texte.*"
   ]
  },
  {
   "cell_type": "markdown",
   "metadata": {},
   "source": [
    "- Est-il préférable de stocker la liste des caractères dans un *tableau* (type `list` en Python) ou une structure chaînée ?"
   ]
  },
  {
   "cell_type": "markdown",
   "metadata": {},
   "source": [
    "Une structure chaînée car le nombre d'éléments varie"
   ]
  },
  {
   "cell_type": "markdown",
   "metadata": {},
   "source": [
    "*(recopier ou importer la classe `Liste` du document ressource et identifier les méthodes utiles)*"
   ]
  },
  {
   "cell_type": "code",
   "execution_count": null,
   "metadata": {},
   "outputs": [],
   "source": [
    "from tp_compression import Liste\n",
    "help(Liste)"
   ]
  },
  {
   "cell_type": "markdown",
   "metadata": {},
   "source": [
    "- De combien de caractères différents `nb_carac_diff` est constitué le texte ? Stocker ces caractères dans une *Liste* `liste_carac`"
   ]
  },
  {
   "cell_type": "code",
   "execution_count": null,
   "metadata": {},
   "outputs": [],
   "source": [
    "liste_carac = Liste()\n",
    "for c in texte:\n",
    "    idx = liste_carac.index(c)\n",
    "    \n",
    "    if idx==-1: # nouveau caractère\n",
    "        liste_carac.append(c)\n",
    "        \n",
    "liste_carac.length(), liste_carac"
   ]
  },
  {
   "cell_type": "markdown",
   "metadata": {},
   "source": [
    "- Créer et compléter une nouvelle *Liste* `liste_occurrences` où chaque élément est le nombre d'occurrences du caractère correspondant dans `liste_carac`. *(vérifier que la somme de tous ces nombres vaut `nb_tot`)*"
   ]
  },
  {
   "cell_type": "code",
   "execution_count": null,
   "metadata": {},
   "outputs": [],
   "source": [
    "liste_carac = Liste()\n",
    "liste_occurrences = Liste()\n",
    "for c in texte:\n",
    "    idx = liste_carac.index(c)\n",
    "    \n",
    "    if idx==-1: # nouveau caractère\n",
    "        liste_carac.append(c)\n",
    "        liste_occurrences.append(1)\n",
    "    else: # déjà rencontré\n",
    "        val = liste_occurrences.element(idx)\n",
    "        liste_occurrences.replace(idx, val+1)\n",
    "liste_occurrences.length(), liste_occurrences"
   ]
  },
  {
   "cell_type": "code",
   "execution_count": null,
   "metadata": {},
   "outputs": [],
   "source": [
    "# Calcul de la somme\n",
    "somme = 0\n",
    "# À compléter\n",
    "for i in range(liste_occurrences.length()):\n",
    "    somme += liste_occurrences.element(i)\n",
    "print(somme)\n",
    "\n",
    "assert somme==nb_tot, \"La liste d'occurrences n'est pas correctement remplie\""
   ]
  },
  {
   "cell_type": "markdown",
   "metadata": {},
   "source": [
    "On définit la fréquence d'occurrence d'un caractère *c* par \n",
    "$$f(c)=\\frac{\\text{nb_occurrance(c)}}{\\text{nb_tot}}$$\n",
    "\n",
    "- Créer un tableau `freq` (type `list` de Python) où chaque élément est un p-uplet au format `(c, f(c))`"
   ]
  },
  {
   "cell_type": "code",
   "execution_count": null,
   "metadata": {},
   "outputs": [],
   "source": [
    "freq = [None] * liste_occurrences.length()\n",
    "\n",
    "for i in range(liste_occurrences.length()):\n",
    "    c = liste_carac.element(i)\n",
    "    f = liste_occurrences.element(i)/nb_tot\n",
    "    freq[i] = (c, f)\n",
    "    \n",
    "freq[:5]"
   ]
  },
  {
   "cell_type": "markdown",
   "metadata": {},
   "source": [
    "- (Optionnel) Trier cette liste (avec la méthode de votre choix) selon les fréquences d'occurrence décroissantes. Quels sont les 5 caractères qui apparaissent le plus souvent ?"
   ]
  },
  {
   "cell_type": "code",
   "execution_count": null,
   "metadata": {},
   "outputs": [],
   "source": [
    "help(sorted)"
   ]
  },
  {
   "cell_type": "code",
   "execution_count": null,
   "metadata": {},
   "outputs": [],
   "source": [
    "def ma_cle(x):\n",
    "    return x[1]\n",
    "\n",
    "freq2 = sorted(freq, key=ma_cle, reverse=True)\n",
    "freq2[:5]"
   ]
  },
  {
   "cell_type": "markdown",
   "metadata": {},
   "source": [
    "## 2. Codage des caractères <a id=\"codage\"></a>"
   ]
  },
  {
   "cell_type": "markdown",
   "metadata": {},
   "source": [
    "Le code de chaque caractère correspond à son chemin absolu dans l'arbre ci-après. Par convention, on lit un chemin en ajoutant :\n",
    "- `0` si on se déplace vers l'enfant gauche.\n",
    "- `1` si on se déplace vers l'enfant droit.\n",
    "\n",
    "![Arbre de Huffman ](https://snlpdo.fr/tnsi/img/04-ex_arbre_huffman.png)"
   ]
  },
  {
   "cell_type": "markdown",
   "metadata": {},
   "source": [
    "Exemples:\n",
    "- Le caractère `'e'` est remplacé par le code `100` (=3 bits).\n",
    "- Le caractère `'a'` est remplacé par le code `11111` (=5 bits)\n",
    "\n",
    "**Questionnement:**\n",
    "- Comment appelle-t-on les n&oelig;uds qui contiennent les caractères dans cet arbre ?"
   ]
  },
  {
   "cell_type": "markdown",
   "metadata": {},
   "source": [
    "des feuilles"
   ]
  },
  {
   "cell_type": "markdown",
   "metadata": {},
   "source": [
    "- Quel code remplace la portion de texte `Un jour` en utilisant cet arbre ?"
   ]
  },
  {
   "cell_type": "code",
   "execution_count": null,
   "metadata": {},
   "outputs": [],
   "source": [
    "code = lut['U']+lut['n']+lut[' ']+lut['j']+lut['o']+lut['u']+lut['r']"
   ]
  },
  {
   "cell_type": "markdown",
   "metadata": {},
   "source": [
    "- Combien de bits fait ce code ? Combien d'octets faut-il pour le stocker ?"
   ]
  },
  {
   "cell_type": "code",
   "execution_count": null,
   "metadata": {},
   "outputs": [],
   "source": [
    "from math import ceil\n",
    "\n",
    "len(code), ceil(len(code)/8)"
   ]
  },
  {
   "cell_type": "markdown",
   "metadata": {},
   "source": [
    "### a. Construction de l'arbre <a id=\"arbre\"></a>\n",
    "\n",
    "Pour compresser le plus possible, il faut que les caractères les plus (resp. moins) utilisés soient situés sur les feuilles les plus proches (resp. éloignées) de la racine.\n",
    "\n",
    "L'arbre de Huffman peut s'obtenir en appliquant l'algorithme suivant:\n",
    "\n",
    "<div class=\"alert alert-block alert-danger\">\n",
    "    \n",
    "1. Pour chaque caractère `c`, on crée un nouvel arbre (d'un seul n&oelig;ud) dont la racine vaut `(c, f(c))`.\n",
    "\n",
    "2. On fusionne les 2 arbres de fréquences minimales `f(c1)` et `f(c2)` en un seul nouvel arbre dont:\n",
    "    - les enfants sont les 2 arbres précédents,\n",
    "    - la racine a pour nouvelle fréquence `f(c1)+f(c2)` (le nouveau caractère, pourra s'appeler `c1+c2`).\n",
    "\n",
    "3. On répète l'opération 2 jusqu'à n'avoir plus qu'un seul arbre."
   ]
  },
  {
   "cell_type": "markdown",
   "metadata": {},
   "source": [
    "*(Recopier ou importer au préalable la classe `Arbre` fournie dans le document ressources et identifier les méthodes utiles pour cette partie)*"
   ]
  },
  {
   "cell_type": "code",
   "execution_count": null,
   "metadata": {},
   "outputs": [],
   "source": [
    "from tp_compression import Arbre\n",
    "help(Arbre)"
   ]
  },
  {
   "cell_type": "markdown",
   "metadata": {},
   "source": [
    "**Questionnement :**\n",
    "- **Étape 1** : remplir une Liste `liste_arbre` avec tous les arbres à 1 n&oelig;ud (1 par caractère)."
   ]
  },
  {
   "cell_type": "code",
   "execution_count": null,
   "metadata": {},
   "outputs": [],
   "source": [
    "liste_arbres = Liste()\n",
    "for element in freq:\n",
    "    arbre = Arbre( element, None, None)\n",
    "    liste_arbres.append(arbre)\n",
    "    \n",
    "liste_arbres.length(), liste_arbres"
   ]
  },
  {
   "cell_type": "markdown",
   "metadata": {},
   "source": [
    "- **Étape 2a** : Écrire la fonction `extract_min` qui extrait l'élément minimal d'une telle `Liste` (attention: les éléments de cette liste sont des Arbres et le tri se fait sur la 2ème valeur du tuple de leur racine)"
   ]
  },
  {
   "cell_type": "code",
   "execution_count": null,
   "metadata": {},
   "outputs": [],
   "source": [
    "def extract_min(liste):\n",
    "    # initialisation\n",
    "    i_min = 0\n",
    "    f_min = liste.element(0).value()[1]\n",
    "    \n",
    "    # le reste de la liste\n",
    "    for i in range(1, liste.length()):\n",
    "        f = liste.element(i).value()[1]\n",
    "        if f<f_min:\n",
    "            i_min = i\n",
    "            f_min = f\n",
    "            \n",
    "    arbre = liste.element(i_min)\n",
    "    liste.remove(i_min)\n",
    "    return arbre"
   ]
  },
  {
   "cell_type": "code",
   "execution_count": null,
   "metadata": {},
   "outputs": [],
   "source": [
    "# Vérification\n",
    "#a = extract_min(liste_arbres)\n",
    "#assert a.root[0] == 'U', \"Il ne s'agit pas du bon minimum\"\n",
    "#assert liste_arbres.length()==38, \"Il faut supprimer le minimum de la liste des arbres\""
   ]
  },
  {
   "cell_type": "markdown",
   "metadata": {},
   "source": [
    "- **Étapes 2b et 3** : fusionner tous les arbres de cette liste selon l'algorithme de Huffman"
   ]
  },
  {
   "cell_type": "code",
   "execution_count": null,
   "metadata": {},
   "outputs": [],
   "source": [
    "# Algorithme de Huffman\n",
    "while liste_arbres.length()>1: # tant qu'il reste plus d'un noeud\n",
    "    # Extraire le 1er arbre de fréquence minimale\n",
    "    arbre1 = extract_min(liste_arbres)\n",
    "    # Extraire le 2ème arbre de fréquence minimale\n",
    "    arbre2 = extract_min(liste_arbres)\n",
    "    # Fusionner ces 2 arbres pour créer en un nouveau\n",
    "    c = arbre1.value()[0]+arbre2.value()[0]\n",
    "    f = arbre1.value()[1]+arbre2.value()[1]\n",
    "    arbre = Arbre( (c,f) , arbre1, arbre2)\n",
    "    # Ajouter ce nouvel arbre dans la liste\n",
    "    liste_arbres.append(arbre)"
   ]
  },
  {
   "cell_type": "code",
   "execution_count": null,
   "metadata": {},
   "outputs": [],
   "source": [
    "# Dernier arbre restant\n",
    "arbre_huffman = liste_arbres.element(0)"
   ]
  },
  {
   "cell_type": "markdown",
   "metadata": {},
   "source": [
    "Que valent la hauteur et la taille de `arbre_huffman` ?"
   ]
  },
  {
   "cell_type": "code",
   "execution_count": null,
   "metadata": {},
   "outputs": [],
   "source": [
    "arbre_huffman.height(), arbre_huffman.size()"
   ]
  },
  {
   "cell_type": "markdown",
   "metadata": {},
   "source": [
    "### b. Table de correspondance <a id=\"lut\"></a>\n",
    "\n",
    "Pour accélérer la phase de codage, on va remplir un *dictionnaire* Python `lut` où les **clés** sont les caractères du texte et les **valeurs** sont les codes de Huffman correspondants.\n",
    "\n",
    "Exemple: `lut['e'] = '100'`"
   ]
  },
  {
   "cell_type": "markdown",
   "metadata": {},
   "source": [
    "**Questionnement :**\n",
    "\n",
    "- Quel type de parcours d'arbre permet d'identifier le chemin de chaque caractère ?"
   ]
  },
  {
   "cell_type": "markdown",
   "metadata": {},
   "source": [
    "parcours en profondeur d'abord"
   ]
  },
  {
   "cell_type": "markdown",
   "metadata": {},
   "source": [
    "- Mettre en &oelig;uvre ce parcours pour remplir la table de correspondance `lut`:"
   ]
  },
  {
   "cell_type": "code",
   "execution_count": null,
   "metadata": {},
   "outputs": [],
   "source": [
    "lut = {}\n",
    "def parcours_postfixe(a, code):\n",
    "    \"\"\"\n",
    "    arbre gauche, puis arbre droit, puis valeur\n",
    "    \"\"\"\n",
    "    if a.is_empty(): \n",
    "        return\n",
    "    \n",
    "    if a.has_left():\n",
    "        parcours_postfixe(a.left(), code+'0')\n",
    "    if a.has_right():\n",
    "        parcours_postfixe(a.right(), code+'1')\n",
    "    \n",
    "    if not(a.has_left()) and not(a.has_right()): # une feuille\n",
    "        lut[a.value()[0]] = code\n",
    "    \n",
    "parcours_postfixe(arbre_huffman, '')"
   ]
  },
  {
   "cell_type": "markdown",
   "metadata": {},
   "source": [
    "### c. Compression du texte <a id=\"compression\"></a>\n",
    "\n",
    "- Utiliser la table de correspondance précédente pour générer le code correspondant au texte fourni au début de ce document"
   ]
  },
  {
   "cell_type": "code",
   "execution_count": null,
   "metadata": {},
   "outputs": [],
   "source": [
    "code = ''\n",
    "for c in texte:\n",
    "    lut[c]\n",
    "    \n"
   ]
  },
  {
   "cell_type": "markdown",
   "metadata": {},
   "source": [
    "- Quel taux de compression obtient-t-on ? (on suppose que le code obtenu est sauvegardé en binaire)"
   ]
  },
  {
   "cell_type": "code",
   "execution_count": null,
   "metadata": {},
   "outputs": [],
   "source": [
    "750 / ceil(len(code)/8)"
   ]
  },
  {
   "cell_type": "markdown",
   "metadata": {},
   "source": [
    "## 3. Projet Python \n",
    "\n",
    "(pour 1 binôme)\n",
    "\n",
    "**Élève 1 :**\n",
    "\n",
    "Mettre au point un codeur qui:\n",
    "- créé l'arbre de Huffman d'un texte quelconque.\n",
    "- génère un fichier avec:\n",
    "    - le code obtenu pour ce texte (au format binaire)\n",
    "    - Le contenu de l'arbre (indispensable pour le décodeur)\n",
    "- affiche le taux de compression final.\n",
    "        \n",
    "**Éleve 2 :**\n",
    "\n",
    "Mettre au point un décodeur qui:\n",
    "- récupère l'arbre utilisé par le codeur.\n",
    "- décompresse le texte.\n",
    "- vérifie qu'il n'y a pas eu de perte."
   ]
  }
 ],
 "metadata": {
  "kernelspec": {
   "display_name": "Python 3",
   "language": "python",
   "name": "python3"
  },
  "language_info": {
   "codemirror_mode": {
    "name": "ipython",
    "version": 3
   },
   "file_extension": ".py",
   "mimetype": "text/x-python",
   "name": "python",
   "nbconvert_exporter": "python",
   "pygments_lexer": "ipython3",
   "version": "3.7.9"
  }
 },
 "nbformat": 4,
 "nbformat_minor": 4
}
