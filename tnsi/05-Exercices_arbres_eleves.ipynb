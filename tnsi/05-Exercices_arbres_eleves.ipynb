{
 "cells": [
  {
   "cell_type": "markdown",
   "metadata": {},
   "source": [
    "# Exercices sur les arbres\n",
    "\n",
    "La classe ci-après fournit une implémentation d'arbre dans une structure chaînée:"
   ]
  },
  {
   "cell_type": "code",
   "execution_count": null,
   "metadata": {},
   "outputs": [],
   "source": [
    "class Arbre:\n",
    "    \"\"\"\n",
    "    Implémentation d'arbre binaire dans une structure chaînée.\n",
    "    \n",
    "    Exemple d'utilisation:\n",
    "    >>> arbre = Arbre('A',None,None)\n",
    "    >>> arbre.append_left('B')\n",
    "    >>> arbre.append_right('C')\n",
    "    >>> arbre.left().append_left('D')\n",
    "    >>> arbre.left().append_right('E')\n",
    "    >>> arbre.right().append_left('F')\n",
    "    >>> arbre.right().append_right('G')\n",
    "    \"\"\"\n",
    "    def __init__(self, element=None, gauche=None, droit=None):\n",
    "        \"\"\"\n",
    "        Arbre = élément + sous-arbre gauche + sous-arbre droit\n",
    "        \"\"\"\n",
    "        self.root = element\n",
    "        self.l = gauche\n",
    "        self.r = droit\n",
    "        \n",
    "    def is_empty(self):\n",
    "        \"\"\"\n",
    "        Teste si l'arbre est vide (i.e. n'a pas d'élément à sa racine)\n",
    "        \"\"\"\n",
    "        return self.root is None\n",
    "    \n",
    "    def has_left(self):\n",
    "        \"\"\"\n",
    "        Teste s'il existe un sous-arbre gauche\n",
    "        \"\"\"\n",
    "        return self.l is not None\n",
    "    \n",
    "    def left(self):\n",
    "        \"\"\"\n",
    "        Retourne le sous-arbre gauche.\n",
    "        \"\"\"\n",
    "        return self.l\n",
    "\n",
    "    def append_left(self, element):\n",
    "        \"\"\"\n",
    "        Ajouter une feuille gauche (attention: n'insère pas mais écrase)\n",
    "        \"\"\"\n",
    "        self.l = Arbre(element, None, None)\n",
    "        \n",
    "    def has_right(self):\n",
    "        \"\"\"\n",
    "        Teste s'il existe un sous-arbre droit.\n",
    "        \"\"\"\n",
    "        return self.r is not None\n",
    "    \n",
    "    def right(self):\n",
    "        \"\"\"\n",
    "        Retourne le sous-arbre droit.\n",
    "        \"\"\"\n",
    "        return self.r\n",
    "    \n",
    "    def append_right(self, element):\n",
    "        \"\"\"\n",
    "        Ajouter une feuille droite (attention: n'insère pas mais écrase)\n",
    "        \"\"\"\n",
    "        self.r = Arbre(element, None, None)\n",
    "        \n",
    "    def set_root(self, element):\n",
    "        \"\"\"\n",
    "        Modifier la valeur de la racine\n",
    "        \"\"\"\n",
    "        self.root = element\n",
    "        \n",
    "    def value(self):\n",
    "        \"\"\"\n",
    "        Retourne l'élément à la racine de l'arbre\n",
    "        \"\"\"\n",
    "        return self.root"
   ]
  },
  {
   "cell_type": "markdown",
   "metadata": {},
   "source": [
    "Arbre à utiliser pour ces exercices:"
   ]
  },
  {
   "cell_type": "code",
   "execution_count": null,
   "metadata": {},
   "outputs": [],
   "source": [
    "def fill(a, element):\n",
    "    if a.is_empty():\n",
    "        a.set_root(element)\n",
    "    elif element <= a.value():\n",
    "        if a.has_left():\n",
    "            fill(a.left(), element)\n",
    "        else:\n",
    "            a.append_left(element)\n",
    "    else:\n",
    "        if a.has_right():\n",
    "            fill(a.right(), element)\n",
    "        else:\n",
    "            a.append_right(element)\n",
    "\n",
    "arbre = Arbre()\n",
    "for e in [17, 22, 27, 13, 21, 28, 29, 5, 20, 9, 24, 2, 3, 15, 26, 12, 25, 16, 11, 19, 8, 10, 23, 4, 18, 14, 6, 7, 0, 1]:\n",
    "    fill(arbre, e)"
   ]
  },
  {
   "cell_type": "code",
   "execution_count": null,
   "metadata": {},
   "outputs": [],
   "source": [
    "# Pour dessiner l'arbre\n",
    "# (nécessite le module Python graphviz)\n",
    "\n",
    "from graphviz import Digraph\n",
    "\n",
    "def fill_graph(a, gv):\n",
    "    if a.is_empty():\n",
    "        return\n",
    "    # Ajouter le noeud\n",
    "    gv.node(str(a.value()))\n",
    "            \n",
    "    if a.has_left():\n",
    "        fill_graph(a.left(), gv)\n",
    "        gv.edge(str(a.value()), str(a.left().value()))\n",
    "    if a.has_right():\n",
    "        fill_graph(a.right(), gv)\n",
    "        gv.edge(str(a.value()), str(a.right().value()))\n",
    "        \n",
    "graph = Digraph()\n",
    "fill_graph(arbre, graph)\n",
    "graph"
   ]
  },
  {
   "cell_type": "markdown",
   "metadata": {},
   "source": [
    "## Exercice 1:\n",
    "\n",
    "Écrire 2 fonctions:\n",
    "- `taille()`: retourne le nombre de n&oelig;uds dans l'arbre.\n",
    "- `hauteur()`: retourne sa hauteur.\n",
    "\n",
    "*conseil: utiliser une approche diviser pour régner*"
   ]
  },
  {
   "cell_type": "code",
   "execution_count": null,
   "metadata": {},
   "outputs": [],
   "source": []
  },
  {
   "cell_type": "markdown",
   "metadata": {},
   "source": [
    "## Exercice 2:\n",
    "\n",
    "Afficher la valeur du n&oelig;ud:\n",
    "- le plus à gauche de l'arbre\n",
    "- le plus à droite de l'arbre"
   ]
  },
  {
   "cell_type": "code",
   "execution_count": null,
   "metadata": {},
   "outputs": [],
   "source": []
  },
  {
   "cell_type": "markdown",
   "metadata": {},
   "source": [
    "## Exercice 3:\n",
    "\n",
    "Afficher toutes les valeurs selon le parcours infixé."
   ]
  },
  {
   "cell_type": "code",
   "execution_count": null,
   "metadata": {},
   "outputs": [],
   "source": []
  }
 ],
 "metadata": {
  "kernelspec": {
   "display_name": "Python 3",
   "language": "python",
   "name": "python3"
  },
  "language_info": {
   "codemirror_mode": {
    "name": "ipython",
    "version": 3
   },
   "file_extension": ".py",
   "mimetype": "text/x-python",
   "name": "python",
   "nbconvert_exporter": "python",
   "pygments_lexer": "ipython3",
   "version": "3.7.9"
  }
 },
 "nbformat": 4,
 "nbformat_minor": 4
}
