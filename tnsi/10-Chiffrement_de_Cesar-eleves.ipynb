Utiliser ce document Jupyter-Notebook et suivre les indications fournies.

Mettre au point le programme en utilisant les images suivantes:

    Labyrinthe de la partie théorique.
    Labyrinthe plus complexe.
    Labyrinthe encore plus complexe.

Enregistrer (régulièrement) votre notebook (Fichier → Enregistrer sous...) et rendre la version finale en bas de cette page.

Tous les documents du cours sont autorisés (notamment la consultation des TP sur les graphes et les calculs d'itinéraires)
