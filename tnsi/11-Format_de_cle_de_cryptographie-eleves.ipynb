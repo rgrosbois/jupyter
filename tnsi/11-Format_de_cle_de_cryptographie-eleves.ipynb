{
 "cells": [
  {
   "cell_type": "markdown",
   "id": "empty-packing",
   "metadata": {
    "slideshow": {
     "slide_type": "slide"
    }
   },
   "source": [
    "# Format de clé de cryptographie"
   ]
  },
  {
   "cell_type": "markdown",
   "id": "comparable-manitoba",
   "metadata": {
    "slideshow": {
     "slide_type": "fragment"
    }
   },
   "source": [
    "Une clé d'algorithme de (dé-)chiffrement est un entier de très grande taille:\n",
    "\n",
    "- chiffrement symétrique: $\\leq$ 256 bits (32 octets)\n",
    "- chiffrement asymétrique: $\\ge$ 1024 bits (128 octets)"
   ]
  },
  {
   "cell_type": "markdown",
   "id": "desirable-arrest",
   "metadata": {
    "slideshow": {
     "slide_type": "slide"
    }
   },
   "source": [
    "## I. Séquence d'octets (`bytes`)\n",
    "\n",
    "Prenons l'exemple d'un entier sur 256 bits (exécuter plusieurs fois si nécessaire):"
   ]
  },
  {
   "cell_type": "code",
   "execution_count": null,
   "id": "senior-death",
   "metadata": {},
   "outputs": [],
   "source": [
    "import random\n",
    "i256 = random.randint(0, 2**256)\n",
    "print(i256)"
   ]
  },
  {
   "cell_type": "markdown",
   "id": "peripheral-transparency",
   "metadata": {
    "slideshow": {
     "slide_type": "fragment"
    }
   },
   "source": [
    "La *séquence* de 32 octets (type `bytes`) est obtenue avec:"
   ]
  },
  {
   "cell_type": "code",
   "execution_count": null,
   "id": "streaming-brazil",
   "metadata": {
    "scrolled": true
   },
   "outputs": [],
   "source": [
    "octets = i256.to_bytes(32, 'big')\n",
    "print(octets)"
   ]
  },
  {
   "cell_type": "markdown",
   "id": "upper-symposium",
   "metadata": {
    "slideshow": {
     "slide_type": "fragment"
    }
   },
   "source": [
    "<div class=\"alert alert-info\">\n",
    "\n",
    "L'affichage de la séquence fait apparaitre soit des caractères ASCII (lorsqu'ils sont affichables), soit les codes hexadécimaux (2 chiffres précédés par `\\x`)."
   ]
  },
  {
   "cell_type": "markdown",
   "id": "detailed-brand",
   "metadata": {
    "slideshow": {
     "slide_type": "subslide"
    }
   },
   "source": [
    "Pour récupérer la chaîne (`str`) de codes hexadécimaux:"
   ]
  },
  {
   "cell_type": "code",
   "execution_count": null,
   "id": "satisfactory-folder",
   "metadata": {},
   "outputs": [],
   "source": [
    "octets.hex()"
   ]
  },
  {
   "cell_type": "markdown",
   "id": "objective-phoenix",
   "metadata": {
    "slideshow": {
     "slide_type": "fragment"
    }
   },
   "source": [
    "Pour séparer les codes hexadécimaux dans la chaîne:"
   ]
  },
  {
   "cell_type": "code",
   "execution_count": null,
   "id": "proved-playing",
   "metadata": {},
   "outputs": [],
   "source": [
    "octets.hex(sep=':')"
   ]
  },
  {
   "cell_type": "markdown",
   "id": "removable-tiffany",
   "metadata": {
    "slideshow": {
     "slide_type": "subslide"
    }
   },
   "source": [
    "<div class=\"alert alert-danger\">\n",
    "    \n",
    "Compléter les instructions pour afficher, en hexadécimal, les 256 octets d'un entier aléatoire sur 2048 bits."
   ]
  },
  {
   "cell_type": "code",
   "execution_count": null,
   "id": "secure-answer",
   "metadata": {},
   "outputs": [],
   "source": [
    "# Instructions à compléter\n",
    "i2048 = \n"
   ]
  },
  {
   "cell_type": "markdown",
   "id": "enabling-things",
   "metadata": {
    "slideshow": {
     "slide_type": "subslide"
    }
   },
   "source": [
    "**Problématique:** quel format utiliser pour stocker ou transférer cette information *de nature binaire* sous une forme textuelle (c.à.d. avec uniquement des codes ASCII affichables) ?"
   ]
  },
  {
   "cell_type": "markdown",
   "id": "better-glasgow",
   "metadata": {
    "slideshow": {
     "slide_type": "fragment"
    }
   },
   "source": [
    "Nous allons nous intéresser aux deux représentations suivantes:\n",
    "\n",
    "- [II. Chaîne de caractères hexadécimaux](#hexa)\n",
    "- [III. Codage en base64](#base64)"
   ]
  },
  {
   "cell_type": "markdown",
   "id": "baking-graph",
   "metadata": {
    "slideshow": {
     "slide_type": "slide"
    }
   },
   "source": [
    "## II. Chaîne de caractères hexadécimaux <a name=\"hexa\"></a>\n",
    "\n",
    "Dans cette représentation, la valeur hexadécimale de chaque octet est directement écrite en ASCII (uniquement avec les caractères: `0`, `1`&hellip;`9`, `A`, `B`&hellip;`F`).\n",
    "\n",
    "Quelques considérations (il faut 2 caractères par octet):\n",
    "\n",
    "- un entier de 256 bits (32 octets) est représenté par: 64 caractères.\n",
    "- un entier de 1024 bits (128 octets) est représenté par: 256 caractères."
   ]
  },
  {
   "cell_type": "markdown",
   "id": "temporal-logan",
   "metadata": {
    "slideshow": {
     "slide_type": "subslide"
    }
   },
   "source": [
    "Quelques fonctions Python utiles:\n",
    "\n",
    "- La fonction `hex(x)` permet d'obtenir diretement la chaîne hexadécimale (préfixée par `0x`) correspondant à l'entier `x`."
   ]
  },
  {
   "cell_type": "code",
   "execution_count": null,
   "id": "present-press",
   "metadata": {},
   "outputs": [],
   "source": [
    "h = hex(i256)\n",
    "print(h)"
   ]
  },
  {
   "cell_type": "markdown",
   "id": "original-juvenile",
   "metadata": {
    "slideshow": {
     "slide_type": "fragment"
    }
   },
   "source": [
    "<div class=\"alert alert-info\">\n",
    "\n",
    "Note: pour enlever les 2 premiers caractères (`0x`), on peut utiliser un *slice*:"
   ]
  },
  {
   "cell_type": "code",
   "execution_count": null,
   "id": "designed-region",
   "metadata": {},
   "outputs": [],
   "source": [
    "h[2:]"
   ]
  },
  {
   "cell_type": "markdown",
   "id": "direct-breathing",
   "metadata": {
    "slideshow": {
     "slide_type": "subslide"
    }
   },
   "source": [
    "<div class=\"alert alert-danger\">\n",
    "    \n",
    "Utiliser la fonction `hex()` pour afficher la chaîne hexadécimale, sans le préfixe `0x`, correspondant à l'entier `i2048`"
   ]
  },
  {
   "cell_type": "code",
   "execution_count": null,
   "id": "artistic-madness",
   "metadata": {},
   "outputs": [],
   "source": [
    "# à compléter\n",
    "hex()"
   ]
  },
  {
   "cell_type": "markdown",
   "id": "celtic-presence",
   "metadata": {
    "slideshow": {
     "slide_type": "subslide"
    }
   },
   "source": [
    "- Note: la fonction `int(x, 16)` permet d'obtenir l'entier correspondant à une chaîne de caractères hexadécimaux `x` (préfixée ou non par `0x`)"
   ]
  },
  {
   "cell_type": "code",
   "execution_count": null,
   "id": "white-accent",
   "metadata": {},
   "outputs": [],
   "source": [
    "int('0x2912', base=16)"
   ]
  },
  {
   "cell_type": "markdown",
   "id": "answering-ireland",
   "metadata": {
    "slideshow": {
     "slide_type": "slide"
    }
   },
   "source": [
    "## III. Codage en base64 <a name=\"base64\"></a>\n",
    "\n",
    "Il faut 2 caractères pour représenter un octet avec une chaîne hexadécimale. Peut-on faire mieux ?\n",
    "\n",
    "- 1 caractère pour 1 octet ? &rarr; il n'y a pas 256 caractères affichages dans la table ASCII"
   ]
  },
  {
   "cell_type": "markdown",
   "id": "charming-powell",
   "metadata": {
    "slideshow": {
     "slide_type": "fragment"
    }
   },
   "source": [
    "- 1 caractère pour 6 bits &rarr; codage *base64*"
   ]
  },
  {
   "cell_type": "markdown",
   "id": "concerned-farming",
   "metadata": {
    "slideshow": {
     "slide_type": "fragment"
    }
   },
   "source": [
    "Le principe consiste à regrouper les bits par 6 et de remplacer chaque groupe par un caractère ASCII affichable (caractère *base64*):\n",
    "\n",
    "- Il faut (au minimum) 64 caractères ASCII affichables. En fait, un 65ème (`=`) sert de caractère de *complétion*.\n",
    "- Les caractères ASCII utilisés sont (dans l'ordre): `A`, `B`&hellip;`Z`, `a`, `b`&hellip;`z`, `0`, `1`&hellip;`9`, `+`, `/` (et `=`)"
   ]
  },
  {
   "cell_type": "markdown",
   "id": "expired-cruise",
   "metadata": {
    "slideshow": {
     "slide_type": "subslide"
    }
   },
   "source": [
    "Les instructions suivant permette de remplir une liste `b64` avec les caractères *base64* (dans l'ordre):"
   ]
  },
  {
   "cell_type": "code",
   "execution_count": null,
   "id": "spare-negative",
   "metadata": {},
   "outputs": [],
   "source": [
    "# Initialisation\n",
    "b64 = []\n",
    "# Caractères de A à Z\n",
    "for i in range(ord('A'), ord('Z')+1):\n",
    "    b64.append(chr(i))\n",
    "# Caractères de a à z\n",
    "for i in range(ord('a'), ord('z')+1):\n",
    "    b64.append(chr(i))\n",
    "# Chiffres de 0 à 9\n",
    "for i in range(10):\n",
    "    b64.append(str(i))\n",
    "# 3 derniers caractères\n",
    "b64.append('+')\n",
    "b64.append('/')\n",
    "b64.append('=')"
   ]
  },
  {
   "cell_type": "markdown",
   "id": "beautiful-intervention",
   "metadata": {
    "slideshow": {
     "slide_type": "fragment"
    }
   },
   "source": [
    "On vérifie que la liste fait la bonne taille"
   ]
  },
  {
   "cell_type": "code",
   "execution_count": null,
   "id": "aquatic-advice",
   "metadata": {},
   "outputs": [],
   "source": [
    "assert len(b64)==65, \"La liste ne fait pas la bonne taille\""
   ]
  },
  {
   "cell_type": "markdown",
   "id": "falling-treatment",
   "metadata": {
    "slideshow": {
     "slide_type": "subslide"
    }
   },
   "source": [
    "<div class=\"alert alert-danger\">\n",
    "\n",
    "Compléter les instructions pour peupler le dictionnaire `codes` qui associe à chaque caractère *base64* (=clé) son indice (=valeur) dans la liste `b64` précédente:"
   ]
  },
  {
   "cell_type": "code",
   "execution_count": null,
   "id": "completed-evaluation",
   "metadata": {},
   "outputs": [],
   "source": [
    "codes = {}\n",
    "# à compléter\n",
    "    "
   ]
  },
  {
   "cell_type": "markdown",
   "id": "productive-congo",
   "metadata": {
    "slideshow": {
     "slide_type": "fragment"
    }
   },
   "source": [
    "Vérifier certaines entrées:"
   ]
  },
  {
   "cell_type": "code",
   "execution_count": null,
   "id": "chief-number",
   "metadata": {},
   "outputs": [],
   "source": [
    "assert codes['A']==0,  \"A n'est pas associé au bon indice\"\n",
    "assert codes['a']==26, \"a n'est pas associé au bon indice\"\n",
    "assert codes['=']==64, \"= n'est pas associé au bon indice\""
   ]
  },
  {
   "cell_type": "markdown",
   "id": "premium-player",
   "metadata": {
    "slideshow": {
     "slide_type": "subslide"
    }
   },
   "source": [
    "Pour effectuer ce codage:\n",
    "\n",
    "1. on fusionne 3 octets consécutifs pour former un entier de 24 bits\n",
    "2. l'entier est ensuite divisé en 4 blocs de 6 bits.\n",
    "\n",
    "![Codage base64](https://snlpdo.fr/tnsi/img/11-base64.svg)"
   ]
  },
  {
   "cell_type": "markdown",
   "id": "remarkable-remedy",
   "metadata": {
    "slideshow": {
     "slide_type": "fragment"
    }
   },
   "source": [
    "Le contenu de chaque bloc s'obtient à l'aide d'opérations de décalage et de masque binaire:\n",
    "\n",
    "```python\n",
    "bloc4 = entier24       & 0b00111111\n",
    "bloc3 = (entier24>>6)  & 0b00111111\n",
    "bloc2 = (entier24>>12) & 0b00111111\n",
    "bloc1 = (entier24>>18) & 0b00111111\n",
    "```"
   ]
  },
  {
   "cell_type": "markdown",
   "id": "special-federation",
   "metadata": {
    "slideshow": {
     "slide_type": "subslide"
    }
   },
   "source": [
    "La fonction `bytes3_vers_base64()` ci-après permet de convertir 3 octets (=*séquence d'octets* de longueur 3) en 4 caractères *base64*, selon les 3 étapes suivantes:\n",
    "\n",
    "1. Récupération de la valeur de l'entier représenté par ces 3 octets.\n",
    "2. Découpage de cette valeur en 4 blocs de 6 bits à l'aide des opérateurs de décalage et de masques binaires appropriés.\n",
    "3. Renvoi des 4 caractères *base64* en utilisant la liste `b64`."
   ]
  },
  {
   "cell_type": "code",
   "execution_count": null,
   "id": "responsible-collapse",
   "metadata": {},
   "outputs": [],
   "source": [
    "def bytes3_vers_base64(octets):\n",
    "    assert len(octets) == 3, \"Mauvais nombre d'octets\"\n",
    "    \n",
    "    # Étape 1\n",
    "    val_entier = int(octets.hex(), base=16)\n",
    "    \n",
    "    # Étape 2\n",
    "    b1 = (val_entier>>18)&0x3F\n",
    "    b2 = (val_entier>>12)&0x3F\n",
    "    b3 = (val_entier>>6)&0x3F\n",
    "    b4 = val_entier&0x3F\n",
    "    \n",
    "    # Étape 3\n",
    "    return b64[b1]+b64[b2]+b64[b3]+b64[b4]"
   ]
  },
  {
   "cell_type": "markdown",
   "id": "light-stand",
   "metadata": {
    "slideshow": {
     "slide_type": "subslide"
    }
   },
   "source": [
    "On teste la fonction:"
   ]
  },
  {
   "cell_type": "code",
   "execution_count": null,
   "id": "drawn-hardwood",
   "metadata": {
    "scrolled": true
   },
   "outputs": [],
   "source": [
    "a = b'\\xc1\\x01\\x45' # correspond à 0xc10145\n",
    "bytes3_vers_base64(a)"
   ]
  },
  {
   "cell_type": "markdown",
   "id": "relevant-colony",
   "metadata": {
    "slideshow": {
     "slide_type": "fragment"
    }
   },
   "source": [
    "On valide ce résultat avec celui de la fonction `b64encode` du module `base64` de Python:"
   ]
  },
  {
   "cell_type": "code",
   "execution_count": null,
   "id": "progressive-murder",
   "metadata": {},
   "outputs": [],
   "source": [
    "import base64\n",
    "base64.b64encode(a)"
   ]
  },
  {
   "cell_type": "markdown",
   "id": "bridal-crash",
   "metadata": {
    "slideshow": {
     "slide_type": "subslide"
    }
   },
   "source": [
    "La fonction `int256_vers_base64` ci-après permet de convertir un entier de 256 bits (32 octets) en caractères *base64*, selon les 4 étapes suivantes:\n",
    "\n",
    "1. Conversion de l'entier en une séquence de 32 octets.\n",
    "2. Pour arriver à une longueur de 33 octets (c.à.d. multiple de 3), complétion de cette séquence en suffixant avec **un** octet nul (`b'\\x00'`).\n",
    "3. Traitement de la séquence par blocs de 3 octets et concaténation des résultats des appels à la fonction `bytes3_vers_base64`.\n",
    "4. Remplacement du dernier octet par **un** caractère `=` (pour indiquer que la séquence avait été *complétée* avec **un** octet nul)."
   ]
  },
  {
   "cell_type": "code",
   "execution_count": null,
   "id": "nearby-hungary",
   "metadata": {
    "slideshow": {
     "slide_type": "subslide"
    }
   },
   "outputs": [],
   "source": [
    "def int256_vers_base64(val):\n",
    "    # Étape 1: conversion de val en une séquence de 32 octets\n",
    "    octets = val.to_bytes(32, 'big')\n",
    "    \n",
    "    # Étape 2: complétion avec un octet nul\n",
    "    octets += b'\\x00'\n",
    "\n",
    "    # Étape 3: concaténation des résultats de conversions 3 par 3\n",
    "    conversion = ''\n",
    "    for i in range(0,len(octets),3):\n",
    "        conversion = conversion + bytes3_vers_base64(octets[i:i+3])\n",
    "        \n",
    "    # Étape 4: caractère de complétion\n",
    "    conversion = conversion[:-1]+'='\n",
    "    \n",
    "    return conversion"
   ]
  },
  {
   "cell_type": "code",
   "execution_count": null,
   "id": "extreme-pierre",
   "metadata": {
    "slideshow": {
     "slide_type": "fragment"
    }
   },
   "outputs": [],
   "source": [
    "# Test sur l'entier de 256 bits généré au début du TP\n",
    "int256_vers_base64(i256)"
   ]
  },
  {
   "cell_type": "markdown",
   "id": "speaking-input",
   "metadata": {
    "slideshow": {
     "slide_type": "fragment"
    }
   },
   "source": [
    "on compare le résultat avec celui de la fonction `b64encode` du module `base64` de Python."
   ]
  },
  {
   "cell_type": "code",
   "execution_count": null,
   "id": "fatal-outside",
   "metadata": {},
   "outputs": [],
   "source": [
    "# import base64\n",
    "res256 = base64.b64encode(i256.to_bytes(32, 'big'))\n",
    "print(res256)"
   ]
  },
  {
   "cell_type": "markdown",
   "id": "standard-upset",
   "metadata": {
    "slideshow": {
     "slide_type": "subslide"
    }
   },
   "source": [
    "<div class=\"alert alert-danger\">\n",
    "    \n",
    "Terminer la fonction `int2048_vers_base64` (en vous aidant de `int256_vers_base64`) pour obtenir le codage *base64* d'une clé de 2048 bits (**attention:** il faut compléter la séquence avec **2 octets nuls** pour obtenir une longueur divisible par 3). "
   ]
  },
  {
   "cell_type": "code",
   "execution_count": null,
   "id": "visible-business",
   "metadata": {},
   "outputs": [],
   "source": [
    "def int2048_vers_base64(val):\n",
    "    # Étape 1: conversion de val en une séquence de 256 octets\n",
    "    octets = val.to_bytes(256, 'big')\n",
    "    \n",
    "    # Étape 2: complétion avec deux octets nuls\n",
    "    octets += \n",
    "\n",
    "    # Étape 3: concaténation des résultats de conversions 3 par 3\n",
    "    conversion = ''\n",
    "    \n",
    "    \n",
    "    \n",
    "    # Étape 4: placer les 2 caractères de complétion\n",
    "    conversion = conversion[:-2]+'=='\n",
    "    \n",
    "    return conversion"
   ]
  },
  {
   "cell_type": "code",
   "execution_count": null,
   "id": "compound-princess",
   "metadata": {
    "slideshow": {
     "slide_type": "subslide"
    }
   },
   "outputs": [],
   "source": [
    "# Test sur l'entier de 2048 bits généré dans la première partie\n",
    "int2048_vers_base64(i2048)"
   ]
  },
  {
   "cell_type": "markdown",
   "id": "centered-empire",
   "metadata": {
    "slideshow": {
     "slide_type": "fragment"
    }
   },
   "source": [
    "Comparaison avec la fonction `b64encode` du module `base64` de Python:"
   ]
  },
  {
   "cell_type": "code",
   "execution_count": null,
   "id": "defined-builder",
   "metadata": {},
   "outputs": [],
   "source": [
    "# import base64\n",
    "res2048 = base64.b64encode(i2048.to_bytes(256, 'big'))\n",
    "print(res2048)"
   ]
  },
  {
   "cell_type": "markdown",
   "id": "appropriate-native",
   "metadata": {
    "slideshow": {
     "slide_type": "subslide"
    }
   },
   "source": [
    "<div class=\"alert alert-info\">\n",
    "    \n",
    "Note: la fonction `b64decode` du module `base64` de Python permet d'effectuer la conversion inverse:"
   ]
  },
  {
   "cell_type": "code",
   "execution_count": null,
   "id": "lesbian-metropolitan",
   "metadata": {},
   "outputs": [],
   "source": [
    "base64.b64decode(res256).hex()"
   ]
  }
 ],
 "metadata": {
  "celltoolbar": "Diaporama",
  "kernelspec": {
   "display_name": "Python 3",
   "language": "python",
   "name": "python3"
  },
  "language_info": {
   "codemirror_mode": {
    "name": "ipython",
    "version": 3
   },
   "file_extension": ".py",
   "mimetype": "text/x-python",
   "name": "python",
   "nbconvert_exporter": "python",
   "pygments_lexer": "ipython3",
   "version": "3.9.4"
  },
  "toc": {
   "base_numbering": 1,
   "nav_menu": {},
   "number_sections": false,
   "sideBar": false,
   "skip_h1_title": false,
   "title_cell": "Table of Contents",
   "title_sidebar": "Contents",
   "toc_cell": false,
   "toc_position": {},
   "toc_section_display": true,
   "toc_window_display": false
  }
 },
 "nbformat": 4,
 "nbformat_minor": 5
}
