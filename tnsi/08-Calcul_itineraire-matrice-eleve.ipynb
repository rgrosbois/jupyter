{
 "cells": [
  {
   "cell_type": "markdown",
   "id": "individual-gothic",
   "metadata": {
    "slideshow": {
     "slide_type": "slide"
    }
   },
   "source": [
    "# Mini-projet: calcul d'itinéraire routier\n",
    "\n",
    "On donne la carte routière simplifiée suivante:\n",
    "\n",
    "![carte routière simplifiée](https://snlpdo.fr/tnsi/img/07-carte_routiere.png)"
   ]
  },
  {
   "cell_type": "markdown",
   "id": "looking-horse",
   "metadata": {
    "slideshow": {
     "slide_type": "-"
    }
   },
   "source": [
    "## I. Version console\n",
    "\n",
    "L'objectif est d'écrire un code Python qui demande à l'utilisateur de saisir les villes de départ et d'arrivée puis qui calcule et affiche le meilleur itinéraire (avec toutes ses étapes)."
   ]
  },
  {
   "cell_type": "markdown",
   "id": "universal-elements",
   "metadata": {
    "slideshow": {
     "slide_type": "slide"
    }
   },
   "source": [
    "### 1. Représentation des données\n",
    "\n",
    "- Quelle structure de données abstraite permet de modéliser cette problématique ?"
   ]
  },
  {
   "cell_type": "markdown",
   "id": "unnecessary-necessity",
   "metadata": {
    "slideshow": {
     "slide_type": "fragment"
    }
   },
   "source": [
    "Un graphe"
   ]
  },
  {
   "cell_type": "markdown",
   "id": "looking-combat",
   "metadata": {
    "slideshow": {
     "slide_type": "subslide"
    }
   },
   "source": [
    "Définir une (ou plusieurs) variable(s)/objet(s) Python pour mémoriser les données de cette carte."
   ]
  },
  {
   "cell_type": "markdown",
   "id": "innocent-prerequisite",
   "metadata": {
    "slideshow": {
     "slide_type": "fragment"
    }
   },
   "source": [
    "- Liste des villes:"
   ]
  },
  {
   "cell_type": "code",
   "execution_count": null,
   "id": "functional-highlight",
   "metadata": {
    "slideshow": {
     "slide_type": "-"
    }
   },
   "outputs": [],
   "source": [
    "villes = ['Lyon', 'Albertville', 'Bourgoin-Jallieu', 'Chambéry', 'Voiron', 'Grenoble', 'Modane', 'Villard de Lans', \n",
    "          'Valence', 'Briançon']\n",
    "# Vérifier la longueur\n"
   ]
  },
  {
   "cell_type": "markdown",
   "id": "sunset-smell",
   "metadata": {
    "slideshow": {
     "slide_type": "fragment"
    }
   },
   "source": [
    "- Fonction pour retrouver l'index d'une ville:"
   ]
  },
  {
   "cell_type": "code",
   "execution_count": null,
   "id": "retired-radio",
   "metadata": {
    "slideshow": {
     "slide_type": "-"
    }
   },
   "outputs": [],
   "source": [
    "def index(nom, liste_villes):\n",
    "    # parcourir la liste jusqu'à retrouver le nom et retourner l'index\n",
    "    \n",
    "    \n",
    "    \n",
    "    # Ville non trouvée\n",
    "    return -1\n",
    "# Tester la fonction\n",
    "index('Grenoble', villes)"
   ]
  },
  {
   "cell_type": "markdown",
   "id": "toxic-chapter",
   "metadata": {
    "slideshow": {
     "slide_type": "subslide"
    }
   },
   "source": [
    "- Contenu du graphe dans une matrice d'adjacence:"
   ]
  },
  {
   "cell_type": "code",
   "execution_count": null,
   "id": "legendary-theory",
   "metadata": {
    "slideshow": {
     "slide_type": "-"
    }
   },
   "outputs": [],
   "source": [
    "# Matrice d'adjacence\n",
    "carte = [[float('inf') for i in range(len(villes))] for j in range(len(villes))]\n",
    "# Vérifier le contenu\n"
   ]
  },
  {
   "cell_type": "markdown",
   "id": "advised-worker",
   "metadata": {
    "slideshow": {
     "slide_type": "subslide"
    }
   },
   "source": [
    "Fonction d'aide pour remplir la matrice:"
   ]
  },
  {
   "cell_type": "code",
   "execution_count": null,
   "id": "educational-interference",
   "metadata": {
    "slideshow": {
     "slide_type": "-"
    }
   },
   "outputs": [],
   "source": [
    "def ajouter_route(graphe, liste_villes, depart, arrivee, distance):\n",
    "    # Vérification des préconditions\n",
    "    id_depart = index(depart, liste_villes)\n",
    "    assert id_depart!=-1, f\"La ville de départ {depart} n'existe pas.\"\n",
    "    id_arrivee = index(arrivee, liste_villes)\n",
    "    assert id_arrivee!=-1, f\"La ville d'arrivée {arrivee} n'existe pas.\"\n",
    "    \n",
    "    graphe[id_depart][id_arrivee] = distance\n",
    "    graphe[id_arrivee][id_depart] = distance"
   ]
  },
  {
   "cell_type": "code",
   "execution_count": null,
   "id": "cleared-absorption",
   "metadata": {
    "scrolled": true,
    "slideshow": {
     "slide_type": "subslide"
    }
   },
   "outputs": [],
   "source": [
    "# Ajouter les 14 routes de la carte\n",
    "ajouter_route(carte, villes, 'Lyon', 'Bourgoin-Jallieu', 50)\n",
    "ajouter_route(carte, villes, 'Lyon', 'Valence', 102)\n",
    "ajouter_route(carte, villes, 'Valence', 'Voiron', 87)\n",
    "ajouter_route(carte, villes, 'Valence', 'Villard de Lans', 69)\n",
    "ajouter_route(carte, villes, 'Villard de Lans', 'Grenoble', 39)\n",
    "ajouter_route(carte, villes, 'Bourgoin-Jallieu', 'Voiron', 46)\n",
    "ajouter_route(carte, villes, 'Bourgoin-Jallieu', 'Chambéry', 62)\n",
    "ajouter_route(carte, villes, 'Voiron', 'Grenoble', 26)\n",
    "ajouter_route(carte, villes, 'Grenoble', 'Chambéry', 60)\n",
    "ajouter_route(carte, villes, 'Grenoble', 'Briançon', 115)\n",
    "ajouter_route(carte, villes, 'Chambéry', 'Albertville', 53)\n",
    "ajouter_route(carte, villes, 'Chambéry', 'Modane', 103)\n",
    "ajouter_route(carte, villes, 'Albertville', 'Modane', 90)\n",
    "ajouter_route(carte, villes, 'Modane', 'Briançon', 60)\n",
    "# Vérifier le contenu\n"
   ]
  },
  {
   "cell_type": "markdown",
   "id": "british-arrest",
   "metadata": {
    "slideshow": {
     "slide_type": "subslide"
    }
   },
   "source": [
    "<div class=\"alert alert-info\">\n",
    "    \n",
    "<b>Piste de réflexion</b>\n",
    "\n",
    "Est-ce que votre représentation Python permet ?\n",
    "- de modifier une distance entre 2 villes voisines.\n",
    "- d'ajouter (ou enlever) facilement une ville et des routes sur la carte."
   ]
  },
  {
   "cell_type": "markdown",
   "id": "accepted-lawrence",
   "metadata": {
    "slideshow": {
     "slide_type": "fragment"
    }
   },
   "source": [
    "Cette version permet une modification rapide d'une distance entre 2 villes voisines mais pas d'ajout/supression sans recréer la matrice."
   ]
  },
  {
   "cell_type": "markdown",
   "id": "beneficial-charleston",
   "metadata": {
    "slideshow": {
     "slide_type": "slide"
    }
   },
   "source": [
    "### 2. Algorithme\n",
    "\n",
    "- Quel(s) algorithme(s), déjà rencontré en NSI, peut-être utilisé pour résoudre ce problème ?"
   ]
  },
  {
   "cell_type": "markdown",
   "id": "outside-therapy",
   "metadata": {
    "slideshow": {
     "slide_type": "fragment"
    }
   },
   "source": [
    "Moore-Dijkstra ou Bellman-Ford (avec des poids non unitaires)"
   ]
  },
  {
   "cell_type": "markdown",
   "id": "respective-option",
   "metadata": {
    "slideshow": {
     "slide_type": "fragment"
    }
   },
   "source": [
    "- Proposer une structure Python pour stocker un itinéraire (étapes et distances) sur cette carte *(prendre l'exemple Lyon-Bourgoin Jallieu-Voiron-Grenoble)*"
   ]
  },
  {
   "cell_type": "code",
   "execution_count": null,
   "id": "negative-description",
   "metadata": {
    "slideshow": {
     "slide_type": "fragment"
    }
   },
   "outputs": [],
   "source": [
    "it = [('Lyon', 0), ('Bourgoin Jallieu', 50), ('Voiron', 96), ('Grenoble', 122)]"
   ]
  },
  {
   "cell_type": "markdown",
   "id": "breathing-surveillance",
   "metadata": {
    "slideshow": {
     "slide_type": "subslide"
    }
   },
   "source": [
    "Pour utiliser un de ces 2 algorithmes de parcours il faut mémoriser, pour chaque sommet du graphe, les éléments suivants:\n",
    "- la distance (au sommet de départ pour *Moore-Dijkstra*, au sommet d'arrivée pour *Bellman-Ford*)\n",
    "- si il a déjà été sélectionné (*visité*) ?\n",
    "- son parent dans l'itinéraire optimal."
   ]
  },
  {
   "cell_type": "code",
   "execution_count": null,
   "id": "verbal-discretion",
   "metadata": {
    "slideshow": {
     "slide_type": "fragment"
    }
   },
   "outputs": [],
   "source": [
    "# On définit 3 nouvelles listes pour mémoriser:\n",
    "# - la distance à la ville de départ (infinie par défaut)\n",
    "# - les villes visitées (vrai ou faux)\n",
    "# - la ville précédente dans le parcours (-1 si pas de parent)\n",
    "def init_algo(liste_villes):\n",
    "    dist = [float('inf') for v in liste_villes]\n",
    "    vis = # à compléter\n",
    "    par = # à compléter\n",
    "    return dist, vis, par\n",
    "# Tester le fonctionnement\n",
    "d, v, p = init_algo(villes)\n",
    "villes, d, v, p"
   ]
  },
  {
   "cell_type": "markdown",
   "id": "grateful-florida",
   "metadata": {
    "slideshow": {
     "slide_type": "subslide"
    }
   },
   "source": [
    "Algorithme de Dijkstra:"
   ]
  },
  {
   "cell_type": "code",
   "execution_count": null,
   "id": "signal-blame",
   "metadata": {},
   "outputs": [],
   "source": [
    "def dijkstra(depart, liste_villes, graphe):\n",
    "    # Récupérer les listes utiles pour l'algo\n",
    "    distance, visite, parent = init_algo(liste_villes)\n",
    "    \n",
    "    # Ville de départ -> distance nulle\n",
    "    id_depart = index(depart, liste_villes)\n",
    "    assert id_depart!=-1, f\"La ville de départ {depart} n'existe pas.\"\n",
    "    ## à compléter\n",
    "    \n",
    "    while                            # Tant qu'il reste des sommets non visités\n",
    "        \n",
    "        # 1) Sélectionner la (première) ville non visitée de distance minimale\n",
    "        dist_min = float('inf')\n",
    "        i_min = -1\n",
    "        ## à compléter\n",
    "        \n",
    "        \n",
    "        ##\n",
    "        visite[i_min] = True\n",
    "\n",
    "        # 2) Ajouter les voisins immédiats de distance minimale (en tant qu'enfant)\n",
    "        for i in range(len(graphe[i_min])):\n",
    "            # à compléter\n",
    "            \n",
    "            ##\n",
    "                \n",
    "    return distance, parent"
   ]
  },
  {
   "cell_type": "markdown",
   "id": "harmful-butterfly",
   "metadata": {
    "slideshow": {
     "slide_type": "subslide"
    }
   },
   "source": [
    "Écrire une fonction qui retourne l'itinéraire optimal entre 2 villes données:"
   ]
  },
  {
   "cell_type": "code",
   "execution_count": null,
   "id": "biblical-network",
   "metadata": {
    "slideshow": {
     "slide_type": "fragment"
    }
   },
   "outputs": [],
   "source": [
    "def itineraire(depart, arrivee, liste_villes, graphe):\n",
    "    # Lancer l'algorithme (rem: non nécessaire si déjà calculé pour ce départ)\n",
    "    distance, parent = # à compléter\n",
    "    \n",
    "    # Ville d'arrivée\n",
    "    id_arrivee = index(arrivee, liste_villes)\n",
    "    assert id_arrivee!=-1, f\"La ville d'arrivée {arrivee} n'existe pas.\"\n",
    "    \n",
    "    # Construire le parcours\n",
    "    parcours = []\n",
    "    i = id_arrivee\n",
    "    id_depart = index(depart, liste_villes)\n",
    "    while             # Remonter jusqu'au sommet de départ\n",
    "        # à compléter\n",
    "        \n",
    "        ##\n",
    "        \n",
    "    # Ajouter la ville de départ\n",
    "    parcours.insert(0,(depart, 0))\n",
    "    \n",
    "    return parcours"
   ]
  },
  {
   "cell_type": "code",
   "execution_count": null,
   "id": "blond-greene",
   "metadata": {
    "slideshow": {
     "slide_type": "fragment"
    }
   },
   "outputs": [],
   "source": [
    "itineraire('Lyon', 'Grenoble', villes, carte)"
   ]
  },
  {
   "cell_type": "markdown",
   "id": "promising-stable",
   "metadata": {
    "slideshow": {
     "slide_type": "slide"
    }
   },
   "source": [
    "Écrire le programme de calcul d'itinéraire version console"
   ]
  },
  {
   "cell_type": "markdown",
   "id": "three-cuisine",
   "metadata": {},
   "source": [
    "## II. Version graphique\n",
    "\n",
    "Cahier des charges:\n",
    "- L'IHM est écrite en langage HTML (+JavaScript, CSS)\n",
    "- L'exécution de l'algorithme s'effectue sur un serveur Flask en langage Python."
   ]
  },
  {
   "cell_type": "markdown",
   "id": "municipal-skating",
   "metadata": {},
   "source": [
    "## III. Pistes d'amélioration\n",
    "\n",
    "- Augmenter le nombre de villes sur la carte.\n",
    "- Utiliser d'autres pondérations (temps de parcours&hellip;)\n",
    "- &hellip;"
   ]
  }
 ],
 "metadata": {
  "celltoolbar": "Format de la Cellule Texte Brut",
  "kernelspec": {
   "display_name": "Python 3",
   "language": "python",
   "name": "python3"
  },
  "language_info": {
   "codemirror_mode": {
    "name": "ipython",
    "version": 3
   },
   "file_extension": ".py",
   "mimetype": "text/x-python",
   "name": "python",
   "nbconvert_exporter": "python",
   "pygments_lexer": "ipython3",
   "version": "3.9.2"
  },
  "toc": {
   "base_numbering": 1,
   "nav_menu": {},
   "number_sections": false,
   "sideBar": false,
   "skip_h1_title": false,
   "title_cell": "Table of Contents",
   "title_sidebar": "Contents",
   "toc_cell": false,
   "toc_position": {},
   "toc_section_display": true,
   "toc_window_display": false
  }
 },
 "nbformat": 4,
 "nbformat_minor": 5
}
