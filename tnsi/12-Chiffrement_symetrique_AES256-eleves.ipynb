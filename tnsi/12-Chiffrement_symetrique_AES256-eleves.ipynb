{
 "cells": [
  {
   "cell_type": "markdown",
   "id": "abstract-audit",
   "metadata": {},
   "source": [
    "# Chiffrement symétrique avec AES-256-CBC\n",
    "\n",
    "*Advanced Encryption Standard*: basé sur l'algorithme Rijndael (Joan Daemen, Vincent Rijmen), sélectionné en 1997 par la U.S. NIST.\n",
    "\n",
    "<img src=\"https://snlpdo.fr/tnsi/img/12-aes.svg\" alt=\"AES\" width=\"600\">\n",
    "\n",
    "Caractéristiques :\n",
    "- Clé de 256 bits (autres possibilités: 128 bits et 192 bits)\n",
    "- Blocs de 128 bits (*block cipher*).\n",
    "- CBC (*Cipher Block Chaining*) est un des modes de fonctionnement d'AES avec :\n",
    "    - un vecteur d'initialisation (aléatoire) de 128 bits et \n",
    "    - des messages de longueurs multiples de 128 bits.\n",
    "\n",
    "<div class=\"alert alert-block alert-info\">\n",
    "\n",
    "La clé **et** le vecteur d'initialisation doivent être transmis au récepteur. Souvent:\n",
    "    \n",
    "- la clé est transmise/générée au début de la communication (en utilisant un algorithme asymétrique).\n",
    "- le vecteur d'initialisation est transmis en clair après chaque réinitialisation."
   ]
  },
  {
   "cell_type": "code",
   "execution_count": null,
   "id": "endless-bracket",
   "metadata": {},
   "outputs": [],
   "source": [
    "octets_message = \"\"\"Le message à transmettre\n",
    "sur plusieurs lignes avec des informations\n",
    "confidentielles, telles que mon mot de passe, \n",
    "ou les coordonnées de ma carte bancaire, mot numéro\n",
    "de compte...\"\"\".encode('utf-8')\n",
    "\n",
    "len(octets_message)"
   ]
  },
  {
   "cell_type": "markdown",
   "id": "tropical-somalia",
   "metadata": {},
   "source": [
    "## I. Rappels/compléments sur les fichiers binaires"
   ]
  },
  {
   "cell_type": "markdown",
   "id": "casual-applicant",
   "metadata": {},
   "source": [
    "- Créer un nouveau fichier `message.txt` contenant des octets &rarr; ouvrir en écrire un fichier binaire (mode `wb`)"
   ]
  },
  {
   "cell_type": "code",
   "execution_count": null,
   "id": "subject-membership",
   "metadata": {},
   "outputs": [],
   "source": [
    "with open('12-message.txt', 'wb') as fichier:\n",
    "    fichier.write(octets_message)"
   ]
  },
  {
   "cell_type": "markdown",
   "id": "helpful-animation",
   "metadata": {},
   "source": [
    "- Ouvrir un fichier contenant des octets &rarr; ouvrir en lecture un fichier binaire (mode `rb`):"
   ]
  },
  {
   "cell_type": "code",
   "execution_count": null,
   "id": "freelance-renewal",
   "metadata": {},
   "outputs": [],
   "source": [
    "with open('12-message.txt', 'rb') as fichier:\n",
    "    contenu = fichier.read()\n",
    "    \n",
    "print(contenu)"
   ]
  },
  {
   "cell_type": "markdown",
   "id": "consecutive-independence",
   "metadata": {},
   "source": [
    "## II. Mise en &oelig;uvre avec OpenSSL\n",
    "\n",
    "Si nécessaire, installer le paquet sur Fedora avec:\n",
    "```console\n",
    "$ sudo dnf install openssl\n",
    "```"
   ]
  },
  {
   "cell_type": "markdown",
   "id": "macro-region",
   "metadata": {},
   "source": [
    "### 1. Génération des paramètres\n",
    "\n",
    "- Clé aléatoire de 256 bits (32 octets) au format hexadécimal:"
   ]
  },
  {
   "cell_type": "code",
   "execution_count": null,
   "id": "fixed-missouri",
   "metadata": {},
   "outputs": [],
   "source": [
    "!openssl rand -hex -out 12-clesymetrique.hex 32\n",
    "\n",
    "# Affichage de la clé stockée dans le fichier\n",
    "with open('12-clesymetrique.hex', 'rb') as fichier:\n",
    "    print(fichier.read())"
   ]
  },
  {
   "cell_type": "markdown",
   "id": "personal-penny",
   "metadata": {},
   "source": [
    "- Vecteur d'initialisation aléatoire de 128 bits (16 octets) au format hexadécimal:"
   ]
  },
  {
   "cell_type": "code",
   "execution_count": null,
   "id": "religious-output",
   "metadata": {},
   "outputs": [],
   "source": [
    "!openssl rand -hex -out 12-iv.hex 16\n",
    "\n",
    "# Affichage du vecteur stocké dans le fichier\n",
    "with open('12-iv.hex', 'rb') as fichier:\n",
    "    print(fichier.read())"
   ]
  },
  {
   "cell_type": "markdown",
   "id": "together-insight",
   "metadata": {},
   "source": [
    "### 2. Chiffrement du message"
   ]
  },
  {
   "cell_type": "code",
   "execution_count": null,
   "id": "criminal-statistics",
   "metadata": {},
   "outputs": [],
   "source": [
    "!openssl enc -aes-256-cbc -in 12-message.txt -out 12-message.txt.enc -K $(cat 12-clesymetrique.hex) -iv $(cat 12-iv.hex)\n",
    "\n",
    "# Affichage du message chiffré dans le fichier\n",
    "with open('12-message.txt.enc', 'rb') as fichier:\n",
    "    print(fichier.read())"
   ]
  },
  {
   "cell_type": "markdown",
   "id": "hearing-cedar",
   "metadata": {},
   "source": [
    "### 3. Déchiffrement du message"
   ]
  },
  {
   "cell_type": "code",
   "execution_count": null,
   "id": "typical-local",
   "metadata": {},
   "outputs": [],
   "source": [
    "!openssl enc -d -aes-256-cbc -in 12-message.txt.enc -out 12-recup_message.txt -K $(cat 12-clesymetrique.hex) -iv $(cat 12-iv.hex)\n",
    "\n",
    "# Affichage du message récupéré\n",
    "with open('12-recup_message.txt', 'rb') as fichier:\n",
    "    print(fichier.read())"
   ]
  },
  {
   "cell_type": "markdown",
   "id": "bronze-verification",
   "metadata": {},
   "source": [
    "## III. Mise en &oelig;uvre avec Python\n",
    "\n",
    "Si nécessaire, installer le module `pycryptodome`:\n",
    "```console\n",
    "$ pip install pycryptodome\n",
    "```"
   ]
  },
  {
   "cell_type": "code",
   "execution_count": null,
   "id": "caroline-slovak",
   "metadata": {},
   "outputs": [],
   "source": [
    "from Crypto.Cipher import AES"
   ]
  },
  {
   "cell_type": "markdown",
   "id": "canadian-commission",
   "metadata": {},
   "source": [
    "- Générer une clé aléatoire de 32 octets (256 bits) au format hexadécimal:"
   ]
  },
  {
   "cell_type": "code",
   "execution_count": null,
   "id": "known-kidney",
   "metadata": {},
   "outputs": [],
   "source": [
    "import random\n",
    "cle32 = random.randint(0,2**256)\n",
    "cle32 = cle32.to_bytes(32, 'big')\n",
    "cle32"
   ]
  },
  {
   "cell_type": "markdown",
   "id": "resident-attachment",
   "metadata": {},
   "source": [
    "- Générer un vecteur d'initialisation de 16 octets (128 bits) au format hexadécimal:"
   ]
  },
  {
   "cell_type": "code",
   "execution_count": null,
   "id": "smooth-sweden",
   "metadata": {},
   "outputs": [],
   "source": [
    "iv16 = random.randint(0,2**128)\n",
    "iv16 = iv16.to_bytes(16, 'big')\n",
    "iv16"
   ]
  },
  {
   "cell_type": "markdown",
   "id": "unlimited-yemen",
   "metadata": {},
   "source": [
    "- Compléter le message pour qu'il ait une longueur multiple de 128 bits (16 octets). Les octets supplémentaires ont tous la même valeur correspondant au nombre d'octets ajoutés."
   ]
  },
  {
   "cell_type": "code",
   "execution_count": null,
   "id": "needed-invalid",
   "metadata": {},
   "outputs": [],
   "source": [
    "longueur = 16 - (len(octets_message)%16)\n",
    "message_complete = octets_message + bytes([longueur])*longueur\n",
    "message_complete, len(message_complete)"
   ]
  },
  {
   "cell_type": "markdown",
   "id": "opposed-architect",
   "metadata": {},
   "source": [
    "- Chiffrement"
   ]
  },
  {
   "cell_type": "code",
   "execution_count": null,
   "id": "experienced-pricing",
   "metadata": {},
   "outputs": [],
   "source": [
    "aes = AES.new(cle32, AES.MODE_CBC, iv=iv16)\n",
    "message_chiffre = aes.encrypt(message_complete)\n",
    "message_chiffre"
   ]
  },
  {
   "cell_type": "markdown",
   "id": "departmental-floor",
   "metadata": {},
   "source": [
    "- Déchiffrement:"
   ]
  },
  {
   "cell_type": "code",
   "execution_count": null,
   "id": "hazardous-niger",
   "metadata": {},
   "outputs": [],
   "source": [
    "aes2 = AES.new(cle32, AES.MODE_CBC, iv=iv16)\n",
    "aes2.decrypt(message_chiffre)"
   ]
  },
  {
   "cell_type": "markdown",
   "id": "educational-seattle",
   "metadata": {},
   "source": [
    "- Mise en &oelig;uvre avec la clé et le vecteur générés avec OpenSSL"
   ]
  },
  {
   "cell_type": "code",
   "execution_count": null,
   "id": "growing-marine",
   "metadata": {},
   "outputs": [],
   "source": [
    "# Lecture de la clé hexadécimale\n",
    "with open('12-clesymetrique.hex', 'r') as fichier:\n",
    "    cle32 = fichier.read()\n",
    "    cle32 = int(cle32,base=16).to_bytes(32, 'big')\n",
    "    \n",
    "# Lecture du vecteur d'initialisation hexadécimal\n",
    "with open('12-iv.hex', 'r') as fichier:\n",
    "    iv16 = fichier.read()\n",
    "    iv16 = int(iv16,base=16).to_bytes(16, 'big')\n",
    "\n",
    "# Lecture du fichier binaire chiffré\n",
    "with open('12-message.txt.enc', 'rb') as fichier:\n",
    "    message_chiffre = fichier.read()\n",
    "    \n",
    "aes2 = AES.new(cle32, AES.MODE_CBC, iv=iv16)\n",
    "aes2.decrypt(message_chiffre)"
   ]
  },
  {
   "cell_type": "code",
   "execution_count": null,
   "id": "convenient-liabilities",
   "metadata": {},
   "outputs": [],
   "source": [
    "aes = AES.new(cle32, AES.MODE_CBC, iv=iv16)\n",
    "message_chiffre = aes.encrypt(message_complete)\n",
    "message_chiffre"
   ]
  },
  {
   "cell_type": "code",
   "execution_count": null,
   "id": "smart-crazy",
   "metadata": {},
   "outputs": [],
   "source": []
  }
 ],
 "metadata": {
  "kernelspec": {
   "display_name": "Python 3",
   "language": "python",
   "name": "python3"
  },
  "language_info": {
   "codemirror_mode": {
    "name": "ipython",
    "version": 3
   },
   "file_extension": ".py",
   "mimetype": "text/x-python",
   "name": "python",
   "nbconvert_exporter": "python",
   "pygments_lexer": "ipython3",
   "version": "3.9.4"
  },
  "toc": {
   "base_numbering": 1,
   "nav_menu": {},
   "number_sections": false,
   "sideBar": false,
   "skip_h1_title": false,
   "title_cell": "Table of Contents",
   "title_sidebar": "Contents",
   "toc_cell": false,
   "toc_position": {},
   "toc_section_display": true,
   "toc_window_display": false
  }
 },
 "nbformat": 4,
 "nbformat_minor": 5
}
