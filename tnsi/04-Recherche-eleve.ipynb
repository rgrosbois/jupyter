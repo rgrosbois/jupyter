{
 "cells": [
  {
   "cell_type": "markdown",
   "id": "a899443b",
   "metadata": {},
   "source": [
    "# Recherche d'élément dans une liste\n",
    "\n",
    "(avec des approches diviser pour régner)"
   ]
  },
  {
   "cell_type": "code",
   "execution_count": null,
   "id": "dc34c0e0",
   "metadata": {},
   "outputs": [],
   "source": [
    "from typeguard import typechecked\n",
    "import random"
   ]
  },
  {
   "cell_type": "code",
   "execution_count": null,
   "id": "948c0f0d",
   "metadata": {},
   "outputs": [],
   "source": [
    "@typechecked\n",
    "def gen_liste_aleatoire(nb:int , minimum:int =0, maximum:int =100) -> list[int] :\n",
    "    \"\"\" \n",
    "    Création d'une liste aléatoire de nb entiers \n",
    "    entre minimum et maximum (inclus) \n",
    "    \"\"\"\n",
    "    \n",
    "    # utiliser une compréhension\n",
    "    return "
   ]
  },
  {
   "cell_type": "code",
   "execution_count": null,
   "id": "e63ccbac",
   "metadata": {
    "scrolled": true
   },
   "outputs": [],
   "source": [
    "ma_liste = gen_liste_aleatoire(16)\n",
    "ma_liste"
   ]
  },
  {
   "cell_type": "markdown",
   "id": "ecfb1e8c",
   "metadata": {},
   "source": [
    "## I. Élément quelconque"
   ]
  },
  {
   "cell_type": "markdown",
   "id": "4de64929",
   "metadata": {},
   "source": [
    "### 1. Dans une liste aléatoire"
   ]
  },
  {
   "cell_type": "markdown",
   "id": "92b8be81",
   "metadata": {},
   "source": [
    "- Algorithme de base:"
   ]
  },
  {
   "cell_type": "code",
   "execution_count": null,
   "id": "67c03753",
   "metadata": {},
   "outputs": [],
   "source": [
    "@typechecked\n",
    "def recherche(element:int, liste: list[int]) -> bool:\n",
    "    \"\"\"\n",
    "    Recherche si un élément est présent dans une liste quelconque.\n",
    "    \"\"\"\n",
    "    \n",
    "    # à compléter\n",
    "    "
   ]
  },
  {
   "cell_type": "code",
   "execution_count": null,
   "id": "ed73c6b6",
   "metadata": {
    "scrolled": true
   },
   "outputs": [],
   "source": [
    "# tester avec un élément présent\n",
    "recherche(13, ma_liste)"
   ]
  },
  {
   "cell_type": "code",
   "execution_count": null,
   "id": "28c0052f",
   "metadata": {
    "scrolled": true
   },
   "outputs": [],
   "source": [
    "# tester avec un élément absent\n",
    "recherche(7, ma_liste)"
   ]
  },
  {
   "cell_type": "markdown",
   "id": "857e4bce",
   "metadata": {},
   "source": [
    "<div class=\"alert alert-info\">\n",
    "\n",
    "Combien de comparaisons sont réalisées pour une liste de *n* éléments ? (au pire, au mieux, en moyenne)"
   ]
  },
  {
   "cell_type": "markdown",
   "id": "764d64e9",
   "metadata": {},
   "source": [
    "- Approche diviser pour régner:"
   ]
  },
  {
   "cell_type": "code",
   "execution_count": null,
   "id": "21f443cf",
   "metadata": {},
   "outputs": [],
   "source": [
    "def recherche_dpr(element, liste):\n",
    "    longueur = len(liste)\n",
    "    \n",
    "    if longueur==0: # régner (cas élémentaire)\n",
    "        ...\n",
    "    elif longueur==1: # régner (cas élémentaire)\n",
    "        ...\n",
    "    else: # diviser puis combiner\n",
    "        ...\n",
    "        # Dans partie gauche ou dans partie droite\n",
    "        return ..."
   ]
  },
  {
   "cell_type": "code",
   "execution_count": null,
   "id": "0c615e01",
   "metadata": {
    "scrolled": true
   },
   "outputs": [],
   "source": [
    "# tester avec un élément présent\n",
    "recherche_dpr(13, ma_liste)"
   ]
  },
  {
   "cell_type": "code",
   "execution_count": null,
   "id": "7e436a76",
   "metadata": {
    "scrolled": true
   },
   "outputs": [],
   "source": [
    "# tester avec un élément absent\n",
    "recherche_dpr(7, ma_liste)"
   ]
  },
  {
   "cell_type": "markdown",
   "id": "8e5820d4",
   "metadata": {},
   "source": [
    "<div class=\"alert alert-info\">\n",
    "\n",
    "Modifier `recherche_dpr()` afin de comptabiliser le nombre de comparaison effectuées."
   ]
  },
  {
   "cell_type": "markdown",
   "id": "21a2ba6d",
   "metadata": {},
   "source": [
    "### 2. Dans une liste triée"
   ]
  },
  {
   "cell_type": "code",
   "execution_count": null,
   "id": "d959b2c5",
   "metadata": {},
   "outputs": [],
   "source": [
    "# Trier la liste\n",
    "ma_liste_triee = sorted(ma_liste) \n",
    "ma_liste_triee"
   ]
  },
  {
   "cell_type": "markdown",
   "id": "08456d1e",
   "metadata": {},
   "source": [
    "<div class=\"alert alert-info\">\n",
    "\n",
    "De quel algorithme (classique) s'agit-il ?"
   ]
  },
  {
   "cell_type": "markdown",
   "id": "e04740f7",
   "metadata": {},
   "source": [
    "<div class=\"alert alert-info\">\n",
    "\n",
    "Compléter (au moins) une des 2 versions d'implémentation suivantes:"
   ]
  },
  {
   "cell_type": "markdown",
   "id": "c1e50b17",
   "metadata": {},
   "source": [
    "- version itérative"
   ]
  },
  {
   "cell_type": "code",
   "execution_count": null,
   "id": "c2699cd3",
   "metadata": {},
   "outputs": [],
   "source": [
    "def dichotomie(tab:list[int], x:int) -> bool:\n",
    "    \"\"\"\n",
    "    tab : tableau trié dans l’ordre croissant\n",
    "    Renvoie True si tab contient x et False sinon\n",
    "    \"\"\"\n",
    "    if x<tab[0] or x>tab[-1]: # trop petite ou trop grande\n",
    "        ...\n",
    "    \n",
    "    # indices de recherche (inclus)\n",
    "    i_debut = ...\n",
    "    i_fin = ...\n",
    "    while ...\n",
    "        i_milieu = ...\n",
    "        \n",
    "        if x == tab[i_milieu]:\n",
    "            ...\n",
    "        elif x > tab[i_milieu]:\n",
    "            ...\n",
    "        else:\n",
    "            ...\n",
    "            \n",
    "    return ..."
   ]
  },
  {
   "cell_type": "code",
   "execution_count": null,
   "id": "217c5c0b",
   "metadata": {
    "scrolled": true
   },
   "outputs": [],
   "source": [
    "dichotomie(ma_liste_triee, 13)"
   ]
  },
  {
   "cell_type": "code",
   "execution_count": null,
   "id": "91e3b9e9",
   "metadata": {},
   "outputs": [],
   "source": [
    "dichotomie(ma_liste_triee, 17)"
   ]
  },
  {
   "cell_type": "markdown",
   "id": "535c5423",
   "metadata": {},
   "source": [
    "- version récursive (en restant dans la liste initiale):"
   ]
  },
  {
   "cell_type": "code",
   "execution_count": null,
   "id": "aff0b11b",
   "metadata": {},
   "outputs": [],
   "source": [
    "def dichotomique_recursive(element: int, liste: list[int], i_debut:int =0, i_fin:int = None) -> int:\n",
    "    \"\"\"\n",
    "    Recherche si element est présent dans liste entre l'index i_debut (inclu) et i_fin (non inclu).\n",
    "    \"\"\"\n",
    "    \n",
    "    # Préconditions\n",
    "    if i_fin is None: # initialisation pour premier appel\n",
    "        i_fin = ...\n",
    "    if i_debut==i_fin: # liste vide\n",
    "        ...\n",
    "\n",
    "    # Algorithme\n",
    "    i_milieu = ...\n",
    "    if element == liste[i_milieu]: # élément trouvé\n",
    "        ...\n",
    "    elif i_fin == i_debut+1: # L'élément n'est pas présent\n",
    "        ...\n",
    "    elif element<liste[i_milieu]: # l'élément est plus petit -> rechercher à gauche\n",
    "        ...\n",
    "    else: # l'élément est plus grand -> rechercher à droite\n",
    "        ..."
   ]
  },
  {
   "cell_type": "code",
   "execution_count": null,
   "id": "2a3ee1c2",
   "metadata": {},
   "outputs": [],
   "source": [
    "# tester avec un élément présent\n",
    "dichotomique_recursive(13, ma_liste_triee)"
   ]
  },
  {
   "cell_type": "code",
   "execution_count": null,
   "id": "fe381a83",
   "metadata": {},
   "outputs": [],
   "source": [
    "# tester avec un élément absent\n",
    "dichotomique_recursive(7, ma_liste_triee, cpt), cpt"
   ]
  },
  {
   "cell_type": "markdown",
   "id": "575890c8",
   "metadata": {},
   "source": [
    "<div class=\"alert alert-info\">\n",
    "\n",
    "Modifier une de ces 2 implémentations afin de comptabiliser le nombre de comparaison effectuées."
   ]
  },
  {
   "cell_type": "markdown",
   "id": "cab4b91d",
   "metadata": {},
   "source": [
    "## II. Extremum\n",
    "\n",
    "- Dans le cas d'une liste triée, la complexité est en $o(1)$ car il s'agit du premier/dernier élément.\n",
    "\n",
    "- Si elle n'est pas triée : "
   ]
  },
  {
   "cell_type": "code",
   "execution_count": null,
   "id": "ecd23f4f",
   "metadata": {},
   "outputs": [],
   "source": [
    "def min_max(liste:list[int]) -> tuple:\n",
    "    \n",
    "    # Recherche du minimum\n",
    "    mini = ...\n",
    "    for i in ...\n",
    "        ...\n",
    "            \n",
    "    # Recherche du maximum\n",
    "    maxi = ...\n",
    "    for i in ...\n",
    "        ...\n",
    "    \n",
    "    return mini, maxi"
   ]
  },
  {
   "cell_type": "code",
   "execution_count": null,
   "id": "6660903e",
   "metadata": {},
   "outputs": [],
   "source": [
    "min_max(ma_liste)"
   ]
  },
  {
   "cell_type": "markdown",
   "id": "2fb96a7b",
   "metadata": {},
   "source": [
    "<div class=\"alert alert-info\">\n",
    "\n",
    "Modifier `min_max` afin de comptabiliser le nombre de comparaison effectuées."
   ]
  },
  {
   "cell_type": "markdown",
   "id": "98cf4baf",
   "metadata": {},
   "source": [
    "**approche divisée pour régner**\n",
    "\n",
    "(remarque: pour *simplifier* le code, nous nous effectuons des *recopies* de portions de liste pour la partie *diviser*. Pour une gestion optimale de la mémoire de manière optimale, il faudrait travailler à l'intérieur d'une même liste avec des indices de début et de fin)"
   ]
  },
  {
   "cell_type": "code",
   "execution_count": null,
   "id": "44d6c0f2",
   "metadata": {},
   "outputs": [],
   "source": [
    "def recherche_min_max(liste:list[int]) -> tuple:\n",
    "    \"\"\" \n",
    "    Renvoie un tuple avec le minimum puis le maximum d'une liste\n",
    "    (on suppose que la liste n'est pas vide)\n",
    "    \"\"\"\n",
    "    if len(liste)==1:\n",
    "        ...\n",
    "    elif len(liste)==2:\n",
    "        ...\n",
    "    else:\n",
    "        i_milieu = ...\n",
    "        \n",
    "        min1,max1 = ...\n",
    "        min2,max2 = ...\n",
    "        \n",
    "        ...\n",
    "        \n",
    "        return ..."
   ]
  },
  {
   "cell_type": "code",
   "execution_count": null,
   "id": "6d64384e",
   "metadata": {},
   "outputs": [],
   "source": [
    "recherche_min_max(ma_liste)"
   ]
  },
  {
   "cell_type": "markdown",
   "id": "8f71b37e",
   "metadata": {},
   "source": [
    "<div class=\"alert alert-info\">\n",
    "\n",
    "Modifier `recherche_min_max` afin de comptabiliser le nombre de comparaison effectuées."
   ]
  },
  {
   "cell_type": "code",
   "execution_count": null,
   "id": "625cd575",
   "metadata": {},
   "outputs": [],
   "source": []
  }
 ],
 "metadata": {
  "kernelspec": {
   "display_name": "Python 3 (ipykernel)",
   "language": "python",
   "name": "python3"
  },
  "language_info": {
   "codemirror_mode": {
    "name": "ipython",
    "version": 3
   },
   "file_extension": ".py",
   "mimetype": "text/x-python",
   "name": "python",
   "nbconvert_exporter": "python",
   "pygments_lexer": "ipython3",
   "version": "3.10.0"
  }
 },
 "nbformat": 4,
 "nbformat_minor": 5
}
