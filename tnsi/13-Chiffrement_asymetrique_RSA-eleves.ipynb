{
 "cells": [
  {
   "cell_type": "markdown",
   "id": "induced-sarah",
   "metadata": {},
   "source": [
    "# Chiffrement asymétrique avec RSA\n",
    "\n",
    "(**R**ivest, **S**hamir, **A**dleman, 1977)\n",
    "\n",
    "<img src=\"https://snlpdo.fr/tnsi/img/13-rsa.svg\" width=\"400\" alt=\"RSA\">\n",
    "\n",
    "Il s'agit de l'algorithme de chiffrement asymétrique le plus utilisé de nos jours."
   ]
  },
  {
   "cell_type": "markdown",
   "id": "exterior-arrangement",
   "metadata": {},
   "source": [
    "## I. Principe de fonctionnement\n",
    "\n",
    "Les opérations de chiffrement et déchiffrement utilisent les opérateurs **puissance** (`**`) et **modulo** (`%`) et s'effectuent de la manière suivante:\n",
    "\n",
    "```python\n",
    "# Chiffrement\n",
    "message_chiffré = (message_clair ** exposant_chiffrement) % module\n",
    "\n",
    "# Déchiffement\n",
    "message_déchiffré = (message_chiffré ** exposant_dechiffrement) % module\n",
    "```\n",
    "\n",
    "avec:\n",
    "- le module est identique pour le chiffrement et le déchiffrement. C'est un entier de très grande taille (de préférence $\\ge$ 1024 bits)\n",
    "\n",
    "- `exposant_chiffrement` et `exposant_dechiffrement` sont **différents** et on ne peut pas (*facilement*) déduire l'un depuis l'autre. Le premier très souvent rendu **publique** (`publicExponent`, valeur classique=65537) et le deuxième reste **privé**.\n",
    "\n"
   ]
  },
  {
   "cell_type": "markdown",
   "id": "structured-brook",
   "metadata": {},
   "source": [
    "<div class=\"alert alert-block alert-warning\">\n",
    "    \n",
    "Remarques pratiques:\n",
    "- Pour que ces opérations soit réversibles, il faut que `message` soit plus petit que `module` (ou décomposé en valeurs plus petites que `module`). En pratique, on utilise surtout RSA pour chiffrer des clés symétriques ou des empreintes numériques (~256 bits).\n",
    "- Pour accélérer les opérations de chiffrement et déchiffrement, on utilise un algorithme d'*exponentiation rapide*  au lieu des opérateurs *puissance* et *modulo* classiques (Cf. fonction `pow` à 3 arguments de Python)."
   ]
  },
  {
   "cell_type": "markdown",
   "id": "geological-language",
   "metadata": {},
   "source": [
    "## II. Clés publique et privée\n",
    "\n",
    "Le module (`modulus`) est une donnée publique. Pour assurer la **confidentialité** d'un message:\n",
    "\n",
    "- l'exposant de chiffrement est publique (`publicExponent`, de valeur habituelle 65537). La **clé publique** correspond au couple (`modulus`, `publicExponent`)\n",
    "- l'exposant de déchiffrement est privé (`privateExponent`). Cette valeur étant beaucoup plus grande que l'exposant publique, on utilise généralement l'algorithme CRT (*Chinese Remainder Theorem*, basé sur 2 autres exposants `exponent1`, `exponent2` et un `coefficient`) pour accélérer l'opération de déchiffrement. La **clé privée** contient au minimum le couple (`modulus`, `publicExponent`) mais bien souvent aussi (`exponent1`, `exponent2`, `coefficient`) voire aussi `publicExponent` (pour information), `prime1` et `prime2`."
   ]
  },
  {
   "cell_type": "markdown",
   "id": "federal-classics",
   "metadata": {},
   "source": [
    "<div class=\"alert alert-block alert-warning\">\n",
    "\n",
    "Remarque: pour **authentifier** l'expéditeur à l'aide de RSA, le chiffrement s'effectuerait avec la clé privée et le déchiffrement avec la clé publique."
   ]
  },
  {
   "cell_type": "markdown",
   "id": "focused-natural",
   "metadata": {},
   "source": [
    "### 1. Détails mathématiques\n",
    "\n",
    "*(cette section est très largement hors programme pour la Terminale NSI)*"
   ]
  },
  {
   "cell_type": "markdown",
   "id": "incoming-piano",
   "metadata": {},
   "source": [
    "La génération des clés s'effectue de la manière suivante:\n",
    "\n",
    "1. On choisit 2 nombres **premiers** `prime1` et `prime2` très grand et on pose:\n",
    "    ```python\n",
    "    modulus = prime1 * prime2\n",
    "    ```\n",
    "2. On choisit l'entier `publicExponent` tel qu'il soit premier avec le nombre `(prime1-1)*(prime2-1)` &rarr; on prend très souvent le 4ème nombre premier de Fermat (=65537 ou `F4`).\n",
    "\n",
    "3. On déduit `privateExponent` en résolvant (le théorème de Bezout indique qu'il existe un entier `k` tel que) :\n",
    "    ```python\n",
    "    privateExponent * publicExponent = 1 + k*(prime1-1)*(prime2-1)\n",
    "    ```"
   ]
  },
  {
   "cell_type": "markdown",
   "id": "addressed-communications",
   "metadata": {},
   "source": [
    "<div class=\"alert alert-block alert-info\">\n",
    "    \n",
    "Remarque: les mathématiciens utilisent généralement d'autre notations\n",
    "- `prime1` &rarr; `p`\n",
    "- `prime2` &rarr; `q`\n",
    "- `modulus` &rarr; `n` (`n=p*q`)\n",
    "- `publicExponent` &rarr; `e`\n",
    "- `privateExponent` &rarr; `d`"
   ]
  },
  {
   "cell_type": "markdown",
   "id": "right-concept",
   "metadata": {},
   "source": [
    "### 2. Génération avec OpenSSL\n",
    "\n",
    "Si nécessaire, installer le paquet sur Fedora avec:\n",
    "```console\n",
    "$ sudo dnf install openssl\n",
    "```\n",
    "\n",
    "Pour générer une clé privée avec un module de 1024 bits:"
   ]
  },
  {
   "cell_type": "code",
   "execution_count": null,
   "id": "cross-orientation",
   "metadata": {
    "scrolled": true
   },
   "outputs": [],
   "source": [
    "!openssl genrsa -out 13-macleprivee.pem 1024"
   ]
  },
  {
   "cell_type": "markdown",
   "id": "concerned-april",
   "metadata": {},
   "source": [
    "<div class=\"alert alert-block alert-info\">\n",
    "    \n",
    "La clé privée est codée en *base64* (selon le format ASN.1) dans le fichier `macleprivee.pem`, entre les délimiteurs `--BEGIN PRIVATE KEY--` et `--END PRIVATE KEY--`."
   ]
  },
  {
   "cell_type": "markdown",
   "id": "stretch-appointment",
   "metadata": {},
   "source": [
    "Manipulation des informations contenues dans ce fichier:\n",
    "\n",
    "- extraction de la clé publique (dans le fichier `maclepublique.pem`):"
   ]
  },
  {
   "cell_type": "code",
   "execution_count": null,
   "id": "working-execution",
   "metadata": {},
   "outputs": [],
   "source": [
    "!openssl rsa -in 13-macleprivee.pem -pubout -out 13-maclepublique.pem"
   ]
  },
  {
   "cell_type": "markdown",
   "id": "authorized-valley",
   "metadata": {},
   "source": [
    "- afficher les paramètres RSA contenus dans ces 2 fichiers:"
   ]
  },
  {
   "cell_type": "code",
   "execution_count": null,
   "id": "automated-transparency",
   "metadata": {},
   "outputs": [],
   "source": [
    "!openssl rsa -in 13-maclepublique.pem -pubin -text"
   ]
  },
  {
   "cell_type": "code",
   "execution_count": null,
   "id": "fourth-sapphire",
   "metadata": {},
   "outputs": [],
   "source": [
    "!openssl rsa -in 13-macleprivee.pem -text"
   ]
  },
  {
   "cell_type": "markdown",
   "id": "instant-nudist",
   "metadata": {},
   "source": [
    "Décodez vous-même la clé privée en adaptant les instructions ci-après et retrouver `modulus` dans le résultat:"
   ]
  },
  {
   "cell_type": "code",
   "execution_count": null,
   "id": "median-firewall",
   "metadata": {
    "scrolled": true
   },
   "outputs": [],
   "source": [
    "with open('13-macleprivee.pem', 'r') as f:\n",
    "    contenu = f.read()\n",
    "    print(contenu)\n",
    "    code64 = contenu.split(\"-----\")[2]\n",
    "    code64 = code64[1:-1].encode('ascii')"
   ]
  },
  {
   "cell_type": "code",
   "execution_count": null,
   "id": "incorporated-portsmouth",
   "metadata": {},
   "outputs": [],
   "source": [
    "code64"
   ]
  },
  {
   "cell_type": "code",
   "execution_count": null,
   "id": "acquired-wireless",
   "metadata": {},
   "outputs": [],
   "source": [
    "import base64\n",
    "\n",
    "decodage = base64.b64decode(code64)\n",
    "decodage.hex(sep=':')"
   ]
  },
  {
   "cell_type": "markdown",
   "id": "brazilian-equality",
   "metadata": {},
   "source": [
    "`modulus` commence à l'octet 10 et fait une taille de 128 octets"
   ]
  },
  {
   "cell_type": "code",
   "execution_count": null,
   "id": "celtic-adelaide",
   "metadata": {},
   "outputs": [],
   "source": [
    "decodage[10:10+128].hex(sep=':')"
   ]
  },
  {
   "cell_type": "markdown",
   "id": "expressed-trigger",
   "metadata": {},
   "source": [
    "## III. Transmission d'une clé symétrique à l'aide de RSA"
   ]
  },
  {
   "cell_type": "markdown",
   "id": "electrical-inspection",
   "metadata": {},
   "source": [
    "<div class=\"alert alert-block alert-info\">\n",
    "    \n",
    "Dans la pratique, les actions se font dans l'ordre suivant:\n",
    "    \n",
    "<img src=\"https://snlpdo.fr/tnsi/img/13-partage.svg\" width=\"600\" alt=\"partage de clé symétrique\"> \n",
    "    \n",
    "1. Le destinataire envoie sa clé RSA publique à l'expéditeur\n",
    "2. L'expéditeur:\n",
    "    1. génère une clé symétrique puis \n",
    "    2. la chiffre avec la clé RSA publique.\n",
    "    3. Envoie la version chiffrée au destinataire\n",
    "3. Le destinataire déchiffre la clé symétrique avec sa clé RSA privée."
   ]
  },
  {
   "cell_type": "markdown",
   "id": "helpful-carnival",
   "metadata": {},
   "source": [
    "1. Génération de la clé symétrique (=valeur aléatoire sur 256 bits) en hexadécimal"
   ]
  },
  {
   "cell_type": "code",
   "execution_count": null,
   "id": "qualified-locator",
   "metadata": {},
   "outputs": [],
   "source": [
    "import random\n",
    "clesym = random.randint(0,2**256)\n",
    "clesym = clesym.to_bytes(32, 'big')\n",
    "# Affichage en hexadéimal\n",
    "print(clesym.hex())\n",
    "\n",
    "# Enregistrement en hexadécimal dans le fichier clesymetrique.hex\n",
    "with open('13-clesymetrique.bin', 'w') as f:\n",
    "    f.write(clesym.hex())"
   ]
  },
  {
   "cell_type": "markdown",
   "id": "norman-runner",
   "metadata": {},
   "source": [
    "2. Chiffrement RSA avec la clé publique."
   ]
  },
  {
   "cell_type": "code",
   "execution_count": null,
   "id": "suspended-croatia",
   "metadata": {},
   "outputs": [],
   "source": [
    "!openssl rsautl -encrypt -inkey 13-maclepublique.pem -pubin -in 13-clesymetrique.bin -out 13-clesymetrique.enc\n",
    "\n",
    "# Lecture de la clé chiffré\n",
    "with open('13-clesymetrique.enc','rb') as fichier:\n",
    "    clesymenc = fichier.read()\n",
    "    print(clesymenc)"
   ]
  },
  {
   "cell_type": "markdown",
   "id": "blank-porcelain",
   "metadata": {},
   "source": [
    "3. Déchiffrement RSA avec la clé privée."
   ]
  },
  {
   "cell_type": "code",
   "execution_count": null,
   "id": "indian-wealth",
   "metadata": {},
   "outputs": [],
   "source": [
    "!openssl rsautl -decrypt -inkey 13-macleprivee.pem -in 13-clesymetrique.enc"
   ]
  },
  {
   "cell_type": "markdown",
   "id": "received-cuisine",
   "metadata": {},
   "source": [
    "## IV. Module Python\n",
    "\n",
    "Si nécessaire, installer le module Python avec:\n",
    "```console\n",
    "$ pip install pycryptodome\n",
    "```"
   ]
  },
  {
   "cell_type": "code",
   "execution_count": null,
   "id": "atmospheric-foundation",
   "metadata": {},
   "outputs": [],
   "source": [
    "from Crypto.PublicKey import RSA\n",
    "from Crypto.Cipher import PKCS1_OAEP"
   ]
  },
  {
   "cell_type": "markdown",
   "id": "unsigned-simon",
   "metadata": {},
   "source": [
    "- Génération des clés publique et privée:"
   ]
  },
  {
   "cell_type": "code",
   "execution_count": null,
   "id": "tight-complex",
   "metadata": {},
   "outputs": [],
   "source": [
    "cleRSA = RSA.generate(1024)"
   ]
  },
  {
   "cell_type": "code",
   "execution_count": null,
   "id": "cooked-karma",
   "metadata": {},
   "outputs": [],
   "source": [
    "# Clé publique\n",
    "cleRSA.publickey().exportKey()"
   ]
  },
  {
   "cell_type": "code",
   "execution_count": null,
   "id": "instant-helen",
   "metadata": {},
   "outputs": [],
   "source": [
    "# Clé privée\n",
    "cleRSA.exportKey()"
   ]
  },
  {
   "cell_type": "markdown",
   "id": "coastal-action",
   "metadata": {},
   "source": [
    "- Récupérer une clé depuis un fichier PEM:"
   ]
  },
  {
   "cell_type": "code",
   "execution_count": null,
   "id": "victorian-draft",
   "metadata": {},
   "outputs": [],
   "source": [
    "cleRSA = RSA.import_key(open(\"13-macleprivee.pem\").read())"
   ]
  },
  {
   "cell_type": "markdown",
   "id": "dutch-patrol",
   "metadata": {},
   "source": [
    "- Paramètres RSA"
   ]
  },
  {
   "cell_type": "code",
   "execution_count": null,
   "id": "ranging-worth",
   "metadata": {},
   "outputs": [],
   "source": [
    "cleRSA.n.to_bytes(128, 'big').hex(sep=':')"
   ]
  },
  {
   "cell_type": "code",
   "execution_count": null,
   "id": "thirty-suspension",
   "metadata": {},
   "outputs": [],
   "source": [
    "# Le module\n",
    "cleRSA.n"
   ]
  },
  {
   "cell_type": "code",
   "execution_count": null,
   "id": "binding-translator",
   "metadata": {},
   "outputs": [],
   "source": [
    "# Le produit des deux nombres premiers\n",
    "cleRSA.p * cleRSA.q"
   ]
  },
  {
   "cell_type": "markdown",
   "id": "supreme-arrow",
   "metadata": {},
   "source": [
    "- Chiffrement RSA avec la clé publique:"
   ]
  },
  {
   "cell_type": "code",
   "execution_count": null,
   "id": "solar-recovery",
   "metadata": {},
   "outputs": [],
   "source": [
    "rsa = PKCS1_OAEP.new(cleRSA.publickey())\n",
    "clesymenc = rsa.encrypt(clesym)\n",
    "clesymenc"
   ]
  },
  {
   "cell_type": "markdown",
   "id": "spoken-huntington",
   "metadata": {},
   "source": [
    "- Déchiffrement RSA avec la clé privée:"
   ]
  },
  {
   "cell_type": "code",
   "execution_count": null,
   "id": "stretch-background",
   "metadata": {},
   "outputs": [],
   "source": [
    "rsa2 = PKCS1_OAEP.new(cleRSA)\n",
    "res = rsa2.decrypt(clesymenc)\n",
    "res.hex()"
   ]
  }
 ],
 "metadata": {
  "kernelspec": {
   "display_name": "Python 3",
   "language": "python",
   "name": "python3"
  },
  "language_info": {
   "codemirror_mode": {
    "name": "ipython",
    "version": 3
   },
   "file_extension": ".py",
   "mimetype": "text/x-python",
   "name": "python",
   "nbconvert_exporter": "python",
   "pygments_lexer": "ipython3",
   "version": "3.9.4"
  },
  "toc": {
   "base_numbering": 1,
   "nav_menu": {},
   "number_sections": false,
   "sideBar": false,
   "skip_h1_title": false,
   "title_cell": "Table of Contents",
   "title_sidebar": "Contents",
   "toc_cell": false,
   "toc_position": {},
   "toc_section_display": true,
   "toc_window_display": false
  }
 },
 "nbformat": 4,
 "nbformat_minor": 5
}
