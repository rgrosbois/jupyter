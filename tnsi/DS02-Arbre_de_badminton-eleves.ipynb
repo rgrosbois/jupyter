{
 "cells": [
  {
   "cell_type": "markdown",
   "id": "d0698224",
   "metadata": {},
   "source": [
    "# Arbre de badminton"
   ]
  },
  {
   "cell_type": "code",
   "execution_count": null,
   "id": "82d03ab5",
   "metadata": {},
   "outputs": [],
   "source": [
    "from typeguard import typechecked\n",
    "import doctest"
   ]
  },
  {
   "cell_type": "markdown",
   "id": "407956a1",
   "metadata": {},
   "source": [
    "Les arbres de compétitions sont stockés dans des `list` Python, identiques à celles utilisées en [TP](https://snlpdo.fr/moodle311/mod/assign/view.php?id=3324)."
   ]
  },
  {
   "cell_type": "markdown",
   "id": "059327a3",
   "metadata": {},
   "source": [
    "On considère les deux arbres de compétition suivants:\n",
    "\n",
    "![Arbre A](http://snlpdo.fr/tnsi/img/02-arbreA.svg)\n",
    "\n",
    "![Arbre B](http://snlpdo.fr/tnsi/img/02-arbreB.svg)\n",
    "\n",
    "\n",
    "**Q1.** Compléter l'instruction d'initialisation des arbres `A` et `B`"
   ]
  },
  {
   "cell_type": "code",
   "execution_count": null,
   "id": "dd3adf29",
   "metadata": {},
   "outputs": [],
   "source": [
    "A = \n",
    "B = "
   ]
  },
  {
   "cell_type": "markdown",
   "id": "22de4d0b",
   "metadata": {},
   "source": [
    "**Q2.** Compléter la fonction `vainqueur` en fonction des informations fournies dans sa *docstring* et sa signature."
   ]
  },
  {
   "cell_type": "code",
   "execution_count": null,
   "id": "b19c9842",
   "metadata": {},
   "outputs": [],
   "source": [
    "@typechecked\n",
    "def vainqueur(arb: list) -> str:\n",
    "    \"\"\"\n",
    "    Renvoie le nom du vainqueur du tournoi spécifié en paramètre.\n",
    "    \n",
    "    Cette fonction vérifie préalablement que l'arbre de compétition contient au moins 1 joueur.\n",
    "    \n",
    "    >>> vainqueur(B)\n",
    "    'Lea'\n",
    "    \"\"\"\n",
    "    pass"
   ]
  },
  {
   "cell_type": "markdown",
   "id": "cef2057f",
   "metadata": {},
   "source": [
    "- Instruction pour vérifier le *doctest*:"
   ]
  },
  {
   "cell_type": "code",
   "execution_count": null,
   "id": "a53e2a3a",
   "metadata": {},
   "outputs": [],
   "source": [
    "doctest.run_docstring_examples(vainqueur, globals())"
   ]
  },
  {
   "cell_type": "markdown",
   "id": "bec7272e",
   "metadata": {},
   "source": [
    "- Tester cette fonction pour les arbres `A`, `B` et `[]` (arbre vide)"
   ]
  },
  {
   "cell_type": "code",
   "execution_count": null,
   "id": "cdc6a15e",
   "metadata": {},
   "outputs": [],
   "source": []
  },
  {
   "cell_type": "code",
   "execution_count": null,
   "id": "d31907da",
   "metadata": {},
   "outputs": [],
   "source": []
  },
  {
   "cell_type": "code",
   "execution_count": null,
   "id": "a3335ee3",
   "metadata": {},
   "outputs": [],
   "source": []
  },
  {
   "cell_type": "markdown",
   "id": "89063b73",
   "metadata": {},
   "source": [
    "**Q3.** Compléter la fonction Python `finale` en fonction des informations fournies dans sa *docstring* et sa signature."
   ]
  },
  {
   "cell_type": "code",
   "execution_count": null,
   "id": "d4f07dd7",
   "metadata": {},
   "outputs": [],
   "source": [
    "@typechecked\n",
    "def finale(arb: list) -> tuple:\n",
    "    \"\"\"\n",
    "    Renvoie un tuple avec les 2 joueurs en finale.\n",
    "    \n",
    "    Cette fonction vérifie préalablement que l'arbre de compétition contient au moins 2 joueurs.\n",
    "    \n",
    "    >>> finale(B)\n",
    "    ('Lea', 'Louis')\n",
    "    \"\"\"\n",
    "    pass"
   ]
  },
  {
   "cell_type": "markdown",
   "id": "8e906484",
   "metadata": {},
   "source": [
    "- Instruction pour vérifier le *doctest*:"
   ]
  },
  {
   "cell_type": "code",
   "execution_count": null,
   "id": "9f7d634e",
   "metadata": {},
   "outputs": [],
   "source": [
    "doctest.run_docstring_examples(finale, globals())"
   ]
  },
  {
   "cell_type": "markdown",
   "id": "b2330f11",
   "metadata": {},
   "source": [
    "- Tester cette fonction pour les arbres `A`, `B` et `['Luc', 'Francois']`:"
   ]
  },
  {
   "cell_type": "code",
   "execution_count": null,
   "id": "f066cc4f",
   "metadata": {},
   "outputs": [],
   "source": []
  },
  {
   "cell_type": "code",
   "execution_count": null,
   "id": "ab7af22a",
   "metadata": {},
   "outputs": [],
   "source": []
  },
  {
   "cell_type": "code",
   "execution_count": null,
   "id": "f0c2cca9",
   "metadata": {},
   "outputs": [],
   "source": []
  },
  {
   "cell_type": "markdown",
   "id": "0953d204",
   "metadata": {},
   "source": [
    "**Q4.** Compléter la fonction `occurrences` en fonction des informations fournies dans sa *docstring* et sa signature."
   ]
  },
  {
   "cell_type": "code",
   "execution_count": null,
   "id": "ef93e479",
   "metadata": {},
   "outputs": [],
   "source": [
    "@typechecked\n",
    "def occurrences(arb: list, nom: str) -> int:\n",
    "    \"\"\"\n",
    "    Renvoie le nombre d'apparitions du nom du joueur dans l'arbre.\n",
    "    \n",
    "    >>> occurrences(B, \"Anne\")\n",
    "    2\n",
    "    \"\"\"\n",
    "    pass"
   ]
  },
  {
   "cell_type": "markdown",
   "id": "ff441f2f",
   "metadata": {},
   "source": [
    "- Instruction pour vérifier le *doctest*:"
   ]
  },
  {
   "cell_type": "code",
   "execution_count": null,
   "id": "625e47e8",
   "metadata": {},
   "outputs": [],
   "source": [
    "doctest.run_docstring_examples(occurrences, globals())"
   ]
  },
  {
   "cell_type": "markdown",
   "id": "f496ee12",
   "metadata": {},
   "source": [
    "- Tester cette fonction pour l'arbre `A` avec `\"Kamel\"` et `\"Abdou\"` et l'arbre `B` avec `\"Anne\"` et `\"Lucie\"`"
   ]
  },
  {
   "cell_type": "code",
   "execution_count": null,
   "id": "c557a2cc",
   "metadata": {},
   "outputs": [],
   "source": []
  },
  {
   "cell_type": "code",
   "execution_count": null,
   "id": "5f993cb1",
   "metadata": {},
   "outputs": [],
   "source": []
  },
  {
   "cell_type": "code",
   "execution_count": null,
   "id": "0abfa215",
   "metadata": {},
   "outputs": [],
   "source": []
  },
  {
   "cell_type": "code",
   "execution_count": null,
   "id": "ffce0c58",
   "metadata": {},
   "outputs": [],
   "source": []
  },
  {
   "cell_type": "markdown",
   "id": "f32e145f",
   "metadata": {},
   "source": [
    "**Q5.** Compléter la fonction `a_gagne` en fonction des informations fournies dans sa *docstring* et sa signature."
   ]
  },
  {
   "cell_type": "code",
   "execution_count": null,
   "id": "807720b0",
   "metadata": {},
   "outputs": [],
   "source": [
    "@typechecked\n",
    "def a_gagne(arb: list, nom: str) -> bool:\n",
    "    \"\"\"\n",
    "    Indique si un certain joueur a gagné au moins un match dans la compétition.\n",
    "    \"\"\"\n",
    "    pass"
   ]
  },
  {
   "cell_type": "markdown",
   "id": "4f53d737",
   "metadata": {},
   "source": [
    "- Effectuer les tests qui vous paraissent judicieux"
   ]
  },
  {
   "cell_type": "code",
   "execution_count": null,
   "id": "b60f6c62",
   "metadata": {},
   "outputs": [],
   "source": []
  },
  {
   "cell_type": "code",
   "execution_count": null,
   "id": "1bd2732c",
   "metadata": {},
   "outputs": [],
   "source": []
  },
  {
   "cell_type": "code",
   "execution_count": null,
   "id": "7b77cd39",
   "metadata": {},
   "outputs": [],
   "source": []
  },
  {
   "cell_type": "markdown",
   "id": "ac7cc4e7",
   "metadata": {},
   "source": [
    "**Q6.** Corriger la fonction `nombre_matchs` ci-après:"
   ]
  },
  {
   "cell_type": "code",
   "execution_count": null,
   "id": "292430d1",
   "metadata": {},
   "outputs": [],
   "source": [
    "@typechecked\n",
    "def nombre_matchs(arb: list, nom: str) -> int:\n",
    "    \"\"\"\n",
    "    Renvoie le nombre de matchs joués par le joueur dans le tournoi (-1 s'il n'a pas participé).\n",
    "    \n",
    "    >>> nombre_matchs(B, 'Lea')\n",
    "    3\n",
    "    >>> nombre_matchs(B, 'Marc')\n",
    "    1\n",
    "    \"\"\"\n",
    "    return occurrences(arb, nom)"
   ]
  },
  {
   "cell_type": "code",
   "execution_count": null,
   "id": "35a46a34",
   "metadata": {},
   "outputs": [],
   "source": []
  },
  {
   "cell_type": "code",
   "execution_count": null,
   "id": "dfd93cb5",
   "metadata": {},
   "outputs": [],
   "source": []
  },
  {
   "cell_type": "code",
   "execution_count": null,
   "id": "6bb032ae",
   "metadata": {},
   "outputs": [],
   "source": []
  },
  {
   "cell_type": "code",
   "execution_count": null,
   "id": "49f7f777",
   "metadata": {},
   "outputs": [],
   "source": []
  },
  {
   "cell_type": "markdown",
   "id": "0d81e478",
   "metadata": {},
   "source": [
    "**Q7.** Proposer une fonction `liste_joueurs` qui prend en argument un arbre et compétition `arb` et qui renvoie une `list` contenant les participants du tournois, peut importe l'ordre mais chaque nom ne devant figurer qu'une seule fois. Préciser les types de paramètres et valeur de retour, une *docstring* et quelques *doctests*."
   ]
  },
  {
   "cell_type": "code",
   "execution_count": null,
   "id": "7fd93a24",
   "metadata": {},
   "outputs": [],
   "source": []
  },
  {
   "cell_type": "code",
   "execution_count": null,
   "id": "cb13d426",
   "metadata": {},
   "outputs": [],
   "source": []
  }
 ],
 "metadata": {
  "kernelspec": {
   "display_name": "Python 3",
   "language": "python",
   "name": "python3"
  },
  "language_info": {
   "codemirror_mode": {
    "name": "ipython",
    "version": 3
   },
   "file_extension": ".py",
   "mimetype": "text/x-python",
   "name": "python",
   "nbconvert_exporter": "python",
   "pygments_lexer": "ipython3",
   "version": "3.9.7"
  }
 },
 "nbformat": 4,
 "nbformat_minor": 5
}
