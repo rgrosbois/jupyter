{
 "cells": [
  {
   "cell_type": "markdown",
   "id": "educational-kuwait",
   "metadata": {},
   "source": [
    "# Chiffrement Ou-exclusif"
   ]
  },
  {
   "cell_type": "markdown",
   "id": "suburban-posting",
   "metadata": {},
   "source": [
    "## I. Rappels/compléments\n",
    "### 1. Opérateur binaire\n",
    "\n",
    "L'opérateur binaire `ou-exclusif` ($\\oplus$, en anglais: *xor*) ne donne le résultat `1` que si un des deux bits vaut `1` **mais pas les deux**.\n",
    "\n",
    "| b1 | b2 | b1$\\oplus$b2 |\n",
    "|:--:|:--:|:------------:|\n",
    "|  0 |  0 | 0            |\n",
    "|  0 |  1 | 1            |\n",
    "|  1 |  0 | 1            |\n",
    "|  1 |  1 | 0            |"
   ]
  },
  {
   "cell_type": "markdown",
   "id": "biblical-massachusetts",
   "metadata": {},
   "source": [
    "<div class=\"alert alert-info\">\n",
    "     \n",
    "**Travail à effectuer:** écrire les instructions pour **afficher** les résultats du ou-exclusif pour toutes les combinaisons possibles de 2 bits. Vous devez respecter les contraintes suivantes:\n",
    "- 2 boucles `for` imbriquées,\n",
    "- l'opérateur *ou-exclusif* de Python: `^`,\n",
    "- des lignes d'affichage de la forme: `0 ou-exclusif 0 donne 0`."
   ]
  },
  {
   "cell_type": "code",
   "execution_count": null,
   "id": "blessed-latex",
   "metadata": {},
   "outputs": [],
   "source": [
    "# Instructions à compléter\n"
   ]
  },
  {
   "cell_type": "markdown",
   "id": "rolled-citation",
   "metadata": {},
   "source": [
    "On constate que:\n",
    "\n",
    "- $b1\\oplus 0\\rightarrow b1$\n",
    "- $b1\\oplus 1\\rightarrow\\bar{b1}\\qquad\\qquad$              ($\\bar{b1}$ est le complément de *b1*)"
   ]
  },
  {
   "cell_type": "markdown",
   "id": "detailed-remove",
   "metadata": {},
   "source": [
    "**Résultat important:** on retrouve `b1` si on effectue deux fois un ou-exclusif avec `b2` (quelle que soit la valeur de *b2*): \n",
    "\n",
    "<div class=\"alert alert-danger\">\n",
    "\n",
    "$$(b1\\oplus b2)\\oplus b2 \\rightarrow b1$$"
   ]
  },
  {
   "cell_type": "markdown",
   "id": "planned-building",
   "metadata": {},
   "source": [
    "### 2. Utiliser avec des entiers (type `int`)"
   ]
  },
  {
   "cell_type": "markdown",
   "id": "italian-variety",
   "metadata": {},
   "source": [
    "L'opération `ou-exclusif` s'applique entre bits de même poids.\n",
    "\n",
    "Exemple: 134$\\oplus$43$\\rightarrow$173\n",
    "\n",
    "|      | 128      | 64  | 32  | 16  | 8   | 4   | 2   | 1   |\n",
    "|:-----|:--------:|:---:|:---:|:---:|:---:|:---:|:---:|:---:|\n",
    "|(134) |  1       |  0  |  0  | 0   |  0  |  1  |  1  |  0  |\n",
    "|      | \n",
    "|(43)  | 0        |  0  |  1  | 0   |  1  |  0  |  1  |  1  |\n",
    "| \n",
    "|(134$\\oplus$43) |  1       |  0  |  1  | 0   |  1  |  1  |  0  |  1  |\n",
    "\n",
    "<div class=\"alert alert-info\">\n",
    "     \n",
    "**Travail à effectuer:** vérifier le résultat de ce calcul avec Python"
   ]
  },
  {
   "cell_type": "code",
   "execution_count": null,
   "id": "digital-transition",
   "metadata": {},
   "outputs": [],
   "source": [
    "# Calcul de 134 xor 43\n"
   ]
  },
  {
   "cell_type": "markdown",
   "id": "laughing-beginning",
   "metadata": {},
   "source": [
    "Là encore, si on effectue à nouveau un `ou-exclusif` du résultat avec `43` on retrouve la valeur d'origine `134`.\n",
    "\n",
    "|      | 128      | 64  | 32  | 16  | 8   | 4   | 2   | 1   |\n",
    "|:-----|:--------:|:---:|:---:|:---:|:---:|:---:|:---:|:---:|\n",
    "|(173) |  1       |  0  |  1  | 0   |  1  |  1  |  0  |  1  |\n",
    "|      | \n",
    "|(43)  | 0        |  0  |  1  | 0   |  1  |  0  |  1  |  1  |\n",
    "| \n",
    "|(173$\\oplus$43) |  1       |  0  |  0  | 0   |  0  |  1  |  1  |  0  |\n",
    "\n",
    "<div class=\"alert alert-info\">\n",
    "     \n",
    "**Travail à effectuer:** vérifier le résultat de ce calcul avec Python"
   ]
  },
  {
   "cell_type": "code",
   "execution_count": null,
   "id": "assigned-massachusetts",
   "metadata": {},
   "outputs": [],
   "source": [
    "# Calcul de 173 xor 43\n"
   ]
  },
  {
   "cell_type": "markdown",
   "id": "1b4ef1f5",
   "metadata": {},
   "source": [
    "**Résultat important:** on retrouve l'entier `i1` si on effectue deux fois un ou-exclusif avec `i2` (quelle que soit la valeur de l'entier *i2*): \n",
    "\n",
    "<div class=\"alert alert-danger\">\n",
    "\n",
    "$$(i1\\oplus i2)\\oplus i2 \\rightarrow i1$$"
   ]
  },
  {
   "cell_type": "markdown",
   "id": "flexible-destruction",
   "metadata": {},
   "source": [
    "### 3. Utilisation avec des séquences d'octets (type `bytes`)"
   ]
  },
  {
   "cell_type": "markdown",
   "id": "satisfied-abraham",
   "metadata": {},
   "source": [
    "**Rappel:** un `bytes` est une liste d'octets (entiers non signés sur 8 bits) écrite entre délimiteurs (`'` ou `\"`) et précédée de `b`. Par exemple: \n",
    "```python \n",
    "b'\\x13\\x45'\n",
    "```\n",
    "\n",
    "L'écriture de chaque octet se fait :\n",
    "- en hexadécimal: 2 chiffres hexadécimaux précédés de `\\x` &rarr; 4 caractères.\n",
    "- ou parfois en ascii (uniquement s'il s'agit d'un code affichable) &rarr; 1 seul caractère.\n",
    "\n",
    "Par exemple, pour créer une séquence avec les 3 valeurs `12`, `72`, `176`:\n",
    "```\n",
    ">>> bytes([12, 72, 176])\n",
    "b'\\x0cH\\xb0'\n",
    "```"
   ]
  },
  {
   "cell_type": "markdown",
   "id": "final-adaptation",
   "metadata": {},
   "source": [
    "- Pour obtenir la séquence d'octets d'un entier (ici 4 octets suffisent) dans l'ordre des octets de poids décroissants (option `'big'`):"
   ]
  },
  {
   "cell_type": "code",
   "execution_count": null,
   "id": "informational-cabinet",
   "metadata": {},
   "outputs": [],
   "source": [
    "a = 123456789 # un entier quelconque\n",
    "a.to_bytes(4, 'big')"
   ]
  },
  {
   "cell_type": "markdown",
   "id": "shaped-repository",
   "metadata": {},
   "source": [
    "- Pour obtenir la séquence d'octets d'une chaîne de caractères (codée en *utf-8*):"
   ]
  },
  {
   "cell_type": "code",
   "execution_count": null,
   "id": "vertical-timer",
   "metadata": {},
   "outputs": [],
   "source": [
    "texte = \"Du texte en UTF-8 à transformer en octets\"\n",
    "octets = texte.encode('utf-8')\n",
    "len(octets), octets"
   ]
  },
  {
   "cell_type": "markdown",
   "id": "occasional-peace",
   "metadata": {},
   "source": [
    "(note: les caractères *compatibles* ASCII affichables apparaissent en clair alors que le caractère accentué (codé sur 2 octets en *utf-8*) est remplacé par deux valeurs hexadécimales)\n",
    "\n",
    "Prenons 2 séquences d'octets quelconques mais de même longueur:"
   ]
  },
  {
   "cell_type": "code",
   "execution_count": null,
   "id": "progressive-recycling",
   "metadata": {},
   "outputs": [],
   "source": [
    "# Initialisation quelconque des séquences d'octets\n",
    "seq1 = b'Du texte en UTF-8 \\xc3\\xa0 transformer en octets' # longueur=42\n",
    "seq2 = bytes(range(42)) # 42 valeurs de 0 à 41\n",
    "seq1, seq2"
   ]
  },
  {
   "cell_type": "markdown",
   "id": "significant-treasury",
   "metadata": {},
   "source": [
    "Python ne permet pas d'effectuer directement un ou-exclusif entre 2 séquences, mais on peut utiliser la méthode suivante (attention: les deux séquences doivent avoir le **même nombre d'éléments**):\n",
    "\n",
    "1. Générer des tuples (à l'aide de la fonction `zip`) de la forme :\n",
    "    - un octet de la séquence 1 et\n",
    "    - l'octet correspondant dans la séquence 2.\n",
    "2. Boucler sur tous ces tuples et appliquer ou-exclusif (les éléments du tuples sont des entiers).\n",
    "3. Concaténer le résultats"
   ]
  },
  {
   "cell_type": "code",
   "execution_count": null,
   "id": "continuing-matrix",
   "metadata": {},
   "outputs": [],
   "source": [
    "# Exemple de réalisation\n",
    "seq3 = [] # liste vide\n",
    "for o1,o2 in zip(seq1, seq2): # étapes 1 et début 2\n",
    "    res = o1 ^ o2 # fin étape 2\n",
    "    seq3.append(res) # étape 3\n",
    "xor = bytes(seq3) # conversion de la liste en une séquence\n",
    "xor"
   ]
  },
  {
   "cell_type": "markdown",
   "id": "adopted-collins",
   "metadata": {},
   "source": [
    "Le même résultat peut être obtenu à l'aide d'une compréhension :"
   ]
  },
  {
   "cell_type": "code",
   "execution_count": null,
   "id": "normal-depth",
   "metadata": {},
   "outputs": [],
   "source": [
    "xor = bytes([o1 ^ o2 for o1,o2 in zip(seq1,seq2)])\n",
    "xor"
   ]
  },
  {
   "cell_type": "markdown",
   "id": "2d94d2b5",
   "metadata": {},
   "source": [
    "<div class=\"alert alert-info\">\n",
    "     \n",
    "**Travail à effectuer:** écrire une fonction `xor` qui retourne le résultat du `ou-exclusif` entre 2 `bytes` de même longueur."
   ]
  },
  {
   "cell_type": "code",
   "execution_count": null,
   "id": "f0be3fd1",
   "metadata": {},
   "outputs": [],
   "source": [
    "def xor(s1: bytes, s2: bytes)-> bytes:\n",
    "    # à compléter\n",
    "    "
   ]
  },
  {
   "cell_type": "markdown",
   "id": "dfa43409",
   "metadata": {},
   "source": [
    "Test de cette fonction:"
   ]
  },
  {
   "cell_type": "code",
   "execution_count": null,
   "id": "d61eef46",
   "metadata": {},
   "outputs": [],
   "source": [
    "xor(seq1, seq2)"
   ]
  },
  {
   "cell_type": "markdown",
   "id": "5fbfca68",
   "metadata": {},
   "source": [
    "<div class=\"alert alert-info\">\n",
    "     \n",
    "**Travail à effectuer:** vérifier que $(seq1 \\oplus seq2) \\oplus seq2$ donne *seq1*"
   ]
  },
  {
   "cell_type": "code",
   "execution_count": null,
   "id": "d23d88b2",
   "metadata": {
    "scrolled": false
   },
   "outputs": [],
   "source": [
    "# instructions à compléter\n"
   ]
  },
  {
   "cell_type": "markdown",
   "id": "5182af8f",
   "metadata": {},
   "source": [
    "**Résultat important:** on retrouve les octets `o1` si on effectue deux fois un ou-exclusif avec `o2` (quelle que soit la valeur des octets *o2*, de même longueur que `o1`): \n",
    "\n",
    "<div class=\"alert alert-danger\">\n",
    "\n",
    "$$(o1\\oplus o2)\\oplus o2 \\rightarrow o1$$"
   ]
  },
  {
   "cell_type": "markdown",
   "id": "meaningful-protein",
   "metadata": {},
   "source": [
    "## II. Cryptographie"
   ]
  },
  {
   "cell_type": "markdown",
   "id": "b372dd3c",
   "metadata": {},
   "source": [
    "<div class=\"alert alert-info\">\n",
    "     \n",
    "**Travail à effectuer:** expliquer comment chiffrer et déchiffrer un texte à l'aide des résultats précédent. S'agit-il d'un algorithme symétrique ou asymétrique ?"
   ]
  },
  {
   "cell_type": "markdown",
   "id": "ce454546",
   "metadata": {},
   "source": [
    "<cellule de texte à compléter>"
   ]
  },
  {
   "cell_type": "markdown",
   "id": "final-likelihood",
   "metadata": {},
   "source": [
    "## 1. Chiffrement"
   ]
  },
  {
   "cell_type": "markdown",
   "id": "dbe033ef",
   "metadata": {},
   "source": [
    "<div class=\"alert alert-info\">\n",
    "     \n",
    "**Travail à effectuer:** compléter la fonction suivante pour\n",
    "  - chiffrer une chaîne de caractère avec\n",
    "  - une clé entière comportant le **même nombre d'octets** et\n",
    "  - retourner une séquence d'octets"
   ]
  },
  {
   "cell_type": "code",
   "execution_count": null,
   "id": "forbidden-manchester",
   "metadata": {},
   "outputs": [],
   "source": [
    "def chiffrement(texte: str, clef: int) -> bytes :\n",
    "    # à compléter\n",
    "    "
   ]
  },
  {
   "cell_type": "markdown",
   "id": "c8a35681",
   "metadata": {},
   "source": [
    "Tester cette fonction:"
   ]
  },
  {
   "cell_type": "code",
   "execution_count": null,
   "id": "50044dc1",
   "metadata": {},
   "outputs": [],
   "source": []
  },
  {
   "cell_type": "markdown",
   "id": "hawaiian-calgary",
   "metadata": {},
   "source": [
    "## 2. Déchiffrement"
   ]
  },
  {
   "cell_type": "markdown",
   "id": "a67e7ec5",
   "metadata": {},
   "source": [
    "<div class=\"alert alert-info\">\n",
    "     \n",
    "**Travail à effectuer:** compléter la fonction suivante pour\n",
    "  - déchiffrer une séquence d'octets avec\n",
    "  - une clé entière comportant le **même nombre d'octets** et\n",
    "  - retourner une chaîne de caractères"
   ]
  },
  {
   "cell_type": "code",
   "execution_count": null,
   "id": "listed-register",
   "metadata": {},
   "outputs": [],
   "source": [
    "def dechiffrement(octets: bytes, clef: int) -> str :\n",
    "    # à compléter\n",
    "    "
   ]
  },
  {
   "cell_type": "markdown",
   "id": "8ec3331c",
   "metadata": {},
   "source": [
    "Tester cette fonction:"
   ]
  },
  {
   "cell_type": "code",
   "execution_count": null,
   "id": "d0665643",
   "metadata": {},
   "outputs": [],
   "source": []
  }
 ],
 "metadata": {
  "kernelspec": {
   "display_name": "Python 3",
   "language": "python",
   "name": "python3"
  },
  "language_info": {
   "codemirror_mode": {
    "name": "ipython",
    "version": 3
   },
   "file_extension": ".py",
   "mimetype": "text/x-python",
   "name": "python",
   "nbconvert_exporter": "python",
   "pygments_lexer": "ipython3",
   "version": "3.9.4"
  },
  "toc": {
   "base_numbering": 1,
   "nav_menu": {},
   "number_sections": false,
   "sideBar": false,
   "skip_h1_title": false,
   "title_cell": "Table of Contents",
   "title_sidebar": "Contents",
   "toc_cell": false,
   "toc_position": {},
   "toc_section_display": true,
   "toc_window_display": false
  }
 },
 "nbformat": 4,
 "nbformat_minor": 5
}
