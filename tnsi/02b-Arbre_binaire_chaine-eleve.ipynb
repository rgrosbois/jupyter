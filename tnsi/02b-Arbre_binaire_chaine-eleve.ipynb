{
 "cells": [
  {
   "cell_type": "markdown",
   "metadata": {},
   "source": [
    "# Implémentation d'arbre binaire dans une structure chaînée"
   ]
  },
  {
   "cell_type": "code",
   "execution_count": null,
   "metadata": {},
   "outputs": [],
   "source": [
    "from __future__ import annotations"
   ]
  },
  {
   "cell_type": "markdown",
   "metadata": {},
   "source": [
    "## 1. Rappels/compléments sur les listes <a name=\"liste\"></a>"
   ]
  },
  {
   "cell_type": "markdown",
   "metadata": {},
   "source": [
    "Une liste est une structure linéaire constituée d'éléments ordonnés. \n",
    "\n",
    "Deux implémentations (parmi d'autres):\n",
    "- Le tableau : chaque élément est repéré par un indice spécifié entre crochets.\n",
    "    ```python\n",
    "    >>> semaine = ['lundi', 'mardi', 'mercredi', 'jeudi', 'vendredi', 'samedi', 'dimanche']\n",
    "    >>> print(semaine[1])\n",
    "    mardi\n",
    "    ```\n",
    "    \n",
    "    ![Liste tableau](https://snlpdo.fr/tnsi/img/04-Liste_tableau.png)    "
   ]
  },
  {
   "cell_type": "markdown",
   "metadata": {},
   "source": [
    "Note: le type `list` de Python correspond à un tableau *dynamique*.\n",
    "    \n",
    "*(les éléments, ou plutôt exactement leurs références, sont contigus en mémoire)*    "
   ]
  },
  {
   "cell_type": "markdown",
   "metadata": {},
   "source": [
    "    \n",
    "- La liste (simplement) chaînée (Cf. implémentation ci-après).\n",
    "\n",
    "    ![Liste chaînée](https://snlpdo.fr/tnsi/img/02-Liste_chainee.png)\n",
    "    \n",
    "    *(les éléments peuvent occuper des emplacements disjoints en mémoire)*"
   ]
  },
  {
   "cell_type": "markdown",
   "metadata": {},
   "source": [
    "Comparatif:\n",
    "- L'accès aux éléments d'un tableau est généralement plus rapide (le i-ème élément se trouve à l'emplacement i*`taille_element`) que dans une liste chaînée (il faut parcourir tous les éléments précédents).\n",
    "- La liste chaînée permet d'optimiser l'espace de stockage et est utile lorsque le nombre d'éléments est amené à varier. "
   ]
  },
  {
   "cell_type": "markdown",
   "metadata": {},
   "source": [
    "<div class=\"alert alert-danger\">\n",
    "    \n",
    "**Définition abstraite (récursive) :** une liste est\n",
    "    \n",
    "- soit vide.\n",
    "- soit constituée d'une élément (ou **tête**) et d'une liste (ou **queue**)."
   ]
  },
  {
   "cell_type": "markdown",
   "metadata": {},
   "source": [
    "### Exemple d'implémentation d'une liste sous une forme chaînée:\n",
    "\n",
    "Version avec 2 classes: `Maillon` et `Liste`. Note: une liste peut être vide mais pas un maillon. "
   ]
  },
  {
   "cell_type": "code",
   "execution_count": null,
   "metadata": {},
   "outputs": [],
   "source": [
    "class Maillon():\n",
    "    def __init__(self, element, prochain):\n",
    "        self.element = element\n",
    "        self.prochain = prochain\n",
    "        \n",
    "    def __str__(self):\n",
    "        \"\"\" Renvoie la valeur de l'élément. \"\"\"\n",
    "        return str(self.element)"
   ]
  },
  {
   "cell_type": "code",
   "execution_count": null,
   "metadata": {},
   "outputs": [],
   "source": [
    "class Liste():\n",
    "    def __init__(self, maillon=None):\n",
    "        self.__premier_maillon = maillon\n",
    "        \n",
    "    def est_vide(self):\n",
    "        return self.__premier_maillon is None\n",
    "    \n",
    "    def tete(self):\n",
    "        \"\"\" Renvoie le maillon en tête de liste. \"\"\"\n",
    "        if not self.est_vide():\n",
    "            return self.__premier_maillon\n",
    "    \n",
    "    def queue(self):\n",
    "        return Liste(self.__premier_maillon.prochain)\n",
    "    \n",
    "    def inserer_debut(self, element):\n",
    "        \"\"\" Ajoute un nouvel élément au début de la liste.\"\"\"\n",
    "        \n",
    "        prochain = None\n",
    "        if not self.est_vide():\n",
    "            prochain = self.__premier_maillon\n",
    "        self.__premier_maillon = Maillon(element, prochain)\n",
    "        \n",
    "    def __repr__(self):\n",
    "        \"\"\" Affiche les éléments de la liste dans l'ordre. \"\"\"\n",
    "        \n",
    "        resultat = \"\"\n",
    "        l = self\n",
    "        while not l.est_vide():\n",
    "            if resultat != \"\":\n",
    "                resultat += \" -> \"\n",
    "            resultat += str(l.__premier_maillon)\n",
    "            l = l.queue()\n",
    "        return resultat"
   ]
  },
  {
   "cell_type": "markdown",
   "metadata": {},
   "source": [
    "Exemple:"
   ]
  },
  {
   "cell_type": "code",
   "execution_count": null,
   "metadata": {},
   "outputs": [],
   "source": [
    "semaine = Liste() \n",
    "for jour in ['dimanche', 'samedi', 'vendredi', 'jeudi', 'mercredi', 'mardi', 'lundi']:\n",
    "    semaine.inserer_debut(jour)\n",
    "semaine"
   ]
  },
  {
   "cell_type": "markdown",
   "metadata": {},
   "source": [
    "**Q1.** Écrire les instructions pour compter le nombre d'éléments dans une liste (=sa longueur):"
   ]
  },
  {
   "cell_type": "code",
   "execution_count": null,
   "metadata": {},
   "outputs": [],
   "source": []
  },
  {
   "cell_type": "markdown",
   "metadata": {},
   "source": [
    "Pour tester:"
   ]
  },
  {
   "cell_type": "code",
   "execution_count": null,
   "metadata": {},
   "outputs": [],
   "source": [
    "semaine = Liste() \n",
    "for jour in ['dimanche', 'samedi', 'vendredi', 'jeudi', 'mercredi', 'mardi', 'lundi']:\n",
    "    semaine.inserer_debut(jour)\n",
    "semaine.longueur()"
   ]
  },
  {
   "cell_type": "markdown",
   "metadata": {},
   "source": [
    "**Q2.** Écrire une méthode pour ajouter un nouvel élément à une place quelconque (reperée par un index) dans une `Liste`."
   ]
  },
  {
   "cell_type": "code",
   "execution_count": null,
   "metadata": {},
   "outputs": [],
   "source": []
  },
  {
   "cell_type": "markdown",
   "metadata": {},
   "source": [
    "**Q3.** Écrire une méthode pour supprimer un élément quelconque (reperé par un index) dans une `Liste`.\n"
   ]
  },
  {
   "cell_type": "code",
   "execution_count": null,
   "metadata": {},
   "outputs": [],
   "source": []
  },
  {
   "cell_type": "markdown",
   "metadata": {},
   "source": [
    "<div class=\"alert alert-info\">\n",
    "\n",
    "Remarque: il existe aussi les listes\n",
    "- doublement chaînée (par opposition à la liste *simplement chainée* ci-avant).\n",
    "- circulaire simplement chaînée.\n",
    "- circulaire doublement chaînée.\n",
    "- &hellip;"
   ]
  },
  {
   "cell_type": "markdown",
   "metadata": {},
   "source": [
    "## 2. Arbre binaire dans une structure chaînée <a name=\"arbre\"></a>"
   ]
  },
  {
   "cell_type": "markdown",
   "metadata": {},
   "source": [
    "<div class=\"alert alert-danger\">\n",
    "    \n",
    "**Définition (abstraite) récursive :** un arbre binaire est\n",
    "- soit vide\n",
    "- soit constituée d'un élément (ou  **racine**), d'un arbre gauche et d'un arbre droit."
   ]
  },
  {
   "cell_type": "markdown",
   "metadata": {},
   "source": [
    "On peut donc s'inspirer de l'implémentation de la liste chaînée pour créer celle des arbres binaires:\n",
    "\n",
    "| Arbre parfait | Arbre quelconque |\n",
    "|---------------|------------------|\n",
    "| ![Arbre parfait](https://snlpdo.fr/tnsi/img/02-Arbre_chaine.png) | ![Arbre quelconque](https://snlpdo.fr/tnsi/img/02-Arbre_incomplet.png) |"
   ]
  },
  {
   "cell_type": "markdown",
   "metadata": {},
   "source": [
    "Version d'arbre binaire dans un structure chaînée avec deux classes: Noeud et Arbre. Un arbre peut être vide, mais pas un noeud."
   ]
  },
  {
   "cell_type": "code",
   "execution_count": null,
   "metadata": {},
   "outputs": [],
   "source": [
    "class Noeud():\n",
    "    def __init__(self, element, gauche, droite):\n",
    "        self.element = element\n",
    "        self.gauche = gauche\n",
    "        self.droite = droite\n",
    "        \n",
    "    def __str__(self):\n",
    "        \"\"\" Renvoie la valeur de l'élément. \"\"\"\n",
    "        return str(self.element)"
   ]
  },
  {
   "cell_type": "code",
   "execution_count": null,
   "metadata": {},
   "outputs": [],
   "source": [
    "class Arbre():\n",
    "    def __init__(self, noeud=None):\n",
    "        self.__racine = noeud\n",
    "        \n",
    "    def est_vide(self):\n",
    "        return self.__racine is None\n",
    "    \n",
    "    def gauche(self):\n",
    "        \"\"\" Retourne le sous-arbre gauche. \"\"\"\n",
    "        return Arbre(self.__racine.gauche)\n",
    "\n",
    "    def droite(self):\n",
    "        \"\"\" Retourne le sous-arbre droit. \"\"\"\n",
    "        return Arbre(self.__racine.droite)\n",
    "            \n",
    "    def definir_racine(self, element):\n",
    "        if self.est_vide():\n",
    "            self.__racine = Noeud(element, None, None)\n",
    "        else:            \n",
    "            self.__racine.element = element\n",
    "            \n",
    "    def definir_gauche(self, element):\n",
    "        \"\"\" Initialise le sous-arbre gauche avec sa racine. \"\"\"\n",
    "        self.__racine.gauche = Noeud(element, None, None)\n",
    "        \n",
    "    def definir_droite(self, element):\n",
    "        \"\"\" Initialise le sous-arbre droit avec sa racine. \"\"\"\n",
    "        self.__racine.droite = Noeud(element, None, None)"
   ]
  },
  {
   "cell_type": "code",
   "execution_count": null,
   "metadata": {},
   "outputs": [],
   "source": [
    "arbre = Arbre()\n",
    "arbre.definir_racine('A')\n",
    "\n",
    "# 1er niveau\n",
    "arbre.definir_gauche('B')\n",
    "arbre.definir_droite('C')\n",
    "\n",
    "# 2ème niveau\n",
    "arbre.gauche().definir_gauche('D')\n",
    "arbre.gauche().definir_droite('E')\n",
    "arbre.droite().definir_gauche('F')\n",
    "arbre.droite().definir_droite('G')"
   ]
  },
  {
   "cell_type": "code",
   "execution_count": null,
   "metadata": {},
   "outputs": [],
   "source": [
    "arbre2 = Arbre()\n",
    "arbre2.definir_racine('A')\n",
    "\n",
    "# 1er niveau\n",
    "arbre2.definir_gauche('B')\n",
    "arbre2.definir_droite('C')\n",
    "\n",
    "# 2ème niveau\n",
    "arbre2.droite().definir_gauche('F')"
   ]
  },
  {
   "cell_type": "markdown",
   "metadata": {},
   "source": [
    "**Q4.** Écrire une méthode qui calcule la taille de l'arbre"
   ]
  },
  {
   "cell_type": "code",
   "execution_count": null,
   "metadata": {},
   "outputs": [],
   "source": []
  },
  {
   "cell_type": "markdown",
   "metadata": {},
   "source": [
    "**Q5.** Écrire la méthode `__repr__` qui renvoie le contenu de arbre dans une chaîne de caractères."
   ]
  },
  {
   "cell_type": "code",
   "execution_count": null,
   "metadata": {},
   "outputs": [],
   "source": []
  }
 ],
 "metadata": {
  "kernelspec": {
   "display_name": "Python 3",
   "language": "python",
   "name": "python3"
  },
  "language_info": {
   "codemirror_mode": {
    "name": "ipython",
    "version": 3
   },
   "file_extension": ".py",
   "mimetype": "text/x-python",
   "name": "python",
   "nbconvert_exporter": "python",
   "pygments_lexer": "ipython3",
   "version": "3.9.7"
  }
 },
 "nbformat": 4,
 "nbformat_minor": 4
}
