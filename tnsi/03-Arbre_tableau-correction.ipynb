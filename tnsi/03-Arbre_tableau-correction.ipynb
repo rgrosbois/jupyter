{
 "cells": [
  {
   "cell_type": "markdown",
   "metadata": {},
   "source": [
    "# Implémentation d'arbre dans un tableau"
   ]
  },
  {
   "cell_type": "markdown",
   "metadata": {},
   "source": [
    "Rappel: Les éléments d'un tableau sont contigus dans la mémoire et repérés par un indice (entre crochets).\n",
    "\n",
    "En Python, on utilise généralement le type `list`:\n",
    "\n",
    "```python\n",
    "tableau = ['lundi', 'mardi', 'mercredi', 'jeudi', 'vendredi', 'samedi', 'dimanche']\n",
    "print(len(tableau), tableau[1])\n",
    "```"
   ]
  },
  {
   "cell_type": "markdown",
   "metadata": {},
   "source": [
    "- [I. Principe](#principe)\n",
    "    - [1. Fonctions de déplacement](#deplacement)\n",
    "    - [2. Docstring d'une fonction](#docstring)\n",
    "    - [3. Doctest d'une fonction](#doctest)\n",
    "    - [4. Exemple d'un arbre d'ascendance familiale](#ascendance)\n",
    "- [II. Approche OO](#OO)\n",
    "    - [1. Étape 1](#OOe1)\n",
    "    - [2. Étape 2](#OOe2)"
   ]
  },
  {
   "cell_type": "markdown",
   "metadata": {},
   "source": [
    "## I. Principe<a name=\"principe\"></a>"
   ]
  },
  {
   "cell_type": "markdown",
   "metadata": {},
   "source": [
    "Les nœuds de l’arbre sont placés successivement dans le tableau selon le **parcours en largeur** : \n",
    "- niveau par niveau (depuis la racine vers les feuilles), \n",
    "- chaque niveau est lu de la gauche vers la droite.\n",
    "\n",
    "*Remarques:*\n",
    "- *La racine se trouve donc à l'indice 0 et le dernier élément correspond à la feuille la plus à droite dans le dernier niveau (si elle existe).*\n",
    "- *certains éléments du tableau peuvent être inutilisés (`None` en Python) si l’arbre n’est pas complet.*"
   ]
  },
  {
   "cell_type": "markdown",
   "metadata": {},
   "source": [
    "Écrire les instructions Python pour stocker les arbres suivants respectivement dans des tableaux t1 et t2:\n",
    "![Arbres pour t1 et t2](img/03-tableau_arbre_question.png)"
   ]
  },
  {
   "cell_type": "code",
   "execution_count": null,
   "metadata": {},
   "outputs": [],
   "source": [
    "t1 = ['A', 'B', 'C', 'D', 'E', 'F', 'G']\n",
    "t2 = ['A', 'B', 'C', None, None, 'F', None]"
   ]
  },
  {
   "cell_type": "markdown",
   "metadata": {},
   "source": [
    "Vérifier que les 2 tableaux ont bien la même longueur"
   ]
  },
  {
   "cell_type": "code",
   "execution_count": null,
   "metadata": {},
   "outputs": [],
   "source": [
    "len(t1) == len(t2)"
   ]
  },
  {
   "cell_type": "markdown",
   "metadata": {},
   "source": [
    "### 1. Fonctions de déplacement <a name=\"deplacement\"></a>\n",
    "\n",
    "Écrire 3 fonctions qui permettent de se déplacer dans un arbre `arbre` donné (les noeuds sont identifiés par leurs indices):\n",
    "- `left`: retourne l'indice de l'enfant gauche du noeud d'indice `i` (-1 si la fonction est appelée pour une feuille).\n",
    "- `right`: retourne l'indice de l'enfant droit du noeud d'indice `i` (-1 si la fonction est appelée pour une feuille).\n",
    "- `up`: retourne l'indice du parent (-1 si la fonction est appelée pour la racine).\n",
    "\n",
    "Compléter les fonctions ci-après (ajouter les paramètres nécessaires)."
   ]
  },
  {
   "cell_type": "code",
   "execution_count": null,
   "metadata": {},
   "outputs": [],
   "source": [
    "def left(i, arbre):\n",
    "    g = 2*i+1\n",
    "    if g>=len(arbre) or arbre[g] is None: # i est une feuille\n",
    "        return -1\n",
    "    else: \n",
    "        return g"
   ]
  },
  {
   "cell_type": "markdown",
   "metadata": {},
   "source": [
    "Tests significatifs sur la fonction `left()`. Appeler la fonction pour:\n",
    "- afficher l'indice de l'enfant gauche de 0 pour t1 &rarr; 1\n",
    "- afficher la valeur de l'enfant gauche de 0 pour t1 &rarr; 'B'\n",
    "- afficher l'indice de l'enfant gauche de 5 pour t1 &rarr; -1\n",
    "- afficher l'indice de l'enfant gauche de 1 pour t2 &rarr; -1\n",
    "\n",
    "(corriger la fonction si vous n'obtenez pas les bons résultats)"
   ]
  },
  {
   "cell_type": "code",
   "execution_count": null,
   "metadata": {},
   "outputs": [],
   "source": [
    "left(0,t1), t1[left(0,t1)], left(5,t1), left(1, t2)"
   ]
  },
  {
   "cell_type": "code",
   "execution_count": null,
   "metadata": {},
   "outputs": [],
   "source": [
    "def right(i, arbre):\n",
    "    d = 2*i+2\n",
    "    if d>=len(arbre) or arbre[d] is None: # i est une feuille\n",
    "        return -1\n",
    "    else: \n",
    "        return d"
   ]
  },
  {
   "cell_type": "markdown",
   "metadata": {},
   "source": [
    "Tests significatifs sur la fonction `right()`:"
   ]
  },
  {
   "cell_type": "code",
   "execution_count": null,
   "metadata": {},
   "outputs": [],
   "source": [
    "right(0,t1), t1[right(0,t1)], right(5,t1), right(1, t2)"
   ]
  },
  {
   "cell_type": "code",
   "execution_count": null,
   "metadata": {},
   "outputs": [],
   "source": [
    "def up(i, arbre):\n",
    "    if i==0: # racine\n",
    "        return -1\n",
    "    return (i-1)//2"
   ]
  },
  {
   "cell_type": "markdown",
   "metadata": {},
   "source": [
    "Tests significatifs sur la fonction `up()`:"
   ]
  },
  {
   "cell_type": "code",
   "execution_count": null,
   "metadata": {},
   "outputs": [],
   "source": [
    "up(0, t1), up(1,t1), up(2,t1), up(5,t1)"
   ]
  },
  {
   "cell_type": "markdown",
   "metadata": {},
   "source": [
    "Vérifier le fonctionnement de ces fonctions sur les exemples suivants:\n",
    "- enfant droit de l'enfant gauche de la racine de t1\n",
    "- enfant droit de l'enfant gauche de la racine de t2"
   ]
  },
  {
   "cell_type": "code",
   "execution_count": null,
   "metadata": {},
   "outputs": [],
   "source": [
    "enfant_gauche = left(0, t1)\n",
    "if enfant_gauche != -1:\n",
    "    enfant_droit = right(enfant_gauche, t1)\n",
    "    if enfant_droit != -1:\n",
    "        print(t1[enfant_droit])\n",
    "    else:\n",
    "        print(\"Pas d'enfant droit pour l'enfant gauche\")\n",
    "else:\n",
    "    print(\"Pas d'enfant gauche pour la racine\")"
   ]
  },
  {
   "cell_type": "code",
   "execution_count": null,
   "metadata": {},
   "outputs": [],
   "source": [
    "enfant_gauche = left(0, t2)\n",
    "if enfant_gauche != -1:\n",
    "    enfant_droit = right(enfant_gauche, t2)\n",
    "    if enfant_droit != -1:\n",
    "        print(t2[enfant_droit])\n",
    "    else:\n",
    "        print(\"Pas d'enfant droit pour l'enfant gauche\")\n",
    "else:\n",
    "    print(\"Pas d'enfant gauche pour la racine\")"
   ]
  },
  {
   "cell_type": "markdown",
   "metadata": {},
   "source": [
    "### 2. Docstring d'une fonction <a name=\"docstring\"></a>\n",
    "\n",
    "La *docstring* d'une fonction en Python est une chaîne de caractères sur plusieurs lignes spécifiée juste après la déclaration (mot clé `def`) et la première ligne d'instruction de la fonction. Consuler [cette page](https://www.python.org/dev/peps/pep-0257/) pour plus d'information.\n",
    "\n",
    "Exemple:"
   ]
  },
  {
   "cell_type": "code",
   "execution_count": null,
   "metadata": {},
   "outputs": [],
   "source": [
    "def ma_fonction(a,b):\n",
    "    \"\"\"\n",
    "    Retourne la somme de a et b.\n",
    "    \"\"\"\n",
    "    return a+b"
   ]
  },
  {
   "cell_type": "markdown",
   "metadata": {},
   "source": [
    "Cette chaîne s'affiche, entre autre, lorsqu'on demande de l'aide sur la fonction:"
   ]
  },
  {
   "cell_type": "code",
   "execution_count": null,
   "metadata": {},
   "outputs": [],
   "source": [
    "help(ma_fonction)"
   ]
  },
  {
   "cell_type": "markdown",
   "metadata": {},
   "source": [
    "Recopier les 3 fonctions `right`, `left` et `up` précédentes en ajoutant des *docstring*"
   ]
  },
  {
   "cell_type": "code",
   "execution_count": null,
   "metadata": {},
   "outputs": [],
   "source": [
    "def left(i, arbre):\n",
    "    \"\"\"\n",
    "    Retourne l'indice de l'enfant gauche du noeud d'indice i \n",
    "    (-1 si la fonction est appelée pour une feuille).\n",
    "    \"\"\"\n",
    "    g = 2*i+1\n",
    "    if g>=len(arbre) or arbre[g] is None: # i est une feuille\n",
    "        return -1\n",
    "    else: \n",
    "        return g\n",
    "\n",
    "def right(i, arbre):\n",
    "    \"\"\"\n",
    "    Retourne l'indice de l'enfant droit du noeud d'indice i \n",
    "    (-1 si la fonction est appelée pour une feuille).\n",
    "    \"\"\"\n",
    "    d = 2*i+2\n",
    "    if d>=len(arbre) or arbre[d] is None: # i est une feuille\n",
    "        return -1\n",
    "    else: \n",
    "        return d\n",
    "\n",
    "def up(i, arbre):\n",
    "    \"\"\"\n",
    "    Retourne l'indice du parent \n",
    "    (-1 si la fonction est appelée pour la racine).\n",
    "    \"\"\"\n",
    "    if i==0: # racine\n",
    "        return -1\n",
    "    return (i-1)//2"
   ]
  },
  {
   "cell_type": "markdown",
   "metadata": {},
   "source": [
    "Afficher l'aide pour vérifier le fonctionnement:"
   ]
  },
  {
   "cell_type": "code",
   "execution_count": null,
   "metadata": {},
   "outputs": [],
   "source": [
    "help(left)"
   ]
  },
  {
   "cell_type": "code",
   "execution_count": null,
   "metadata": {},
   "outputs": [],
   "source": [
    "help(right)"
   ]
  },
  {
   "cell_type": "code",
   "execution_count": null,
   "metadata": {},
   "outputs": [],
   "source": [
    "help(up)"
   ]
  },
  {
   "cell_type": "markdown",
   "metadata": {},
   "source": [
    "### 3. Doctest d'une fonction <a name=\"doctest\"></a>\n",
    "\n",
    "\n",
    "Ce module Python permet de vérifier le bon fonctionnement d'une fonction en spécifiant un exemple (avec `>>>`) et son résultat (sur la ligne suivante) dans la *docstring*. Consulter [cette page](https://docs.python.org/3/library/doctest.html) pour plus d'information.\n",
    "\n",
    "Par exemple:"
   ]
  },
  {
   "cell_type": "code",
   "execution_count": null,
   "metadata": {},
   "outputs": [],
   "source": [
    "def ma_fonction(a,b):\n",
    "    \"\"\"\n",
    "    Retourne la somme de a et b.\n",
    "    \n",
    "    >>> ma_fonction(1,4)\n",
    "    5\n",
    "    \"\"\"\n",
    "    return a+b"
   ]
  },
  {
   "cell_type": "markdown",
   "metadata": {},
   "source": [
    "Pour effectuer le test (aucun résultat ne s'affiche si le test s'exécute sans erreur):"
   ]
  },
  {
   "cell_type": "code",
   "execution_count": null,
   "metadata": {},
   "outputs": [],
   "source": [
    "import doctest\n",
    "doctest.run_docstring_examples(ma_fonction, globals())"
   ]
  },
  {
   "cell_type": "markdown",
   "metadata": {},
   "source": [
    "Corriger le résultat du test dans la docstring pour que la cellule précédente s'exécute sans afficher de message d'erreur."
   ]
  },
  {
   "cell_type": "markdown",
   "metadata": {},
   "source": [
    "Ajouter un ou plusieurs test dans les 3 fonctions `right`, `left` et `up` et vérifier le bon fonctionnement:"
   ]
  },
  {
   "cell_type": "code",
   "execution_count": null,
   "metadata": {},
   "outputs": [],
   "source": [
    "def left(i, arbre):\n",
    "    \"\"\"\n",
    "    Retourne l'indice de l'enfant gauche du noeud d'indice i \n",
    "    (-1 si la fonction est appelée pour une feuille).\n",
    "    \n",
    "    Exemples:\n",
    "    >>> left(0,t1), t1[left(0,t1)], left(5,t1), left(1, t2)\n",
    "    (1, 'B', -1, -1)\n",
    "    \"\"\"\n",
    "    g = 2*i+1\n",
    "    if g>=len(arbre) or arbre[g] is None: # i est une feuille\n",
    "        return -1\n",
    "    else: \n",
    "        return g\n",
    "\n",
    "def right(i, arbre):\n",
    "    \"\"\"\n",
    "    Retourne l'indice de l'enfant droit du noeud d'indice i \n",
    "    (-1 si la fonction est appelée pour une feuille).\n",
    "    \n",
    "    Exemples:\n",
    "    >>> right(0,t1), t1[right(0,t1)], right(5,t1), right(1, t2)\n",
    "    (2, 'C', -1, -1)\n",
    "    \"\"\"\n",
    "    d = 2*i+2\n",
    "    if d>=len(arbre) or arbre[d] is None: # i est une feuille\n",
    "        return -1\n",
    "    else: \n",
    "        return d\n",
    "\n",
    "def up(i, arbre):\n",
    "    \"\"\"\n",
    "    Retourne l'indice du parent \n",
    "    (-1 si la fonction est appelée pour la racine).\n",
    "    \n",
    "    Exemples:\n",
    "    >>> up(0, t1), up(1,t1), up(2,t1), up(5,t1)\n",
    "    (-1, 0, 0, 2)\n",
    "    \"\"\"\n",
    "    if i==0: # racine\n",
    "        return -1\n",
    "    return (i-1)//2"
   ]
  },
  {
   "cell_type": "code",
   "execution_count": null,
   "metadata": {},
   "outputs": [],
   "source": [
    "doctest.run_docstring_examples(left, globals())\n",
    "doctest.run_docstring_examples(right, globals())\n",
    "doctest.run_docstring_examples(up, globals())"
   ]
  },
  {
   "cell_type": "markdown",
   "metadata": {},
   "source": [
    "*Note: si toutes les fonctions sont placés dans un fichier Python `monfichier.py`, il est possible d'exécuter tous les tests de toutes les fonctions en une seule instruction (dans le shell):*\n",
    "```console\n",
    "$ python -m doctest -v monfichier.py\n",
    "```"
   ]
  },
  {
   "cell_type": "markdown",
   "metadata": {},
   "source": [
    "### 4. Exemple d'un arbre d'ascendance familiale <a name=\"ascendance\"></a>"
   ]
  },
  {
   "cell_type": "code",
   "execution_count": null,
   "metadata": {},
   "outputs": [],
   "source": [
    "famille = ['Alice', 'Béatrice', 'Christian', 'Delphine', 'Éric', 'Françoise', 'Gabriel', 'Hélène', 'Ivan', 'Julie', 'Kévin', 'Lucie', 'Marc', 'Noémie', 'Otto']"
   ]
  },
  {
   "cell_type": "markdown",
   "metadata": {},
   "source": [
    "**Attention:** dans l'arbre d'ascendance, les *enfants droit et gauche* (=terminologie des arbres en informatique) correspondent respectivement à la mère et ou père de la personne (=terminologie de la généalogie).\n",
    "\n",
    "Utiliser les fonctions précédentes pour répondre aux questions suivantes:\n",
    "- Chercher le grand-père maternel d'Alice"
   ]
  },
  {
   "cell_type": "code",
   "execution_count": null,
   "metadata": {},
   "outputs": [],
   "source": [
    "i = famille.index('Alice')\n",
    "famille[right(left(i, famille), famille)]"
   ]
  },
  {
   "cell_type": "markdown",
   "metadata": {},
   "source": [
    "- Lister les ascendants féminins de Béatrice (créer une fonction pour lister depuis n'importe quel membre)"
   ]
  },
  {
   "cell_type": "code",
   "execution_count": null,
   "metadata": {},
   "outputs": [],
   "source": [
    "def lister_ascendants_feminins(membre, arbre):\n",
    "    i = arbre.index(membre)\n",
    "    print(arbre[i], end='')\n",
    "    while i!=-1:\n",
    "        i = left(i, arbre)\n",
    "        if i!=-1:\n",
    "            print(' -> '+arbre[i], end='')\n",
    "    print()\n",
    "    \n",
    "lister_ascendants_feminins('Béatrice', famille)"
   ]
  },
  {
   "cell_type": "markdown",
   "metadata": {},
   "source": [
    "- Identifier si Ivan est un enfant de Christian (créer une fonction pour tester 2 membres quelconques)"
   ]
  },
  {
   "cell_type": "code",
   "execution_count": null,
   "metadata": {},
   "outputs": [],
   "source": [
    "def descendant(membre1, membre2, arbre):\n",
    "    i1 = arbre.index(membre1)\n",
    "    i2 = arbre.index(membre2)\n",
    "    while i1!=-1 and i1!=i2:\n",
    "        i1 = up(i1, arbre)\n",
    "    return i1==i2\n",
    "\n",
    "descendant('Ivan', 'Christian', famille)"
   ]
  },
  {
   "cell_type": "markdown",
   "metadata": {},
   "source": [
    "- Identifier si Delphine et Lucie ont un lien de parenté direct (créer une fonction pour 2 membres quelconques)"
   ]
  },
  {
   "cell_type": "code",
   "execution_count": null,
   "metadata": {},
   "outputs": [],
   "source": [
    "def parente(membre1, membre2, arbre):\n",
    "    \"\"\"\n",
    "    Retourne:\n",
    "    * -1 si membre1 est un descendant de membre2\n",
    "    * 1 si membre2 est un descendant de membre1\n",
    "    * 0 si membre1 et membre2 sont la même personne\n",
    "    * None si aucune parenté    \n",
    "    \"\"\"\n",
    "    if membre1==membre2:\n",
    "        return 0\n",
    "    elif descendant(membre1, membre2, arbre):\n",
    "        return -1\n",
    "    elif descendant(membre2, membre1, arbre):\n",
    "        return 1\n",
    "    else:\n",
    "        return None\n",
    "    \n",
    "parente('Delphine', 'Lucie', famille), parente('Alice', 'Kévin', famille)"
   ]
  },
  {
   "cell_type": "markdown",
   "metadata": {},
   "source": [
    "- Compter le nombre de générations séparant Noémie de Christian (créer une fonction pour 2 membres quelconques)"
   ]
  },
  {
   "cell_type": "code",
   "execution_count": null,
   "metadata": {},
   "outputs": [],
   "source": [
    "def diff_generation(membre1, membre2, arbre):\n",
    "    # Index de la génération de membre1\n",
    "    i1 = arbre.index(membre1)\n",
    "    g1 = 0\n",
    "    while i1!=0:\n",
    "        i1 = up(i1,arbre)\n",
    "        g1 += 1\n",
    "    # Index de la génération de membre2\n",
    "    i2 = arbre.index(membre2)\n",
    "    g2 = 0\n",
    "    while i2!=0:\n",
    "        i2 = up(i2,arbre)\n",
    "        g2 += 1\n",
    "    return g1-g2\n",
    "\n",
    "diff_generation('Noémie', 'Christian', famille)"
   ]
  },
  {
   "cell_type": "markdown",
   "metadata": {},
   "source": [
    "## II. Approche OO (Orientée Objet) <a name=\"OO\"></a>\n",
    "\n",
    "**Principe:** Le tableau et les fonctions de déplacement sont placées dans un même objet.\n",
    "\n",
    "![Classe arbre](img/03-classe_arbre.png)"
   ]
  },
  {
   "cell_type": "markdown",
   "metadata": {},
   "source": [
    "### Étape 1 : transposition directe de l'approche *impérative* <a name=\"OOe1\"></a>\n",
    "\n",
    "Écrire une classe `Arbre` qui stocke un arbre binaire dans un tableau:\n",
    "- un seul attribut `tableau`\n",
    "- réutiliser les 3 méthodes de déplacement\n",
    "\n",
    "et ne pas oublier:\n",
    "- le constructeur avec un tableau en tant que paramètre\n",
    "- les docstrings de la classe et des méthodes"
   ]
  },
  {
   "cell_type": "code",
   "execution_count": 7,
   "metadata": {},
   "outputs": [],
   "source": [
    "class Arbre:\n",
    "    \"\"\"\n",
    "    Arbre binaire stocké dans un tableau\n",
    "    \"\"\"\n",
    "    def __init__(self, t):\n",
    "        \"\"\"\n",
    "        Constructeur avec un tableau contenant\n",
    "        les noeuds de l'arbre parcouru dans le\n",
    "        sens de la largeur.\n",
    "        \"\"\"\n",
    "        self.tableau = t\n",
    "        \n",
    "    def left(self, i):\n",
    "        \"\"\"\n",
    "        Retourne l'indice de l'enfant gauche du noeud d'indice i \n",
    "        (-1 si la fonction est appelée pour une feuille).\n",
    "        \"\"\"\n",
    "        g = 2*i+1\n",
    "        if g>=len(self.tableau) or self.tableau[g] is None: # i est une feuille\n",
    "            return -1\n",
    "        else: \n",
    "            return g\n",
    "\n",
    "    def right(self, i):\n",
    "        \"\"\"\n",
    "        Retourne l'indice de l'enfant droit du noeud d'indice i \n",
    "        (-1 si la fonction est appelée pour une feuille).\n",
    "        \"\"\"\n",
    "        d = 2*i+2\n",
    "        if d>=len(self.tableau) or self.tableau[d] is None: # i est une feuille\n",
    "            return -1\n",
    "        else: \n",
    "            return d\n",
    "\n",
    "    def up(self, i):\n",
    "        \"\"\"\n",
    "        Retourne l'indice du parent \n",
    "        (-1 si la fonction est appelée pour la racine).\n",
    "        \"\"\"\n",
    "        if i==0: # racine\n",
    "            return -1\n",
    "        return (i-1)//2"
   ]
  },
  {
   "cell_type": "code",
   "execution_count": 8,
   "metadata": {},
   "outputs": [],
   "source": [
    "a1 = Arbre(['A', 'B', 'C', 'D', 'E', 'F', 'G'])\n",
    "a2 = Arbre(['A', 'B', 'C', None, None, 'F', None])"
   ]
  },
  {
   "cell_type": "markdown",
   "metadata": {},
   "source": [
    "Quelques tests:\n",
    "- afficher l'indice de l'enfant gauche de 0 pour a1 &rarr; 1\n",
    "- afficher la valeur de l'enfant gauche de 0 pour a1 &rarr; 'B'\n",
    "- afficher l'indice de l'enfant gauche de 5 pour a1 &rarr; -1\n",
    "- afficher l'indice de l'enfant gauche de 1 pour a2 &rarr; -1\n",
    "\n",
    "(corriger la classe si vous n'obtenez pas les bons résultats)"
   ]
  },
  {
   "cell_type": "code",
   "execution_count": 9,
   "metadata": {},
   "outputs": [
    {
     "data": {
      "text/plain": [
       "(1, 'B', -1, -1)"
      ]
     },
     "execution_count": 9,
     "metadata": {},
     "output_type": "execute_result"
    }
   ],
   "source": [
    "a1.left(0), a1.tableau[a1.left(0)], a1.left(5), a2.left(1)"
   ]
  },
  {
   "cell_type": "markdown",
   "metadata": {},
   "source": [
    "Ajouter d'autres tests utiles:"
   ]
  },
  {
   "cell_type": "code",
   "execution_count": null,
   "metadata": {},
   "outputs": [],
   "source": []
  },
  {
   "cell_type": "markdown",
   "metadata": {},
   "source": [
    "**Étape 2:** cacher les détails de l'implémentation (i.e. l'utilisation d'un tableau) \n",
    "\n",
    "Écrire une nouvelle version de la classe `Arbre` avec:\n",
    "- *encapsulation*: 2 attributs cachés (le tableau `t` et l'index du noeud courant `pos`)\n",
    "- un constructeur avec un tableau en tant que paramètre.\n",
    "- les méthodes suivantes (sans paramètre): \n",
    "    - `is_empty`: teste si l'arbre est vide, \n",
    "    - `root`: aller à la racine\n",
    "    - `has_left`: teste si le noeud courant a un enfant gauche\n",
    "    - `left`: aller à l'enfant gauche du noeud courant\n",
    "    - `has_right`: teste si le noeud courant a un enfant droit\n",
    "    - `right`: aller à l'enfant droit du noeud courant\n",
    "    - `has_up`: teste si le noeud courant a un parent\n",
    "    - `up`: aller au parent du noeud courant\n",
    "    - `__repr__`: indique qu'il s'agit d'un arbre et retourne les contenus de la racine et du noeud courant\n",
    "    - `__str__`: retourne le contenu du noeud courant"
   ]
  },
  {
   "cell_type": "code",
   "execution_count": 10,
   "metadata": {},
   "outputs": [],
   "source": [
    "class Arbre:\n",
    "    \"\"\"\n",
    "    Arbre binaire avec encapsulation.\n",
    "    Le stockage interne utilise un tableau.\n",
    "    \"\"\"\n",
    "    \n",
    "    def __init__(self, tableau):\n",
    "        \"\"\"\n",
    "        tableau doit contenir les éléments de l'arbre\n",
    "        parcouru dans le sens de la largeur.\n",
    "        \"\"\"\n",
    "        self.__t = tableau\n",
    "        self.__pos = 0\n",
    "        \n",
    "    def is_empty(self):\n",
    "        \"\"\"\n",
    "        Tester si l'arbre est vide\n",
    "        (i.e. le tableau n'existe pas ou est vide).\n",
    "        \"\"\"\n",
    "        return self.__t is None or len(self.__t)==0\n",
    "        \n",
    "    def root(self):\n",
    "        \"\"\"\n",
    "        Se positionner à la racine.\n",
    "        \"\"\"\n",
    "        self.__pos = 0\n",
    "        \n",
    "    def has_left(self):\n",
    "        \"\"\"\n",
    "        Vérifie si le noeud courant a un enfant gauche\n",
    "        \"\"\"\n",
    "        g = 2*self.__pos+1\n",
    "        return not (g>=len(self.__t) or self.__t[g] is None)\n",
    "\n",
    "    def left(self):\n",
    "        \"\"\"\n",
    "        Aller à l'enfant gauche du noeud courant \n",
    "        (ne doit être appelée que si l'enfant gauche existe).\n",
    "        \"\"\"\n",
    "        self.__pos = 2*self.__pos+1\n",
    "            \n",
    "    def has_right(self):\n",
    "        \"\"\"\n",
    "        Vérifie si le noeud courant a un enfant droit\n",
    "        \"\"\"\n",
    "        d = 2*self.__pos+2\n",
    "        return not (d>=len(self.__t) or self.__t[d] is None)\n",
    "\n",
    "    def right(self):\n",
    "        \"\"\"\n",
    "        Aller à l'enfant droit du noeud courant \n",
    "        (ne doit être appelée que si l'enfant droit existe).\n",
    "        \"\"\"\n",
    "        self.__pos = 2*self.__pos+2\n",
    "\n",
    "    def has_up(self):\n",
    "        \"\"\"\n",
    "        Vérifie si le noeud courant a un parent\n",
    "        \"\"\"\n",
    "        return self.pos != 0\n",
    "    \n",
    "    def up(self):\n",
    "        \"\"\"\n",
    "        Aller au parent \n",
    "        (ne doit être appelée que si le parent existe).\n",
    "        \"\"\"\n",
    "        self.__pos = (self.__pos-1)//2\n",
    "    \n",
    "    def __repr__(self):\n",
    "        return f\"Arbre, racine: {self.__t[0]}, actuel: {self.__t[self.__pos]}\"\n",
    "    \n",
    "    def __str__(self):\n",
    "        return self.__t[self.__pos]"
   ]
  },
  {
   "cell_type": "code",
   "execution_count": 11,
   "metadata": {},
   "outputs": [],
   "source": [
    "a1 = Arbre(['A', 'B', 'C', 'D', 'E', 'F', 'G'])\n",
    "a2 = Arbre(['A', 'B', 'C', None, None, 'F', None])"
   ]
  },
  {
   "cell_type": "markdown",
   "metadata": {},
   "source": [
    "Test: afficher, s'il existe, la valeur de l'enfant gauche de la racine de a1\n",
    "\n",
    "(corriger la classe si vous n'obtenez pas les bons résultats)"
   ]
  },
  {
   "cell_type": "code",
   "execution_count": 14,
   "metadata": {},
   "outputs": [
    {
     "name": "stdout",
     "output_type": "stream",
     "text": [
      "B\n"
     ]
    }
   ],
   "source": [
    "a1.root() # se replacer à la racine\n",
    "if a1.has_left():\n",
    "    a1.left()\n",
    "    print(a1)"
   ]
  },
  {
   "cell_type": "markdown",
   "metadata": {},
   "source": [
    "Ajouter d'autres tests vous paraissant utiles:"
   ]
  },
  {
   "cell_type": "code",
   "execution_count": null,
   "metadata": {},
   "outputs": [],
   "source": []
  },
  {
   "cell_type": "markdown",
   "metadata": {},
   "source": [
    "Reprendre l'exemple de l'arbre d'ascendance avec la classe de l'étape 2"
   ]
  },
  {
   "cell_type": "code",
   "execution_count": null,
   "metadata": {},
   "outputs": [],
   "source": []
  }
 ],
 "metadata": {
  "kernelspec": {
   "display_name": "Python 3",
   "language": "python",
   "name": "python3"
  },
  "language_info": {
   "codemirror_mode": {
    "name": "ipython",
    "version": 3
   },
   "file_extension": ".py",
   "mimetype": "text/x-python",
   "name": "python",
   "nbconvert_exporter": "python",
   "pygments_lexer": "ipython3",
   "version": "3.7.9"
  }
 },
 "nbformat": 4,
 "nbformat_minor": 4
}
