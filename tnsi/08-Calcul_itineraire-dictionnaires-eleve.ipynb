{
 "cells": [
  {
   "cell_type": "markdown",
   "id": "controversial-announcement",
   "metadata": {},
   "source": [
    "# Mini-projet: calcul d'itinéraire routier\n",
    "\n",
    "On donne la carte routière simplifiée suivante:\n",
    "\n",
    "![carte routière simplifiée](https://snlpdo.fr/tnsi/img/07-carte_routiere.png)"
   ]
  },
  {
   "cell_type": "markdown",
   "id": "sunrise-childhood",
   "metadata": {},
   "source": [
    "## I. Version console\n",
    "\n",
    "L'objectif est d'écrire un code Python qui demande à l'utilisateur de saisir les villes de départ et d'arrivée puis qui calcule et affiche le meilleur itinéraire (avec toutes ses étapes)."
   ]
  },
  {
   "cell_type": "markdown",
   "id": "wireless-bible",
   "metadata": {},
   "source": [
    "### 1. Représentation des données\n",
    "\n",
    "Quelle structure de données théorique permet de modéliser cette problématique ?"
   ]
  },
  {
   "cell_type": "markdown",
   "id": "fatty-length",
   "metadata": {},
   "source": [
    "Un graphe"
   ]
  },
  {
   "cell_type": "markdown",
   "id": "artistic-camping",
   "metadata": {},
   "source": [
    "Définir une (ou plusieurs) variable(s)/objet(s) Python pour mémoriser les données de cette carte."
   ]
  },
  {
   "cell_type": "code",
   "execution_count": null,
   "id": "concerned-class",
   "metadata": {},
   "outputs": [],
   "source": [
    "carte = {}\n",
    "\n",
    "def ajouter_route(dico, depart, arrivee, distance):\n",
    "    if dico.get(depart) is None:\n",
    "        dico[depart] = {}\n",
    "    dico[depart][arrivee] = distance\n",
    "    \n",
    "    if dico.get(arrivee) is None:\n",
    "        dico[arrivee] = {}\n",
    "    dico[arrivee][depart] = distance\n",
    "\n",
    "# Ajouter les 14 routes\n",
    "ajouter_route(carte, 'Lyon', 'Bourgoin-Jallieu', 50)\n",
    "ajouter_route(carte, 'Lyon', 'Valence', 102)\n",
    "ajouter_route(carte, 'Valence', 'Voiron', 87)\n",
    "ajouter_route(carte, 'Valence', 'Villard de Lans', 69)\n",
    "ajouter_route(carte, 'Villard de Lans', 'Grenoble', 39)\n",
    "ajouter_route(carte, 'Bourgoin-Jallieu', 'Voiron', 46)\n",
    "ajouter_route(carte, 'Bourgoin-Jallieu', 'Chambéry', 62)\n",
    "ajouter_route(carte, 'Voiron', 'Grenoble', 26)\n",
    "ajouter_route(carte, 'Grenoble', 'Chambéry', 60)\n",
    "ajouter_route(carte, 'Grenoble', 'Briançon', 115)\n",
    "ajouter_route(carte, 'Chambéry', 'Albertville', 53)\n",
    "ajouter_route(carte, 'Chambéry', 'Modane', 103)\n",
    "ajouter_route(carte, 'Albertville', 'Modane', 90)\n",
    "ajouter_route(carte, 'Modane', 'Briançon', 60)\n",
    "carte"
   ]
  },
  {
   "cell_type": "markdown",
   "id": "deadly-gathering",
   "metadata": {},
   "source": [
    "<div class=\"alert alert-info\">\n",
    "    \n",
    "**Piste de réflexion**\n",
    "\n",
    "Est-ce que votre représentation Python permet ?\n",
    "- de modifier une distance entre 2 villes voisines.\n",
    "- d'ajouter (ou enlever) facilement une ville et des routes sur la carte."
   ]
  },
  {
   "cell_type": "markdown",
   "id": "compatible-doctrine",
   "metadata": {},
   "source": [
    "Cette version permet une modification rapide d'une distance entre 2 villes voisines ainsi que l'ajout/suppression rapide de routes."
   ]
  },
  {
   "cell_type": "markdown",
   "id": "variable-spine",
   "metadata": {},
   "source": [
    "### 2. Algorithme\n",
    "\n",
    "Quel(s) algorithme(s), déjà rencontré en NSI, peut-être utilisé pour résoudre ce problème ?"
   ]
  },
  {
   "cell_type": "markdown",
   "id": "graduate-swing",
   "metadata": {},
   "source": [
    "Moore-Dijkstra ou Bellman-Ford"
   ]
  },
  {
   "cell_type": "markdown",
   "id": "boxed-hands",
   "metadata": {},
   "source": [
    "Proposer une structure Python pour stocker un itinéraire (étapes et distances) sur cette carte *(prendre l'exemple Lyon-Bourgoin Jallieu-Voiron-Grenoble)*"
   ]
  },
  {
   "cell_type": "code",
   "execution_count": null,
   "id": "inclusive-strip",
   "metadata": {},
   "outputs": [],
   "source": [
    "it = [('Lyon', 0), ('Bourgoin Jallieu', 50), ('Voiron', 96), ('Grenoble', 122)]"
   ]
  },
  {
   "cell_type": "markdown",
   "id": "frank-identifier",
   "metadata": {},
   "source": [
    "Pour utiliser un de ces 2 algorithmes de parcours il faut mémoriser, pour chaque sommet du graphe, les éléments suivants:\n",
    "- la distance de ce sommet (au sommet de départ pour *Moore-Dijkstra*, au sommet d'arrivée pour *Bellman-Ford*)\n",
    "- le sommet a-t-il déjà été sélectionné (*visité*)\n",
    "- le parent du sommet dans l'itinéraire optimal."
   ]
  },
  {
   "cell_type": "code",
   "execution_count": null,
   "id": "amino-biography",
   "metadata": {},
   "outputs": [],
   "source": [
    "# On créé 3 nouveaux dictionnaires pour mémoriser:\n",
    "# - la distance à la ville de départ\n",
    "# - les villes visitées\n",
    "# - la ville précédente dans le parcours\n",
    "def init_algo(graphe):\n",
    "    dist = { ville:float('inf') for ville in graphe.keys() }\n",
    "    vis = # à compléter\n",
    "    par = # à compléter\n",
    "    return dist, vis, par\n",
    "d, v, p = init_algo(carte)\n",
    "d, v, p"
   ]
  },
  {
   "cell_type": "markdown",
   "id": "surgical-protocol",
   "metadata": {},
   "source": [
    "Algorithme de Dijkstra:"
   ]
  },
  {
   "cell_type": "code",
   "execution_count": null,
   "id": "driven-tennis",
   "metadata": {},
   "outputs": [],
   "source": [
    "def dijkstra(depart, graphe):\n",
    "    # Récupérer les dictionnaires utiles pour l'algo\n",
    "    distance, visite, parent = init_algo(graphe)\n",
    "    \n",
    "    # Ville de départ\n",
    "    assert graphe.get(depart) is not None, f\"La ville de départ {depart} n'existe pas.\"\n",
    "    distance[depart] = 0 \n",
    "    \n",
    "    while sum(visite.values())!=len(graphe.keys()): # Tant qu'il reste des sommets non visités\n",
    "        \n",
    "        # 1) Sélectionner la (première) ville non visitée de distance minimale\n",
    "        dist_min = float('inf')\n",
    "        ville_min = None\n",
    "        for ville in graphe.keys():\n",
    "            ## à compléter\n",
    "            \n",
    "            ##\n",
    "        visite[ville_min] = True\n",
    "\n",
    "        # 2) Ajouter les voisins immédiats de distance minimale \n",
    "        # en tant qu'enfant\n",
    "        for ville_dst in graphe[ville_min].keys():\n",
    "            ## à compléter\n",
    "            \n",
    "            ##\n",
    "    return distance, parent"
   ]
  },
  {
   "cell_type": "markdown",
   "id": "oriented-stationery",
   "metadata": {},
   "source": [
    "Écrire une fonction qui retourne l'itinéraire optimal entre 2 villes données:"
   ]
  },
  {
   "cell_type": "code",
   "execution_count": null,
   "id": "enabling-postcard",
   "metadata": {},
   "outputs": [],
   "source": [
    "def itineraire(depart, arrivee, graphe):\n",
    "    # Lancer l'algorithme (non nécessaire si déjà calculé pour ce départ)\n",
    "    distance, parent = dijkstra(depart,graphe)\n",
    "    \n",
    "    # Ville d'arrivée\n",
    "    assert graphe.get(arrivee) is not None, f\"La ville d'arrivee {arrivee} n'existe pas.\"\n",
    "    \n",
    "    # Construire le parcours\n",
    "    parcours = []\n",
    "    ville = arrivee\n",
    "    while ville!=depart:\n",
    "        ## à compléter\n",
    "        \n",
    "        ##\n",
    "    parcours.insert(0,(depart, 0))\n",
    "    return parcours"
   ]
  },
  {
   "cell_type": "code",
   "execution_count": null,
   "id": "proper-career",
   "metadata": {},
   "outputs": [],
   "source": [
    "itineraire('Lyon', 'Grenoble', carte)"
   ]
  },
  {
   "cell_type": "markdown",
   "id": "answering-contact",
   "metadata": {},
   "source": [
    "Écrire le programme de calcul d'itinéraire version console"
   ]
  },
  {
   "cell_type": "markdown",
   "id": "stainless-burner",
   "metadata": {},
   "source": [
    "## II. Version graphique\n",
    "\n",
    "Cahier des charges:\n",
    "- L'IHM est écrite en langage HTML (+JavaScript, CSS)\n",
    "- L'exécution de l'algorithme s'effectue sur un serveur Flask en langage Python."
   ]
  },
  {
   "cell_type": "markdown",
   "id": "north-treat",
   "metadata": {},
   "source": [
    "## III. Pistes d'amélioration\n",
    "\n",
    "- Augmenter le nombre de villes sur la carte.\n",
    "- Utiliser d'autres pondérations (temps de parcours&hellip;)\n",
    "- &hellip;"
   ]
  }
 ],
 "metadata": {
  "kernelspec": {
   "display_name": "Python 3",
   "language": "python",
   "name": "python3"
  },
  "language_info": {
   "codemirror_mode": {
    "name": "ipython",
    "version": 3
   },
   "file_extension": ".py",
   "mimetype": "text/x-python",
   "name": "python",
   "nbconvert_exporter": "python",
   "pygments_lexer": "ipython3",
   "version": "3.9.2"
  },
  "toc": {
   "base_numbering": 1,
   "nav_menu": {},
   "number_sections": false,
   "sideBar": false,
   "skip_h1_title": false,
   "title_cell": "Table of Contents",
   "title_sidebar": "Contents",
   "toc_cell": false,
   "toc_position": {},
   "toc_section_display": true,
   "toc_window_display": false
  }
 },
 "nbformat": 4,
 "nbformat_minor": 5
}
