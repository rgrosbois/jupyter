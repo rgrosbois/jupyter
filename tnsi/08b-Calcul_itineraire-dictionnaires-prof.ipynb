{
 "cells": [
  {
   "cell_type": "markdown",
   "id": "oriental-weather",
   "metadata": {},
   "source": [
    "# Mini-projet: calcul d'itinéraire routier\n",
    "\n",
    "On donne la carte routière simplifiée suivante:\n",
    "\n",
    "![carte routière simplifiée](https://snlpdo.fr/tnsi/img/07-carte_routiere.png)"
   ]
  },
  {
   "cell_type": "markdown",
   "id": "located-falls",
   "metadata": {},
   "source": [
    "## I. Version console\n",
    "\n",
    "L'objectif est d'écrire un code Python qui demande à l'utilisateur de saisir les villes de départ et d'arrivée puis qui calcule et affiche le meilleur itinéraire (avec toutes ses étapes)."
   ]
  },
  {
   "cell_type": "markdown",
   "id": "genuine-shoulder",
   "metadata": {},
   "source": [
    "### 1. Représentation des données\n",
    "\n",
    "Quelle structure de données théorique permet de modéliser cette problématique ?"
   ]
  },
  {
   "cell_type": "markdown",
   "id": "partial-ideal",
   "metadata": {},
   "source": [
    "Un graphe"
   ]
  },
  {
   "cell_type": "markdown",
   "id": "animated-plenty",
   "metadata": {},
   "source": [
    "Définir une (ou plusieurs) variable(s)/objet(s) Python pour mémoriser les données de cette carte."
   ]
  },
  {
   "cell_type": "code",
   "execution_count": 1,
   "id": "primary-responsibility",
   "metadata": {},
   "outputs": [
    {
     "data": {
      "text/plain": [
       "{'Lyon': {'Bourgoin-Jallieu': 50, 'Valence': 102},\n",
       " 'Bourgoin-Jallieu': {'Lyon': 50, 'Voiron': 46, 'Chambéry': 62},\n",
       " 'Valence': {'Lyon': 102, 'Voiron': 87, 'Villard de Lans': 69},\n",
       " 'Voiron': {'Valence': 87, 'Bourgoin-Jallieu': 46, 'Grenoble': 26},\n",
       " 'Villard de Lans': {'Valence': 69, 'Grenoble': 39},\n",
       " 'Grenoble': {'Villard de Lans': 39,\n",
       "  'Voiron': 26,\n",
       "  'Chambéry': 60,\n",
       "  'Briançon': 115},\n",
       " 'Chambéry': {'Bourgoin-Jallieu': 62,\n",
       "  'Grenoble': 60,\n",
       "  'Albertville': 53,\n",
       "  'Modane': 103},\n",
       " 'Briançon': {'Grenoble': 115, 'Modane': 60},\n",
       " 'Albertville': {'Chambéry': 53, 'Modane': 90},\n",
       " 'Modane': {'Chambéry': 103, 'Albertville': 90, 'Briançon': 60}}"
      ]
     },
     "execution_count": 1,
     "metadata": {},
     "output_type": "execute_result"
    }
   ],
   "source": [
    "carte = {}\n",
    "\n",
    "def ajouter_route(dico, depart, arrivee, distance):\n",
    "    if dico.get(depart) is None:\n",
    "        dico[depart] = {}\n",
    "    dico[depart][arrivee] = distance\n",
    "    \n",
    "    if dico.get(arrivee) is None:\n",
    "        dico[arrivee] = {}\n",
    "    dico[arrivee][depart] = distance\n",
    "\n",
    "# Ajouter les 14 routes\n",
    "ajouter_route(carte, 'Lyon', 'Bourgoin-Jallieu', 50)\n",
    "ajouter_route(carte, 'Lyon', 'Valence', 102)\n",
    "ajouter_route(carte, 'Valence', 'Voiron', 87)\n",
    "ajouter_route(carte, 'Valence', 'Villard de Lans', 69)\n",
    "ajouter_route(carte, 'Villard de Lans', 'Grenoble', 39)\n",
    "ajouter_route(carte, 'Bourgoin-Jallieu', 'Voiron', 46)\n",
    "ajouter_route(carte, 'Bourgoin-Jallieu', 'Chambéry', 62)\n",
    "ajouter_route(carte, 'Voiron', 'Grenoble', 26)\n",
    "ajouter_route(carte, 'Grenoble', 'Chambéry', 60)\n",
    "ajouter_route(carte, 'Grenoble', 'Briançon', 115)\n",
    "ajouter_route(carte, 'Chambéry', 'Albertville', 53)\n",
    "ajouter_route(carte, 'Chambéry', 'Modane', 103)\n",
    "ajouter_route(carte, 'Albertville', 'Modane', 90)\n",
    "ajouter_route(carte, 'Modane', 'Briançon', 60)\n",
    "carte"
   ]
  },
  {
   "cell_type": "markdown",
   "id": "preliminary-banana",
   "metadata": {},
   "source": [
    "<div class=\"alert alert-info\">\n",
    "    \n",
    "**Piste de réflexion**\n",
    "\n",
    "Est-ce que votre représentation Python permet ?\n",
    "- de modifier une distance entre 2 villes voisines.\n",
    "- d'ajouter (ou enlever) facilement une ville et des routes sur la carte."
   ]
  },
  {
   "cell_type": "markdown",
   "id": "turkish-engine",
   "metadata": {},
   "source": [
    "Cette version permet une modification rapide d'une distance entre 2 villes voisines ainsi que l'ajout/suppression rapide de routes."
   ]
  },
  {
   "cell_type": "markdown",
   "id": "romantic-stocks",
   "metadata": {},
   "source": [
    "### 2. Algorithme\n",
    "\n",
    "Quel(s) algorithme(s), déjà rencontré en NSI, peut-être utilisé pour résoudre ce problème ?"
   ]
  },
  {
   "cell_type": "markdown",
   "id": "seventh-sacramento",
   "metadata": {},
   "source": [
    "Moore-Dijkstra ou Bellman-Ford"
   ]
  },
  {
   "cell_type": "markdown",
   "id": "protected-lottery",
   "metadata": {},
   "source": [
    "Proposer une structure Python pour stocker un itinéraire (étapes et distances) sur cette carte *(prendre l'exemple Lyon-Bourgoin Jallieu-Voiron-Grenoble)*"
   ]
  },
  {
   "cell_type": "code",
   "execution_count": 2,
   "id": "atmospheric-citizenship",
   "metadata": {},
   "outputs": [],
   "source": [
    "it = [('Lyon', 0), ('Bourgoin Jallieu', 50), ('Voiron', 96), ('Grenoble', 122)]"
   ]
  },
  {
   "cell_type": "markdown",
   "id": "liked-beauty",
   "metadata": {},
   "source": [
    "Pour utiliser un de ces 2 algorithmes de parcours il faut mémoriser, pour chaque sommet du graphe, les éléments suivants:\n",
    "- la distance de ce sommet (au sommet de départ pour *Moore-Dijkstra*, au sommet d'arrivée pour *Bellman-Ford*)\n",
    "- le sommet a-t-il déjà été sélectionné (*visité*)\n",
    "- le parent du sommet dans l'itinéraire optimal."
   ]
  },
  {
   "cell_type": "code",
   "execution_count": 3,
   "id": "minor-barcelona",
   "metadata": {},
   "outputs": [
    {
     "data": {
      "text/plain": [
       "({'Lyon': inf,\n",
       "  'Bourgoin-Jallieu': inf,\n",
       "  'Valence': inf,\n",
       "  'Voiron': inf,\n",
       "  'Villard de Lans': inf,\n",
       "  'Grenoble': inf,\n",
       "  'Chambéry': inf,\n",
       "  'Briançon': inf,\n",
       "  'Albertville': inf,\n",
       "  'Modane': inf},\n",
       " {'Lyon': False,\n",
       "  'Bourgoin-Jallieu': False,\n",
       "  'Valence': False,\n",
       "  'Voiron': False,\n",
       "  'Villard de Lans': False,\n",
       "  'Grenoble': False,\n",
       "  'Chambéry': False,\n",
       "  'Briançon': False,\n",
       "  'Albertville': False,\n",
       "  'Modane': False},\n",
       " {'Lyon': None,\n",
       "  'Bourgoin-Jallieu': None,\n",
       "  'Valence': None,\n",
       "  'Voiron': None,\n",
       "  'Villard de Lans': None,\n",
       "  'Grenoble': None,\n",
       "  'Chambéry': None,\n",
       "  'Briançon': None,\n",
       "  'Albertville': None,\n",
       "  'Modane': None})"
      ]
     },
     "execution_count": 3,
     "metadata": {},
     "output_type": "execute_result"
    }
   ],
   "source": [
    "# On créé 3 nouveaux dictionnaires pour mémoriser:\n",
    "# - la distance à la ville de départ\n",
    "# - les villes visitées\n",
    "# - la ville précédente dans le parcours\n",
    "def init_algo(graphe):\n",
    "    dist = { ville:float('inf') for ville in graphe.keys() }\n",
    "    vis = { ville:False for ville in graphe.keys() }\n",
    "    par = { ville:None for ville in graphe.keys() }\n",
    "    return dist, vis, par\n",
    "d, v, p = init_algo(carte)\n",
    "d, v, p"
   ]
  },
  {
   "cell_type": "markdown",
   "id": "adopted-earthquake",
   "metadata": {},
   "source": [
    "Algorithme de Dijkstra:"
   ]
  },
  {
   "cell_type": "code",
   "execution_count": 4,
   "id": "exterior-score",
   "metadata": {},
   "outputs": [],
   "source": [
    "def dijkstra(depart, graphe):\n",
    "    # Récupérer les dictionnaires utiles pour l'algo\n",
    "    distance, visite, parent = init_algo(graphe)\n",
    "    \n",
    "    # Ville de départ\n",
    "    assert graphe.get(depart) is not None, f\"La ville de départ {depart} n'existe pas.\"\n",
    "    distance[depart] = 0 \n",
    "    \n",
    "    while sum(visite.values())!=len(graphe.keys()): # Tant qu'il reste des sommets non visités\n",
    "        \n",
    "        # 1) Sélectionner la (première) ville non visitée de distance minimale\n",
    "        dist_min = float('inf')\n",
    "        ville_min = None\n",
    "        for ville in graphe.keys():\n",
    "            if not visite[ville] and distance[ville] < dist_min:\n",
    "                ville_min = ville\n",
    "                dist_min = distance[ville]\n",
    "        visite[ville_min] = True\n",
    "\n",
    "        # 2) Ajouter les voisins immédiats de distance minimale \n",
    "        # en tant qu'enfant\n",
    "        for ville_dst in graphe[ville_min].keys():\n",
    "            if distance[ville_min] + graphe[ville_min][ville_dst] < distance[ville_dst]:\n",
    "                distance[ville_dst] = distance[ville_min] + graphe[ville_min][ville_dst]\n",
    "                parent[ville_dst] = ville_min\n",
    "    return distance, parent"
   ]
  },
  {
   "cell_type": "markdown",
   "id": "golden-metro",
   "metadata": {},
   "source": [
    "Écrire une fonction qui retourne l'itinéraire optimal entre 2 villes données:"
   ]
  },
  {
   "cell_type": "code",
   "execution_count": 5,
   "id": "removed-cruise",
   "metadata": {},
   "outputs": [],
   "source": [
    "def itineraire(depart, arrivee, graphe):\n",
    "    # Lancer l'algorithme (non nécessaire si déjà calculé pour ce départ)\n",
    "    distance, parent = dijkstra(depart,graphe)\n",
    "    \n",
    "    # Ville d'arrivée\n",
    "    assert graphe.get(arrivee) is not None, f\"La ville d'arrivee {arrivee} n'existe pas.\"\n",
    "    \n",
    "    # Construire le parcours\n",
    "    parcours = []\n",
    "    ville = arrivee\n",
    "    while ville!=depart:\n",
    "        parcours.insert(0,(ville, distance[ville]))\n",
    "        ville = parent[ville]\n",
    "    parcours.insert(0,(depart, 0))\n",
    "    return parcours"
   ]
  },
  {
   "cell_type": "code",
   "execution_count": 6,
   "id": "equal-marble",
   "metadata": {},
   "outputs": [
    {
     "data": {
      "text/plain": [
       "[('Lyon', 0), ('Bourgoin-Jallieu', 50), ('Voiron', 96), ('Grenoble', 122)]"
      ]
     },
     "execution_count": 6,
     "metadata": {},
     "output_type": "execute_result"
    }
   ],
   "source": [
    "itineraire('Lyon', 'Grenoble', carte)"
   ]
  },
  {
   "cell_type": "markdown",
   "id": "faced-identification",
   "metadata": {},
   "source": [
    "Écrire le programme de calcul d'itinéraire version console"
   ]
  },
  {
   "cell_type": "markdown",
   "id": "spare-atmosphere",
   "metadata": {},
   "source": [
    "## II. Version graphique\n",
    "\n",
    "Cahier des charges:\n",
    "- L'IHM est écrite en langage HTML (+JavaScript, CSS)\n",
    "- L'exécution de l'algorithme s'effectue sur un serveur Flask en langage Python."
   ]
  },
  {
   "cell_type": "markdown",
   "id": "small-surprise",
   "metadata": {},
   "source": [
    "## III. Pistes d'amélioration\n",
    "\n",
    "- Augmenter le nombre de villes sur la carte.\n",
    "- Utiliser d'autres pondérations (temps de parcours&hellip;)\n",
    "- &hellip;"
   ]
  }
 ],
 "metadata": {
  "kernelspec": {
   "display_name": "Python 3",
   "language": "python",
   "name": "python3"
  },
  "language_info": {
   "codemirror_mode": {
    "name": "ipython",
    "version": 3
   },
   "file_extension": ".py",
   "mimetype": "text/x-python",
   "name": "python",
   "nbconvert_exporter": "python",
   "pygments_lexer": "ipython3",
   "version": "3.9.2"
  },
  "toc": {
   "base_numbering": 1,
   "nav_menu": {},
   "number_sections": false,
   "sideBar": false,
   "skip_h1_title": false,
   "title_cell": "Table of Contents",
   "title_sidebar": "Contents",
   "toc_cell": false,
   "toc_position": {},
   "toc_section_display": true,
   "toc_window_display": false
  }
 },
 "nbformat": 4,
 "nbformat_minor": 5
}
