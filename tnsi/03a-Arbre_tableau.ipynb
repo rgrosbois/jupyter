{
 "cells": [
  {
   "cell_type": "markdown",
   "metadata": {},
   "source": [
    "# Implémentation d'arbre dans un tableau"
   ]
  },
  {
   "cell_type": "markdown",
   "metadata": {},
   "source": [
    "Rappel: Les éléments d'un tableau sont contigus dans la mémoire et repérés par un indice (entre crochets).\n",
    "\n",
    "En Python, on utilise généralement le type `list`:\n",
    "\n",
    "```python\n",
    "tableau = ['lundi', 'mardi', 'mercredi', 'jeudi', 'vendredi', 'samedi', 'dimanche']\n",
    "print(len(tableau), tableau[1])\n",
    "```"
   ]
  },
  {
   "cell_type": "markdown",
   "metadata": {},
   "source": [
    "- [I. Principe](#principe)\n",
    "    - [1. Fonctions de déplacement](#deplacement)\n",
    "    - [2. Docstring d'une fonction](#docstring)\n",
    "    - [3. Doctest d'une fonction](#doctest)\n",
    "    - [4. Exemple d'un arbre d'ascendance familiale](#ascendance)\n",
    "- [II. Approche OO](#OO)\n",
    "    - [1. Étape 1](#OOe1)\n",
    "    - [2. Étape 2](#OOe2)"
   ]
  },
  {
   "cell_type": "markdown",
   "metadata": {},
   "source": [
    "## I. Principe<a name=\"principe\"></a>"
   ]
  },
  {
   "cell_type": "markdown",
   "metadata": {},
   "source": [
    "Les nœuds de l’arbre sont placés successivement dans le tableau selon le **parcours en largeur** : \n",
    "- niveau par niveau (depuis la racine vers les feuilles), \n",
    "- chaque niveau est lu de la gauche vers la droite.\n",
    "\n",
    "*Remarques:*\n",
    "- *La racine se trouve donc à l'indice 0 et le dernier élément correspond à la feuille la plus à droite dans le dernier niveau (si elle existe).*\n",
    "- *certains éléments du tableau peuvent être inutilisés (`None` en Python) si l’arbre n’est pas complet.*"
   ]
  },
  {
   "cell_type": "markdown",
   "metadata": {},
   "source": [
    "Écrire les instructions Python pour stocker les arbres suivants respectivement dans des tableaux t1 et t2:\n",
    "<img alt=\"Arbres pour t1 et t2\" src=\"https://snlpdo.fr/tnsi/img/01-ex_arbres.svg\" width=\"600\"/>"
   ]
  },
  {
   "cell_type": "code",
   "execution_count": null,
   "metadata": {},
   "outputs": [],
   "source": [
    "t1 = \n",
    "t2 = "
   ]
  },
  {
   "cell_type": "markdown",
   "metadata": {},
   "source": [
    "Vérifier que les 2 tableaux ont bien la même longueur"
   ]
  },
  {
   "cell_type": "code",
   "execution_count": null,
   "metadata": {},
   "outputs": [],
   "source": [
    "len(t1) == len(t2)"
   ]
  },
  {
   "cell_type": "markdown",
   "metadata": {},
   "source": [
    "### 1. Fonctions de déplacement <a name=\"deplacement\"></a>\n",
    "\n",
    "Écrire 3 fonctions qui permettent de se déplacer dans un arbre `arbre` donné (les noeuds sont identifiés par leurs indices):\n",
    "- `left`: retourne l'indice de l'enfant gauche du noeud d'indice `i` (-1 si la fonction est appelée pour une feuille).\n",
    "- `right`: retourne l'indice de l'enfant droit du noeud d'indice `i` (-1 si la fonction est appelée pour une feuille).\n",
    "- `up`: retourne l'indice du parent (-1 si la fonction est appelée pour la racine).\n",
    "\n",
    "Compléter les fonctions ci-après (ajouter les paramètres nécessaires)."
   ]
  },
  {
   "cell_type": "code",
   "execution_count": null,
   "metadata": {},
   "outputs": [],
   "source": [
    "def left():\n",
    "    pass  "
   ]
  },
  {
   "cell_type": "markdown",
   "metadata": {},
   "source": [
    "Tests significatifs sur la fonction `left()`. Appeler la fonction pour:\n",
    "- afficher l'indice de l'enfant gauche de 0 pour t1 &rarr; 1\n",
    "- afficher la valeur de l'enfant gauche de 0 pour t1 &rarr; 'B'\n",
    "- afficher l'indice de l'enfant gauche de 5 pour t1 &rarr; -1\n",
    "- afficher l'indice de l'enfant gauche de 1 pour t2 &rarr; -1\n",
    "\n",
    "(corriger la fonction si vous n'obtenez pas les bons résultats)"
   ]
  },
  {
   "cell_type": "code",
   "execution_count": null,
   "metadata": {},
   "outputs": [],
   "source": []
  },
  {
   "cell_type": "code",
   "execution_count": null,
   "metadata": {},
   "outputs": [],
   "source": [
    "def right():\n",
    "    pass"
   ]
  },
  {
   "cell_type": "markdown",
   "metadata": {},
   "source": [
    "Tests significatifs sur la fonction `right()`:"
   ]
  },
  {
   "cell_type": "code",
   "execution_count": null,
   "metadata": {},
   "outputs": [],
   "source": []
  },
  {
   "cell_type": "code",
   "execution_count": null,
   "metadata": {},
   "outputs": [],
   "source": [
    "def up():\n",
    "    pass"
   ]
  },
  {
   "cell_type": "markdown",
   "metadata": {},
   "source": [
    "Tests significatifs sur la fonction `up()`:"
   ]
  },
  {
   "cell_type": "code",
   "execution_count": null,
   "metadata": {},
   "outputs": [],
   "source": []
  },
  {
   "cell_type": "markdown",
   "metadata": {},
   "source": [
    "Vérifier le fonctionnement de ces fonctions sur les exemples suivants:\n",
    "- enfant droit de l'enfant gauche de la racine de t1\n",
    "- enfant droit de l'enfant gauche de la racine de t2"
   ]
  },
  {
   "cell_type": "code",
   "execution_count": null,
   "metadata": {},
   "outputs": [],
   "source": [
    "enfant_gauche = left(0, t1)\n",
    "if enfant_gauche != -1:\n",
    "    enfant_droit = right(enfant_gauche, t1)\n",
    "    if enfant_droit != -1:\n",
    "        print(t1[enfant_droit])\n",
    "    else:\n",
    "        print(\"Pas d'enfant droit pour l'enfant gauche\")\n",
    "else:\n",
    "    print(\"Pas d'enfant gauche pour la racine\")"
   ]
  },
  {
   "cell_type": "code",
   "execution_count": null,
   "metadata": {},
   "outputs": [],
   "source": [
    "enfant_gauche = left(0, t2)\n",
    "if enfant_gauche != -1:\n",
    "    enfant_droit = right(enfant_gauche, t2)\n",
    "    if enfant_droit != -1:\n",
    "        print(t2[enfant_droit])\n",
    "    else:\n",
    "        print(\"Pas d'enfant droit pour l'enfant gauche\")\n",
    "else:\n",
    "    print(\"Pas d'enfant gauche pour la racine\")"
   ]
  },
  {
   "cell_type": "markdown",
   "metadata": {},
   "source": [
    "### 2. Docstring d'une fonction <a name=\"docstring\"></a>\n",
    "\n",
    "La *docstring* d'une fonction en Python est une chaîne de caractères sur plusieurs lignes spécifiée juste après la déclaration (mot clé `def`) et la première ligne d'instruction de la fonction. Consuler [cette page](https://www.python.org/dev/peps/pep-0257/) pour plus d'information.\n",
    "\n",
    "Exemple:"
   ]
  },
  {
   "cell_type": "code",
   "execution_count": null,
   "metadata": {},
   "outputs": [],
   "source": [
    "def ma_fonction(a,b):\n",
    "    \"\"\"\n",
    "    Retourne la somme de a et b.\n",
    "    \"\"\"\n",
    "    return a+b"
   ]
  },
  {
   "cell_type": "markdown",
   "metadata": {},
   "source": [
    "Cette chaîne s'affiche, entre autre, lorsqu'on demande de l'aide sur la fonction:"
   ]
  },
  {
   "cell_type": "code",
   "execution_count": null,
   "metadata": {},
   "outputs": [],
   "source": [
    "help(ma_fonction)"
   ]
  },
  {
   "cell_type": "markdown",
   "metadata": {},
   "source": [
    "Recopier les 3 fonctions `right`, `left` et `up` précédentes en ajoutant des *docstring*"
   ]
  },
  {
   "cell_type": "code",
   "execution_count": null,
   "metadata": {},
   "outputs": [],
   "source": [
    "def left():\n",
    "    pass\n",
    "\n",
    "def right():\n",
    "    pass\n",
    "\n",
    "def up():\n",
    "    pass"
   ]
  },
  {
   "cell_type": "markdown",
   "metadata": {},
   "source": [
    "Afficher l'aide pour vérifier le fonctionnement:"
   ]
  },
  {
   "cell_type": "code",
   "execution_count": null,
   "metadata": {},
   "outputs": [],
   "source": [
    "help(left)"
   ]
  },
  {
   "cell_type": "code",
   "execution_count": null,
   "metadata": {},
   "outputs": [],
   "source": [
    "help(right)"
   ]
  },
  {
   "cell_type": "code",
   "execution_count": null,
   "metadata": {},
   "outputs": [],
   "source": [
    "help(up)"
   ]
  },
  {
   "cell_type": "markdown",
   "metadata": {},
   "source": [
    "### 3. Doctest d'une fonction <a name=\"doctest\"></a>\n",
    "\n",
    "\n",
    "Ce module Python permet de vérifier le bon fonctionnement d'une fonction en spécifiant un exemple (avec `>>>`) et son résultat (sur la ligne suivante) dans la *docstring*. Consulter [cette page](https://docs.python.org/3/library/doctest.html) pour plus d'information.\n",
    "\n",
    "Par exemple:"
   ]
  },
  {
   "cell_type": "code",
   "execution_count": null,
   "metadata": {},
   "outputs": [],
   "source": [
    "def ma_fonction(a,b):\n",
    "    \"\"\"\n",
    "    Retourne la somme de a et b.\n",
    "    \n",
    "    >>> ma_fonction(1,4)\n",
    "    6\n",
    "    \"\"\"\n",
    "    return a+b"
   ]
  },
  {
   "cell_type": "markdown",
   "metadata": {},
   "source": [
    "Pour effectuer le test (aucun résultat ne s'affiche si le test s'exécute sans erreur):"
   ]
  },
  {
   "cell_type": "code",
   "execution_count": null,
   "metadata": {},
   "outputs": [],
   "source": [
    "import doctest\n",
    "doctest.run_docstring_examples(ma_fonction, globals())"
   ]
  },
  {
   "cell_type": "markdown",
   "metadata": {},
   "source": [
    "Corriger le résultat du test dans la docstring pour que la cellule précédente s'exécute sans afficher de message d'erreur."
   ]
  },
  {
   "cell_type": "markdown",
   "metadata": {},
   "source": [
    "Ajouter un ou plusieurs test dans les 3 fonctions `right`, `left` et `up` et vérifier le bon fonctionnement:"
   ]
  },
  {
   "cell_type": "code",
   "execution_count": null,
   "metadata": {},
   "outputs": [],
   "source": [
    "def left():\n",
    "    pass\n",
    "\n",
    "def right():\n",
    "    pass\n",
    "\n",
    "def up():\n",
    "    pass"
   ]
  },
  {
   "cell_type": "code",
   "execution_count": null,
   "metadata": {},
   "outputs": [],
   "source": [
    "doctest.run_docstring_examples(left, globals())\n",
    "doctest.run_docstring_examples(right, globals())\n",
    "doctest.run_docstring_examples(up, globals())"
   ]
  },
  {
   "cell_type": "markdown",
   "metadata": {},
   "source": [
    "*Note: si toutes les fonctions sont placés dans un fichier Python `monfichier.py`, il est possible d'exécuter tous les tests de toutes les fonctions en une seule instruction (dans le shell):*\n",
    "```console\n",
    "$ python -m doctest -v monfichier.py\n",
    "```"
   ]
  },
  {
   "cell_type": "markdown",
   "metadata": {},
   "source": [
    "### 4. Exemple d'un arbre d'ascendance familiale <a name=\"ascendance\"></a>"
   ]
  },
  {
   "cell_type": "code",
   "execution_count": null,
   "metadata": {},
   "outputs": [],
   "source": [
    "famille = ['Alice', 'Béatrice', 'Christian', 'Delphine', 'Éric', 'Françoise', 'Gabriel', 'Hélène', 'Ivan', 'Julie', 'Kévin', 'Lucie', 'Marc', 'Noémie', 'Otto']"
   ]
  },
  {
   "cell_type": "markdown",
   "metadata": {},
   "source": [
    "**Attention:** dans l'arbre d'ascendance, les *enfants droit et gauche* (=terminologie des arbres en informatique) correspondent respectivement à la mère et ou père de la personne (=terminologie de la généalogie).\n",
    "\n",
    "Utiliser les fonctions précédentes pour répondre aux questions suivantes:\n",
    "- Chercher le grand-père maternel d'Alice"
   ]
  },
  {
   "cell_type": "code",
   "execution_count": null,
   "metadata": {},
   "outputs": [],
   "source": []
  },
  {
   "cell_type": "markdown",
   "metadata": {},
   "source": [
    "- Lister les ascendants féminins de Béatrice (créer une fonction pour lister depuis n'importe quel membre)"
   ]
  },
  {
   "cell_type": "code",
   "execution_count": null,
   "metadata": {},
   "outputs": [],
   "source": []
  },
  {
   "cell_type": "markdown",
   "metadata": {},
   "source": [
    "- Identifier si Ivan est un enfant de Christian (créer une fonction pour tester 2 membres quelconques)"
   ]
  },
  {
   "cell_type": "code",
   "execution_count": null,
   "metadata": {},
   "outputs": [],
   "source": []
  },
  {
   "cell_type": "markdown",
   "metadata": {},
   "source": [
    "- Identifier si Delphine et Lucie ont un lien de parenté direct (créer une fonction pour 2 membres quelconques)"
   ]
  },
  {
   "cell_type": "code",
   "execution_count": null,
   "metadata": {},
   "outputs": [],
   "source": []
  },
  {
   "cell_type": "markdown",
   "metadata": {},
   "source": [
    "- Compter le nombre de générations séparant Noémie de Christian (créer une fonction pour 2 membres quelconques)"
   ]
  },
  {
   "cell_type": "code",
   "execution_count": null,
   "metadata": {},
   "outputs": [],
   "source": []
  },
  {
   "cell_type": "markdown",
   "metadata": {},
   "source": [
    "## II. Approche OO (Orientée Objet) <a name=\"OO\"></a>\n",
    "\n",
    "**Principe:** Le tableau et les fonctions de déplacement sont placées dans un même objet.\n",
    "\n",
    "<img alt=\"Classe arbre\" src=\"https://snlpdo.fr/tnsi/img/01-arbre_POO.svg\" width=\"200\">"
   ]
  },
  {
   "cell_type": "markdown",
   "metadata": {},
   "source": [
    "### Étape 1 : transposition directe de l'approche *impérative* <a name=\"OOe1\"></a>\n",
    "\n",
    "Écrire une classe `Arbre` qui stocke un arbre binaire dans un tableau:\n",
    "- un seul attribut `tableau`\n",
    "- réutiliser les 3 méthodes de déplacement\n",
    "\n",
    "et ne pas oublier:\n",
    "- le constructeur avec un tableau en tant que paramètre\n",
    "- les docstrings de la classe et des méthodes"
   ]
  },
  {
   "cell_type": "code",
   "execution_count": null,
   "metadata": {},
   "outputs": [],
   "source": [
    "class Arbre:\n",
    "    pass"
   ]
  },
  {
   "cell_type": "code",
   "execution_count": null,
   "metadata": {},
   "outputs": [],
   "source": [
    "a1 = Arbre(['A', 'B', 'C', 'D', 'E', 'F', 'G'])\n",
    "a2 = Arbre(['A', 'B', 'C', None, None, 'F', None])"
   ]
  },
  {
   "cell_type": "markdown",
   "metadata": {},
   "source": [
    "Quelques tests:\n",
    "- afficher l'indice de l'enfant gauche de 0 pour a1 &rarr; 1\n",
    "- afficher la valeur de l'enfant gauche de 0 pour a1 &rarr; 'B'\n",
    "- afficher l'indice de l'enfant gauche de 5 pour a1 &rarr; -1\n",
    "- afficher l'indice de l'enfant gauche de 1 pour a2 &rarr; -1\n",
    "\n",
    "(corriger la classe si vous n'obtenez pas les bons résultats)"
   ]
  },
  {
   "cell_type": "code",
   "execution_count": null,
   "metadata": {},
   "outputs": [],
   "source": [
    "a1.left(0), a1.tableau[a1.left(0)], a1.left(5), a2.left(1)"
   ]
  },
  {
   "cell_type": "markdown",
   "metadata": {},
   "source": [
    "Ajouter d'autres tests utiles:"
   ]
  },
  {
   "cell_type": "code",
   "execution_count": null,
   "metadata": {},
   "outputs": [],
   "source": []
  },
  {
   "cell_type": "markdown",
   "metadata": {},
   "source": [
    "### Étape 2 : cacher les détails de l'implémentation (i.e. l'utilisation d'un tableau) <a name=\"OOe2\"></a>\n",
    "\n",
    "Écrire une nouvelle version de la classe `Arbre` avec:\n",
    "- *encapsulation*: 2 attributs cachés (le tableau `t` et l'index du noeud courant `pos`)\n",
    "- un constructeur avec un tableau en tant que paramètre.\n",
    "- les méthodes suivantes (sans paramètre): \n",
    "    - `is_empty`: teste si l'arbre est vide, \n",
    "    - `root`: aller à la racine\n",
    "    - `has_left`: teste si le noeud courant a un enfant gauche\n",
    "    - `left`: aller à l'enfant gauche du noeud courant\n",
    "    - `has_right`: teste si le noeud courant a un enfant droit\n",
    "    - `right`: aller à l'enfant droit du noeud courant\n",
    "    - `has_up`: teste si le noeud courant a un parent\n",
    "    - `up`: aller au parent du noeud courant\n",
    "    - `__repr__`: indique qu'il s'agit d'un arbre et retourne les contenus de la racine et du noeud courant\n",
    "    - `__str__`: retourne le contenu du noeud courant"
   ]
  },
  {
   "cell_type": "code",
   "execution_count": null,
   "metadata": {},
   "outputs": [],
   "source": [
    "class Arbre:\n",
    "    \"\"\"\n",
    "    Arbre binaire avec encapsulation.\n",
    "    Le stockage interne utilise un tableau.\n",
    "    \"\"\"\n",
    "    pass"
   ]
  },
  {
   "cell_type": "code",
   "execution_count": null,
   "metadata": {},
   "outputs": [],
   "source": [
    "a1 = Arbre(['A', 'B', 'C', 'D', 'E', 'F', 'G'])\n",
    "a2 = Arbre(['A', 'B', 'C', None, None, 'F', None])"
   ]
  },
  {
   "cell_type": "markdown",
   "metadata": {},
   "source": [
    "Test: afficher, s'il existe, la valeur de l'enfant gauche de la racine de a1\n",
    "\n",
    "(corriger la classe si vous n'obtenez pas les bons résultats)"
   ]
  },
  {
   "cell_type": "code",
   "execution_count": null,
   "metadata": {},
   "outputs": [],
   "source": [
    "if not a1.is_empty():\n",
    "    a1.root() # se replacer à la racine\n",
    "    if a1.has_left():\n",
    "        a1.left()\n",
    "        print(a1)"
   ]
  },
  {
   "cell_type": "markdown",
   "metadata": {},
   "source": [
    "Ajouter d'autres tests vous paraissant utiles:"
   ]
  },
  {
   "cell_type": "code",
   "execution_count": null,
   "metadata": {},
   "outputs": [],
   "source": []
  },
  {
   "cell_type": "markdown",
   "metadata": {},
   "source": [
    "Reprendre l'exemple de l'arbre d'ascendance avec la classe de l'étape 2"
   ]
  },
  {
   "cell_type": "code",
   "execution_count": null,
   "metadata": {},
   "outputs": [],
   "source": []
  }
 ],
 "metadata": {
  "kernelspec": {
   "display_name": "Python 3",
   "language": "python",
   "name": "python3"
  },
  "language_info": {
   "codemirror_mode": {
    "name": "ipython",
    "version": 3
   },
   "file_extension": ".py",
   "mimetype": "text/x-python",
   "name": "python",
   "nbconvert_exporter": "python",
   "pygments_lexer": "ipython3",
   "version": "3.9.2"
  },
  "toc": {
   "base_numbering": 1,
   "nav_menu": {},
   "number_sections": false,
   "sideBar": false,
   "skip_h1_title": false,
   "title_cell": "Table of Contents",
   "title_sidebar": "Contents",
   "toc_cell": false,
   "toc_position": {},
   "toc_section_display": true,
   "toc_window_display": false
  }
 },
 "nbformat": 4,
 "nbformat_minor": 4
}
