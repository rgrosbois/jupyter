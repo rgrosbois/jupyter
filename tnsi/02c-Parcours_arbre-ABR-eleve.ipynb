{
 "cells": [
  {
   "cell_type": "markdown",
   "id": "7e426085",
   "metadata": {
    "slideshow": {
     "slide_type": "slide"
    }
   },
   "source": [
    "# Parcours d'arbre\n",
    "\n",
    "**Objectif :** mettre en &oelig;uvre les différents types de  parcours sur des arbres binaires de recherche.\n",
    "\n",
    "<div class=\"alert alert-danger\">\n",
    "    \n",
    "**Définition :** un arbre binaire de recherche (**ABR**) est un arbre binaire où les valeurs de n&oelig;uds sont appelées **clés** et où chaque clé est :\n",
    "    \n",
    "- **strictement supérieure** à toutes les clés du sous-arbre gauche ;\n",
    "    \n",
    "- **inférieure ou égale** à toutes les clés du sous-arbre droit ;"
   ]
  },
  {
   "cell_type": "markdown",
   "id": "4bc8ab36",
   "metadata": {
    "slideshow": {
     "slide_type": "fragment"
    }
   },
   "source": [
    "Note: il existe aussi des variantes d'ABR où\n",
    "\n",
    "- des ordres inversés (chaque clé est inférieure à celles de l'arbre gauche et supérieure à celles de l'arbre droit), \n",
    "- les clés sont toutes différentes (relations d'ordre strictement supérieure et strictement inférieure)\n",
    "- &hellip;"
   ]
  },
  {
   "cell_type": "code",
   "execution_count": null,
   "id": "2086d16e",
   "metadata": {
    "slideshow": {
     "slide_type": "slide"
    }
   },
   "outputs": [],
   "source": [
    "from __future__ import annotations"
   ]
  },
  {
   "cell_type": "markdown",
   "id": "96fc43d6",
   "metadata": {},
   "source": [
    "Les classes `Noeud` et `ABR` sont basées sur celles du TP précédent:"
   ]
  },
  {
   "cell_type": "code",
   "execution_count": null,
   "id": "b32fae5e",
   "metadata": {},
   "outputs": [],
   "source": [
    "class Noeud():\n",
    "    def __init__(self, cle: int):\n",
    "        self.cle = cle\n",
    "        self.gauche = None\n",
    "        self.droite = None\n",
    "        \n",
    "    def inserer(self, cle: int):\n",
    "        \"\"\" Insère la clé dans le noeud approprié, en le créant si nécessaire \"\"\"\n",
    "        \n",
    "        #### À compléter ####\n",
    "        pass\n",
    "        \n",
    "    def __str__(self):\n",
    "        \"\"\" Renvoie la valeur de l'élément dans une chaîne. \"\"\"\n",
    "        return str(self.cle)\n",
    "    \n",
    "class ABR():\n",
    "    def __init__(self, noeud:Noeud =None):\n",
    "        self.__racine = noeud\n",
    "        \n",
    "    def est_vide(self) -> bool:\n",
    "        return self.__racine is None\n",
    "    \n",
    "    def cle(self) -> int:\n",
    "        \"\"\" Renvoie la clé à la racine de l'arbre. \"\"\"\n",
    "        return self.__racine.cle\n",
    "    \n",
    "    def gauche(self) -> ABR:\n",
    "        \"\"\" Retourne le sous-arbre gauche. \"\"\"\n",
    "        return ABR(self.__racine.gauche)\n",
    "\n",
    "    def droite(self) -> ABR:\n",
    "        \"\"\" Retourne le sous-arbre droit. \"\"\"\n",
    "        return ABR(self.__racine.droite)\n",
    "            \n",
    "    def inserer(self, cle: int):\n",
    "        \"\"\" Insère une nouvelle clé dans l'ABR. \"\"\"\n",
    "        \n",
    "        if self.est_vide():\n",
    "            self.__racine = Noeud(cle)\n",
    "        else:\n",
    "            self.__racine.inserer(cle)"
   ]
  },
  {
   "cell_type": "markdown",
   "id": "5c51173f",
   "metadata": {
    "slideshow": {
     "slide_type": "slide"
    }
   },
   "source": [
    "## I. Remplissage de l'ABR\n",
    "\n",
    "On part d'un arbre vide et on va construire l'ABR en insérant successivement les valeurs suivantes: \n",
    "\n",
    "`26, 3, 42, 15, 29, 19, 13, 1, 32, 37, 30`\n",
    "\n",
    "Compléter la méthode `inserer` de la classe `Noeud` pour pouvoir utiliser le code ci-après:"
   ]
  },
  {
   "cell_type": "code",
   "execution_count": null,
   "id": "0b26416f",
   "metadata": {},
   "outputs": [],
   "source": [
    "arbre = ABR()\n",
    "for elt in [26, 3, 42, 15, 29, 19, 13, 1, 32, 37, 30]:\n",
    "    arbre.inserer(elt)"
   ]
  },
  {
   "cell_type": "markdown",
   "id": "34800f8c",
   "metadata": {
    "slideshow": {
     "slide_type": "slide"
    }
   },
   "source": [
    "## II. Clés extrèmes de l'ABR\n",
    "\n",
    "- Compléter le code qui renvoie la clé la plus petite d'un ABR:"
   ]
  },
  {
   "cell_type": "code",
   "execution_count": null,
   "id": "b6bea0f6",
   "metadata": {
    "scrolled": true
   },
   "outputs": [],
   "source": [
    "def minimum(abr: ABR) -> int :\n",
    "    assert not abr.est_vide(), \"L'ABR ne contient aucune clé.\"\n",
    "    \n",
    "    ### À compléter ###\n",
    "    pass\n",
    "    \n",
    "minimum(arbre)"
   ]
  },
  {
   "cell_type": "markdown",
   "id": "77923a66",
   "metadata": {
    "slideshow": {
     "slide_type": "subslide"
    }
   },
   "source": [
    "- Compléter le code qui renvoie la clé la plus grande d'un ABR:"
   ]
  },
  {
   "cell_type": "code",
   "execution_count": null,
   "id": "eda1039b",
   "metadata": {},
   "outputs": [],
   "source": [
    "def maximum(abr: ABR) -> int:\n",
    "    assert not abr.est_vide(), \"L'ABR ne contient aucune clé.\"\n",
    "    \n",
    "    ### À compléter ###\n",
    "    pass\n",
    "    \n",
    "maximum(arbre)"
   ]
  },
  {
   "cell_type": "markdown",
   "id": "2ba635bf",
   "metadata": {
    "slideshow": {
     "slide_type": "slide"
    }
   },
   "source": [
    "## III. Tri des clés d'un ABR"
   ]
  },
  {
   "cell_type": "markdown",
   "id": "bda4da06",
   "metadata": {},
   "source": [
    "Compléter le code qui renvoie une `list` avec toutes les clés dans l'ordre croissant:"
   ]
  },
  {
   "cell_type": "code",
   "execution_count": null,
   "id": "cbe8cc1d",
   "metadata": {},
   "outputs": [],
   "source": [
    "def croissant(abr: ABR) -> list:\n",
    "    \n",
    "    ### À compléter ###\n",
    "    pass\n",
    "\n",
    "croissant(arbre)"
   ]
  },
  {
   "cell_type": "markdown",
   "id": "fbbcdecb",
   "metadata": {
    "slideshow": {
     "slide_type": "subslide"
    }
   },
   "source": [
    "Compléter le code qui renvoie une `list` avec toutes les clés dans l'ordre décroissant:"
   ]
  },
  {
   "cell_type": "code",
   "execution_count": null,
   "id": "8ead6e8c",
   "metadata": {},
   "outputs": [],
   "source": [
    "def decroissant(abr: ABR) -> list:\n",
    "    \n",
    "    ### À compléter ###\n",
    "    pass\n",
    "\n",
    "decroissant(arbre)"
   ]
  },
  {
   "cell_type": "markdown",
   "id": "1c2569fe",
   "metadata": {
    "slideshow": {
     "slide_type": "slide"
    }
   },
   "source": [
    "## IV. Affichage de l'ABR\n",
    "\n",
    "On désire afficher le contenu de l'arbre dans la console selon le format suivant (note: remplacer `|` et `-`  par ` `, dans un premier temps):\n",
    "```\n",
    "26 \n",
    "|-3 (g)\n",
    "| |-1 (g)\n",
    "| |-15 (d)\n",
    "|   |-13 (g)\n",
    "|   |-19 (d)\n",
    "|-42 (d)\n",
    "  |-29 (g)\n",
    "  | |-32 (d)\n",
    "  |   |-30 (g)\n",
    "  |   |-37 (d)\n",
    "```"
   ]
  },
  {
   "cell_type": "markdown",
   "id": "f142e8d8",
   "metadata": {
    "slideshow": {
     "slide_type": "subslide"
    }
   },
   "source": [
    "Compléter la fonction d'affichage de l'arbre correspondante:"
   ]
  },
  {
   "cell_type": "code",
   "execution_count": null,
   "id": "b5c56d13",
   "metadata": {},
   "outputs": [],
   "source": [
    "def afficher(abr: ABR) -> None:\n",
    "    \n",
    "    ### À compléter ###\n",
    "    pass\n",
    "\n",
    "afficher(arbre)"
   ]
  },
  {
   "cell_type": "markdown",
   "id": "6e48228a",
   "metadata": {
    "slideshow": {
     "slide_type": "slide"
    }
   },
   "source": [
    "## V. Sauvegarde d'un ABR"
   ]
  },
  {
   "cell_type": "markdown",
   "id": "e887b1f2",
   "metadata": {},
   "source": [
    "- Compléter le code qui sauvegarde toutes les clés dans une `list` (en utilisant le format vu dans un précédent TP. Attention de ne pas oublier les éventuels éléments `None`)"
   ]
  },
  {
   "cell_type": "code",
   "execution_count": null,
   "id": "73dc77b0",
   "metadata": {},
   "outputs": [],
   "source": [
    "# Implémentation d'une file (FIFO)\n",
    "class Fifo():\n",
    "    def __init__(self):\n",
    "        pass\n",
    "    \n",
    "    def est_vide(self) -> bool:\n",
    "        pass\n",
    "    \n",
    "    def enfile(self, cle: int):\n",
    "        pass\n",
    "    \n",
    "    def defile(self) -> int:\n",
    "        pass"
   ]
  },
  {
   "cell_type": "code",
   "execution_count": null,
   "id": "2e69789e",
   "metadata": {},
   "outputs": [],
   "source": [
    "def liste(abr: ABR) -> list:\n",
    "    pass\n",
    "\n",
    "liste(arbre)"
   ]
  },
  {
   "cell_type": "markdown",
   "id": "c7179cfb",
   "metadata": {
    "slideshow": {
     "slide_type": "subslide"
    }
   },
   "source": [
    "- Compléter le code qui créé une copie d'un ABR:"
   ]
  },
  {
   "cell_type": "code",
   "execution_count": null,
   "id": "1edf52b6",
   "metadata": {},
   "outputs": [],
   "source": [
    "def copie(abr: ABR) -> ABR:\n",
    "    pass\n",
    "\n",
    "arbre2 = copie(arbre)\n",
    "afficher(arbre2)"
   ]
  }
 ],
 "metadata": {
  "celltoolbar": "Format de la Cellule Texte Brut",
  "kernelspec": {
   "display_name": "Python 3",
   "language": "python",
   "name": "python3"
  },
  "language_info": {
   "codemirror_mode": {
    "name": "ipython",
    "version": 3
   },
   "file_extension": ".py",
   "mimetype": "text/x-python",
   "name": "python",
   "nbconvert_exporter": "python",
   "pygments_lexer": "ipython3",
   "version": "3.9.7"
  }
 },
 "nbformat": 4,
 "nbformat_minor": 5
}
