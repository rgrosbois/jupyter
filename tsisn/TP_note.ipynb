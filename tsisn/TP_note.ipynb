{
 "cells": [
  {
   "cell_type": "markdown",
   "metadata": {},
   "source": [
    "# TP Python (noté)\n",
    "\n",
    "Les exercices sont complètement indépendants et pouvent être traités dans n'importe quel ordre.\n",
    "Pour générer un document PDF avec vos réponses:\n",
    "- Sauvegarder le document (*Ctrl + s*)\n",
    "- Afficher l'aperçu (menuy *Fichier &rarr; Imprimer l'aperçu*)\n",
    "- Imprimer (*Ctrl + p*) cet aperçu dans un fichier PDF en choisissant une imprimante **pdf**."
   ]
  },
  {
   "cell_type": "markdown",
   "metadata": {},
   "source": [
    "- [Exercice 1 (variables)](#ex1)\n",
    "- [Exercice 2 (variables)](#ex2)\n",
    "- [Exercice 3 (listes)](#ex3)\n",
    "- [Exercice 4 (fonctions)](#ex4)"
   ]
  },
  {
   "cell_type": "markdown",
   "metadata": {},
   "source": [
    "## Exercice 1<a name=\"ex1\">\n",
    "    \n",
    "Écrire les instructions Python qui:\n",
    "- demande à l'utilisateur trois réels *a*, *b* et *c*\n",
    "- calcule et affiche le résultat de l'expression: $$b^2 - 4ac$$"
   ]
  },
  {
   "cell_type": "code",
   "execution_count": null,
   "metadata": {},
   "outputs": [],
   "source": [
    "# Code à écrire ici\n"
   ]
  },
  {
   "cell_type": "markdown",
   "metadata": {},
   "source": [
    "## Exercice 2<a name=\"ex2\">\n",
    "    \n",
    "Compléter le code Python ci-après pour convertir une valeur décimale comprise entre 0 et 15 en un nombre binaire (utilisation de l'algorithme des divisions successives) et afficher le résultat:"
   ]
  },
  {
   "cell_type": "code",
   "execution_count": null,
   "metadata": {},
   "outputs": [],
   "source": [
    "decimale = 7\n",
    "\n",
    "# q3: quotient de la division de décimale par 2\n",
    "q3 = \n",
    "# r3 (bit 0) = reste de la division de décimale par 2. \n",
    "r3 = \n",
    "\n",
    "# (on continue avec avec q3)\n",
    "# q2: quotient de la division de q3 par 2\n",
    "q2 = \n",
    "# r2 (bit 1) = reste de la division de q3 par 2\n",
    "r2 = \n",
    "\n",
    "# (on continue avec avec q2)\n",
    "# q1 (bit 3): quotient de la division de q2 par 2\n",
    "q1 = \n",
    "# r1 (bit 2) = reste de la division de q2 par 2\n",
    "r1 = \n",
    "\n",
    "# Afficher, dans l'ordre bit de poids fort à bit de poids faible, \n",
    "# le résultat de la conversion binaire\n",
    "print()"
   ]
  },
  {
   "cell_type": "markdown",
   "metadata": {},
   "source": [
    "## Exercice 3<a name=\"ex3\">\n",
    "    \n",
    "Compléter le code Python ci-après pour:\n",
    "1. Afficher les 10 premiers éléments de la liste (un élément par ligne) *valeurs*.\n",
    "2. Calculer et afficher la valeur moyenne de la liste *valeurs*"
   ]
  },
  {
   "cell_type": "code",
   "execution_count": null,
   "metadata": {},
   "outputs": [],
   "source": [
    "import random\n",
    "\n",
    "# Génération de la liste (ne pas modifier)\n",
    "valeurs = [random.randint(0,100) for i in range(10)]\n",
    "\n",
    "# Afficher les 10 premiers éléments (un par ligne)\n",
    "\n",
    "\n",
    "# Calculer et afficher la valeur moyenne\n",
    "\n"
   ]
  },
  {
   "cell_type": "markdown",
   "metadata": {},
   "source": [
    "## Exercice 4<a name=\"ex4\">\n",
    "    \n",
    "Créer une fonction *repeat* qui retourne une chaîne constituée d'un même caractère *c* répété *n* (*n* et *c* sont fournis lors de l'appel) "
   ]
  },
  {
   "cell_type": "code",
   "execution_count": null,
   "metadata": {},
   "outputs": [],
   "source": [
    "### Compléter avec les instructions de la fonction ###\n",
    "\n",
    "\n",
    "######################################################\n",
    "\n",
    "# Utilisation de la fonction (ne pas modifier)\n",
    "chaine = repeat('c', 15)\n",
    "print(chaine)"
   ]
  }
 ],
 "metadata": {
  "kernelspec": {
   "display_name": "Python 3",
   "language": "python",
   "name": "python3"
  },
  "language_info": {
   "codemirror_mode": {
    "name": "ipython",
    "version": 3
   },
   "file_extension": ".py",
   "mimetype": "text/x-python",
   "name": "python",
   "nbconvert_exporter": "python",
   "pygments_lexer": "ipython3",
   "version": "3.7.4"
  }
 },
 "nbformat": 4,
 "nbformat_minor": 2
}
