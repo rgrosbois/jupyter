{
 "cells": [
  {
   "cell_type": "markdown",
   "metadata": {
    "slideshow": {
     "slide_type": "slide"
    }
   },
   "source": [
    "# TP ISN Terminal S\n",
    "\n",
    "## Tableaux et listes (programmation Python)\n",
    "\n",
    "### Activités sur les listes"
   ]
  },
  {
   "cell_type": "markdown",
   "metadata": {
    "slideshow": {
     "slide_type": "slide"
    }
   },
   "source": [
    "1. Utiliser un(e) opérateur(fonction) de liste permettant de fusionner ces 2 listes en une seule (appelée semaine). Faire afficher cette liste:"
   ]
  },
  {
   "cell_type": "code",
   "execution_count": null,
   "metadata": {
    "slideshow": {
     "slide_type": "-"
    }
   },
   "outputs": [],
   "source": [
    "jours_ouvres = ['lundi', 'mardi', 'mercredi', 'jeudi', 'vendredi']\n",
    "week_end = ['samedi', 'dimanche']\n",
    "\n"
   ]
  },
  {
   "cell_type": "markdown",
   "metadata": {
    "slideshow": {
     "slide_type": "slide"
    }
   },
   "source": [
    "2. Utiliser «pop» et «insert» pour modifier la liste *semaine* afin que la  semaine commence le dimanche. Faire afficher la liste."
   ]
  },
  {
   "cell_type": "code",
   "execution_count": null,
   "metadata": {},
   "outputs": [],
   "source": [
    "semaine = ['lundi', 'mardi', 'mercredi', 'jeudi', 'vendredi', 'samedi', 'dimanche']\n"
   ]
  },
  {
   "cell_type": "markdown",
   "metadata": {
    "slideshow": {
     "slide_type": "slide"
    }
   },
   "source": [
    "3. Utilisez une boucle for pour faire afficher:\n",
    "```\n",
    "Jour 0: dimanche\n",
    "Jour 1: lundi\n",
    "Jour 2: mardi\n",
    "etc...\n",
    "```"
   ]
  },
  {
   "cell_type": "code",
   "execution_count": null,
   "metadata": {},
   "outputs": [],
   "source": [
    "semaine = ['dimanche', 'lundi', 'mardi', 'mercredi', 'jeudi', 'vendredi', 'samedi']\n"
   ]
  },
  {
   "cell_type": "markdown",
   "metadata": {
    "slideshow": {
     "slide_type": "slide"
    }
   },
   "source": [
    "4. Écrivez un programme qui inverse les jours de la semaine dans la liste *semaine*, sans utiliser une autre liste (utiliser une boucle for et variable *temp*)"
   ]
  },
  {
   "cell_type": "code",
   "execution_count": null,
   "metadata": {},
   "outputs": [],
   "source": [
    "semaine = ['dimanche', 'lundi', 'mardi', 'mercredi', 'jeudi', 'vendredi', 'samedi']\n"
   ]
  },
  {
   "cell_type": "markdown",
   "metadata": {
    "slideshow": {
     "slide_type": "slide"
    }
   },
   "source": [
    "5. Une équipe de cyclistes s'entraîne sur différents parcours; les dernières données récoltées donnent les résultats suivants:\n",
    "\n",
    "|              | Trajet 0 | Trajet 1 | Trajet 2 | Trajet 3 | Trajet 4 |\n",
    "|--------------|----------|----------|----------|----------|----------|\n",
    "| distance (km)| 44       |    67    | 94       |    32    |   75     |\n",
    "| temps coureur A (minutes) | 147 | 283 | 376 | 105 | 302 |\n",
    "| temps coureur B (minutes) | 129 | 290 | 356 | 122 | 298 |\n",
    "\n",
    "NB: les valeurs sont entières (de type «int»); les indices des tableaux représentent le numéro du trajet: on admettra que l'on compte de zéro jusqu'à 4 (5 valeurs)."
   ]
  },
  {
   "cell_type": "markdown",
   "metadata": {
    "slideshow": {
     "slide_type": "subslide"
    }
   },
   "source": [
    "- Déclarer et initialisez les listes suivantes:\n",
    "\n",
    "|          | 0  |  1 | 2  | 3  | 4  |\n",
    "|----------|----|----|----|----|----|\n",
    "| distance | 44 | 67 | 94 | 32 | 75 |\n",
    "\n",
    "|          | 0  |  1 | 2  | 3  | 4  |\n",
    "|----------|----|----|----|----|----|\n",
    "| temps_coureur_A | 147 | 283 | 376 | 105 | 302 |\n",
    "\n",
    "|          | 0  |  1 | 2  | 3  | 4  |\n",
    "|----------|----|----|----|----|----|\n",
    "| temps_coureur_B | 129 | 290 | 356 | 122 | 298 |"
   ]
  },
  {
   "cell_type": "code",
   "execution_count": null,
   "metadata": {},
   "outputs": [],
   "source": []
  },
  {
   "cell_type": "markdown",
   "metadata": {
    "slideshow": {
     "slide_type": "subslide"
    }
   },
   "source": [
    "- Ecrire les instructions qui demandent un numéro de trajet à l'utilisateur et affiche la distance et les temps des coureurs A et B pour ce trajet\n",
    "\n",
    "Le programme affichera par exemple:\n",
    "```\n",
    "trajet: 1\n",
    "Distance: ...\n",
    "temps Coureur A: ...\n",
    "temps Coureur B: ...\n",
    "etc...\n",
    "```"
   ]
  },
  {
   "cell_type": "code",
   "execution_count": null,
   "metadata": {},
   "outputs": [],
   "source": []
  },
  {
   "cell_type": "markdown",
   "metadata": {
    "slideshow": {
     "slide_type": "subslide"
    }
   },
   "source": [
    "- Recherche d'un minimum: écrivez un programme qui donne:\n",
    " - le numéro du plus petit trajet\n",
    " - la distance du plus petit trajet\n",
    "\n",
    "On pourra utiliser une variable distance_min initialisée au départ à la valeur de distance[0] et qui sera réactualisée si on trouve une valeur plus petite.\n",
    "On pourra également utliser un indice i_min initialisé à 0 et qui sera l'indice de la distance minimum."
   ]
  },
  {
   "cell_type": "code",
   "execution_count": null,
   "metadata": {},
   "outputs": [],
   "source": []
  },
  {
   "cell_type": "markdown",
   "metadata": {
    "slideshow": {
     "slide_type": "slide"
    }
   },
   "source": [
    "On considère une liste de mesures effectuées sur une même grandeur:\n",
    "\n",
    "| Yi | 5.678 | 7.765 | 7.234 | 6.567 | 8.01 | 4.902 | 5.789 |\n",
    "|----|-------|-------|-------|-------|------|-------|-------|"
   ]
  },
  {
   "cell_type": "markdown",
   "metadata": {},
   "source": [
    "- Écrire un programme qui:\n",
    " - stocke les valeurs dans une liste «mesures»\n",
    " - calcule la moyenne (avec une boucle «for»)"
   ]
  },
  {
   "cell_type": "code",
   "execution_count": null,
   "metadata": {},
   "outputs": [],
   "source": []
  }
 ],
 "metadata": {
  "celltoolbar": "Format de la Cellule Texte Brut",
  "kernelspec": {
   "display_name": "Python 3",
   "language": "python",
   "name": "python3"
  },
  "language_info": {
   "codemirror_mode": {
    "name": "ipython",
    "version": 3
   },
   "file_extension": ".py",
   "mimetype": "text/x-python",
   "name": "python",
   "nbconvert_exporter": "python",
   "pygments_lexer": "ipython3",
   "version": "3.7.4"
  }
 },
 "nbformat": 4,
 "nbformat_minor": 2
}
