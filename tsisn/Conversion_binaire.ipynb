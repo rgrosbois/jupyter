{
 "cells": [
  {
   "cell_type": "code",
   "execution_count": null,
   "metadata": {},
   "outputs": [],
   "source": [
    "def conversion_binaire(n):\n",
    "    '''\n",
    "    Conversion binaire de la partie entière\n",
    "    par l'algorithme des divisions successives\n",
    "    par 2.\n",
    "    '''\n",
    "    # Divisions\n",
    "    restes = []\n",
    "    quotient = n%2\n",
    "    while n>=2:\n",
    "        quotient = n//2\n",
    "        restes.append(n%2)\n",
    "        n = quotient\n",
    "\n",
    "    # Lecture du résultat\n",
    "    n_s = str(quotient)\n",
    "    for i in range(len(restes)):\n",
    "        n_s = n_s + str(restes.pop())\n",
    "    \n",
    "    return n_s"
   ]
  },
  {
   "cell_type": "code",
   "execution_count": null,
   "metadata": {},
   "outputs": [],
   "source": [
    "m = 4\n",
    "e = 4\n",
    "v = -0.0269"
   ]
  },
  {
   "cell_type": "markdown",
   "metadata": {},
   "source": [
    "Conversion en virgule fixe:"
   ]
  },
  {
   "cell_type": "code",
   "execution_count": null,
   "metadata": {},
   "outputs": [],
   "source": [
    "# Conversion en virgule fixe\n",
    "n_s = conversion_binaire(abs(int(v)))\n",
    "#print(n_s)\n",
    "\n",
    "# Conversion de la partie fractionnaire\n",
    "# en virgule fixe jusqu'à obtenir \n",
    "# la précision désirée\n",
    "if abs(int(v))==0:\n",
    "    precision = -1\n",
    "    found1 = False\n",
    "else:\n",
    "    precision = len(n_s)-1\n",
    "    found1 = True\n",
    "\n",
    "len_orig = len(n_s)\n",
    "    \n",
    "if precision<m:\n",
    "    f = abs(v)-int(abs(v))\n",
    "    while precision<m:\n",
    "        f = f*2\n",
    "        bit = int(f)\n",
    "        if not(found1) and bit==1:\n",
    "            found1 = True\n",
    "        n_s = n_s + str(bit)\n",
    "        f = f-int(f)\n",
    "        if found1:\n",
    "            precision=precision+1\n",
    "else: # Pas besoin de la partie fractionnaire\n",
    "    n_s = n_s[:(m+1)]\n",
    "#print(n_s)\n",
    "\n",
    "# Extraction des parties signes, mantisse et exposant\n",
    "signe = '0' if v>=0 else '1' \n",
    "mantisse = n_s[-m:]\n",
    "exposant = len_orig - len(n_s) + m\n",
    "exposant_decale = exposant + (2**(e-1)-1)\n",
    "\n",
    "# Affichage du signe\n",
    "resultat = str(signe) + ' '\n",
    "\n",
    "# Affichage de l'exposant décalé\n",
    "ed_s = conversion_binaire(exposant_decale)\n",
    "for i in range(m-len(ed_s)):\n",
    "    resultat += '0'\n",
    "resultat += ed_s + ' '\n",
    "\n",
    "# Affichage de la mantisse\n",
    "resultat += mantisse\n",
    "\n",
    "print(resultat)"
   ]
  },
  {
   "cell_type": "code",
   "execution_count": null,
   "metadata": {},
   "outputs": [],
   "source": []
  }
 ],
 "metadata": {
  "kernelspec": {
   "display_name": "Python 3",
   "language": "python",
   "name": "python3"
  },
  "language_info": {
   "codemirror_mode": {
    "name": "ipython",
    "version": 3
   },
   "file_extension": ".py",
   "mimetype": "text/x-python",
   "name": "python",
   "nbconvert_exporter": "python",
   "pygments_lexer": "ipython3",
   "version": "3.7.4"
  }
 },
 "nbformat": 4,
 "nbformat_minor": 2
}
