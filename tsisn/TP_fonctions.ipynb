{
 "cells": [
  {
   "cell_type": "markdown",
   "metadata": {},
   "source": [
    "# TP sur les fonctions"
   ]
  },
  {
   "cell_type": "markdown",
   "metadata": {},
   "source": [
    "## 1. Application directe du cours"
   ]
  },
  {
   "cell_type": "markdown",
   "metadata": {},
   "source": [
    "Écrire le code source de la version de la fonction *afficher_liste* qui n'a qu'un seul paramètre (la liste):"
   ]
  },
  {
   "cell_type": "code",
   "execution_count": 7,
   "metadata": {},
   "outputs": [
    {
     "name": "stdout",
     "output_type": "stream",
     "text": [
      "janvier février mars avril \n",
      "Terminé\n"
     ]
    }
   ],
   "source": [
    "def afficher_liste(l):\n",
    "    ''' Afficher le contenu d'une liste sur une seule ligne,\n",
    "    chaque élément étant séparé par un espace.\n",
    "    \n",
    "    l: nom de la liste à afficher\n",
    "    '''\n",
    "    for i in range(len(l)):\n",
    "        print(l[i], end=' ')\n",
    "    print()\n",
    "\n",
    "tableau = [ 'janvier', 'février', 'mars', 'avril']\n",
    "afficher_liste(tableau)\n",
    "print(\"Terminé\")"
   ]
  },
  {
   "cell_type": "markdown",
   "metadata": {},
   "source": [
    "Écrire le code source de la fonction *afficher_liste(t, start, length)* et vérifier son fonctionnement: "
   ]
  },
  {
   "cell_type": "code",
   "execution_count": 8,
   "metadata": {},
   "outputs": [
    {
     "name": "stdout",
     "output_type": "stream",
     "text": [
      "mardi\n",
      "mercredi\n",
      "jeudi\n",
      "vendredi\n"
     ]
    }
   ],
   "source": [
    "def afficher_liste(t, start, length):\n",
    "    '''\n",
    "    Affiche une partie d'une liste sur une seule ligne, chaque élément\n",
    "    étant séparé d'un espace. \n",
    "\n",
    "    t: Liste à utiliser\n",
    "    start: Index du 1er élément\n",
    "    length: Nombre d'éléments à afficher\n",
    "    '''\n",
    "    \n",
    "    # Code source de la fonction\n",
    "    for i in range(length):\n",
    "        print(t[start+i], end=' ')\n",
    "    print()\n",
    "    \n",
    "# Pour tester\n",
    "semaine = ['dimanche', 'lundi', 'mardi', 'mercredi', 'jeudi', 'vendredi', 'samedi']\n",
    "afficher_liste(semaine, 2, 4)"
   ]
  },
  {
   "cell_type": "code",
   "execution_count": null,
   "metadata": {},
   "outputs": [],
   "source": []
  },
  {
   "cell_type": "markdown",
   "metadata": {},
   "source": [
    "## 2. Statistiques d'une liste\n",
    "\n",
    "Reprenons l'exercice du TP précédent sur la recheche d'un minimum d'une liste de mesures.\n",
    "\n",
    "| Yi | 5.678 | 7.765 | 7.234 | 6.567 | 8.01 | 4.902 | 5.789 |\n",
    "|----|-------|-------|-------|-------|------|-------|-------|\n",
    "\n",
    "- Compléter le code ci-après pour afficher la valeur minimale et son index dans la liste:"
   ]
  },
  {
   "cell_type": "code",
   "execution_count": null,
   "metadata": {},
   "outputs": [],
   "source": [
    "y = [5.678,  7.765,  7.234,  6.567,  8.01,  4.902,  5.789]\n",
    "\n",
    "# Algorithme de recherche de minimum\n",
    "i_min = 0\n",
    "for i in range(1, len(y)):\n",
    "    if y[i]<y[i_min]:\n",
    "        i_min = i"
   ]
  },
  {
   "cell_type": "markdown",
   "metadata": {},
   "source": [
    "- Réutiliser ces instructions dans pour écrire une fonction *minimum* qui retourne la valeur minimale d'une liste fournie en tant que paramètre: "
   ]
  },
  {
   "cell_type": "code",
   "execution_count": null,
   "metadata": {},
   "outputs": [],
   "source": [
    "# Écriture du code de la fonction\n"
   ]
  },
  {
   "cell_type": "markdown",
   "metadata": {},
   "source": [
    "Vérifier bon fonctionnement de cette fonction:"
   ]
  },
  {
   "cell_type": "code",
   "execution_count": null,
   "metadata": {},
   "outputs": [],
   "source": [
    "m = minimum(y)\n",
    "print(m)"
   ]
  },
  {
   "cell_type": "markdown",
   "metadata": {},
   "source": [
    "- Écrire une fonction *moyenne* qui retourne la valeur moyenne d'une liste de valeurs fournie en paramètre (vérifier son fonctionnement avec la liste y et la liste x ci-après):"
   ]
  },
  {
   "cell_type": "code",
   "execution_count": null,
   "metadata": {},
   "outputs": [],
   "source": [
    "x = [3.475, 3.256, 3.621, 3.244, 3.132]\n",
    "\n",
    "# Écriture du code de la fonction moyenne\n",
    "\n",
    "# Test de la fonction avec les listes x et y\n"
   ]
  },
  {
   "cell_type": "markdown",
   "metadata": {},
   "source": [
    "- Écrire une fonction *ecart* qui retourne le résultat de l'opération suivante sur une liste x:\n",
    "$$ \\sqrt{\\frac{\\sum_{i=0}^n{(x_i - M)^2}}{n-1}} $$\n",
    "où {x<sub>i</sub>} sont les *n* éléments de la liste et M sa valeur moyenne (utiliser un appel à la fonction *moyenne* écrite précédemment)"
   ]
  },
  {
   "cell_type": "code",
   "execution_count": null,
   "metadata": {},
   "outputs": [],
   "source": []
  }
 ],
 "metadata": {
  "kernelspec": {
   "display_name": "Python 3",
   "language": "python",
   "name": "python3"
  },
  "language_info": {
   "codemirror_mode": {
    "name": "ipython",
    "version": 3
   },
   "file_extension": ".py",
   "mimetype": "text/x-python",
   "name": "python",
   "nbconvert_exporter": "python",
   "pygments_lexer": "ipython3",
   "version": "3.7.3"
  }
 },
 "nbformat": 4,
 "nbformat_minor": 2
}
