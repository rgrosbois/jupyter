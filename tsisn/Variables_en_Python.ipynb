{
 "cells": [
  {
   "cell_type": "markdown",
   "metadata": {},
   "source": [
    "# TP Programmation Python\n",
    "\n",
    "## VARIABLES, AFFECTATION, ENTRÉES/SORTIES"
   ]
  },
  {
   "cell_type": "markdown",
   "metadata": {},
   "source": [
    "- [1. Interpréteur et compilateur](#Interpreteur-et-compilateur)\n",
    "- [2. Mode calculatrice](#Mode-calculatrice)\n",
    "- [3. Mode fichier programme](#Mode-fichier-programme)\n",
    "- [4. Notions de variables en programmation](#Notions-de-variables-en-programmation)\n",
    "- [5. Les entrées: fonction input()](#entrees)\n",
    "- [6. Exercices](#Exercices)"
   ]
  },
  {
   "cell_type": "markdown",
   "metadata": {},
   "source": [
    "## 1. Interpréteur et compilateur <a name=\"Interpreteur-et-compilateur\">\n",
    "\n",
    "Un programme informatique est une suite d'instructions exécutées par un ordinateur. Les *vrais* programmes sont une suite de 0 et de 1 (langage machine).\n",
    "\n",
    "Un langage de programmation (comme Python, C ou Java) permet d'écrire des instructions de manière lisible pour un humain (code source).\n",
    "\n",
    "Un module **compilateur** ou **interpréteur** du langage convertit ensuite les instructions en langage machine exécutable.\n",
    "\n",
    "- **interpréteur**: les lignes du code source sont traduites au fur et à mesure à chaque lancement du programme.\n",
    "- **compilateur**: le programme entier est traduit une fois pour toute en exécutable: l'exécution est ensuite plus rapide.\n",
    "\n",
    "**Python** est langage **interprété**"
   ]
  },
  {
   "cell_type": "markdown",
   "metadata": {},
   "source": [
    "## 2. Mode calculatrice <a name=\"Mode-calculatrice\">\n",
    "\n",
    "Exercice: dans la cellule suivante, tapez:\n",
    "```python\n",
    "a = 123456789\n",
    "b = 987654321\n",
    "a * b\n",
    "```"
   ]
  },
  {
   "cell_type": "code",
   "execution_count": null,
   "metadata": {},
   "outputs": [],
   "source": []
  },
  {
   "cell_type": "markdown",
   "metadata": {},
   "source": [
    "## 3. Mode fichier programme <a name=\"Mode-fichier-programme\">\n",
    "\n",
    "Dans ce mode, le programme est saisi dans l'éditeur, enregistré dans un fichier, puis exécuté."
   ]
  },
  {
   "cell_type": "markdown",
   "metadata": {},
   "source": [
    "## 4. Notions de variables en programmation <a name=\"Notions-de-variables-en-programmation\">\n",
    "\n",
    "1. Un programme Python effectue des calculs. Les variables permettent de manipuler des valeurs numériques comme on le fait usuellement dans les équations mathématiques.\n",
    "\n",
    "Exemple:"
   ]
  },
  {
   "cell_type": "code",
   "execution_count": null,
   "metadata": {},
   "outputs": [],
   "source": [
    "x = 4     # on affecte la valeur 4 à la variable x\n",
    "y = 5     # on affecte la valeur 5 à la variable y\n",
    "z = x + y # le résultat de l'addition (soit 9) est affecté à la variable z\n",
    "print(z)  # on imprime le résultat"
   ]
  },
  {
   "cell_type": "markdown",
   "metadata": {},
   "source": [
    "2. Noms de variables\n",
    "\n",
    "Le programmeur choisit lui-même le nom des variables qu'il utilise.\n",
    "\n",
    "Une variable peut s'appeler x, y, a, b, etc..., mais aussi resultat, score_final, nombre_de_vies, etc...\n",
    "\n",
    "Un nom de variable est une suite de caractères:\n",
    "- commençant par une lettre ou le caractère _ (tiret bas ou underscore)\n",
    "- contenant seulement des lettres, des chiffres et/ou le caractère _\n",
    "- ne peut pas être un mot réservé de Python (comme print, while, etc...)\n",
    "\n",
    "Exemple de noms de variables:\n",
    "- valides: toto, proch_val, max1, MA_VALEUR, r2d2, bb8, _mavar\n",
    "- non valides: 2be, C-3PO, ma var\n",
    "\n",
    "Conventions pour les variables en Python:\n",
    "- utiliser des minuscules\n",
    "- pas d'accents"
   ]
  },
  {
   "cell_type": "markdown",
   "metadata": {},
   "source": [
    "3. Différents types de variables:"
   ]
  },
  {
   "cell_type": "markdown",
   "metadata": {},
   "source": [
    "- entiers (int)\n",
    "- nombres à virgule (float)\n",
    "- chaînes de caractères (str)\n",
    "- booléens (valeur logique True ou False)\n",
    "\n",
    "Pas besoin de déclarer les variables en Python\n",
    "\n",
    "Exemple:\n",
    "\n",
    "\n",
    "|    En Java ou Processing | En Python   |\n",
    "|--------------------------|-------------|\n",
    "| int n;                   | n = 421     |\n",
    "| n = 421;                 | x = 3.1416  |\n",
    "| float x;                 |             |\n",
    "| x = 3.1416               |             |\n",
    "\n",
    "En Python, le typage est **dynamique** (déterminé par l'interpréteur)\n",
    "\n",
    "- Pour connaitre le type d'une variable:\n",
    "```Python\n",
    "type(ma_var)\n",
    "```\n",
    "\n",
    "Exercice: exécuter le programme suivant"
   ]
  },
  {
   "cell_type": "code",
   "execution_count": null,
   "metadata": {},
   "outputs": [],
   "source": [
    "x = 11\n",
    "message = \"coucou\"\n",
    "p = 12.46\n",
    "comparaison = (x>10)\n",
    "print(comparaison)"
   ]
  },
  {
   "cell_type": "markdown",
   "metadata": {},
   "source": [
    "Rajouter les instructions permettant d'afficher le **type** de ces variables (utiliser «print»)"
   ]
  },
  {
   "cell_type": "markdown",
   "metadata": {},
   "source": [
    "4. Quelques opérateurs"
   ]
  },
  {
   "cell_type": "markdown",
   "metadata": {},
   "source": [
    "- arithmétiques (sur des nombres):\n",
    "\n",
    "```Python\n",
    "+ - *\n",
    "**  # puissance\n",
    "/   # division en gardant les décimales\n",
    "%   # modulo: reste de la division entière\n",
    "//  # quotient de la division entière: tronque les décimales\n",
    "```"
   ]
  },
  {
   "cell_type": "markdown",
   "metadata": {},
   "source": [
    "- de comparaison (résultat booléen):\n",
    "```Python\n",
    "==    # test «est égal ?»\n",
    "!=    # test «est différent ?»\n",
    "< >   # strictement plus petit, strictement plus grand\n",
    "<= => # inférieur ou égal, supérieur ou égal\n",
    "```"
   ]
  },
  {
   "cell_type": "markdown",
   "metadata": {},
   "source": [
    "- logiques (entre des booléens, résultat booléen)\n",
    "```Python\n",
    "or and not\n",
    "```\n",
    "\n",
    "Exercice: exécuter les expressions suivantes et interpréter le résultat (sauf les 2 premiers)"
   ]
  },
  {
   "cell_type": "code",
   "execution_count": null,
   "metadata": {},
   "outputs": [],
   "source": [
    "2 + 3"
   ]
  },
  {
   "cell_type": "code",
   "execution_count": null,
   "metadata": {},
   "outputs": [],
   "source": [
    "2*3"
   ]
  },
  {
   "cell_type": "code",
   "execution_count": null,
   "metadata": {},
   "outputs": [],
   "source": [
    "2**3"
   ]
  },
  {
   "cell_type": "code",
   "execution_count": null,
   "metadata": {},
   "outputs": [],
   "source": [
    "20/3"
   ]
  },
  {
   "cell_type": "code",
   "execution_count": null,
   "metadata": {},
   "outputs": [],
   "source": [
    "20%3"
   ]
  },
  {
   "cell_type": "code",
   "execution_count": null,
   "metadata": {},
   "outputs": [],
   "source": [
    "2 > 8"
   ]
  },
  {
   "cell_type": "code",
   "execution_count": null,
   "metadata": {},
   "outputs": [],
   "source": [
    "(2 <= 8) and (8 < 15)"
   ]
  },
  {
   "cell_type": "code",
   "execution_count": null,
   "metadata": {},
   "outputs": [],
   "source": [
    "2 <= 8 < 15"
   ]
  },
  {
   "cell_type": "code",
   "execution_count": null,
   "metadata": {},
   "outputs": [],
   "source": [
    "(x%2==0) or (x>0)"
   ]
  },
  {
   "cell_type": "markdown",
   "metadata": {},
   "source": [
    "## 5. Les entrées: fonction input() <a name=\"entrees\">\n",
    "\n",
    "- À l'exécution, l'ordinateur attend que l'utilisateur entre une donnée au clavier et appuie sur Entrée.\n",
    "- C'est une saisie en mode **texte**\n",
    "  - valeur saisie vue comme une **chaîne de caractères**\n",
    "  - on peut ensuite changer le type\n",
    "\n",
    "Exercice:\n",
    "1. Exécuter les instructions:"
   ]
  },
  {
   "cell_type": "code",
   "execution_count": null,
   "metadata": {},
   "outputs": [],
   "source": [
    "x = input(\"Entrer un nombre: \")\n",
    "y = input(\"Entrer un nombre: \")\n",
    "print(x+y)"
   ]
  },
  {
   "cell_type": "markdown",
   "metadata": {},
   "source": [
    "2. Exécuter les instructions suivantes:"
   ]
  },
  {
   "cell_type": "code",
   "execution_count": null,
   "metadata": {},
   "outputs": [],
   "source": [
    "x = int(input(\"Entrer un nombre: \"))\n",
    "y = int(input(\"Entrer un nombre: \"))\n",
    "print(x+y)"
   ]
  },
  {
   "cell_type": "markdown",
   "metadata": {},
   "source": [
    "Quelle est la différence entre ces 2 programmes ?"
   ]
  },
  {
   "cell_type": "markdown",
   "metadata": {},
   "source": [
    "## 6) Exercices <a name=\"Exercices\">\n",
    "\n",
    "1. Écrire les instructions qui:"
   ]
  },
  {
   "cell_type": "markdown",
   "metadata": {},
   "source": [
    "- demande à l'utilisateur deux entiers successivement, puis\n",
    "- affiche la somme de ces deux entiers, puis\n",
    "- affiche la différence entre le premier entier et le deuxième entier\n",
    "\n",
    "Pour les phases à afficher, vous suivrez le modèle de l'exemple suivant:\n",
    "```\n",
    "Premier entier: *l'utilisateur tape 3*\n",
    "Deuxième entier: *l'utilisateur tape 5*\n",
    "Somme: 8\n",
    "Différence: -2\n",
    "```\n",
    "\n",
    "(pour afficher plusieurs éléments sur une même ligne, on place des virgules entre les éléments dans les arguments de la fonction print)"
   ]
  },
  {
   "cell_type": "code",
   "execution_count": null,
   "metadata": {},
   "outputs": [],
   "source": []
  },
  {
   "cell_type": "markdown",
   "metadata": {},
   "source": [
    "2. Écrire un programme qui demande à l'utilisateur un prix en euros, puis le convertit en dollars (avec le taux suivant: 1€=1.0627$). On n'arrondira pas le résultat. Pour les phrases à afficher, vous suivrez le modèle de l'exemple suivant:\n",
    "```\n",
    "Prix en euros: *l'utilisateur tape 100*\n",
    "Prix en dollars: 106.27\n",
    "```"
   ]
  },
  {
   "cell_type": "markdown",
   "metadata": {},
   "source": []
  }
 ],
 "metadata": {
  "kernelspec": {
   "display_name": "Python 3",
   "language": "python",
   "name": "python3"
  },
  "language_info": {
   "codemirror_mode": {
    "name": "ipython",
    "version": 3
   },
   "file_extension": ".py",
   "mimetype": "text/x-python",
   "name": "python",
   "nbconvert_exporter": "python",
   "pygments_lexer": "ipython3",
   "version": "3.7.3"
  }
 },
 "nbformat": 4,
 "nbformat_minor": 2
}
