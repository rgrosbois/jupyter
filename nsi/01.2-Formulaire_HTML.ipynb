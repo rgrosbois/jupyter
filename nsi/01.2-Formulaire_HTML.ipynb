{
 "cells": [
  {
   "cell_type": "markdown",
   "metadata": {},
   "source": [
    "# Formulaire HTML\n",
    "\n",
    "Un formulaire est un ensemble de champs de saisie (balises *input*...) englobés par des balises *form*:\n",
    "```html\n",
    "<form>\n",
    "    \n",
    "    <input>\n",
    "    <input>\n",
    "    \n",
    "</form>\n",
    "```\n",
    "\n",
    "- [1. Formulaire minimal](#form-mini)\n",
    "- [2. Types de champs spécifiques](#input-type)\n",
    "- [3. Données du formulaire](#form-data)"
   ]
  },
  {
   "cell_type": "markdown",
   "metadata": {},
   "source": [
    "## 1. Formulaire minimal <a name=\"form-mini\">"
   ]
  },
  {
   "cell_type": "markdown",
   "metadata": {},
   "source": [
    "La version la plus simple est constituée d'un champ de saisie de texte et d'un bouton de validation:"
   ]
  },
  {
   "cell_type": "code",
   "execution_count": null,
   "metadata": {},
   "outputs": [],
   "source": [
    "%%HTML\n",
    "\n",
    "<form>\n",
    "  <input type=\"text\" />\n",
    "  <input type=\"submit\" />\n",
    "</form>"
   ]
  },
  {
   "cell_type": "markdown",
   "metadata": {},
   "source": [
    "- Pour modifier le texte du bouton, il faut utiliser l'attribut *value*:"
   ]
  },
  {
   "cell_type": "code",
   "execution_count": null,
   "metadata": {},
   "outputs": [],
   "source": [
    "%%HTML\n",
    "\n",
    "<input type=\"submit\" value=\"Validation\">"
   ]
  },
  {
   "cell_type": "markdown",
   "metadata": {},
   "source": [
    "- Pour associer un libélé (balises *label*) à un champ de saisie *input*, il faut utiliser respectivement les attributs *for* et *id*: "
   ]
  },
  {
   "cell_type": "code",
   "execution_count": null,
   "metadata": {},
   "outputs": [],
   "source": [
    "%%HTML\n",
    "\n",
    "<label for=\"champ1\">Pseudo: </label>\n",
    "<input type=\"text\" id=\"champ1\">"
   ]
  },
  {
   "cell_type": "markdown",
   "metadata": {},
   "source": [
    "**Exercice:** compléter le code pour un formulaire qui demande le nom et le prénom de l'utilisateur et propose un bouton de connexion."
   ]
  },
  {
   "cell_type": "code",
   "execution_count": null,
   "metadata": {},
   "outputs": [],
   "source": [
    "%%HTML\n",
    "\n",
    "<form>\n",
    "   \n",
    "    \n",
    "    \n",
    "</form>"
   ]
  },
  {
   "cell_type": "markdown",
   "metadata": {},
   "source": [
    "## 2. Types de champs spécifiques<a name=\"input-type\">"
   ]
  },
  {
   "cell_type": "markdown",
   "metadata": {},
   "source": [
    "- L'attribut *type* de la balise *input* peut prendre différentes valeurs prédéfinies (cf. [document ressource](https://developer.mozilla.org/fr/docs/Web/HTML/Element/Input)):"
   ]
  },
  {
   "cell_type": "code",
   "execution_count": null,
   "metadata": {},
   "outputs": [],
   "source": [
    "%%HTML\n",
    "\n",
    "<input type=\"color\">\n",
    "<input type=\"date\">\n",
    "<input type=\"email\">"
   ]
  },
  {
   "cell_type": "markdown",
   "metadata": {},
   "source": [
    "- Pour limiter les erreurs de saisies (ou les duplicatas avec majuscules/minuscules...), il existe la balise *select* (et ses sous-balises *option*) qui permet de définir une liste de choix possibles:"
   ]
  },
  {
   "cell_type": "code",
   "execution_count": null,
   "metadata": {},
   "outputs": [],
   "source": [
    "%%HTML\n",
    "\n",
    "<select>\n",
    "  <option value=\"2\">Février</option>\n",
    "  <option value=\"6\">Juin</option>\n",
    "  <option value=\"9\">Septembre</option>\n",
    "</select>"
   ]
  },
  {
   "cell_type": "markdown",
   "metadata": {},
   "source": [
    "**Exercice:** compléter le code pour un formulaire qui demande une adresse e-mail, un genre (féminin ou masculin), un numéro de téléphone et un mot de passe et propose un bouton d'enregistrement:"
   ]
  },
  {
   "cell_type": "code",
   "execution_count": null,
   "metadata": {},
   "outputs": [],
   "source": [
    "%%HTML\n",
    "\n",
    "<form>\n",
    "   \n",
    "</form>"
   ]
  },
  {
   "cell_type": "markdown",
   "metadata": {},
   "source": [
    "## 3. Données du formulaire<a name=\"form-data\">"
   ]
  },
  {
   "cell_type": "markdown",
   "metadata": {},
   "source": [
    "À champ de saisie génère une donnée définie par un couple **nom**/**valeur**. Le nom est défini par l'attribut *name* et la valeur correspond à la saisie de l'utilisateur (il est possible de définir une valeur par défaut avec l'attribut *value*):"
   ]
  },
  {
   "cell_type": "code",
   "execution_count": null,
   "metadata": {},
   "outputs": [],
   "source": [
    "%%HTML\n",
    "\n",
    "<input name=\"age\" type=\"text\">\n",
    "<input name=\"nationalite\" type=\"text\" value=\"Française\">"
   ]
  },
  {
   "cell_type": "markdown",
   "metadata": {},
   "source": [
    "Ces données sont transmises au serveur lorsque l'utilisateur appuie sur le bouton *submit* (cf. suite du cours)."
   ]
  },
  {
   "cell_type": "markdown",
   "metadata": {},
   "source": [
    "**Exercice:** Remplir le formulaire suivant et cliquer sur le bouton valider. Que constate-t-on au niveau de l'URL ?"
   ]
  },
  {
   "cell_type": "code",
   "execution_count": null,
   "metadata": {},
   "outputs": [],
   "source": [
    "%%HTML\n",
    "\n",
    "<form>\n",
    "  <label for=\"champ1\">Animal:</label>\n",
    "  <input id=\"champ1\" type=\"text\" name=\"animal\">\n",
    "  <label for=\"champ2\">Couleur:</label>\n",
    "  <input id=\"champ2\" type=\"color\" name=\"couleur\">\n",
    "  <input type=\"submit\" value=\"Valider\">\n",
    "</form>"
   ]
  }
 ],
 "metadata": {
  "kernelspec": {
   "display_name": "Python 3",
   "language": "python",
   "name": "python3"
  },
  "language_info": {
   "codemirror_mode": {
    "name": "ipython",
    "version": 3
   },
   "file_extension": ".py",
   "mimetype": "text/x-python",
   "name": "python",
   "nbconvert_exporter": "python",
   "pygments_lexer": "ipython3",
   "version": "3.7.4"
  }
 },
 "nbformat": 4,
 "nbformat_minor": 2
}
