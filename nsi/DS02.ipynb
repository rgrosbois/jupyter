{
 "cells": [
  {
   "cell_type": "markdown",
   "metadata": {},
   "source": [
    "# TP noté sur les formulaires HTML et les servlets Python\n",
    "\n",
    "- [Exercice 1 : Formulaire HTML](#ex1)\n",
    "- [Exercice 2 : servlet Python](#ex2)\n",
    "\n",
    "Les exercices sont complètement indépendants et pouvent être traités dans n'importe quel ordre.\n",
    "Pour générer un document PDF avec vos réponses:\n",
    "- Sauvegarder le document (*Ctrl + s*)\n",
    "- Afficher l'aperçu (menuy *Fichier &rarr; Imprimer l'aperçu*)\n",
    "- Imprimer (*Ctrl + p*) cet aperçu dans un fichier PDF en choisissant une imprimante **pdf**."
   ]
  },
  {
   "cell_type": "markdown",
   "metadata": {},
   "source": [
    "## Exercice 1 : formulaire HTML<a name=\"ex1\">\n",
    "\n",
    "Compléter le code HTML ci-après pour:\n",
    "1. afficher un formulaire pour récolter les données suivantes (**bien respecter ces noms et valeurs dans votre code**):\n",
    "\n",
    "| Noms | Valeurs | Indications |\n",
    "| ---- | ------- | ----------- |\n",
    "| mes_text | <40 caractères ASCII max> | <i>à remplir par l'utilisateur</i> |\n",
    "| action_mes | \"Tester un message\"<br> ou \"Enregistrer un message\" | <i>valeur à sélectionner par l'utilisateur</i> |\n",
    "\n",
    "2. envoyer ces données à la servlet *http://172.16.124.103/creer.htm* avec une requête de type *POST* lorsque l'utilisateur clique sur un bouton **Envoyer**.\n",
    "\n",
    "3. Ajouter les libélés (*label*) pour chaque champ de saisie des données:\n",
    "\n",
    "| Nom de la données | Libélé |\n",
    "| ----------------- | ------ |\n",
    "| mes_text | <i>Message (40 carac. max)</i> | \n",
    "| action_mes | <i>Action</i> |\n",
    "\n",
    "Pour tester votre code (**enregistrer votre page auparavant**):\n",
    "- taper votre nom dans le champ *mes_text* (n'utiliser que des caractères ASCII).\n",
    "- sélectionner *Tester un message*\n",
    "- cliquer sur le bouton de validation\n",
    "- Votre nom doit s'afficher sur l'afficheur de la salle de TP."
   ]
  },
  {
   "cell_type": "code",
   "execution_count": null,
   "metadata": {},
   "outputs": [],
   "source": [
    "%%HTML\n",
    "\n",
    "<form>\n",
    "    \n",
    "  \n",
    "</form>"
   ]
  },
  {
   "cell_type": "markdown",
   "metadata": {},
   "source": [
    "## Exercice 2 : servlet Python<a name=\"ex2\">\n",
    "\n",
    "**Scénario:** une servlet Python gère la page d'inscription à un évènement VIP. Un formulaire HTML (non étudié ici) a envoyé une requête dont les données sont stockées dans le dictionnaire *requete* à la ligne 1 ci-après (ne pas modifier les valeurs)\n",
    "\n",
    "Compléter le code Python pour :\n",
    "1. Créer une variable *pseudo* de la forme: (1ère lettre du prénom + nom de famille) en minuscule\n",
    "2. Vérifier l'heure d'inscription et afficher (avec *print*) le message *Inscription validée pour &lt;pseudo&gt;* ou *Désolé &lt;pseudo&gt;, trop tard !* selon que la personne s'est inscrite respectivement avant ou après 17h30.\n",
    "\n",
    "Vérification: décommenter la ligne 3 (sans la modifier) et vérifier que votre code fonctionne toujours."
   ]
  },
  {
   "cell_type": "code",
   "execution_count": null,
   "metadata": {},
   "outputs": [],
   "source": [
    "requete = { 'prenom': 'Jean', 'nom': 'Martin', 'heure': '17:15:32' }\n",
    "# Décommenter la ligne 3 pour la vérification\n",
    "# requete = { 'prenom': 'Franck', 'nom': 'Dupont', 'heure': '17:35:16' }\n",
    "\n",
    "# Création de la variable pseudo\n",
    "\n",
    "# Vérification de l'heure d'inscription\n"
   ]
  }
 ],
 "metadata": {
  "kernelspec": {
   "display_name": "Python 3",
   "language": "python",
   "name": "python3"
  },
  "language_info": {
   "codemirror_mode": {
    "name": "ipython",
    "version": 3
   },
   "file_extension": ".py",
   "mimetype": "text/x-python",
   "name": "python",
   "nbconvert_exporter": "python",
   "pygments_lexer": "ipython3",
   "version": "3.7.4"
  }
 },
 "nbformat": 4,
 "nbformat_minor": 2
}
