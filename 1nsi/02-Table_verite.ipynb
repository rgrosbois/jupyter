{
 "cells": [
  {
   "cell_type": "markdown",
   "metadata": {},
   "source": [
    "<div class = \"alert alert-danger\">\n",
    "    \n",
    "    \n",
    "**Rappel :**  \n",
    "\n",
    "    \n",
    "**Un notebook se lit en exécutant toutes les cellules de code au fur et à mesure.**  Pour cela il y a le bouton \"Exécuter\" dans la barre d'outils ![Exécuter](img/02-executer.png)  ou le raccourci clavier `Shift`+`Enter`\n",
    "    \n",
    "</div>"
   ]
  },
  {
   "cell_type": "markdown",
   "metadata": {},
   "source": [
    "# Logique combinatoire\n",
    "\n",
    "Une valeur logique ne peut prendre que 2 valeurs: `True`/`False`, `0`/`1`\n",
    "\n",
    "- [1. Table de vérité](#table_verite)\n",
    "- [2. Python](#python)\n",
    "    - [2.1. Valeurs logiques](#valeurs_logiques)\n",
    "    - [2.2. Opérateurs logiques](#operateurs_logiques)\n",
    "    - [2.3. Affichage d'une table de vérité](#affichage_table)"
   ]
  },
  {
   "cell_type": "markdown",
   "metadata": {},
   "source": [
    "## 1. Table de vérité <a name=\"table_verite\"></a>\n",
    "\n",
    "C'est un tableau qui indique les valeurs de sortie d'une fonction logique pour toutes les combinaisons possibles des entrées.\n",
    "\n",
    "![Fonction logique](img/02-Fonction_logique.png)\n",
    "\n",
    "Chaque entrée peut prendre 2 valeurs, la table d'une fonction à *n* entrées contient *2n* lignes de valeurs. Exemple:\n",
    "\n",
    "| e1 | e2 | e3 | s |\n",
    "|----|----|----|---|\n",
    "|  0 |  0 |  0 | 1 |\n",
    "|  0 |  0 |  1 | 0 |\n",
    "|  0 |  1 |  0 | 1 |\n",
    "|  0 |  1 |  1 | 0 |\n",
    "|  1 |  0 |  0 | 0 |\n",
    "|  1 |  0 |  1 | 1 |\n",
    "|  1 |  1 |  0 | 0 |\n",
    "|  1 |  1 |  1 | 1 |\n",
    "\n",
    "*(peut importe l'ordre des lignes, ici il se fait selon l'ordre croissant du code binaire naturel: 000, 001, 010, 011...)*"
   ]
  },
  {
   "cell_type": "markdown",
   "metadata": {},
   "source": [
    "## 2. Python <a name=\"python\"></a>"
   ]
  },
  {
   "cell_type": "markdown",
   "metadata": {},
   "source": [
    "### 2.1. Valeurs logiques <a name=\"valeurs_logiques\"></a>"
   ]
  },
  {
   "cell_type": "markdown",
   "metadata": {},
   "source": [
    "Elles apparaissent sous 2 formes dans le langage:\n",
    "\n",
    "- le type *boolean* (valeurs `True` ou `False`) pour le résultat d'un test/comparaison:\n",
    "  ```python\n",
    "  a = (5 > 2) \n",
    "  b = (3 == 2) \n",
    "  ```\n",
    "  > `a` et `b` contiennent respectivement `True` et `False`.\n",
    "  \n",
    "- Le *bit* dans une représentation binaire d'une donnée (entier, flottant, texte...)\n",
    "  ```python\n",
    "  a = 0b01001011\n",
    "  b = 75\n",
    "  ```\n",
    "  > `a` et `b` contiennent ici la même valeur. "
   ]
  },
  {
   "cell_type": "markdown",
   "metadata": {},
   "source": [
    "<div class = \"alert alert-danger\">\n",
    "    \n",
    "Note: l'ordinateur ne travaille qu'en binaire. L'utilisation de la base décimale (ici `75`) est possible dans le code-source pour simplifier la tâche du développeur (habituée à travailler en base 10), mais la valeur est directement convertie en binaire (`0...01001011`).\n",
    "    \n",
    "</div>"
   ]
  },
  {
   "cell_type": "markdown",
   "metadata": {},
   "source": [
    "### 2.2. Opérateurs logiques <a name=\"operateurs_logiques\"></a>"
   ]
  },
  {
   "cell_type": "markdown",
   "metadata": {},
   "source": [
    "Ils ne sont pas les mêmes, selon qu'on travaille sur des *bits* ou des *booléens* :\n",
    "\n",
    "| Fonction logique  | Binaire   | Booléen          |  \n",
    "|-------------------|-----------|------------------|\n",
    "| ET                | `0 & 1`   | `False and True` | \n",
    "| OU                | `0 \\| 1`   | `False or True`  |\n",
    "| Complément        | `~0`      | `not False`      |\n",
    "| Ou exclusif       | `0^1`     | `False ^ True`   |\n",
    "| ...               | ... | ...     |"
   ]
  },
  {
   "cell_type": "markdown",
   "metadata": {},
   "source": [
    "<div class = \"alert alert-danger\">\n",
    "    \n",
    "Les opérateurs binaires sont qualifiés de *bit à bit* (il s'appliquent entre les bits de même poids): \n",
    "- l'opération `3 & 2` réalise un *ET* logique entre les 2 valeurs binaires `0...0 1 1` et `0...0 1 0` et donne `0&0...0&0 1&1 1&0`=`0...0 1 0` (soit `2`)\n",
    "\n",
    "- l'opération `~0` complémente **tous les bits** de la représentation binaire de `0` et donne `1...111` (soit `-1` en représentation complément à 2).\n",
    "> Pour obtenir le bit complémentaire, on peut utiliser l'astuce suivante (on suppose que `a` vaut `0` ou `1`):\n",
    "```python\n",
    "b = 1-a\n",
    "```\n",
    "\n",
    "</div>"
   ]
  },
  {
   "cell_type": "markdown",
   "metadata": {},
   "source": [
    "<div class = \"alert alert-info\">\n",
    "    \n",
    "**Question 1:** exécuter les 2 cellules suivantes et expliquer les résultats.\n",
    "    \n",
    "</div>"
   ]
  },
  {
   "cell_type": "code",
   "execution_count": null,
   "metadata": {},
   "outputs": [],
   "source": [
    "75 & 15"
   ]
  },
  {
   "cell_type": "code",
   "execution_count": null,
   "metadata": {},
   "outputs": [],
   "source": [
    "~1"
   ]
  },
  {
   "cell_type": "markdown",
   "metadata": {},
   "source": [
    "### 2.3. Affichage d'une table de vérité <a name=\"affichage_table\"></a>"
   ]
  },
  {
   "cell_type": "markdown",
   "metadata": {},
   "source": [
    "- Fonction NON ET (NAND), version booléenne :\n",
    "   - les valeurs possibles sont stockées dans une liste `[False, True]` parcourue par une boucle `for`\n",
    "   - Il y a autant de boucle `for` imbriquées que d'entrées dans la table de vérité."
   ]
  },
  {
   "cell_type": "code",
   "execution_count": null,
   "metadata": {},
   "outputs": [],
   "source": [
    "for e1 in [False, True]:\n",
    "    for e2 in [False, True]:\n",
    "        s = not (e1 and e2)\n",
    "        print(e1, e2, s)"
   ]
  },
  {
   "cell_type": "markdown",
   "metadata": {},
   "source": [
    "<div class = \"alert alert-info\">\n",
    "\n",
    "**Question 2:** écrire la version (binaire) du programme précédent.\n",
    "\n",
    "Vous devez obtenir:\n",
    "    \n",
    "| e1| e2|  s|\n",
    "|---|---|---|\n",
    "| 0 | 0 | 1 | \n",
    "| 0 | 1 | 1 |\n",
    "| 1 | 0 | 1 |\n",
    "| 1 | 1 | 0 |\n",
    "    \n",
    "</div>"
   ]
  },
  {
   "cell_type": "code",
   "execution_count": null,
   "metadata": {},
   "outputs": [],
   "source": []
  },
  {
   "cell_type": "markdown",
   "metadata": {},
   "source": [
    "<div class = \"alert alert-info\">\n",
    "\n",
    "**Question 3:** écrire un programme (version *binaire* ou *booléenne*) qui affiche la table de vérité de l'opération `OU EXCLUSIF` à 3 entrées (e1, e2, e3)\n",
    "    \n",
    "</div>"
   ]
  },
  {
   "cell_type": "code",
   "execution_count": null,
   "metadata": {},
   "outputs": [],
   "source": []
  }
 ],
 "metadata": {
  "kernelspec": {
   "display_name": "Python 3",
   "language": "python",
   "name": "python3"
  },
  "language_info": {
   "codemirror_mode": {
    "name": "ipython",
    "version": 3
   },
   "file_extension": ".py",
   "mimetype": "text/x-python",
   "name": "python",
   "nbconvert_exporter": "python",
   "pygments_lexer": "ipython3",
   "version": "3.8.2"
  }
 },
 "nbformat": 4,
 "nbformat_minor": 4
}
