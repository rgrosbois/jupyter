{
 "cells": [
  {
   "cell_type": "markdown",
   "metadata": {
    "slideshow": {
     "slide_type": "slide"
    }
   },
   "source": [
    "# Introduction aux dictionnaires en Python\n",
    "\n",
    "Il s'agit d'un type de données vectoriel qui permet de stocker des éléments sous la forme de couples\n",
    "\n",
    "        clé / valeur\n",
    "\n",
    "où clés et valeurs peuvent être de types divers (int, float, str...)\n",
    "\n",
    "- [1. Création](#create)\n",
    "- [2. Valeur d'un élément](#value)\n",
    "- [3. Ajouter un élément](#add)\n",
    "- [4. Supprimer un élément](#del)\n",
    "- [5. Itérer sur les éléments](#iter)"
   ]
  },
  {
   "cell_type": "markdown",
   "metadata": {
    "slideshow": {
     "slide_type": "slide"
    }
   },
   "source": [
    "## 1. Création d'un dictionnaire<a name=\"create\">\n",
    "\n",
    "Le dictionnaire débute et se termine par les caractères respectifs { et }. \n",
    "\n",
    "Chaque couple s'écrit au format *clé:valeur*."
   ]
  },
  {
   "cell_type": "markdown",
   "metadata": {
    "slideshow": {
     "slide_type": "fragment"
    }
   },
   "source": [
    "Exemples:"
   ]
  },
  {
   "cell_type": "code",
   "execution_count": null,
   "metadata": {},
   "outputs": [],
   "source": [
    "dico_vide = {}\n",
    "semaine = { 'Lundi':'Monday', 'Mardi':'Tuesday', 'Mercredi':'Wednesday'}\n",
    "prix = { 'ordinateur':599.99 , 'smartphone':124.99}\n",
    "\n",
    "print(dico_vide, semaine, prix, sep='\\n')"
   ]
  },
  {
   "cell_type": "markdown",
   "metadata": {
    "slideshow": {
     "slide_type": "slide"
    }
   },
   "source": [
    "## 2. Valeur d'un élément<a name=\"value\">\n",
    "    \n",
    "On y accède depuis sa clé:"
   ]
  },
  {
   "cell_type": "code",
   "execution_count": null,
   "metadata": {},
   "outputs": [],
   "source": [
    "print(semaine['Lundi'])"
   ]
  },
  {
   "cell_type": "code",
   "execution_count": null,
   "metadata": {
    "slideshow": {
     "slide_type": "fragment"
    }
   },
   "outputs": [],
   "source": [
    "total = prix['ordinateur'] + prix['smartphone']\n",
    "print(total)"
   ]
  },
  {
   "cell_type": "code",
   "execution_count": null,
   "metadata": {
    "slideshow": {
     "slide_type": "fragment"
    }
   },
   "outputs": [],
   "source": [
    "prix['smartphone'] = 105.5\n",
    "print(prix)"
   ]
  },
  {
   "cell_type": "markdown",
   "metadata": {
    "slideshow": {
     "slide_type": "slide"
    }
   },
   "source": [
    "## 3. Ajouter un élément<a name=\"add\">\n",
    "    \n",
    "Il suffit d'utiliser une nouvelle clé et de spécifier sa valeur:"
   ]
  },
  {
   "cell_type": "code",
   "execution_count": null,
   "metadata": {},
   "outputs": [],
   "source": [
    "semaine['Jeudi'] = 'Thursday'\n",
    "print(semaine)"
   ]
  },
  {
   "cell_type": "markdown",
   "metadata": {
    "slideshow": {
     "slide_type": "slide"
    }
   },
   "source": [
    "## 4. Supprimer un élément<a name=\"del\">\n",
    "\n",
    "On utilise la clé correspondante:"
   ]
  },
  {
   "cell_type": "code",
   "execution_count": null,
   "metadata": {},
   "outputs": [],
   "source": [
    "del semaine['Mardi']\n",
    "print(semaine)"
   ]
  },
  {
   "cell_type": "markdown",
   "metadata": {
    "slideshow": {
     "slide_type": "fragment"
    }
   },
   "source": [
    "Pour supprimer le dictionnaire:"
   ]
  },
  {
   "cell_type": "code",
   "execution_count": null,
   "metadata": {},
   "outputs": [],
   "source": [
    "del semaine\n",
    "print(semaine)"
   ]
  },
  {
   "cell_type": "markdown",
   "metadata": {
    "slideshow": {
     "slide_type": "slide"
    }
   },
   "source": [
    "## 5. Itérer sur les éléments<a name=\"iter\">\n",
    "    \n",
    "Il existe plusieurs façons:\n",
    "1. Récupérer l'ensemble des clés grâce à la méthode *keys()*"
   ]
  },
  {
   "cell_type": "code",
   "execution_count": null,
   "metadata": {},
   "outputs": [],
   "source": [
    "cles = semaine.keys()\n",
    "print(cles)"
   ]
  },
  {
   "cell_type": "markdown",
   "metadata": {
    "slideshow": {
     "slide_type": "fragment"
    }
   },
   "source": [
    "Puis utiliser une boucle *for*:"
   ]
  },
  {
   "cell_type": "code",
   "execution_count": null,
   "metadata": {},
   "outputs": [],
   "source": [
    "for j in cles:\n",
    "    print(j, '->', semaine[j])"
   ]
  },
  {
   "cell_type": "markdown",
   "metadata": {
    "slideshow": {
     "slide_type": "subslide"
    }
   },
   "source": [
    "Remarque: il est aussi possible de récupérer une liste de toutes les valeurs avec la méthode *values()* mais Python ne fournit aucun moyen direct de retrouver la clé correspondant à chaque valeur."
   ]
  },
  {
   "cell_type": "code",
   "execution_count": null,
   "metadata": {},
   "outputs": [],
   "source": [
    "valeurs = prix.values()\n",
    "print(valeurs)"
   ]
  },
  {
   "cell_type": "markdown",
   "metadata": {
    "slideshow": {
     "slide_type": "subslide"
    }
   },
   "source": [
    "2. Récupérer l'ensemble des éléments (couples clé/valeur) grâce à la méthode *items()*:"
   ]
  },
  {
   "cell_type": "code",
   "execution_count": null,
   "metadata": {},
   "outputs": [],
   "source": [
    "elements = prix.items()\n",
    "print(elements)"
   ]
  },
  {
   "cell_type": "markdown",
   "metadata": {
    "slideshow": {
     "slide_type": "fragment"
    }
   },
   "source": [
    "On peut ensuite utiliser une boucle *for* specifique:"
   ]
  },
  {
   "cell_type": "code",
   "execution_count": null,
   "metadata": {},
   "outputs": [],
   "source": [
    "for cle, valeur in elements:\n",
    "    print(cle, ' = ', valeur, ' €')"
   ]
  }
 ],
 "metadata": {
  "celltoolbar": "Format de la Cellule Texte Brut",
  "kernelspec": {
   "display_name": "Python 3",
   "language": "python",
   "name": "python3"
  },
  "language_info": {
   "codemirror_mode": {
    "name": "ipython",
    "version": 3
   },
   "file_extension": ".py",
   "mimetype": "text/x-python",
   "name": "python",
   "nbconvert_exporter": "python",
   "pygments_lexer": "ipython3",
   "version": "3.7.4"
  }
 },
 "nbformat": 4,
 "nbformat_minor": 2
}
