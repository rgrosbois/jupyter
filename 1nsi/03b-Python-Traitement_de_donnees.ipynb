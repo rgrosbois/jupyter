{
 "cells": [
  {
   "cell_type": "markdown",
   "metadata": {},
   "source": [
    "# Traitement de données d'un formulaire\n",
    "\n",
    "**Sommaire :**\n",
    "- [I. Données reçues par la servlet Flask](#data-flask)\n",
    "- [II. Rappels de Python](#python)\n",
    "    - [1. Liste et dictionnaire](#list-dict)\n",
    "    - [2. Chaîne de caractères](#str)"
   ]
  },
  {
   "cell_type": "markdown",
   "metadata": {},
   "source": [
    "## I. Données reçues par la servlet Flask <a id=\"data-flask\"></a>\n",
    "\n",
    "**Contexte :**\n",
    "\n",
    "![Communication vers Flask](https://snlpdo.fr/1nsi/img/02-communication_servlet_Flask.svg)\n",
    "\n",
    "Le formulaire HTML suivant:\n",
    "```HTML\n",
    "<form action=\"/traitement\" method=\"GET\">\n",
    "    <label for=\"nom-id\">Nom:</label><input type=\"text\" id=\"nom-id\" name=\"nom\"><br />\n",
    "    <label for=\"prenom-id\">Prénom:</label><input type=\"text\" id=\"prenom-id\" name=\"prenom\"><br />\n",
    "    <label for=\"sexe-id\">Sexe:</label><select id=\"sexe-id\" name=\"sexe\">\n",
    "        <option value=\"F\">Femme</option>\n",
    "        <option value=\"H\">Homme</option>\n",
    "    </select><br />\n",
    "    <label for=\"naissance-id\">Date de naissance</label><br />\n",
    "    <input type=\"date\" id=\"naissance-id\" name=\"naissance\"><br />\n",
    "    <input type=\"submit\" name=\"soumettre\" value=\"Envoyer\" />\n",
    "</form>\n",
    "```\n",
    "permet de récolter 5 données (valeurs de type chaîne de caractères) auprès de l'utilisateur:\n",
    "\n",
    "| name | value |\n",
    "|------|-------|\n",
    "| nom  | \"Durand\" |\n",
    "| prenom | \"Alice\" | \n",
    "| sexe | \"F\" |\n",
    "| naissance | \"1992-10-03\" |\n",
    "| soumettre | \"Envoyer\" |\n",
    "\n",
    "et de les envoyer à la ressource `/traitement` du serveur Flask en utilisant la méthode `GET` du protocole *HTTP*:\n",
    "```python\n",
    "@app.route('/traitement', methods=['GET'])\n",
    "def traitement():\n",
    "    \"\"\" \n",
    "    Fonction de traitement des données\n",
    "    \"\"\"\n",
    "    donnees = dict(request.args)\n",
    "    \n",
    "    ...\n",
    "    \n",
    "    \n",
    "    return ... # Réponse du serveur\n",
    "```\n",
    "\n",
    "Avec ce code, les données sont automatiquement récupérées dans le [dictionnaire](#list-dict) `donnees`:"
   ]
  },
  {
   "cell_type": "code",
   "execution_count": null,
   "metadata": {},
   "outputs": [],
   "source": [
    "# Initialisation manuelle du dictionnaire\n",
    "donnees = { 'nom':'Durand', 'prenom':'Alice', 'sexe':'F', 'naissance':'1992-10-03', 'soumettre':'Envoyer'}"
   ]
  },
  {
   "cell_type": "markdown",
   "metadata": {},
   "source": [
    "<div class=\"alert alert-block alert-info\">\n",
    "    \n",
    "Compléter le code Python pour afficher le texte `Vous vous appelez [M/Mme] [Prénom] [Nom]` en utilisant les informations contenues dans le dictionnaire (ici on doit obtenir `Vous vous appelez Mme Alice Durand`)"
   ]
  },
  {
   "cell_type": "code",
   "execution_count": null,
   "metadata": {},
   "outputs": [],
   "source": [
    "ma_chaine = \n",
    "\n",
    "\n",
    "print(ma_chaine)"
   ]
  },
  {
   "cell_type": "markdown",
   "metadata": {},
   "source": [
    "<div class=\"alert alert-block alert-info\">\n",
    "    \n",
    "Compléter le code Python pour afficher l'age de la personne au 1er septembre 2020 (en utilisant les informations contenues dans le dictionnaire):"
   ]
  },
  {
   "cell_type": "code",
   "execution_count": null,
   "metadata": {},
   "outputs": [],
   "source": [
    "jour = 1\n",
    "mois = 9 # septembre\n",
    "annee = 2020\n",
    "\n",
    "\n",
    "\n",
    "\n",
    "print(f'Vous avez {an} ans')"
   ]
  },
  {
   "cell_type": "markdown",
   "metadata": {},
   "source": [
    "## II. Rappels de Python <a id=\"python\"></a>\n",
    "\n",
    "### 1. Liste et dictionnaire<a id=\"list-dict\"></a>\n",
    "\n",
    "Ce sont 2 structures qui permettent de reférencer plusieurs éléments (ou *valeurs*) à l'aide d'une même variable :\n",
    "\n",
    "- dans une **liste** Python (appelée *tableau* dans la plupart des autres langages), chaque élément est repéré par son **index** (sa *position*)\n",
    "\n",
    "    Exemple: ![Liste Python](https://snlpdo.fr/1nsi/img/03b-Liste_Python.png)\n",
    "    \n",
    "Code Python:"
   ]
  },
  {
   "cell_type": "code",
   "execution_count": null,
   "metadata": {},
   "outputs": [],
   "source": [
    "jours = ['lundi', 'mardi', 'mercredi', 'jeudi', 'vendredi', 'samedi', 'dimanche']"
   ]
  },
  {
   "cell_type": "markdown",
   "metadata": {},
   "source": [
    "Chaque élément est accessible depuis la variable `jours` et l'index correspondant:"
   ]
  },
  {
   "cell_type": "code",
   "execution_count": null,
   "metadata": {},
   "outputs": [],
   "source": [
    "jours[2]"
   ]
  },
  {
   "cell_type": "markdown",
   "metadata": {},
   "source": [
    "- dans un **dictionnaire** Python, chaque valeur est repérée par une **clé** (souvent une chaîne de caractères).\n",
    "\n",
    "    Exemple: ![Dictionnaire Python](https://snlpdo.fr/1nsi/img/03b-Dictionnaire_Python.png)\n",
    "    \n",
    "Code Python:"
   ]
  },
  {
   "cell_type": "code",
   "execution_count": null,
   "metadata": {},
   "outputs": [],
   "source": [
    "prix = { 'ordinateur':599.99 , 'smartphone':124.99, 'clé USB':9.99 }"
   ]
  },
  {
   "cell_type": "markdown",
   "metadata": {},
   "source": [
    "Chaque valeur est accessible depuis la variable `prix` et la clé correspondante:"
   ]
  },
  {
   "cell_type": "code",
   "execution_count": null,
   "metadata": {},
   "outputs": [],
   "source": [
    "prix['smartphone']"
   ]
  },
  {
   "cell_type": "markdown",
   "metadata": {},
   "source": [
    "## 2. Chaîne de caractères <a id=\"str\"></a>\n",
    "\n",
    "Elle contient du texte (les caractères sont codés en *utf-8*).\n",
    "\n",
    "- Initialiser une chaîne simple:"
   ]
  },
  {
   "cell_type": "code",
   "execution_count": null,
   "metadata": {},
   "outputs": [],
   "source": [
    "seance = 'Cours de NSI'\n",
    "print(seance)"
   ]
  },
  {
   "cell_type": "markdown",
   "metadata": {},
   "source": [
    "- Concaténer plusieurs chaînes (avec l'opérateur `+`):"
   ]
  },
  {
   "cell_type": "code",
   "execution_count": null,
   "metadata": {},
   "outputs": [],
   "source": [
    "titre = seance + ' - M. Grosbois'\n",
    "print(titre)"
   ]
  },
  {
   "cell_type": "markdown",
   "metadata": {},
   "source": [
    "- Initialiser une chaîne en incorporant les valeurs d'autres variables:"
   ]
  },
  {
   "cell_type": "code",
   "execution_count": null,
   "metadata": {},
   "outputs": [],
   "source": [
    "jour = 'vendredi'\n",
    "jour_du_mois = 10\n",
    "mois = 'novembre'\n",
    "annee = 2020\n",
    "\n",
    "la_date = f'le {jour} {jour_du_mois} {mois} {annee}.'\n",
    "print(la_date)"
   ]
  },
  {
   "cell_type": "markdown",
   "metadata": {},
   "source": [
    "- Scincer une chaîne en plusieurs *morceaux*:"
   ]
  },
  {
   "cell_type": "code",
   "execution_count": null,
   "metadata": {},
   "outputs": [],
   "source": [
    "instant = '15:20:32'\n",
    "\n",
    "# Scinder au niveau du caractère `':`'\n",
    "resultat = instant.split(':')\n",
    "\n",
    "print(resultat)"
   ]
  },
  {
   "cell_type": "markdown",
   "metadata": {},
   "source": [
    "on obtient une liste avec 3 chaînes. Initialiser les variables `heures`, `minutes` et `secondes` à partir de `resultat`:"
   ]
  },
  {
   "cell_type": "code",
   "execution_count": null,
   "metadata": {},
   "outputs": [],
   "source": [
    "heures = resultat[0]\n",
    "minutes = \n",
    "secondes = "
   ]
  },
  {
   "cell_type": "markdown",
   "metadata": {},
   "source": [
    "- Pour effectuer des opérations mathématiques sur les heures, minutes et secondes, il faut convertir les chaînes en entiers à l'aide de la fonction `int()`:"
   ]
  },
  {
   "cell_type": "code",
   "execution_count": null,
   "metadata": {},
   "outputs": [],
   "source": [
    "heures_num = int(heures)\n",
    "minutes_num = "
   ]
  },
  {
   "cell_type": "markdown",
   "metadata": {},
   "source": [
    "Rajouter 1h10:"
   ]
  },
  {
   "cell_type": "code",
   "execution_count": null,
   "metadata": {},
   "outputs": [],
   "source": [
    "heures_num += 1\n",
    "minutes_num += "
   ]
  },
  {
   "cell_type": "markdown",
   "metadata": {},
   "source": [
    "- Pour convertir un entier en chaîne de caractères, on utilise la fonction `str()`:"
   ]
  },
  {
   "cell_type": "code",
   "execution_count": null,
   "metadata": {},
   "outputs": [],
   "source": [
    "heures2 = str(heures_num)\n",
    "minutes2 = \n",
    "\n",
    "# Nouvel instant au format [heures2]:[minutes2]:[secondes]\n",
    "instant2 = heures2 + "
   ]
  }
 ],
 "metadata": {
  "kernelspec": {
   "display_name": "Python 3",
   "language": "python",
   "name": "python3"
  },
  "language_info": {
   "codemirror_mode": {
    "name": "ipython",
    "version": 3
   },
   "file_extension": ".py",
   "mimetype": "text/x-python",
   "name": "python",
   "nbconvert_exporter": "python",
   "pygments_lexer": "ipython3",
   "version": "3.7.9"
  }
 },
 "nbformat": 4,
 "nbformat_minor": 4
}
