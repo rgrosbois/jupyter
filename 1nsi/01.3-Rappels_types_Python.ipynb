{
 "cells": [
  {
   "cell_type": "markdown",
   "metadata": {
    "slideshow": {
     "slide_type": "slide"
    }
   },
   "source": [
    "# Rappels sur les types de données en Python\n",
    "\n",
    "Ce document se limite à rappeler quelques notions utiles pour traiter des données, issues d'un formulaire Web, dans une servlet Python.\n",
    "\n",
    "- [I. Type *scalaire*](#scalar)\n",
    "    - [1. Les nombres](#nbr)\n",
    "    - [2. Les chaînes de caractères](#str)\n",
    "    - [3. Transtypage](#cast)\n",
    "- [II. Exemple de type *vectoriel*: les listes](#list)\n",
    "- [III. Méthode split()](#split)"
   ]
  },
  {
   "cell_type": "markdown",
   "metadata": {
    "slideshow": {
     "slide_type": "slide"
    }
   },
   "source": [
    "## I. Type scalaire<a name=\"scalar\"></a>\n",
    "    \n",
    "Les variables de ce type ne permettent de stocker qu'une seule valeur."
   ]
  },
  {
   "cell_type": "markdown",
   "metadata": {
    "slideshow": {
     "slide_type": "subslide"
    }
   },
   "source": [
    "### 1. Les nombres\n",
    "\n",
    "Deux types de nombres sont supportés nativement par Python:\n",
    "- les entiers (*int*)\n",
    "- les réels (*float*, représentation en virgule flottante)"
   ]
  },
  {
   "cell_type": "markdown",
   "metadata": {
    "slideshow": {
     "slide_type": "fragment"
    }
   },
   "source": [
    "Exemples:"
   ]
  },
  {
   "cell_type": "code",
   "execution_count": null,
   "metadata": {
    "slideshow": {
     "slide_type": "-"
    }
   },
   "outputs": [],
   "source": [
    "a = 12\n",
    "b = 3.14\n",
    "print(type(a), type(b))"
   ]
  },
  {
   "cell_type": "code",
   "execution_count": null,
   "metadata": {
    "slideshow": {
     "slide_type": "fragment"
    }
   },
   "outputs": [],
   "source": [
    "c = a + b\n",
    "print(c)"
   ]
  },
  {
   "cell_type": "markdown",
   "metadata": {
    "slideshow": {
     "slide_type": "fragment"
    }
   },
   "source": [
    "De quel type est la variable *c* ? (utiliser la fonction *type* pour vérifier)"
   ]
  },
  {
   "cell_type": "code",
   "execution_count": null,
   "metadata": {},
   "outputs": [],
   "source": []
  },
  {
   "cell_type": "markdown",
   "metadata": {
    "slideshow": {
     "slide_type": "subslide"
    }
   },
   "source": [
    "### 2. Les chaînes de caractères<a name=\"str\"></a>\n",
    "\n",
    "Ce type de données, qui s'appelle *str* (*string*), permet de manipuler du texte dont les caractères sont codés en **unicode**."
   ]
  },
  {
   "cell_type": "markdown",
   "metadata": {
    "slideshow": {
     "slide_type": "fragment"
    }
   },
   "source": [
    "Exemples:"
   ]
  },
  {
   "cell_type": "code",
   "execution_count": null,
   "metadata": {
    "slideshow": {
     "slide_type": "-"
    }
   },
   "outputs": [],
   "source": [
    "date = 'vendredi 8 novembre 2019 '\n",
    "heure = '15h30'\n",
    "titre = date + heure\n",
    "print(titre)"
   ]
  },
  {
   "cell_type": "markdown",
   "metadata": {
    "slideshow": {
     "slide_type": "fragment"
    }
   },
   "source": [
    "Modifier l'expression de *titre* pour insérer une virgule entre la date et l'heure:"
   ]
  },
  {
   "cell_type": "code",
   "execution_count": null,
   "metadata": {},
   "outputs": [],
   "source": [
    "titre = date + heure\n",
    "print(titre)"
   ]
  },
  {
   "cell_type": "markdown",
   "metadata": {
    "slideshow": {
     "slide_type": "subslide"
    }
   },
   "source": [
    "### 3. Transtypage (ou cast)<a name=\"cast\"></a>\n",
    "    \n",
    "C'est une opération qui permet de convertir le type d'une variable en un autre."
   ]
  },
  {
   "cell_type": "markdown",
   "metadata": {
    "slideshow": {
     "slide_type": "fragment"
    }
   },
   "source": [
    "- Conversion d'un nombre vers une chaîne (fonction **str()**):"
   ]
  },
  {
   "cell_type": "code",
   "execution_count": null,
   "metadata": {},
   "outputs": [],
   "source": [
    "a = str(12)\n",
    "b = str(3.14)\n",
    "c = a + b\n",
    "print(c)"
   ]
  },
  {
   "cell_type": "markdown",
   "metadata": {
    "slideshow": {
     "slide_type": "fragment"
    }
   },
   "source": [
    "De quel type est la variable c ?"
   ]
  },
  {
   "cell_type": "code",
   "execution_count": null,
   "metadata": {},
   "outputs": [],
   "source": []
  },
  {
   "cell_type": "markdown",
   "metadata": {
    "slideshow": {
     "slide_type": "subslide"
    }
   },
   "source": [
    "- Conversion d'une chaîne vers un nombre (fonctions **int()** et **float()**):"
   ]
  },
  {
   "cell_type": "code",
   "execution_count": null,
   "metadata": {},
   "outputs": [],
   "source": [
    "a = int(\"12\")\n",
    "b = float(\"15.5\")\n",
    "print(a + b)"
   ]
  },
  {
   "cell_type": "markdown",
   "metadata": {
    "slideshow": {
     "slide_type": "fragment"
    }
   },
   "source": [
    "Que se passe-t-il si?\n",
    "- on utilise la fonction *float* dans l'expression de a\n",
    "- on utilise la fonction *int* dans l'expression de b\n",
    "- on utilise l'expression int('12h15')"
   ]
  },
  {
   "cell_type": "code",
   "execution_count": null,
   "metadata": {},
   "outputs": [],
   "source": []
  },
  {
   "cell_type": "markdown",
   "metadata": {
    "slideshow": {
     "slide_type": "slide"
    }
   },
   "source": [
    "## II. Exemple de type vectoriel: les listes<a name=\"list\"></a>\n",
    "  \n",
    "Une variable est de vectoriel lorsqu'elle permet de stocker plusieurs données à la fois (parfois de types différents).\n",
    "\n",
    "Une liste (ou tableau) est un type vectoriel où les éléments sont ordonnés et repérés par leur index (**0** pour le premier élément)."
   ]
  },
  {
   "cell_type": "markdown",
   "metadata": {
    "slideshow": {
     "slide_type": "fragment"
    }
   },
   "source": [
    "Exemples:"
   ]
  },
  {
   "cell_type": "code",
   "execution_count": null,
   "metadata": {
    "slideshow": {
     "slide_type": "-"
    }
   },
   "outputs": [],
   "source": [
    "mois1 = ['janvier', 'février', 'mars', 'avril', 'mai', 'juin']\n",
    "mois2 = ['juillet', 'août', 'septembre', 'octobre', 'novembre', 'décembre']\n",
    "print(mois1 + mois2)"
   ]
  },
  {
   "cell_type": "code",
   "execution_count": null,
   "metadata": {
    "slideshow": {
     "slide_type": "fragment"
    }
   },
   "outputs": [],
   "source": [
    "mois1[2] = 3\n",
    "print(mois1)"
   ]
  },
  {
   "cell_type": "markdown",
   "metadata": {
    "slideshow": {
     "slide_type": "slide"
    }
   },
   "source": [
    "## III. Méthode split()<a name=\"split\"></a>\n",
    "    \n",
    "Cette méthode permet de découper une chaîne en fonction d'un séparateur."
   ]
  },
  {
   "cell_type": "code",
   "execution_count": null,
   "metadata": {
    "slideshow": {
     "slide_type": "fragment"
    }
   },
   "outputs": [],
   "source": [
    "a = '1+2'\n",
    "b = a.split('+')\n",
    "print(b)"
   ]
  },
  {
   "cell_type": "markdown",
   "metadata": {
    "slideshow": {
     "slide_type": "fragment"
    }
   },
   "source": [
    "De quel type est la variable b ?"
   ]
  },
  {
   "cell_type": "code",
   "execution_count": null,
   "metadata": {},
   "outputs": [],
   "source": []
  },
  {
   "cell_type": "markdown",
   "metadata": {
    "slideshow": {
     "slide_type": "fragment"
    }
   },
   "source": [
    "Comment obtient-on le résultat de l'addition à partir des éléments de b ?"
   ]
  },
  {
   "cell_type": "code",
   "execution_count": null,
   "metadata": {},
   "outputs": [],
   "source": []
  }
 ],
 "metadata": {
  "celltoolbar": "Format de la Cellule Texte Brut",
  "kernelspec": {
   "display_name": "Python 3",
   "language": "python",
   "name": "python3"
  },
  "language_info": {
   "codemirror_mode": {
    "name": "ipython",
    "version": 3
   },
   "file_extension": ".py",
   "mimetype": "text/x-python",
   "name": "python",
   "nbconvert_exporter": "python",
   "pygments_lexer": "ipython3",
   "version": "3.7.4"
  }
 },
 "nbformat": 4,
 "nbformat_minor": 4
}
